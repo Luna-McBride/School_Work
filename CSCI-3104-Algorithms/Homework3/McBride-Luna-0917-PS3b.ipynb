{
 "cells": [
  {
   "cell_type": "code",
   "execution_count": 35,
   "metadata": {},
   "outputs": [],
   "source": [
    "import numpy as np #Needed for array work\n",
    "import math #Needed for logs"
   ]
  },
  {
   "cell_type": "markdown",
   "metadata": {},
   "source": [
    "Question 1 code: robots and distances from chargers"
   ]
  },
  {
   "cell_type": "code",
   "execution_count": 31,
   "metadata": {},
   "outputs": [],
   "source": [
    "def greedy_robot(k, stations): #A function to create the number of stops for a robot whose battery lasts k meters\n",
    "    p=k #Initializing a variable to show \"start point\" from which the battery is full\n",
    "    c=len(stations) #distances of robot charging stations/the end point\n",
    "    stops=np.zeros(0,dtype=int) #Initialization of the array of the stops it needs to make\n",
    "    count=0 #Counter for the stops stopped at\n",
    "    \n",
    "    for i in range (1,c): #For loop to loop through the locations to see if it is too far on current battery\n",
    "        if stations[i]>p: #Checks if the station is too far given the current battery life\n",
    "            stat=int(stations[i-1]) #holder for the station before the one that is too far away\n",
    "            p=stat+k #update for the battery limit\n",
    "            stops=np.append(stops,stat) #Add the stop to the list of stops\n",
    "            count+=1 #Update the stops counter\n",
    "    return count, stops #Returns the number of stops and the list of stops"
   ]
  },
  {
   "cell_type": "code",
   "execution_count": 32,
   "metadata": {},
   "outputs": [
    {
     "name": "stdout",
     "output_type": "stream",
     "text": [
      "There are 2 stops, being [37 70]\n",
      "There are 3 stops, being [18 37 56]\n",
      "There are 0 stops, being []\n"
     ]
    }
   ],
   "source": [
    "aount,stop=greedy_robot(40,np.array([0,20,37,54,70,90]))\n",
    "print(\"There are {} stops, being {}\".format(aount,stop))\n",
    "bount,stopb=greedy_robot(20,np.array([0,18,21,24,37,56,66]))\n",
    "print(\"There are {} stops, being {}\".format(bount,stopb))\n",
    "count,stopc=greedy_robot(20,np.array([0,10,15,18]))\n",
    "print(\"There are {} stops, being {}\".format(count,stopc))"
   ]
  },
  {
   "cell_type": "markdown",
   "metadata": {},
   "source": [
    "Question 3 code: optimizing player choices"
   ]
  },
  {
   "cell_type": "code",
   "execution_count": 38,
   "metadata": {},
   "outputs": [],
   "source": [
    "def win_values(liste): #Gets the win values for [1,2,4,8,16]\n",
    "    c=len(liste) #the list length for the for loop\n",
    "    used=np.zeros(5) #List already realized\n",
    "    values=np.array([1,2,4,8,16]) #Array of values we check for\n",
    "    players=0 #Players picked\n",
    "    \n",
    "    for i in range(0,c): #For loop to check which ones we already used from the list\n",
    "        l=liste[i] #holder for the current value in the list\n",
    "        if l in values: #Checks if this is a value we want\n",
    "            p=int(math.log(l,2)) #Gets the value we are on, as all of these are 2^n\n",
    "            if used[p]==1: #checks if this value is already chosen\n",
    "                continue\n",
    "            used[p]=1 #Makes the value already used\n",
    "            players+=1 #Counts up the players picked\n",
    "    return players"
   ]
  },
  {
   "cell_type": "code",
   "execution_count": 41,
   "metadata": {},
   "outputs": [
    {
     "name": "stdout",
     "output_type": "stream",
     "text": [
      "Player Number: 5\n",
      "Player Number: 1\n",
      "Player Number: 3\n"
     ]
    }
   ],
   "source": [
    "print(\"Player Number: {}\".format(win_values(np.array([1,2,4,8,16]))))\n",
    "print(\"Player Number: {}\".format(win_values(np.array([2,2,2,2,2]))))\n",
    "print(\"Player Number: {}\".format(win_values(np.array([1,2,4,2,1]))))"
   ]
  },
  {
   "cell_type": "code",
   "execution_count": null,
   "metadata": {},
   "outputs": [],
   "source": []
  }
 ],
 "metadata": {
  "kernelspec": {
   "display_name": "Python 3",
   "language": "python",
   "name": "python3"
  },
  "language_info": {
   "codemirror_mode": {
    "name": "ipython",
    "version": 3
   },
   "file_extension": ".py",
   "mimetype": "text/x-python",
   "name": "python",
   "nbconvert_exporter": "python",
   "pygments_lexer": "ipython3",
   "version": "3.7.3"
  }
 },
 "nbformat": 4,
 "nbformat_minor": 2
}
