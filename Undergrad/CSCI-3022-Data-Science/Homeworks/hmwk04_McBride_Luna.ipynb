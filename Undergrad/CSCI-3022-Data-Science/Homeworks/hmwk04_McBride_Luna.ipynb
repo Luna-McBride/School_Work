{
 "cells": [
  {
   "cell_type": "markdown",
   "metadata": {},
   "source": [
    "### <a/ id='top'></a>\n",
    "# Homework 4: More Random Variables\n",
    "***\n",
    "\n",
    "**Name**: Luna McBride\n",
    "\n",
    "***\n",
    "\n",
    "This assignment is due on Canvas by **5 PM on Thursday July 4**. Your solutions to theoretical questions should be done in Markdown/MathJax directly below the associated question.  Your solutions to computational questions should include any specified Python code and results as well as written commentary on your conclusions.  Remember that you are encouraged to discuss the problems with your instructors and classmates, but **you must write all code and solutions on your own**. \n",
    "\n",
    "**NOTES**: \n",
    "\n",
    "- Any relevant data sets should be available under the **Data** module on Canvas, as well as in the zipped folder in which you obtained this assignment. \n",
    "- Do **NOT** load or use any Python packages that are not available in Anaconda 3.6. \n",
    "- Because you can technically evaluate notebook cells in a non-linear order, it's a good idea to do Kernel $\\rightarrow$ Restart & Run All as a check before submitting your solutions.  That way if we need to run your code you will know that it will work as expected. \n",
    "- It is **bad form** to make your reader interpret numerical output from your code.  If a question asks you to compute some value from the data you should show your code output **AND** write a summary of the results in Markdown directly below your code. \n",
    "- You **MUST** leave all of your notebook cells **evaluated** so the graders do not need to re-evaluate them. For 40+ students, this extra time adds up, and makes the graders' lives unnecessarily more difficult.\n",
    "- This probably goes without saying, but... For any question that asks you to calculate something, you **must show all work and justify your answers to receive credit**. Sparse or nonexistent work will receive sparse or nonexistent credit. \n",
    "- Submit only this Jupyter notebook to Canvas.  Do not compress it using tar, rar, zip, etc. \n",
    "\n",
    "---\n",
    "**Shortcuts:**  [Problem 1](#p1)  \n",
    "\n",
    "---"
   ]
  },
  {
   "cell_type": "code",
   "execution_count": 39,
   "metadata": {
    "scrolled": true
   },
   "outputs": [],
   "source": [
    "import pandas as pd\n",
    "import numpy as np\n",
    "import scipy.stats as stats\n",
    "import math\n",
    "from scipy.special import binom\n",
    "import matplotlib.pylab as plt\n",
    "%matplotlib inline"
   ]
  },
  {
   "cell_type": "markdown",
   "metadata": {
    "collapsed": true
   },
   "source": [
    "<br>\n",
    "\n",
    "---\n",
    "<a/ id='p1'></a>\n",
    "[Back to top](#top)\n",
    "### [100 points] Problem 1 - Mmmm... Donuts...\n",
    "\n",
    "<img src=\"http://astrokentico.s3.amazonaws.com/rojakdaily/media/1nichoras/homer%20simpson%20krispy%20kreme/main.jpg?ext=.jpg\" style=\"width:300px;\"/>\n",
    "\n",
    "You bring many donuts (or _doughnuts_, if you're into that) to work to share with your coworkers at the Boulder Nuclear Power Planet. But due to the high levels of radiation there, they must be inspected for safety. In particular, if the mean level of radiation in a sample from your batch of donuts is above [200 mSv (millisievert)](#rad), then they are deemed unsafe and you must throw the whole batch away.\n",
    "\n",
    "You know that historically donuts at the power plant have, on average, 190 mSv of radiation, with a standard deviation of 40 mSv. To test the donut radiation levels, you take the donut receipt and pick every fifth donut off it, and sample the radiation levels of those donuts. You end up sampling the radiation levels of 36 donuts out of the batch."
   ]
  },
  {
   "cell_type": "markdown",
   "metadata": {},
   "source": [
    "**Part A.** What is the probability that a donut batch is deemed unsafe?  You should at the very least set up and justify your calculation by hand (in Markdown/Mathjax), before executing any calculations in Python."
   ]
  },
  {
   "cell_type": "markdown",
   "metadata": {},
   "source": [
    "$\\mu$=190, $\\sigma$=40\n",
    "\n",
    "P(x>200)=1-P(x$\\leq$200)\n",
    "\n",
    "N($\\mu,\\frac{\\sigma^2}{n}$)\n",
    "\n",
    "z=$\\frac{x-\\mu}{\\frac{\\sigma}{\\sqrt{n}}$\n",
    "\n",
    "z=$\\frac{200-190}{\\frac{40}{6}}$\n",
    "\n",
    "z=$\\frac{10*6}{40}$\n",
    "\n",
    "z=$\\frac{60}{40}$=$\\frac{3}{2}$\n",
    "\n",
    "P(z>$\\frac{3}{2}$)=1-P(z$\\leq \\frac{3}{2}$)\n",
    "\n",
    "1-$\\phi$(1.5)"
   ]
  },
  {
   "cell_type": "code",
   "execution_count": 40,
   "metadata": {},
   "outputs": [
    {
     "name": "stdout",
     "output_type": "stream",
     "text": [
      "The probability of the donuts being unsafe is 0.06680720126885809\n"
     ]
    }
   ],
   "source": [
    "zFourth=stats.norm.cdf(1.5) #get the cdf for z\n",
    "probability=1-zFourth #follow 1-z as listed in the problem\n",
    "print(\"The probability of the donuts being unsafe is {}\".format(probability))"
   ]
  },
  {
   "cell_type": "markdown",
   "metadata": {},
   "source": [
    "**Part B.** You really do not want to throw away donuts that frequently, so you propose to store the donuts in a lead-lined donut box. But lead also is not very good for your health, so you are motivated to use the least amount of lead possible. What is the minimum mean amount of radiation $\\mu$ for our donuts to have such that the probability that we will throw donuts out due to safety concerns is at most 0.01?\n",
    "\n",
    "Calculate this **by hand**, using Python only to perform arithmetic operations and compute critical values of a standard normal random variable."
   ]
  },
  {
   "cell_type": "markdown",
   "metadata": {},
   "source": [
    "1-0.01=$\\phi$(z)\n",
    "\n",
    "0.99=$\\phi$(z)\n",
    "\n",
    "ppf(0.99)\n",
    "\n",
    "< ppf taken to get z value>\n",
    "\n",
    "z=2.3263\n",
    "\n",
    "$\\bar{x}$~N($\\mu, \\frac{\\sigma}{\\sqrt{n}}$)\n",
    "\n",
    "$\\bar{x}$~N($190, \\frac{40}{6}$)\n",
    "\n",
    "$\\bar{x}=\\sigma * z + \\mu$\n",
    "\n",
    "$200=\\frac{40}{6} * 2.3263 + \\mu$\n",
    "\n",
    "$200-\\mu=\\frac{40}{6} * 2.3263$\n",
    "\n",
    "$-\\mu=\\frac{\\frac{40}{6}*2.3263}-200$\n",
    "\n",
    "$-\\mu$=-184.4913\n",
    "\n",
    "$\\mu$=184.4913"
   ]
  },
  {
   "cell_type": "code",
   "execution_count": 41,
   "metadata": {},
   "outputs": [
    {
     "name": "stdout",
     "output_type": "stream",
     "text": [
      "2.3263478740408408\n",
      "0.009998610815754738\n"
     ]
    }
   ],
   "source": [
    "zHundreth=stats.norm.ppf(1-0.01) #ppf for 0.01 to get the z\n",
    "z=stats.norm.cdf(-2.3264) #sanity check z given the previous answer\n",
    "print(zHundreth)\n",
    "print(z)"
   ]
  },
  {
   "cell_type": "markdown",
   "metadata": {},
   "source": [
    "**Part C.**  Your supervisor at the plant decides that serving up donuts in a lead-lined box is a bad idea. Fair enough.\n",
    "\n",
    "But she is still imposing the requirement that the probability of a batch of donuts being rejected must be less than 0.01. Suppose the mean and standard deviation are at their original values of $\\mu = 190$ mSv and $\\sigma = 40$ mSv. What is the minimum sample size to satisfy this requirement?\n",
    "\n",
    "Calculate this **by hand**, using Python only to perform arithmetic operations and compute critical values of a standard normal random variable."
   ]
  },
  {
   "cell_type": "markdown",
   "metadata": {},
   "source": [
    "z=$\\frac{x-\\mu}{\\sigma}$\n",
    "\n",
    "z=$\\frac{x-\\mu}{\\frac{\\sigma}{\\sqrt{n}}}$\n",
    "\n",
    "z=$\\frac{(x-\\mu) * \\sqrt{n}}{\\sigma}$\n",
    "\n",
    "2.3263=$\\frac{(200-190) * \\sqrt{n}}{40}$\n",
    "\n",
    "2.3263=$\\frac{10 * \\sqrt{n}}{40}$\n",
    "\n",
    "2.3263 * 4=$\\sqrt{n}\n",
    "\n",
    "n=86.5867, or 87 whole donuts"
   ]
  },
  {
   "cell_type": "code",
   "execution_count": 42,
   "metadata": {
    "scrolled": true
   },
   "outputs": [
    {
     "name": "stdout",
     "output_type": "stream",
     "text": [
      "0.010001276016798566\n"
     ]
    }
   ],
   "source": [
    "z=stats.norm.cdf(2.3263) #upper bound, kind of reused from part B\n",
    "print(1-z) #1-z to get it as a lower bound, approximated to a fair value"
   ]
  },
  {
   "cell_type": "markdown",
   "metadata": {
    "collapsed": true
   },
   "source": [
    "**Part D.** Can you think of any potential issues with using a normal distribution to model the radiation content of our donuts?"
   ]
  },
  {
   "cell_type": "markdown",
   "metadata": {
    "collapsed": true
   },
   "source": [
    "Radiation levels in donuts may be independent, but it has the potential to not be identically distributed. If there is actually a radiation problem, first of all, the plant is probably not up to code on their safety standards and/or containment units, but more importantly, the donuts of a single box are likely to have the same exposure and is less likely to represent donuts as a whole unless all boxes being brought in are succumbing to the same radiation. At that point we would be ignoring the elephant in the room and actual factors that could affect something like this. You also cannot have negative radiation but normal distributions can be negative, which could also cause problems."
   ]
  }
 ],
 "metadata": {
  "kernelspec": {
   "display_name": "Python 3",
   "language": "python",
   "name": "python3"
  },
  "language_info": {
   "codemirror_mode": {
    "name": "ipython",
    "version": 3
   },
   "file_extension": ".py",
   "mimetype": "text/x-python",
   "name": "python",
   "nbconvert_exporter": "python",
   "pygments_lexer": "ipython3",
   "version": "3.7.3"
  }
 },
 "nbformat": 4,
 "nbformat_minor": 2
}
