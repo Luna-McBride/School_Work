{
 "cells": [
  {
   "cell_type": "markdown",
   "metadata": {},
   "source": [
    "<a/ id='top'></a>\n",
    "# Homework 3: Random Variables and Their Distributions\n",
    "***\n",
    "\n",
    "**Name**: Luna McBride\n",
    "\n",
    "***\n",
    "\n",
    "This assignment is due on Canvas by **5pm on Thursday June 27**. Your solutions to theoretical questions should be done in Markdown/MathJax directly below the associated question.  Your solutions to computational questions should include any specified Python code and results as well as written commentary on your conclusions.  Remember that you are encouraged to discuss the problems with your instructors and classmates, but **you must write all code and solutions on your own**. \n",
    "\n",
    "**NOTES**: \n",
    "\n",
    "- Do **NOT** load or use any Python packages that are not available in Anaconda 3.6. \n",
    "- Because you can technically evaluate notebook cells in a non-linear order, it's a good idea to do Cell $\\rightarrow$ Run All as a check before submitting your solutions.  That way if we need to run your code you will know that it will work as expected. \n",
    "- Submit only this Jupyter notebook to Moodle.  Do not compress it using tar, rar, zip, etc. \n",
    "- This should go without saying, but... For any question that asks you to calculate something, you **must show all work to receive credit**. Sparse or nonexistent work will receive sparse or nonexistent credit.\n",
    "\n",
    "---\n",
    "**Shortcuts:**  [Problem 1](#p1) | [Problem 2](#p2) | [Problem 3](#p3) | [Problem 4](#p4) | [Problem 5](#p5)\n",
    "\n",
    "---"
   ]
  },
  {
   "cell_type": "code",
   "execution_count": 136,
   "metadata": {
    "scrolled": true
   },
   "outputs": [],
   "source": [
    "import pandas as pd\n",
    "import numpy as np\n",
    "import scipy.stats as stats\n",
    "import math\n",
    "from scipy.special import binom\n",
    "import matplotlib.pylab as plt\n",
    "%matplotlib inline"
   ]
  },
  {
   "cell_type": "markdown",
   "metadata": {},
   "source": [
    "<br>\n",
    "\n",
    "---\n",
    "<a/ id='p1'></a>\n",
    "[Back to top](#top)\n",
    "### [20 points] Problem 1\n",
    "\n",
    "Suppose you are modeling the probability of observing flood levels of various heights when there is a storm in a particular coastal city.  Let $X$ be a random variable representing the observed flood height (in feet), which must be nonnegative. There are many different choices for probability density function (pdf) for $X$.  You decide to use the following pdf for $X$:\n",
    "\n",
    "$$\n",
    "f(x) = \\begin{cases}\n",
    "         c \\ x \\ e^{\\left(-\\frac{x^2}{10}\\right)} & 0 \\leq x < \\infty \\\\\n",
    "         0                           & \\text{otherwise}\n",
    "       \\end{cases}\n",
    "$$\n",
    "where $c$ is some normalizing constant.\n",
    "\n",
    "**Part A**: Determine the value of $c$ such that $f(x)$ is a valid density function. "
   ]
  },
  {
   "cell_type": "markdown",
   "metadata": {},
   "source": [
    "Markdown conventions used (whole homework): https://csrgxtu.github.io/2015/03/20/Writing-Mathematic-Fomulars-in-Markdown/\n",
    "\n",
    "Integral basis used: https://www.petervis.com/mathematics/integration_by_parts/integrate_xe_x_2.html\n",
    "\n",
    "$cxe^{-\\frac{x^2}{10}}   0 \\leq x < \\infty$\n",
    "\n",
    "$\\int_0^\\infty cxe^{-\\frac{x^2}{10}}\\mathrm{d}x$\n",
    "\n",
    "u=-$\\frac{1}{10} x^2$\n",
    "\n",
    "$\\frac{du}{dx} = -\\frac{1}{5} x$\n",
    "\n",
    "du = -$\\frac{1}{5} x dx$\n",
    "\n",
    "-5du = x dx\n",
    "\n",
    "$-5c \\int_0^\\infty e^{u}\\mathrm{d}u$\n",
    "\n",
    "$-5c e^u$\n",
    "\n",
    "$-5c e^{-\\frac{x^2}{10}}$ | 0 to infinity\n",
    "\n",
    "$-5c e^{-\\frac{\\infty}{10}} - (-5c e^{-\\frac{0}{10}})$\n",
    "\n",
    "$-5c e^{-\\infty} - (-5c e^{0})$\n",
    "\n",
    "$-5c*0 - (-5c*1)$\n",
    "\n",
    "5c\n",
    "\n",
    "1=5c\n",
    "\n",
    "c=$\\frac{1}{5}$"
   ]
  },
  {
   "cell_type": "markdown",
   "metadata": {},
   "source": [
    "**Part B**: Compute the cumulative density (cdf) function $F(x)$ for $X$.  Then, conduct two sanity checks: First, what should $F(0)$ equal?  Second, what should be the limit of $F(x)$ as $x \\rightarrow \\infty$?  Be sure to **justify** these answers. Verify that $F(0)$ and $\\displaystyle \\lim_{x\\rightarrow \\infty} F(x)$ satisfy your hypotheses using cdf you derived."
   ]
  },
  {
   "cell_type": "markdown",
   "metadata": {},
   "source": [
    "F(x)= $\\int_0^x \\frac{1}{5} xe^{-\\frac{x^2}{10}}\\mathrm{d}x$\n",
    "\n",
    "F(0)= $\\int_0^0 \\frac{1}{5} xe^{-\\frac{x^2}{10}}\\mathrm{d}x$\n",
    "\n",
    "< Assume same steps to get here as in Part A >\n",
    "\n",
    "F(0)= -$e^{-\\frac{x^2}{10}}$ |0 to 0\n",
    "\n",
    "F(0)=-$e^{0}$-(-$e^{0}$)\n",
    "\n",
    "F(0)=-1+1\n",
    "\n",
    "F(0)=0\n",
    "\n",
    "The CDF is 0 at 0 as the probability has not added up anything yet.\n",
    "\n",
    "\n",
    "\n",
    "F($\\infty$)= $\\int_0^\\infty \\frac{1}{5} xe^{-\\frac{x^2}{10}}\\mathrm{d}x$\n",
    "\n",
    "<>\n",
    "\n",
    "F($\\infty$)= -$e^{-\\frac{x^2}{10}}$ |0 to $\\infty$\n",
    "\n",
    "F($\\infty$)= -$e^{-\\infty}$ - (-$e^{0}$)\n",
    "\n",
    "F($\\infty$)= 0+1\n",
    "\n",
    "F($\\infty$)= 1\n",
    "\n",
    "The CDF should add up to 1 because the definition of a CDF is the sum of the values coming to 100% (1). This is 1."
   ]
  },
  {
   "cell_type": "markdown",
   "metadata": {},
   "source": [
    "**Part C:**  Use the cdf you derived in **Part B** to calculate the median, $\\tilde{x}$, of the probability density for $X$."
   ]
  },
  {
   "cell_type": "markdown",
   "metadata": {},
   "source": [
    "Median is half the data, so set it to 1/2 (M=median)\n",
    "\n",
    "$\\frac{1}{2}$= $\\int_0^M \\frac{1}{5} xe^{-\\frac{x^2}{10}}\\mathrm{d}x$\n",
    "\n",
    "<>\n",
    "\n",
    "$\\frac{1}{2}$= -$e^{-\\frac{x^2}{10}}$ |0 to M\n",
    "\n",
    "$\\frac{1}{2}$= -$e^{-\\frac{M^2}{10}}$ - (-$e^{0}$)\n",
    "\n",
    "$\\frac{1}{2}$= -$e^{-\\frac{M^2}{10}}$ + 1\n",
    "\n",
    "-$\\frac{1}{2}$= -$e^{-\\frac{M^2}{10}}$\n",
    "\n",
    "$\\frac{1}{2}$= $e^{-\\frac{M^2}{10}}$\n",
    "\n",
    "$ln\\frac{1}{2}$= -$\\frac{M^2}{10}$\n",
    "\n",
    "10* -$ln\\frac{1}{2}$=$M^2$\n",
    "\n",
    "$\\sqrt{10*-ln\\frac{1}{2}}$=M\n",
    "\n",
    "M=2.6328"
   ]
  },
  {
   "cell_type": "markdown",
   "metadata": {},
   "source": [
    "**Part D**: It is a well-known fact that if there is a storm in your coastal city, if the flood level exceeds 6 feet, then the town will become inundated with octopuses in an event known localy as **Octogeddon**. Use the cdf you computed in **Part B** to find the probability that a given storm is an Octogeddon. "
   ]
  },
  {
   "cell_type": "markdown",
   "metadata": {
    "collapsed": true
   },
   "source": [
    "P(x>6)=1-P(x$\\leq$5)\n",
    "\n",
    "$\\int_0^5 \\frac{1}{5} xe^{-\\frac{x^2}{10}}\\mathrm{d}x$\n",
    "\n",
    "<>\n",
    "\n",
    "-$e^{-\\frac{x^2}{10}}$ |0 to 5\n",
    "\n",
    "-$e^{-\\frac{5^2}{10}}$ - (-$e^{-\\frac{x^2}{10}}$)\n",
    "\n",
    "-$e^{-\\frac{25}{10}}$ + 1\n",
    "\n",
    "-$e^{-2.5}$ +1\n",
    "\n",
    "0.9179\n",
    "\n",
    "P(x>6)= 1-0.9179\n",
    "\n",
    "P(x>6)= 0.0821"
   ]
  },
  {
   "cell_type": "markdown",
   "metadata": {},
   "source": [
    "**Part E:** You have been painstakingly collecting data on storms in your city, and have determined that storms occur at an average rate of 5 per year. To makes things a bit more precise, the pdf from **Part A** really describes the distribution of flood heights *given* that there is a storm, $P(X \\mid \\text{storm})$. You may assume that storms occur as independent events of one another.\n",
    "\n",
    "What is the probability of observing 3 storms in a given year, none of which are Octogeddons?\n",
    "\n",
    "That is, what is $P(3 \\text{ non-Octogeddon storms} \\cap 3 \\text{ storms})$?"
   ]
  },
  {
   "cell_type": "markdown",
   "metadata": {
    "collapsed": true
   },
   "source": [
    "$\\mu$ = 5 storms/year\n",
    "\n",
    "k=3 storms in a year\n",
    "\n",
    "$\\frac{5^3 * e^{-5}}{3!}$\n",
    "\n",
    "$\\frac{125 * 0.006737947}{6}$\n",
    "\n",
    "$\\frac{0.8422433749}{6}$\n",
    "\n",
    "P(3Storm)=0.1404\n",
    "\n",
    "P(non-Octogeddon)=1-P(Octogeddon)\n",
    "\n",
    "P(non-Octogeddon)=0.9179\n",
    "\n",
    "P(3 non-Octogeddon) = $P(\\text{non-Octogeddon})^3$\n",
    "\n",
    "P(3 non-Octogeddon) = 0.7734\n",
    "\n",
    "Independent, so $P(3 \\text{ non-Octogeddon storms}|3 \\text{ storms})$ = P(3 non-Octogeddon)\n",
    "\n",
    "-----------------------------------------------------------------------------------------------------------------------------\n",
    "\n",
    "$P(3 \\text{ non-Octogeddon storms} \\cap 3 \\text{ storms})$ = $P(3 \\text{ non-Octogeddon storms}|3 \\text{ storms})P(3 \\text{ storms}) $\n",
    "\n",
    "$P(3 \\text{ non-Octogeddon storms} \\cap 3 \\text{ storms})$ = 0.7734 * 0.1404\n",
    "\n",
    "$P(3 \\text{ non-Octogeddon storms} \\cap 3 \\text{ storms})$ = 0.1086"
   ]
  },
  {
   "cell_type": "markdown",
   "metadata": {
    "collapsed": true
   },
   "source": [
    "<br>\n",
    "\n",
    "---\n",
    "<a/ id='p2'></a>\n",
    "[Back to top](#top)\n",
    "### [20 points] Problem 2 - Monte Carlo Estimation of Definite Integrals\n",
    "\n",
    "One really cool application of random variables is using them to approximate integrals/area under a curve.  This method of approximating integrals is used frequently in computational science to approximate really difficult integrals that we never want to do by hand.  In this exercise you'll figure out how we can do this in practice and test your method on a relatively simple integral. "
   ]
  },
  {
   "cell_type": "markdown",
   "metadata": {},
   "source": [
    "**Part A.**  Let $X$ be a random variable representing how delicious a pie you bake is, as measured by the **Deliciousness Index** (DI).  Suppose the probability density function for $X$ is described by the raised cosine probability density function:\n",
    "\n",
    "$$\n",
    "f(x) = \\begin{cases}\n",
    "         \\dfrac{1}{\\pi}\\left(\\cos{(x)} + 1\\right) & 0 \\leq x \\leq \\pi \\\\\n",
    "         0                           & \\text{otherwise}\n",
    "         \\end{cases}\n",
    "$$\n",
    "\n",
    "A Deliciousness Index of $\\pi$ is the most delicious pie you can ever hope to create, and a DI of $0$ is the most disgusting pie you have ever tasted.  \n",
    "\n",
    "Compute **by hand**, the integral of $f(x)$ for $0 \\leq x \\leq \\dfrac{\\pi}{2}$.  Write a sentence or two to interpret your result physically, in the context of this problem set-up."
   ]
  },
  {
   "cell_type": "markdown",
   "metadata": {
    "collapsed": true
   },
   "source": [
    "$\\int_{-\\infty}^{\\infty} f(x) \\mathrm{d}x$\n",
    "\n",
    "$\\int_{0}^{\\frac{\\pi}{2}} \\frac{1}{\\pi}(cos(x)+1) \\mathrm{d}x$\n",
    "\n",
    "$\\frac{1}{\\pi} \\int_{0}^{\\frac{\\pi}{2}} cos(x)+1 \\mathrm{d}x$\n",
    "\n",
    "$\\frac{1}{\\pi} \\int_{0}^{\\frac{\\pi}{2}} cos(x) \\mathrm{d}x$\n",
    "\n",
    "$\\frac{1}{\\pi}$ x + sin(x) |0 to $\\frac{\\pi}{2}$\n",
    "\n",
    "$\\frac{1}{\\pi}$ ($\\frac{\\pi}{2}$ + sin($\\frac{\\pi}{2}$)) - $\\frac{1}{\\pi}$ (0 + sin(0))\n",
    "\n",
    "$\\frac{\\pi}{2 \\pi}$+$\\frac{1}{\\pi}$\n",
    "\n",
    "$\\frac{1}{2}$+$\\frac{1}{\\pi}$ = 0.8183"
   ]
  },
  {
   "cell_type": "markdown",
   "metadata": {},
   "source": [
    "**Part B.** Suppose we sample a random variable $X$ from $U(0,\\frac{\\pi}{2})$ and another random variable $Y$ from $U(0,1)$ and think of them as $x$- and $y$-coordinates of a point in the box $[0,\\frac{\\pi}{2}] \\times [0,1]$.  If we compute the ratio of points that fall under the curve $f(x)$ to the total points sampled, what does this value estimate? "
   ]
  },
  {
   "cell_type": "code",
   "execution_count": 137,
   "metadata": {},
   "outputs": [
    {
     "name": "stdout",
     "output_type": "stream",
     "text": [
      "51.949% of the points are under the curve\n"
     ]
    }
   ],
   "source": [
    "size=100000 #Size variable so it is easier to change if I want to change it\n",
    "\n",
    "#---------Gets the ratio of points under the curve over the total points distributed-----------\n",
    "def points_around_curve():\n",
    "    x=(math.pi/2)*np.random.ranf() #Random float 0 to pi/2, the specified x dimensions\n",
    "    y=np.random.ranf() #Random float 0 to 1, the specified y\n",
    "    curve=(1/math.pi)*(math.cos(x)+1) #The equation we are given\n",
    "    if y>curve: #Checks if the point is above the curve; if so, it is not part of the ratio under the curve\n",
    "        return 0\n",
    "    return 1\n",
    "\n",
    "#------------Takes the results under the curve for the amount of loops listed in size--------------\n",
    "result=np.zeros(size)\n",
    "for i in range(0,size):\n",
    "    result[i]=points_around_curve()\n",
    "    \n",
    "#-----------Divides\n",
    "probability=np.sum(result==1)/len(result)\n",
    "print(\"{}% of the points are under the curve\".format(probability*100))"
   ]
  },
  {
   "cell_type": "markdown",
   "metadata": {},
   "source": [
    "This value is the same as the integral of the area under the curve divided by the total area as split by this line."
   ]
  },
  {
   "cell_type": "markdown",
   "metadata": {},
   "source": [
    "**Part C.** How could we modify the process outlined in **Part B** so that our estimator estimates the value of the desired integral?  If you need inspiration, check out the in-class notebook on Stochastic Simulation (#4), specifically, the exercise where we estimated $\\pi$!"
   ]
  },
  {
   "cell_type": "code",
   "execution_count": 138,
   "metadata": {},
   "outputs": [
    {
     "name": "stdout",
     "output_type": "stream",
     "text": [
      "The integral from 0 to pi/2 is 0.819343072019486\n"
     ]
    }
   ],
   "source": [
    "size=100000 #points to calculate\n",
    "\n",
    "#-----------Points function copied from above to take the points under the curve-------------\n",
    "def points_around_curve():\n",
    "    x=(math.pi/2)*np.random.ranf()\n",
    "    y=np.random.ranf()\n",
    "    curve=(1/math.pi)*(math.cos(x)+1)\n",
    "    if y>curve:\n",
    "        return 0\n",
    "    return 1\n",
    "\n",
    "#----------Collecting points as to get the ratio under the curve------------\n",
    "result=np.zeros(size)\n",
    "for i in range(0,size):\n",
    "    result[i]=points_around_curve()\n",
    "    \n",
    "#----------Gets the ratio then multiplies it by the endpoint, which comes to about the integral calculated in part A--------\n",
    "probability=np.sum(result==1)/len(result)\n",
    "print(\"The integral from 0 to pi/2 is {}\".format(probability*(math.pi/2)))"
   ]
  },
  {
   "cell_type": "markdown",
   "metadata": {},
   "source": [
    "By multiplying the ratio by the endpoint, the integral has been approximated. The value in Part B is the percentage under that curve over the total, so multiplying the total box (1*$\\pi/2$) by this ratio, the area under the curve is approximated."
   ]
  },
  {
   "cell_type": "markdown",
   "metadata": {},
   "source": [
    "**Part D.** Complete the function `integrate` below to compute an approximation to the definition integral $\\int_0^{\\text{ub}} f(x)dx$.  Your function should take as arguments:\n",
    "1. `num_samples` -- the number of points to sample,\n",
    "2. `ub` -- a number between $0$ and $\\pi$ that is the upper bound of the integral, and\n",
    "3. `isPlot` -- a Boolean flag for whether or not to display a plot of the results.\n",
    "\n",
    "Your function should return an approximation of the definite integral by sampling $X$ from $U(0,\\text{ub})$ and $Y$ from $U(0,1)$. For each random draw $(X,Y)$, define the random variable $Z$ that represents whether or not the sampled $Y$ value is less than $f(X)$ for the corresponding $X$ value.\n",
    "\n",
    "Your function should perform three tasks: \n",
    "\n",
    "1. return the estimate of the value of the integral,\n",
    "2. return the sample variance of the random variable $Z$ being simulated, using the np.var function, and\n",
    "3. if `isPlot` is True, plot the curve $f(x)$ as well as the location of the points $(X,Y)$, colored according to whether they fall above or below the curve. "
   ]
  },
  {
   "cell_type": "code",
   "execution_count": 139,
   "metadata": {},
   "outputs": [],
   "source": [
    "# GIVEN CODE - Do not change the inputs/outputs or your code will fail unit tests and auto-grading!\n",
    "def integrate(num_samples, ub, isPlot):\n",
    "    #result holders for the expectation and varience\n",
    "    result=np.zeros(num_samples)\n",
    "    resultVar=np.zeros(num_samples)\n",
    "    \n",
    "    #plot equation: https://scriptverse.academy/tutorials/python-matplotlib-plot-straight-line.html\n",
    "    \n",
    "    #If plot is true, draw the line\n",
    "    if isPlot==True:\n",
    "        fig, ax=plt.subplots(figsize=(12,6)) \n",
    "        x=np.linspace(0, ub, 100) #A linspace for our x following the source I used\n",
    "        ax.plot(x,(1/math.pi)*(np.cos(x)+1)) #Plot the equation for the X listed\n",
    "        \n",
    "        #Usual names and constraints graphs have\n",
    "        ax.set_ylim(0,1)\n",
    "        ax.set_title(\"Integral 0 to {} of 1/pi(cos(x)+1)\".format(ub), fontsize=20)\n",
    "        ax.set_xlabel(\"x\", fontsize=16)\n",
    "        ax.set_ylabel(\"y\", fontsize=16)\n",
    "        \n",
    "    #a for loop to run the function for the listed sample number\n",
    "    for i in range(0,num_samples):\n",
    "        #Essentially points around curve data reused, just with the endpoint ub\n",
    "        x=ub*np.random.ranf()\n",
    "        y=np.random.ranf()\n",
    "        curve=(1/math.pi)*(math.cos(x)+1)\n",
    "        curveVar=(1/math.pi)*(math.cos(x**2)+1) #Varience equation for the x^2, set here so to only have 1 for loop\n",
    "        if y>curve: #Does not count the ones above the curve, but still draws them if a draw is requested\n",
    "            result[i]=0\n",
    "            if isPlot==True:\n",
    "                ax.plot(x,y,'ro',color=\"Green\")\n",
    "        if y>curveVar: #Discounting values above the curve, just for the x^2 varience equation\n",
    "            resultVar[i]=0\n",
    "        if y<=curve: #Counts points at or below the curve and draws them if asked to draw\n",
    "            result[i]=1\n",
    "            if isPlot==True:\n",
    "                ax.plot(x,y,'ro',color=\"Red\")\n",
    "        if y<=curveVar: #counter for the varience x^2 equation\n",
    "            resultVar[i]=1\n",
    "            \n",
    "    #gets the integral estimate by taking the ratio and multiplying it by the upper bound\n",
    "    probability=np.sum(result==1)/len(result)\n",
    "    estimate=probability*ub\n",
    "    \n",
    "    #estimates the varience with the same steps as the estimate, just with the x^2 minus the estimate squared\n",
    "    probVar=np.sum(resultVar==1)/len(resultVar)\n",
    "    esXSquare=probVar*ub\n",
    "    sample_var=esXSquare-(estimate**2)\n",
    "    \n",
    "    return estimate, sample_var"
   ]
  },
  {
   "cell_type": "markdown",
   "metadata": {},
   "source": [
    "**Part E.** Write your own small unit tests!\n",
    "\n",
    "First, what should your `integrate` function output if you plug in `ub=0`? Set that as `int_0_to_0` below.\n",
    "\n",
    "Second, what should your `integrate` function output if you plug in `ub=`$\\pi$? Set that as `int_0_to_pi` below.\n",
    "\n",
    "Then, you can execute the cell below to run two sanity checks. Write out **in math** (like, a definite integral) what each of these two tests is checking and **why** that is a reasonable sanity check.\n",
    "\n",
    "If these two assertions run without fail, then things seem to be working okay. Note that the upper endpoint test is stochastic, so if it fails, try running it a few times. If it fails a lot, then things are probably going wrong."
   ]
  },
  {
   "cell_type": "code",
   "execution_count": 140,
   "metadata": {},
   "outputs": [],
   "source": [
    "int_0_to_0  = 0\n",
    "int_0_to_pi = 1\n",
    "\n",
    "\n",
    "#---------------------------------------\n",
    "# DO NOT EDIT THIS CELL BELOW HERE\n",
    "#---------------------------------------\n",
    "assert integrate(1000, 0, False)[0]==int_0_to_0, \"Error: lower endpoint test failing\"\n",
    "assert math.isclose(integrate(10000, np.pi, False)[0],int_0_to_pi,abs_tol=0.03), \"Error: upper endpoint test failing\""
   ]
  },
  {
   "cell_type": "markdown",
   "metadata": {},
   "source": [
    "The values should be 0 and 1 because it is similar to the CDF, which goes from 0 to 1 just like the probability it is in the range. After pi, values go outside of a possible 0 to 1 y value box, which means the cdf for the function can only exist for this part of the function from 0 to pi."
   ]
  },
  {
   "cell_type": "markdown",
   "metadata": {},
   "source": [
    "<br>\n",
    "\n",
    "---\n",
    "<a/ id='p3'></a>\n",
    "[Back to top](#top)\n",
    "### [20 points] Problem 3\n",
    "\n",
    "You are waiting in line at the grocery store. It is taking _forever_!  There are only two lines open; one is being tended by a cashier named [John Henry](https://en.wikipedia.org/wiki/John_Henry_(folklore)), and the other is tended by a [self check-out machine](https://theconversation.com/the-economics-of-self-service-checkouts-78593). Like all human beings when they arrive at the front of the store to check-out and encounter lines everywhere, you first experience a moment of intense panic. _Which line will be the fastest?_ you wonder, as people shuffle around you.\n",
    "\n",
    "You decide you need to model the arrival of customers at the front of each of the lines.  From your Intro to Data Science class you remember that the distribution of times _between_ independent arrivals is often modeled using an Exponential distribution.  You observe the following:\n",
    "* John's line checks-out an average of 4 customers per ten minutes,\n",
    "* the self check-out machine checks-out an average of 5 customers per ten minutes **if** the machine is working properly, \n",
    "* the self check-out machine checks-out an average of 1 customer per ten minutes if the machine is freezing up, and\n",
    "* in any given moment, the self check-out machine has a probability of 0.1 of freezing up.\n",
    "\n",
    "Answer the following questions about this scenario. **Note** that for **Parts B-D** you should clearly express the computation you're doing with math, but feel free to do any fancy function evaluations with Python. \n",
    "\n",
    "**Part A**:  Assuming the between-customer times do in fact follow exponential distributions, what distributions do you expect the **number** of customers who pass through each line in a given 10-minute interval to follow?  What are the parameter(s) of each distribution?  Note that you should consider both the case where the self check-out is working properly and when it is broken."
   ]
  },
  {
   "cell_type": "markdown",
   "metadata": {},
   "source": [
    "johnRate=4 customers/10 minutes\n",
    "\n",
    "John= $\\frac{4^c * e^{-4}}{c!}$\n",
    "\n",
    "Proper Self Check Rate=5 customers/10 minutes\n",
    "\n",
    "Proper Self Check-out= $\\frac{5^c * e^{-5}}{c!}$\n",
    "\n",
    "Frozen Self Check-out=1 customer/10 minutes\n",
    "\n",
    "Frozen Self Check-out= $\\frac{1^c * e^{-1}}{c!}$"
   ]
  },
  {
   "cell_type": "markdown",
   "metadata": {},
   "source": [
    "**Part B**:  What is the probability that 6 customers pass through John's line in the next 10 minutes?  What about the self check-out, assuming that it is working?  What about the self check-out, assuming that it is frozen?"
   ]
  },
  {
   "cell_type": "markdown",
   "metadata": {},
   "source": [
    "John=$\\frac{4^c * e^{-4}}{c!}$\n",
    "\n",
    "sixCustomers= $\\frac{4^6 * e^{-4}}{6!}$\n",
    "\n",
    "sixCustomers= $\\frac{4096 * 0.01832}{720}$\n",
    "\n",
    "sixCustomers= $\\frac{75.0209}{720}$\n",
    "\n",
    "sixCustomers= 0.1042"
   ]
  },
  {
   "cell_type": "code",
   "execution_count": 141,
   "metadata": {},
   "outputs": [
    {
     "name": "stdout",
     "output_type": "stream",
     "text": [
      "Probability John will get through 6 customers is 0.1041956345670211\n",
      "Probability the working self check-out will get through 6 customers is 0.1462228081398756\n",
      "Probability the frozen self check-out will get through 6 customers is 0.0005109436682936699\n"
     ]
    }
   ],
   "source": [
    "#------A function that calculates the Poisson distribution---------\n",
    "def line(x,lambd):\n",
    "    e=math.exp(-lambd)\n",
    "    numerator=(lambd**x) *e\n",
    "    answer=numerator/math.factorial(x)\n",
    "    return answer\n",
    "\n",
    "print(\"Probability John will get through 6 customers is {}\".format(line(6,4)))\n",
    "print(\"Probability the working self check-out will get through 6 customers is {}\".format(line(6,5)))\n",
    "print(\"Probability the frozen self check-out will get through 6 customers is {}\".format(line(6,1)))"
   ]
  },
  {
   "cell_type": "markdown",
   "metadata": {},
   "source": [
    "**Part C:**  Use your answer to **Part B** and the Law of Total Probability to calculate the probability that the self check-out tends 6 customers is the next 10 minutes."
   ]
  },
  {
   "cell_type": "markdown",
   "metadata": {},
   "source": [
    "$P(J \\bigcap S)$\n",
    "\n",
    "P(J)+P(S|Sw)P(Sw)+P(S|Sn)P(Sn)\n",
    "\n",
    "0.1042 + 0.1462 * 0.9 + 0.0005 * 0.1\n",
    "\n",
    "0.1042  + 0.13158 + 0.00005\n",
    "\n",
    "0.1042 + 0.13163\n",
    "\n",
    "0.2358"
   ]
  },
  {
   "cell_type": "code",
   "execution_count": 142,
   "metadata": {},
   "outputs": [
    {
     "name": "stdout",
     "output_type": "stream",
     "text": [
      "The total probability of 6 customers in 10 minutes is 0.2358472562597385\n"
     ]
    }
   ],
   "source": [
    "#------A function that calculates the Poisson distribution---------\n",
    "def line(x,lambd):\n",
    "    e=math.exp(-lambd)\n",
    "    numerator=(lambd**x) *e\n",
    "    answer=numerator/math.factorial(x)\n",
    "    return answer\n",
    "\n",
    "#-----Function to sum the probabilities for x customers in 10 minutes-------\n",
    "def total(x):\n",
    "    summ=0\n",
    "    prob=np.array([1,0.9,0.1])\n",
    "    lambd=np.array([4,5,1])\n",
    "    for i in range(0,3):\n",
    "        summ=summ+line(x,lambd[i])*prob[i]\n",
    "    return summ\n",
    "    \n",
    "print(\"The total probability of 6 customers in 10 minutes is {}\".format(total(6)))"
   ]
  },
  {
   "cell_type": "markdown",
   "metadata": {},
   "source": [
    "**Part D**:  S'pose John is working a 5-hour shift from 4-9 PM after school. He gets no breaks, because the year is 1870 and worker's rights is not yet a thing.  Calculate **exactly** (aside from rounding) the probability that he serves 100 or more customers during his shift.  (Assume we can safely scale our data up to a 5-hour interval.)"
   ]
  },
  {
   "cell_type": "markdown",
   "metadata": {},
   "source": [
    "john=24 customers/hr\n",
    "\n",
    "john=120 customers/5hr\n",
    "\n",
    "P(100$\\geq$x)=1-P(x<100)\n"
   ]
  },
  {
   "cell_type": "code",
   "execution_count": 143,
   "metadata": {},
   "outputs": [
    {
     "name": "stdout",
     "output_type": "stream",
     "text": [
      "The probability John works through 100 customers in 5 hours is 0.9778065057793995\n"
     ]
    }
   ],
   "source": [
    "#------A function that calculates the Poisson distribution---------\n",
    "def line(x,lambd):\n",
    "    e=math.exp(-lambd)\n",
    "    numerator=(lambd**x) *e\n",
    "    answer=numerator/math.factorial(x)\n",
    "    return answer\n",
    "\n",
    "#-------Sum up until 100 customers for probability--------------\n",
    "summ=0\n",
    "for i in range(0,99):\n",
    "    summ=summ+line(i,120)\n",
    "    \n",
    "#-------1-sum to 100 customers for more than 100 customers---------------\n",
    "print(\"The probability John works through 100 customers in 5 hours is {}\".format(1-summ))"
   ]
  },
  {
   "cell_type": "markdown",
   "metadata": {},
   "source": [
    "**Part E**:  Write a function `checkout_count` to simulate the number of customers served by the self check-out machine in a 5-hour shift. At the very least, your function should take as input the working and broken customer arrival rate parameters, and the probability that the machine is working properly. Your simulation should model the arrival of each new customer, and sample whether or not the machine is working properly for each new customer. Then, your function should simulate customer arrival times at the front of the line by sampling between-customer times from $Exp(\\lambda)$ via Numpy's [random.exponential](https://docs.scipy.org/doc/numpy-1.13.0/reference/generated/numpy.random.exponential.html) function, where the argument $\\lambda$ will depend on the state of the machine (working or broken). Your function should return the number of customer arrivals in a 5-hour shift. Use at least 5000 simulations.\n",
    "\n",
    "Use this function to estimate the probability of the self check-out machine serves 100 or more customers in a 5-hour shift, and report your result.\n",
    "\n",
    "Finally, use **this same function**, to verify your answer to **Part D**.\n",
    "\n",
    "**Caution!**  Be aware that in some Numpy or Scipy functions for distribution and/or random variables, the conventions for the parameter arguments may differ from those used in class."
   ]
  },
  {
   "cell_type": "code",
   "execution_count": 144,
   "metadata": {},
   "outputs": [
    {
     "name": "stdout",
     "output_type": "stream",
     "text": [
      "The probability the self-checkout will get through 100 customers is 0.6272\n",
      "The probability John will get through 100 customers is 0.9716\n"
     ]
    }
   ],
   "source": [
    "size=5000\n",
    "def checkout_count(time_len, rate_work, rate_broken, p):\n",
    "    rate=p*100\n",
    "    time=0\n",
    "    num_customers=0\n",
    "    while time<time_len:\n",
    "        work=np.random.randint(rate)%100\n",
    "        if work<10:\n",
    "            time=time+np.random.exponential(1/rate_broken)\n",
    "            num_customers=num_customers+1\n",
    "        else:\n",
    "            time=time+np.random.exponential(1/rate_work)\n",
    "            num_customers=num_customers+1\n",
    "    \n",
    "    return num_customers\n",
    "\n",
    "resultJohn=np.zeros(size)\n",
    "resultSelf=np.zeros(size)\n",
    "for i in range(0,size):\n",
    "    resultJohn[i]=checkout_count(30,4,4,1)\n",
    "    resultSelf[i]=checkout_count(30,5,1,0.9)\n",
    "\n",
    "probJohn=np.sum(resultJohn>100)/len(resultJohn)\n",
    "probSelf=np.sum(resultSelf>100)/len(resultSelf)\n",
    "print(\"The probability the self-checkout will get through 100 customers is {}\".format(probSelf))\n",
    "print(\"The probability John will get through 100 customers is {}\".format(probJohn))"
   ]
  },
  {
   "cell_type": "markdown",
   "metadata": {},
   "source": [
    "**Part F:** Comment on the results you found in **Part E** for the probabilities that John and the self check-out machine will serve 100 or more customers in a 5-hour block. Which seems like a better investment for the grocery store?"
   ]
  },
  {
   "cell_type": "markdown",
   "metadata": {},
   "source": [
    "John is much more profitable to the grocery store because he is almost guarenteed to get through 100 customers in 5 hours. The self-checkout is likely to break down and get through less customers. However, this is comparing a single self-checkout unit to a single person. Stores tend to have many self-checkout machines to minimal humans, so in terms of scale, even if John is superior to a single machine, the store is more likely to tend toward the machine. This disparity is likely why stores keep cashiers in the first place despite actually having to pay them (along with other human factors)"
   ]
  },
  {
   "cell_type": "markdown",
   "metadata": {},
   "source": [
    "<br>\n",
    "\n",
    "---\n",
    "<a/ id='p4'></a>\n",
    "[Back to top](#top)\n",
    "### [20 points] Problem 4\n",
    "***\n",
    "\n",
    "Well. They're back at it. Tony and Dan are honing their lightsaber skills, and this time they've got a _new_ tournament format. (They wouldn't have had to switch formats, but you figured out all the probabilities for their previous tournament format two weeks ago, so this is on you.)\n",
    "\n",
    "The new format is a _Best-of-9 Series_ of individual duels. The first professor to win 5 duels is declared the winner. Each duel can be considered to be independent of all previous duels. Moreover, a rigorous statistical analysis of Tony's and Dan's strengths, weaknesses, and handwriting, has revealed that Tony has an edge: the probability that Tony wins any one duel against Dan is given by $p=0.56$."
   ]
  },
  {
   "cell_type": "markdown",
   "metadata": {},
   "source": [
    "**Part A**: What is the probability that Tony wins the 9-duel series on the 8th duel? "
   ]
  },
  {
   "cell_type": "markdown",
   "metadata": {},
   "source": [
    "Probability= $C(D-1,W-1) p^W(1-p)^D-W$\n",
    "\n",
    "C(7,4) $p^5(1-p)^3$\n",
    "\n",
    "$\\frac{7!}{4! 3!} 0.56^5 * 0.44^3$\n",
    "\n",
    "35 * 0.00469\n",
    "\n",
    "0.1642"
   ]
  },
  {
   "cell_type": "code",
   "execution_count": 145,
   "metadata": {},
   "outputs": [
    {
     "name": "stdout",
     "output_type": "stream",
     "text": [
      "The probability to win in 8 turns is 0.164197374623744\n"
     ]
    }
   ],
   "source": [
    "#-----------Probability to win at a specific turn----------\n",
    "def probability_win(x):\n",
    "    p=0.56 #probability Tony will win a given match\n",
    "    if x<5: #There needs to be more than 5 turns to win\n",
    "        return 0\n",
    "    \n",
    "    #Values for a negative binomial that this is\n",
    "    comb=(math.factorial(x-1))/(math.factorial(4)*(math.factorial(x-5)))\n",
    "    px= math.pow(p,5)\n",
    "    qx= math.pow((1-p),(x-5))\n",
    "    probability=comb*px*qx #completed negative binomial\n",
    "    return probability\n",
    "\n",
    "print(\"The probability to win in 8 turns is {}\".format(probability_win(8)))"
   ]
  },
  {
   "cell_type": "markdown",
   "metadata": {},
   "source": [
    "**Part B**: What is the probability that Tony wins the 9-duel series in _any_ valid number of duels? "
   ]
  },
  {
   "cell_type": "markdown",
   "metadata": {},
   "source": [
    "P(5 wins)+P(6 wins)+P(7 wins)+P(8 wins)+P(9 wins)"
   ]
  },
  {
   "cell_type": "code",
   "execution_count": 146,
   "metadata": {},
   "outputs": [
    {
     "name": "stdout",
     "output_type": "stream",
     "text": [
      "Tony's probability to win at all is 0.6448577403630387\n"
     ]
    }
   ],
   "source": [
    "#-----------Probability to win at a specific turn, copied from the last question----------\n",
    "def probability_win(x):\n",
    "    p=0.56 #probability Tony will win a given match\n",
    "    if x<5: #There needs to be more than 5 turns to win\n",
    "        return 0\n",
    "    \n",
    "    #Values for a negative binomial that this is\n",
    "    comb=(math.factorial(x-1))/(math.factorial(4)*(math.factorial(x-5)))\n",
    "    px= math.pow(p,5)\n",
    "    qx= math.pow((1-p),(x-5))\n",
    "    probability=comb*px*qx #completed negative binomial\n",
    "    return probability\n",
    "\n",
    "#Total probability for all times he could win\n",
    "anyWin=probability_win(5)+probability_win(6)+probability_win(7)+probability_win(8)+probability_win(9)\n",
    "print(\"Tony's probability to win at all is {}\".format(anyWin))"
   ]
  },
  {
   "cell_type": "markdown",
   "metadata": {},
   "source": [
    "**Part C**: The winner of the tournament will take home \\$10,000 to use for a giant home aquarium for Stella the Octopus. Because the stakes are so high, Tony has decided to hire a famous Jedi consultant, Darth Ketelsen, to help him prepare for each duel. \n",
    "\n",
    "With Ketelsen's help, Tony's probability of winning any given match increases to $p = 0.7$. Ketelsen charges a fee of \\$90 per game, but as a testament to her confidence in her abilities, only charges Tony the 90 dollars for games that he wins and _only if Tony wins the whole tournament_.  So, if Tony competes in a 9-duel tournament and wins, he will take home \\$10,000 _minus_ 450 dollars for Darth Ketelsen's fees, for a total payout of 9,550 dollars.  What is the expected payout for a 9-duel series?   "
   ]
  },
  {
   "cell_type": "markdown",
   "metadata": {},
   "source": [
    "Expected payout= probability of winning the tourney * payout total"
   ]
  },
  {
   "cell_type": "code",
   "execution_count": 147,
   "metadata": {},
   "outputs": [
    {
     "name": "stdout",
     "output_type": "stream",
     "text": [
      "The expected payout is 8606.377296999999\n"
     ]
    }
   ],
   "source": [
    "#--------An adjusted version of the win probability that takes in the p value----------\n",
    "def adjusted_probability_win(x,p):\n",
    "    comb=(math.factorial(x-1))/(math.factorial(4)*(math.factorial((x-1)-4)))\n",
    "    px= math.pow(p,5)\n",
    "    qx= math.pow((1-p),(x-5))\n",
    "    probability=comb*px*qx #Still just plugging in values for a negative binomial\n",
    "    return probability\n",
    "\n",
    "#Probability to win at any turn\n",
    "anyWin=adjusted_probability_win(5,0.7)+adjusted_probability_win(6,0.7)+adjusted_probability_win(7,0.7)+adjusted_probability_win(8,0.7)+adjusted_probability_win(9,0.7)\n",
    "\n",
    "#Expected payout for the given probability\n",
    "payout=9550*anyWin\n",
    "print(\"The expected payout is {}\".format(payout))"
   ]
  },
  {
   "cell_type": "markdown",
   "metadata": {},
   "source": [
    "**Part D**: This year the Jedi Knight Lightsaber-on-Lightsaber Association (the JKLOL Assoc) is implementing an experimental rule: Since Tony is rumored to be the stronger duelist, he gets to _choose_ the length of the championship tournament! Specifically, he can choose the series to be any odd length, from $N=3, 5, 7 \\dots, 99$ duels long. Assuming that Tony continues to use the service of Darth Ketelsen, and considering the fact that Tony has a better-than-even chance of winning each duel, explain the trade-offs between choosing a short series vs. a long series in terms of Expected Payout. "
   ]
  },
  {
   "cell_type": "markdown",
   "metadata": {},
   "source": [
    "A larger series has less change in probability but more change in how much he has to pay Darth Ketelsen, so the larger it gets, the more he loses. Smaller values, however, have little to pay, but less likelyhood of winning the tournament overall. "
   ]
  },
  {
   "cell_type": "markdown",
   "metadata": {},
   "source": [
    "**Part E**: Write a function `optimal_series` that takes in $p$, the probability that Tony wins an individual duel, then computes the Expected Payout for each series of length $N=3, 5, 7, \\ldots 99$ and returns the optimal series length.  In addition to returning the optimal series length, your function should also produce a plot of Expected Payout vs Series Length. You may write any additional helper functions that you like, but you should not change the API for the function optimal_series. "
   ]
  },
  {
   "cell_type": "code",
   "execution_count": 148,
   "metadata": {},
   "outputs": [
    {
     "name": "stdout",
     "output_type": "stream",
     "text": [
      "The optimal series is 17.0\n"
     ]
    }
   ],
   "source": [
    "#---------------Function to get the most optimal series length--------------------------\n",
    "def optimal_series(p):\n",
    "    #Holder variables to get and check for the most optimal payout\n",
    "    payout=np.zeros(49)\n",
    "    values=np.zeros(49)\n",
    "    counter=0\n",
    "    winner=0\n",
    "    seriesNumber=0\n",
    "    \n",
    "    #For loop to check each odd number of matches for their payout\n",
    "    for i in range(3,99,2):\n",
    "        #Holders for the values following the payout's counter and the total probability\n",
    "        summ=0\n",
    "        values[counter]=i\n",
    "        \n",
    "        #Win condition number calculation\n",
    "        numToWin=(i/2)+0.5\n",
    "        numToWin=int(numToWin)\n",
    "        \n",
    "        #For loop for total probability following negative binomial equation\n",
    "        for ii in range(numToWin,i+1):\n",
    "            comb=(math.factorial(ii-1))/(math.factorial(numToWin-1)*(math.factorial((ii-1)-(numToWin-1))))\n",
    "            px= math.pow(p,numToWin)\n",
    "            qx= math.pow((1-p),(ii-numToWin))\n",
    "            probability=comb*px*qx\n",
    "            summ=summ+probability\n",
    "        \n",
    "        #Payout with the fee taken out \n",
    "        prize=10000-(90*numToWin)\n",
    "        payout[counter]=summ*prize\n",
    "        \n",
    "        #Incrementing the counter for the value anf payout arrays\n",
    "        counter=counter+1\n",
    "    \n",
    "    #For loop that checks the values for the highest payout and how many matches that is\n",
    "    for ii in range(0,49):\n",
    "        if payout[ii]>winner:\n",
    "            winner=payout[ii]\n",
    "            seriesNumber=values[ii]\n",
    "            \n",
    "    #Give the optimal series and return it\n",
    "    optimal_series_length = seriesNumber\n",
    "    return optimal_series_length\n",
    "\n",
    "print(\"The optimal series is {}\".format(optimal_series(0.7)))"
   ]
  },
  {
   "cell_type": "markdown",
   "metadata": {},
   "source": [
    "<br>\n",
    "\n",
    "---\n",
    "<a/ id='p5'></a>\n",
    "[Back to top](#top)\n",
    "### [20 points] Problem 5\n",
    "\n",
    "Cement your superior stochastic simulation skills by solving some straightforward simulation scenarios."
   ]
  },
  {
   "cell_type": "markdown",
   "metadata": {},
   "source": [
    "**Part A**: Using a stochastic simulation, compute the probability that, from a shuffled standard deck of cards, two cards are sequentially chosen which have either identical value or _adjacent_ value. You may let Aces be high or low, but not both."
   ]
  },
  {
   "cell_type": "code",
   "execution_count": 149,
   "metadata": {},
   "outputs": [
    {
     "name": "stdout",
     "output_type": "stream",
     "text": [
      "The probability of having the same or adjacent values is 0.219\n"
     ]
    }
   ],
   "source": [
    "#Values a card can have and how many runs I want to get a fair probability\n",
    "cardValues=np.array([2,3,4,5,6,7,8,9,10,11,12,13,14])\n",
    "size=10000\n",
    "\n",
    "#A function to see if two cards are close or identical (which suit does not matter)\n",
    "def card_type():\n",
    "    #random card values\n",
    "    cardOne=np.random.choice(cardValues)\n",
    "    cardTwo=np.random.choice(cardValues)\n",
    "    \n",
    "    #a subtraction to get how far away the cards are\n",
    "    cards=cardTwo-cardOne\n",
    "    \n",
    "    #Check if the two are close or identical\n",
    "    if -1<=cards<=1:\n",
    "        return 1\n",
    "    return 0\n",
    "\n",
    "#rolls each card case a certain amount of times\n",
    "result=np.zeros(size)\n",
    "for i in range(0,size):\n",
    "    result[i]=card_type()\n",
    "\n",
    "#Gets the probability from the rolls\n",
    "probability=np.sum(result==1)/len(result)\n",
    "print(\"The probability of having the same or adjacent values is {}\".format(probability))"
   ]
  },
  {
   "cell_type": "markdown",
   "metadata": {},
   "source": [
    "**Part B**: Using a stochastic simulation, compute the probability that, from a shuffled standard deck of cards, three cards are sequentially chosen which form a run, e.g. 4-5-6 or 9-10-J. (The cards do not need to be drawn in order, like 4,5,6... any order is fine, like 6,4,5.) You may let Aces be high or low, but not both."
   ]
  },
  {
   "cell_type": "code",
   "execution_count": 150,
   "metadata": {},
   "outputs": [
    {
     "name": "stdout",
     "output_type": "stream",
     "text": [
      "The probability of a run is 0.0311\n"
     ]
    }
   ],
   "source": [
    "#Values a card can have and how many runs I want to get a fair probability\n",
    "cardValues=np.array([2,3,4,5,6,7,8,9,10,11,12,13,14])\n",
    "size=10000\n",
    "\n",
    "#A function to see if the values create a run\n",
    "def card_run():\n",
    "    #Holder variables to check values\n",
    "    isRun=0\n",
    "    summation=0\n",
    "    \n",
    "    #Card randomizers\n",
    "    cardOne=np.random.choice(cardValues)\n",
    "    cardTwo=np.random.choice(cardValues)\n",
    "    cardThree=np.random.choice(cardValues)\n",
    "    \n",
    "    #Holder variables for the difference between variables\n",
    "    subOT=cardOne-cardTwo\n",
    "    subTT=cardTwo-cardThree\n",
    "    subTO=cardThree-cardOne\n",
    "    \n",
    "    #It cannot be a run if two values are the same\n",
    "    if subOT==0 | subTT==0 | subTO==0:\n",
    "        return 0\n",
    "    \n",
    "    #Checks if values are adjecent for all possibilities\n",
    "    if -1<=subOT | subOT<=1:\n",
    "        summation=summation+1\n",
    "    if -1<=subTT | subTT<=1:\n",
    "        summation=summation+1\n",
    "    if -1<=subTO | subTO<=1:\n",
    "        summation=summation+1\n",
    "    \n",
    "    #Sees if it is a run. If two duos of cards are adjecent, then there is one value shared between groups and creates a run\n",
    "    if summation==2:\n",
    "        isRun=1\n",
    "    return isRun\n",
    "\n",
    "#rolls each card case a certain amount of times\n",
    "results=np.zeros(size)\n",
    "for i in range (0,size):\n",
    "    results[i]=card_run()\n",
    "    \n",
    "#Gets the probability from the rolls\n",
    "probability=np.sum(results==1)/len(result)\n",
    "print(\"The probability of a run is {}\".format(probability))"
   ]
  },
  {
   "cell_type": "markdown",
   "metadata": {},
   "source": [
    "**Part C**: When flipping over cards, sequentially, from a randomly shuffled deck, what is the probability that the third Ace will be revealed between flips 16 and 24, inclusively?"
   ]
  },
  {
   "cell_type": "code",
   "execution_count": 151,
   "metadata": {},
   "outputs": [
    {
     "name": "stdout",
     "output_type": "stream",
     "text": [
      "The probability of the 3rd ace being within the range of picks 16 and 24 is 0.0002\n"
     ]
    }
   ],
   "source": [
    "#Values a card can have and how many runs I want to get a fair probability\n",
    "cardValues=np.zeros(52) #(Ace is 1)\n",
    "for i in range (0,52):\n",
    "    cardValues[i]=i+1\n",
    "size=100000\n",
    "\n",
    "#Source for shuffling without repeat: https://stackoverflow.com/questions/8505651/non-repetitive-random-number-in-numpy\n",
    "#as there is enough numbers need here for this to actually matter if there is a possibility of 666666 instead of following suits\n",
    "\n",
    "#A function to check the ace values for the third being between 16 and 24\n",
    "def ace_checker():\n",
    "    aceSum=0\n",
    "    cards=np.random.choice(cardValues, size=52, replace=False)\n",
    "    for i in range(0,24):\n",
    "        card=cards[i]\n",
    "        if card%13==1:\n",
    "            aceSum=aceSum+1\n",
    "        if aceSum==3 & i<16:\n",
    "            return 0\n",
    "        if aceSum==3:\n",
    "            return 1\n",
    "    return 0\n",
    "\n",
    "#rolls each card case a certain amount of times\n",
    "results=np.zeros(size)\n",
    "for i in range (0,size):\n",
    "    results[i]=ace_checker()\n",
    "    \n",
    "#Gets the probability from the rolls\n",
    "probability=np.sum(results==1)/len(results)\n",
    "print(\"The probability of the 3rd ace being within the range of picks 16 and 24 is {}\".format(probability))"
   ]
  },
  {
   "cell_type": "markdown",
   "metadata": {},
   "source": [
    "**Part D**: Using a stochastic simulation, determine the probability mass function for: the probability that the first card drawn is an $X$, given that the card was part of a 3-card sequence (as in Part B). Express your PMF as a bar graph. Explain why it has the shape that it has."
   ]
  },
  {
   "cell_type": "code",
   "execution_count": 156,
   "metadata": {},
   "outputs": [
    {
     "data": {
      "image/png": "[encoded data removed]",
      "text/plain": [
       "<Figure size 864x576 with 1 Axes>"
      ]
     },
     "metadata": {
      "needs_background": "light"
     },
     "output_type": "display_data"
    }
   ],
   "source": [
    "#Values a card can have and how many runs I want to get a fair probability\n",
    "cardValues=np.array([2,3,4,5,6,7,8,9,10,11,12,13,14])\n",
    "size=10000\n",
    "\n",
    "#A function to see if the values create a run\n",
    "def card_run():\n",
    "    #Holder variables to check values\n",
    "    isRun=0\n",
    "    summation=0\n",
    "    \n",
    "    #Card randomizers\n",
    "    cardOne=np.random.choice(cardValues)\n",
    "    cardTwo=np.random.choice(cardValues)\n",
    "    cardThree=np.random.choice(cardValues)\n",
    "    \n",
    "    #Holder variables for the difference between variables\n",
    "    subOT=cardOne-cardTwo\n",
    "    subTT=cardTwo-cardThree\n",
    "    subTO=cardThree-cardOne\n",
    "    \n",
    "    #It cannot be a run if two values are the same\n",
    "    if subOT==0 | subTT==0 | subTO==0:\n",
    "        return 0\n",
    "    \n",
    "    #Checks if values are adjecent for all possibilities\n",
    "    if -1<=subOT | subOT<=1:\n",
    "        summation=summation+1\n",
    "    if -1<=subTT | subTT<=1:\n",
    "        summation=summation+1\n",
    "    if -1<=subTO | subTO<=1:\n",
    "        summation=summation+1\n",
    "    \n",
    "    #Sees if it is a run. If two duos of cards are adjecent, then there is one value shared between groups and creates a run\n",
    "    if summation==2:\n",
    "        isRun=cardOne\n",
    "    return isRun\n",
    "\n",
    "#rolls each card case a certain amount of times\n",
    "results=np.zeros(size)\n",
    "for i in range (0,size):\n",
    "    results[i]=card_run()\n",
    "resultRun=results[results>0]\n",
    "    \n",
    "fig, axes = plt.subplots(figsize=(12,8))\n",
    "plt.hist(resultRun,density=True,bins=[2,3,4,5,6,7,8,9,10,11,12,13,14,15],facecolor=\"purple\", edgecolor=\"white\")\n",
    "axes.set_title(\"Probabilities that the first card of a run is X\", fontsize=24)\n",
    "axes.set_xlabel(\"X value\", fontsize=20)\n",
    "axes.set_ylabel(\"Probability\", fontsize=20)\n",
    "axes.grid(alpha=0.25)"
   ]
  },
  {
   "cell_type": "markdown",
   "metadata": {
    "collapsed": true
   },
   "source": [
    "The values occur like this because of the stipulation \"The cards do not need to be drawn in order, like 4,5,6... any order is fine, like 6,4,5\" given in part B. Both 14 and 2 can only occur as the first card when they are the largest card or the smallest card of each run respectively. 3 and 13 are less likely than others as well because, for the case of 3, can only be the bottom card or the middle card, but never the largest because there is not a 1 (vice versa for 13 and the smallest because there is not a 15th value). All other cards can occur as the first if they are the smallest, middle, or largest in the run because the order does not matter. Otherwise, it they could all occur only when they are the smallest and would be following their likelyhood of being a run (except 13 and 14 (king and ace), which would never happen because they cannot be the smallest)."
   ]
  }
 ],
 "metadata": {
  "kernelspec": {
   "display_name": "Python 3",
   "language": "python",
   "name": "python3"
  },
  "language_info": {
   "codemirror_mode": {
    "name": "ipython",
    "version": 3
   },
   "file_extension": ".py",
   "mimetype": "text/x-python",
   "name": "python",
   "nbconvert_exporter": "python",
   "pygments_lexer": "ipython3",
   "version": "3.7.3"
  }
 },
 "nbformat": 4,
 "nbformat_minor": 2
}
