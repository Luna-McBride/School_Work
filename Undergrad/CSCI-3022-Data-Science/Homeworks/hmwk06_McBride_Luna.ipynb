{
 "cells": [
  {
   "cell_type": "markdown",
   "metadata": {},
   "source": [
    "<a id='top'></a>\n",
    "\n",
    "# Homework 6: Bootstrapping, Hypothesis Testing\n",
    "***\n",
    "\n",
    "**Name**: Luna McBride\n",
    "\n",
    "***\n",
    "\n",
    "This assignment is due on Moodle by **5 PM on Friday July 19**. Your solutions to theoretical questions should be done in Markdown/MathJax directly below the associated question.  Your solutions to computational questions should include any specified Python code and results as well as written commentary on your conclusions.  Remember that you are encouraged to discuss the problems with your instructors and classmates, but **you must write all code and solutions on your own**. \n",
    "\n",
    "**NOTES**: \n",
    "\n",
    "- Do **NOT** load or use any Python packages that are not available in Anaconda 3.6. \n",
    "- Some problems with code may be autograded.  If we provide a function API **do not** change it.  If we do not provide a function API then you're free to structure your code however you like. \n",
    "- Because you can technically evaluate notebook cells is a non-linear order, it's a good idea to do Cell $\\rightarrow$ Run All as a check before submitting your solutions.  That way if we need to run your code you will know that it will work as expected. \n",
    "- Submit only this Jupyter notebook to Moodle.  Do not compress it using tar, rar, zip, etc. \n",
    "- This should go without saying, but... For any question that asks you to calculate something, you **must show all work to receive credit**. Sparse or nonexistent work will receive sparse or nonexistent credit.\n",
    "\n",
    "---\n",
    "**Shortcuts:**  [Problem 1](#p1) | [Problem 2](#p2) | [Problem 3](#p3) \n",
    "\n",
    "---"
   ]
  },
  {
   "cell_type": "code",
   "execution_count": 52,
   "metadata": {
    "scrolled": true
   },
   "outputs": [],
   "source": [
    "import numpy as np\n",
    "import matplotlib.pyplot as plt\n",
    "import pandas as pd\n",
    "from scipy import stats \n",
    "%matplotlib inline"
   ]
  },
  {
   "cell_type": "markdown",
   "metadata": {},
   "source": [
    "---\n",
    "[Back to top](#top)\n",
    "<a id='p1'></a>\n",
    "\n",
    "### [20 points] Problem 1 - Hypothesis Testing: Find-the-Knowledge-Bug \n",
    "\n",
    "As part of your job as a seasoned data science consultant, companies often bring you in to supervise their less-experienced data science teams before new product roll-outs.  One one such occasion, you are hired by a medium-sized internet-sales company that is preparing to release a new line of smart-home products.  Prior to their product release the company wants to do a targeted ad campaign to drive traffic to their site on launch day. \n",
    "\n",
    "You are asked to pair-up and do some inference work with a new employee named Ketelbells McKnowsNoStats. At various points in your day you catch Ketelbells making the following mistakes.  In each case, clearly explain to Ketelbells why his testing setup or conclusion is incorrect. "
   ]
  },
  {
   "cell_type": "markdown",
   "metadata": {},
   "source": [
    "**Part A**: Ketelbells has pulled up some data on the characteristics of customers that visited the company's website over the previous month.  He wants to perform an analysis on the mean age of customers that visit the site.  Let $X$ be the random variable describing the age of a site visitor and suppose that the population mean for $X$ is $\\mu$. In particular, Ketelbells wants to see if the data suggests that the mean age of their customers is under 30 years old.   He decides to perform the test with a null hypothesis of $H_0: \\mu < 30$. "
   ]
  },
  {
   "cell_type": "markdown",
   "metadata": {},
   "source": [
    "With a null hypothesis, you are always supposed to have your equation with an equal sign, as that is common practice. The $\\mu$<30 is also what you want to test and not the base assumption, so that would fit better as your alternative hypothesis $H_1$. Your base assumption should be the mean equals the value you wish to test against, so just about $\\mu$=30."
   ]
  },
  {
   "cell_type": "markdown",
   "metadata": {},
   "source": [
    "**Part B**: After the wonderful explanation you gave him after the previous debacle, Ketelbells has seen the error in his ways and decides instead to do his hypothesis test with a null hypothesis of $H_0: \\bar{x} = 30$.  "
   ]
  },
  {
   "cell_type": "markdown",
   "metadata": {},
   "source": [
    "I see where this is coming from, but the sample mean $\\bar{x}$ should be replaced with the population mean $\\mu$. Since you are trying to give an estimate of the population's age and not just the sample's, you should use the $\\mu$ character. The mean is estimated at n$\\geq$30 anyway, but having the notation is important."
   ]
  },
  {
   "cell_type": "markdown",
   "metadata": {},
   "source": [
    "**Part C**: Finally on track with reasonable hypotheses of $H_0: \\mu = 30$ and $H_1: \\mu < 30$, Ketelbells computes a p-value of $0.03$, and thus concludes that there is only a 3% probability that the null hypothesis is true. "
   ]
  },
  {
   "cell_type": "markdown",
   "metadata": {},
   "source": [
    "The p value is not the probability the null is true. The p is the area under the normal curve where we would say the results are unbelievable. If it is less than the significance level, then the alternative is not really that crazy. If it is more, then it would be absurd to accept the alternative is true under the significance we had given it."
   ]
  },
  {
   "cell_type": "markdown",
   "metadata": {},
   "source": [
    "**Part D**: This time, with the hypotheses again $H_0: \\mu = 30$ and $H_1: \\mu < 30$, Ketelbells computes a normalized test-statistic of $z = -0.04$ for the mean age and concludes that since $z = -0.04 < 0.05$ there is sufficient statistical evidence at the $\\alpha = 0.05$ significance level that the mean age of their customers is less than 30.  "
   ]
  },
  {
   "cell_type": "markdown",
   "metadata": {},
   "source": [
    "You cannot compare a z value directly to the significance, as the values listed are not within the same terms. There are two routes you could take when trying to compare that would be valid, though. One is to convert the value to a p-value, essentially a value in terms of the significance. The other is to bring the significance level in terms of the normal curve, which is putting both in terms of z. Testing from there would be the P-test or Z-test respectively."
   ]
  },
  {
   "cell_type": "markdown",
   "metadata": {},
   "source": [
    "---\n",
    "[Back to top](#top)\n",
    "<a id='p2'></a>\n",
    "\n",
    "### [20 points] Problem 2  - Hypothesis Testing Whether your Co-worker is a Doofus \n",
    "\n",
    "You are working as a Data Scientist for an internet-based hedgehog deliver company. Your co-worker, Daley Jennanigans, is a lovable scamp! Unfortunately, Daley also makes a lot of mistakes throughout the day as the two of you team up to tackle some inference work regarding your company's hedgehog-loving customers. In each case, clearly explain why Daley's hypothesis testing setup or conclusion is incorrect."
   ]
  },
  {
   "cell_type": "markdown",
   "metadata": {
    "collapsed": true
   },
   "source": [
    "**Part A**: Daley has some data on the characteristics of customers that visited the company's website over the previous month.  He wants to perform an analysis on the proportion of last month's website visitors that bought a hedgehog. Let $X$ be the random variable describing the number of website visitors who bought a hedgehog in the previous month, and suppose that the population proportion of visitors who bought a hedgehog is $p$. Daley is interested to see if the data suggests that more than 20% of website visitors actually buy a hedgehog.  He decides to perform the test with a null hypothesis of $H_0: \\hat{p} = 0.20$. "
   ]
  },
  {
   "cell_type": "markdown",
   "metadata": {
    "collapsed": true
   },
   "source": [
    "You know, the structure is good overall, but the problem is that $\\hat{p}$. The hat is there to signify we are looking for this value on the sample instead of trying to apply it to the overall population. Using p in place of $\\hat{p}$ would work just fine."
   ]
  },
  {
   "cell_type": "markdown",
   "metadata": {},
   "source": [
    "**Part B**: Daley decides instead to do his hypothesis test with a null hypothesis of $H_0: p < 0.20$.  "
   ]
  },
  {
   "cell_type": "markdown",
   "metadata": {},
   "source": [
    "The null hypothesis follows the structure n=#, emphasizing the equals sign. I can see the logic in saying that p is less than 0.2 as the opposite for p>0.2, however, that goes against common practices for a critical value."
   ]
  },
  {
   "cell_type": "markdown",
   "metadata": {
    "collapsed": true
   },
   "source": [
    "**Part C**: Now Daley is finally on track with reasonable hypotheses of $H_0: p = 0.20$ and $H_1: p > 0.20$. Daley computes for the sample proportion a normalized test-statistic of $z = 2.4$ and states that since $z = 2.4 > 0.01$ there is insufficient statistical evidence at the $\\alpha = 0.01$ significance level to conclude that the proportion of customers who buy a hedgehog is greater than 20%."
   ]
  },
  {
   "cell_type": "markdown",
   "metadata": {},
   "source": [
    "You cannot just use the z to compare against the significance level. There are two things you can do in this situation to fix this: convert the Z to a P value or convert the significance level in terms of z (P-Test or Z-test respectively). That way, you can ultimately have the values in similar terms to more accurately tell whether your conclusion is viable"
   ]
  },
  {
   "cell_type": "markdown",
   "metadata": {},
   "source": [
    "**Part D**: Daley is again conducting the hypothesis test of $H_0: p = 0.20$ and $H_1: p > 0.20$, and found the test-statistic $z=2.4$. Daley computes his p-value as:\n",
    "$$\\text{p-value} = \\texttt{stats.norm.cdf(2.4)} = 0.9918$$\n",
    "\n",
    "Since his p-value (0.9918) is greater than the significance level (0.01), Daley again claims that there is insufficient evidence at the 1% significance level to conclude that the proportion of customers who buy a hedgehog is greater than 20%."
   ]
  },
  {
   "cell_type": "markdown",
   "metadata": {},
   "source": [
    "Nice thought, but the cdf calculates the area from -$\\infty$ to z. If you want the actual p value (for the amount greater than that of the null hypothesis), you need the amount on the opposite side of that point, or 1-stats.norm.cdf(2.4). This gives a value of 0.0082. 0.0082 $\\leq$ 0.01, so you can sufficiently say it is fair to reject the null hypothesis and accept the alternate, being that more than 20% of customers bought a hedgehog."
   ]
  },
  {
   "cell_type": "code",
   "execution_count": 53,
   "metadata": {},
   "outputs": [
    {
     "name": "stdout",
     "output_type": "stream",
     "text": [
      "0.9918024640754038\n",
      "0.008197535924596155\n"
     ]
    }
   ],
   "source": [
    "a=stats.norm.cdf(2.4)\n",
    "\n",
    "print(a)\n",
    "print(1-a)"
   ]
  },
  {
   "cell_type": "markdown",
   "metadata": {},
   "source": [
    "**Part E**: Daley is again conducting the hypothesis test of $H_0: p = 0.20$ and $H_1: p > 0.20$. Suppose he computes a p-value of $0.03$, and then concludes that there is only a 3% probability that the null hypothesis is true. "
   ]
  },
  {
   "cell_type": "markdown",
   "metadata": {
    "collapsed": true
   },
   "source": [
    "This is not a fair assumption to make. The p-value here is the amount of space under the normal curve where we can say the results are too crazy."
   ]
  },
  {
   "cell_type": "markdown",
   "metadata": {},
   "source": [
    "---\n",
    "[Back to top](#top)\n",
    "<a id='p3'></a>\n",
    "\n",
    "### [20 points] Problem 3 - Naps vs Coffee for Memory? \n",
    "\n",
    "It is estimated that [about 75% of adults](https://www.ncbi.nlm.nih.gov/pmc/articles/PMC4997286/) in the United States drink coffee. Often, coffee is used to replace the need for sleep. It works alright, or so we think. Let's find out, in this exciting homework problem!\n",
    "\n",
    "[One recent study](https://www.sciencedirect.com/science/article/pii/S1388245703002554) investigated the effects of drinking coffee, taking a nap, and having a [\"coffee-nap\"](https://lifehacker.com/naps-vs-coffee-which-is-better-when-youre-exhausted-1730643671) - the practice of drinking some coffee *and then* having a short nap. The study broke participants up into three groups of 10 participants each, where the groups would have a nap, or have a coffee, or have a coffee-nap, then perform a task where their reaction time was measured. In previous experiments the mean reaction time measurement was found to be normally distributed. The reaction time means (milliseconds, ms) and standard deviations for the three groups of participants are given in the table below.\n",
    "\n",
    "$$\n",
    "\\begin{array}{c|c|c|c}\n",
    "\\textrm{Group} & \\textrm{Sample Size} & \\textrm{Mean} & \\textrm{Standard Deviation} \\\\\n",
    "\\hline \n",
    "\\textrm{Coffee+Nap} & 10 & 451.3 & 31.9 \\\\ \n",
    "\\textrm{Coffee} & 10 & 494.2 & 39.6 \\\\ \n",
    "\\textrm{Nap} & 10 & 492.8 & 45.2 \\\\ \n",
    "\\end{array}\n",
    "$$\n",
    "\n",
    "**Part A**: Compute 95% t-confidence intervals for the mean reaction time measurement for participants in each of these three groups. (You should find three separate confidence intervals.) Do all computations in Python by hand, and report the results.\n",
    "\n",
    "1. Can you make any conclusions regarding whether coffee, naps or both (coffee-naps) are better for faster reaction times?\n",
    "2. Why did we use a t-distribution?"
   ]
  },
  {
   "cell_type": "markdown",
   "metadata": {},
   "source": [
    "1) Looking at the intervals, it could be fair to say that the coffee+nap people are faster than either just coffee or just naps as the upper bound just barelly reaches into the lower ends of the other, however, as the other ones are so similar in value, more math would need to be done to say with more certainty.\n",
    "\n",
    "2) We use T-distribution because we know the sample size is small, but the $\\sigma$ is not known (small sample+unknown $\\sigma$ being the only case when the T-distribution is typically used). Instead we know the Standard deviation to go in the equation"
   ]
  },
  {
   "cell_type": "code",
   "execution_count": 54,
   "metadata": {},
   "outputs": [
    {
     "name": "stdout",
     "output_type": "stream",
     "text": [
      "The interval for Coffee+Naps is [428.48011470011295,474.1198852998871]\n",
      "The interval for Coffee is [465.8718665242781,522.5281334757218]\n",
      "The interval for Naps is [460.46586785094377,525.1341321490563]\n"
     ]
    }
   ],
   "source": [
    "tInt=stats.t.ppf(0.975,9) #T interval for 95% interval and v=9 (as sample=10)\n",
    "n=10**0.5 #square root of n for the interval equation\n",
    "\n",
    "#Arrays for the values given in the equation, as well as a labels field to line up the values with the right label\n",
    "means=np.array([451.3,494.2,492.8])\n",
    "deviation=np.array([31.9,39.6,45.2])\n",
    "labels=np.array([\"Coffee+Naps\",\"Coffee\",\"Naps\"])\n",
    "\n",
    "#A for loop to calculate the intervals for each label\n",
    "for i in range(0,3):\n",
    "    plusMinus=tInt*(deviation[i]/n) #The items directly effected by whether the plusminus is adding or subtracting\n",
    "    up=means[i]+plusMinus #Upperbound by adding the value effected by the plusminus sign\n",
    "    low=means[i]-plusMinus #Lowerbound by subtracting the value\n",
    "    \n",
    "    print(\"The interval for {} is [{},{}]\".format(labels[i],low,up)) #Prints the interval for the given label"
   ]
  },
  {
   "cell_type": "markdown",
   "metadata": {},
   "source": [
    "**Part B**: Use an appropriate hypothesis test to determine if there sufficient evidence, at the $\\alpha = 0.05$ significance level, to conclude that taking a nap promotes faster reaction time than drinking coffee.  Be sure to clearly explain the test that you're doing and state all hypotheses. Do all computations in Python, and report results."
   ]
  },
  {
   "cell_type": "markdown",
   "metadata": {},
   "source": [
    "$H_0: \\mu_c-\\mu_n=0$ #c for coffee, n for nap\n",
    "\n",
    "$H_1: \\mu_c-\\mu_n>0$ #faster reaction time means a smaller number, so subtracting the the supposedly smaller one should give a result above 0\n",
    "\n",
    "$t= \\frac{(\\bar{x}_c-\\bar{x}_n)-c}{\\sqrt{\\frac{S_c^2}{n_c}+\\frac{S_n^2}{n_n}}}$\n",
    "\n",
    "$t= \\frac{494.2-492.8}{\\sqrt{\\frac{39.6^2}{10}+\\frac{45.2^2}{10}}}$\n",
    "\n",
    "t=0.0737\n",
    "\n",
    "P-test used\n",
    "\n",
    "P(T$\\leq$ t|$H_0$:True)$\\leq a$\n",
    "\n",
    "0.4714 $\\leq$ 0.05?\n",
    "\n",
    "No. Fail to reject null hypothesis. Therefore, there is not sufficient evidence to say naps promote a faster reaction time than drinking coffee."
   ]
  },
  {
   "cell_type": "code",
   "execution_count": 55,
   "metadata": {},
   "outputs": [
    {
     "name": "stdout",
     "output_type": "stream",
     "text": [
      "t=0.07367196689546883\n",
      "p value=0.4714414070696207\n"
     ]
    }
   ],
   "source": [
    "num=494.2-492.8 #Numerator listed above\n",
    "sigCoffee=(39.6**2)/10 #The sigma for the coffee's Standard Deviation and n (SD taking the place of sigma for math)\n",
    "sigNap=(45.2**2)/10 #The sigma for the nap's Standard Deviation and n\n",
    "denom=(sigNap+sigCoffee)**0.5 #The overall denominator as both values are added then square-rooted\n",
    "t=num/denom #Simple division of the numerator and denominator\n",
    "print(\"t={}\".format(t))\n",
    "\n",
    "ta=stats.t.cdf(t,9) #P value (represented once taking 1-this value) to test the significance\n",
    "print(\"p value={}\".format(1-ta))"
   ]
  },
  {
   "cell_type": "markdown",
   "metadata": {},
   "source": [
    "**Part C**: Use an appropriate hypothesis test to determine if there is sufficient evidence, at the $\\alpha = 0.05$ significance level, to conclude that taking a coffee-nap promotes faster reaction time than only drinking coffee, or only having a nap.  Be sure to clearly explain the test that you're doing and state all hypotheses. Do all computations in Python, and report results."
   ]
  },
  {
   "cell_type": "markdown",
   "metadata": {},
   "source": [
    "Two separate claims requires two different hypothesis tests\n",
    "\n",
    "---\n",
    "\n",
    "$H_0: \\mu_c-\\mu_{cn}=0$ #c=coffee, cn=coffee+nap\n",
    "\n",
    "$H_1: \\mu_c-\\mu_{cn}>0$ #Faster reaction time of cn would make cn the smaller value, making c the larger value\n",
    "\n",
    "$t= \\frac{(\\bar{x}_c-\\bar{x}_{cn})-c}{\\sqrt{\\frac{S_c^2}{n_c}+\\frac{S_{cn}^2}{n_{cn}}}}$\n",
    "\n",
    "$t= \\frac{494.2-451.3}{\\sqrt{\\frac{39.6^2}{10}+\\frac{31.9^2}{10}}}$\n",
    "\n",
    "t=2.6679\n",
    "\n",
    "P Test used\n",
    "\n",
    "P(T$\\leq$ t|$H_0$:True)$\\leq a$\n",
    "\n",
    "0.0129$\\leq$0.05?\n",
    "\n",
    "Yes, so reject the null hypothesis. Therefore, there is significant enough evidence to say people who both drank coffee and took a nap had a faster reaction time than those who just drank coffee\n",
    "\n",
    "---\n",
    "\n",
    "$H_0: \\mu_n-\\mu_{cn}=0$ #n=naps, cn=coffee+nap\n",
    "\n",
    "$H_1: \\mu_n-\\mu_{cn}>0$ #Faster reaction time of cn would make cn the smaller value, making n the larger value\n",
    "\n",
    "$t= \\frac{(\\bar{x}_n-\\bar{x}_{cn})-c}{\\sqrt{\\frac{S_n^2}{n_n}+\\frac{S_{cn}^2}{n_{cn}}}}$\n",
    "\n",
    "$t= \\frac{492.8-451.3}{\\sqrt{\\frac{39.6^2}{10}+\\frac{45.2^2}{10}}}$\n",
    "\n",
    "t=2.3721\n",
    "\n",
    "P Test used\n",
    "\n",
    "P(T$\\leq$ t|$H_0$:True)$\\leq a$\n",
    "\n",
    "0.0209$\\leq$0.05?\n",
    "\n",
    "Yes, so reject the null hypothesis. Therefore, there is significant enough evidence to say people who drink coffee and nap had a faster reaction time mean overall than those who just napped"
   ]
  },
  {
   "cell_type": "code",
   "execution_count": 56,
   "metadata": {},
   "outputs": [
    {
     "name": "stdout",
     "output_type": "stream",
     "text": [
      "t (for coffee)=2.6678557635847664\n",
      "The p value for coffee=0.012856320552473877\n",
      "t (for naps)=2.37214516432695\n",
      "The p value for coffee=0.020880943155854093\n"
     ]
    }
   ],
   "source": [
    "#------------------Calculations-For-Coffee------------------\n",
    "numCoffee=494.2-451.3 #Coffee mean - Coffee+Nap mean for the numerator\n",
    "sigCoffee=(39.6**2)/10 #Calculation for the sigma for coffee (sd^2/n)\n",
    "sigNapCoffee=(31.9**2)/10 #Calculation for the sigma for coffee+naps\n",
    "denomCoffee=(sigCoffee+sigNapCoffee)**0.5 #Denominator in the equation, being the square root of the sum of the sigmas\n",
    "tCoffee=numCoffee/denomCoffee #Numerator over denominator, giving the t value\n",
    "print(\"t (for coffee)={}\".format(tCoffee))\n",
    "\n",
    "tpCoffee=stats.t.cdf(tCoffee,9) #P value to be received from 1-tpCoffee\n",
    "print(\"The p value for coffee={}\".format(1-tpCoffee))\n",
    "\n",
    "#----------------Calculations-For-Naps----------------------\n",
    "numNap=492.8-451.3 #Numerator calculation using naps vs coffee+naps\n",
    "sigNap=(45.2**2)/10 #Calculation of the sigma for naps\n",
    "denomNap=(sigNap+sigNapCoffee)**0.5 #Denominator taking the coffee+naps sigma from before but applying the naps sigma\n",
    "tNap=numNap/denomNap #Simple fraction numerator over denominator division\n",
    "print(\"t (for naps)={}\".format(tNap))\n",
    "\n",
    "tpNap=stats.t.cdf(tNap,9) #P value to be received by 1-tpNap\n",
    "print(\"The p value for coffee={}\".format(1-tpNap))"
   ]
  },
  {
   "cell_type": "markdown",
   "metadata": {},
   "source": [
    "**Part D**: Compute a 95% confidence interval for the standard deviation of reaction time for coffee-nap takers. Do all computations in Python, and report the results."
   ]
  },
  {
   "cell_type": "markdown",
   "metadata": {},
   "source": [
    "$\\sqrt{\\frac{(n-1) s^2}{\\chi_{1-\\frac{\\alpha}{2},n-1}^{2}}}<\\sigma<\\sqrt{\\frac{(n-1) s^2}{\\chi_{\\frac{\\alpha}{2},n-1}^{2}}}$\n",
    "\n",
    "---\n",
    "\n",
    "For upper bound:\n",
    "\n",
    "$\\sqrt{\\frac{(n-1) s^2}{\\chi_{\\frac{\\alpha}{2},n-1}^{2}}}$\n",
    "\n",
    "$\\sqrt{\\frac{9 * (31.9)^2}{\\chi_{\\frac{0.05}{2},9}^{2}}}$\n",
    "\n",
    "$\\sqrt{\\frac{9 * (31.9)^2}{19.0228}$\n",
    "\n",
    "---\n",
    "\n",
    "For lower bound:\n",
    "\n",
    "$\\sqrt{\\frac{(n-1) s^2}{\\chi_{1-\\frac{\\alpha}{2},n-1}^{2}}}$\n",
    "\n",
    "$\\sqrt{\\frac{9 * (31.9)^2}{\\chi_{1-\\frac{0.05}{2},9}^{2}}}$\n",
    "\n",
    "$\\sqrt{\\frac{9 * (31.9)^2}{2.7004}$"
   ]
  },
  {
   "cell_type": "code",
   "execution_count": 57,
   "metadata": {},
   "outputs": [
    {
     "name": "stdout",
     "output_type": "stream",
     "text": [
      "The chi value for the low end is 19.02276779864163\n",
      "The chi value for the high end is 2.7003894999803584\n",
      "The interval for the standard deviation is [21.94194309529309,58.236964822374404]\n"
     ]
    }
   ],
   "source": [
    "#Chi^2 distribution for each tail, putting the larger denominator as the smaller interval\n",
    "cHigh=stats.chi2.ppf(0.025,9)\n",
    "cLow=stats.chi2.ppf(1-0.025,9)\n",
    "\n",
    "nMinus=9 #n-1, n taken from the table\n",
    "s=31.9 #The s value (deviation) given by the table\n",
    "\n",
    "#Print statements to show the chi^2 values\n",
    "print(\"The chi value for the low end is {}\".format(cLow))\n",
    "print(\"The chi value for the high end is {}\".format(cHigh))\n",
    "\n",
    "numerator=(nMinus*(s**2)) #The numerator both have, so it is just labeled numerator\n",
    "\n",
    "lowerDev=numerator/cLow #Numerator/the chi^2 for the lower interval\n",
    "lowerInt=lowerDev**0.5 #Square rooting the value to have deviation rather than variance\n",
    "\n",
    "upperDev=numerator/cHigh #Numerator/the chi^2 for the upper interval\n",
    "upperInt=upperDev**0.5 #Square rooting the value to have deviation rather than variance\n",
    "\n",
    "print(\"The interval for the standard deviation is [{},{}]\".format(lowerInt,upperInt))"
   ]
  },
  {
   "cell_type": "markdown",
   "metadata": {},
   "source": [
    "The interval for the standard deviation is [21.9419,58.2370], which puts a higher value to the upper interval in comparison to the distance between the s and the lower end. This is most likely following the weird distribution that is the $\\chi^2$ and its bigger desparity between either tail, however, since deviation is not normal, such gap is to be expected."
   ]
  }
 ],
 "metadata": {
  "kernelspec": {
   "display_name": "Python 3",
   "language": "python",
   "name": "python3"
  },
  "language_info": {
   "codemirror_mode": {
    "name": "ipython",
    "version": 3
   },
   "file_extension": ".py",
   "mimetype": "text/x-python",
   "name": "python",
   "nbconvert_exporter": "python",
   "pygments_lexer": "ipython3",
   "version": "3.7.3"
  }
 },
 "nbformat": 4,
 "nbformat_minor": 2
}
