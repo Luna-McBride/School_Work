{
 "cells": [
  {
   "cell_type": "markdown",
   "metadata": {},
   "source": [
    "<a id='top'></a>\n",
    "\n",
    "# Homework 5: Confidence intervals and other things\n",
    "***\n",
    "\n",
    "**Name**: Luna McBride\n",
    "\n",
    "***\n",
    "\n",
    "This assignment is due on Moodle by **5 PM on Thursday July 11**. Your solutions to theoretical questions should be done in Markdown/MathJax directly below the associated question.  Your solutions to computational questions should include any specified Python code and results as well as written commentary on your conclusions.  Remember that you are encouraged to discuss the problems with your instructors and classmates, but **you must write all code and solutions on your own**.  \n",
    "\n",
    "**NOTES**: \n",
    "\n",
    "- Do **NOT** load or use any Python packages that are not available in Anaconda 3.6. \n",
    "- Some problems with code may be autograded.  If we provide a function API **do not** change it.  If we do not provide a function API then you're free to structure your code however you like. \n",
    "- Because you can technically evaluate notebook cells is a non-linear order, it's a good idea to do Cell $\\rightarrow$ Run All as a check before submitting your solutions.  That way if we need to run your code you will know that it will work as expected. \n",
    "- Submit only this Jupyter notebook to Moodle.  Do not compress it using tar, rar, zip, etc. \n",
    "- This should go without saying, but... For any question that asks you to calculate something, you **must show all work to receive credit**. Sparse or nonexistent work will receive sparse or nonexistent credit.\n",
    "\n",
    "---\n",
    "**Shortcuts:**  [Problem 1](#p1) | [Problem 2](#p2) \n",
    "\n",
    "---"
   ]
  },
  {
   "cell_type": "code",
   "execution_count": 154,
   "metadata": {
    "scrolled": true
   },
   "outputs": [],
   "source": [
    "import numpy as np\n",
    "import matplotlib.pyplot as plt\n",
    "import pandas as pd\n",
    "import scipy.stats as stats\n",
    "%matplotlib inline"
   ]
  },
  {
   "cell_type": "markdown",
   "metadata": {},
   "source": [
    "---\n",
    "<a id='p1'></a>\n",
    "[Back to top](#top)\n",
    "\n",
    "\n",
    "### [55 points] Problem 1 - Exploring Confidence Intervals \n",
    "\n",
    "The [Gumbel](https://en.wikipedia.org/wiki/Gumbel_distribution) distribution is one of several distributions frequently used to model environmental extremes (for example, extreme temperatures and sea levels).  It is also fairly asymmetric, and thus interesting for investigating confidence intervals.  It is implemented in scipy.stats as [gumbel_r](https://docs.scipy.org/doc/scipy/reference/generated/scipy.stats.gumbel_r.html), where the appendix \"\\_r\" denotes the right-skewed version of the Gumbel distribution (as opposed to the left-skewed)."
   ]
  },
  {
   "cell_type": "markdown",
   "metadata": {},
   "source": [
    "**Part A**: Complete the following code cell to plot a histogram of 100 realizations from the Gumbel distribution with parameters $\\mu=8$ and $\\beta=2$.  Be sure to leave this cell executed before turning in your assignment! Make your histogram grey with gold edges."
   ]
  },
  {
   "cell_type": "code",
   "execution_count": 155,
   "metadata": {},
   "outputs": [
    {
     "name": "stdout",
     "output_type": "stream",
     "text": [
      "The mean is: 9.377203695144233\n"
     ]
    },
    {
     "data": {
      "image/png": "[encoded data removed]",
      "text/plain": [
       "<Figure size 864x576 with 1 Axes>"
      ]
     },
     "metadata": {
      "needs_background": "light"
     },
     "output_type": "display_data"
    }
   ],
   "source": [
    "#Parameters given in the equation\n",
    "mu = 8\n",
    "beta = 2\n",
    "n_sample = 100\n",
    "\n",
    "fig,axes=plt.subplots(figsize=(12,8)) #Basic setup of the histogram\n",
    "result=stats.gumbel_r.rvs(loc=mu,scale=beta,size=n_sample) #Building the gumbel based on the stats.gumbel_r reference doc\n",
    "    \n",
    "plt.hist(result,density=True,facecolor=\"grey\", edgecolor=\"gold\") #Plot of the histogram following gumbel_r\n",
    "\n",
    "#Prettifiers and labels for the histogram\n",
    "axes.set_title(\"Gumbel Distribution\", fontsize=24)\n",
    "axes.set_xlabel(\"X\", fontsize=20)\n",
    "axes.set_ylabel(\"Y\", fontsize=20)\n",
    "axes.grid(alpha=0.25)\n",
    "\n",
    "#Empiracal mean for part B\n",
    "print(\"The mean is: {}\".format(result.mean()))"
   ]
  },
  {
   "cell_type": "markdown",
   "metadata": {},
   "source": [
    "**Part B:** Look up the analytical mean and variance of the Gumbel distribution with parameters $\\mu=8$ and $\\beta=2$ and calculate them here by hand.  Note that the Euler–Mascheroni constant can be accessed via `np.euler_gamma`. \n",
    "\n",
    "Use the empirical mean from your sample in **Part A**, and the true variance of the Gumbel distribution to compute by hand a 95% confidence interval for the mean."
   ]
  },
  {
   "cell_type": "markdown",
   "metadata": {},
   "source": [
    "source: http://mathworld.wolfram.com/GumbelDistribution.html\n",
    "\n",
    "$\\mu = \\alpha - \\gamma * \\beta$\n",
    "\n",
    "$\\gamma$=0.5772\n",
    "\n",
    "8= $\\alpha$ - 0.5772(2)\n",
    "\n",
    "8= $\\alpha$ - 1.1544\n",
    "\n",
    "$\\alpha$= 9.1544\n",
    "\n",
    "$\\mu=9.1544-0.5772\\beta$\n",
    "\n",
    "-------------------------------------------------------------\n",
    "\n",
    "$\\sigma^2 = \\frac{1}{6} * \\pi^2 * \\beta^2$\n",
    "\n",
    "$\\sigma^2 = \\frac{1}{6} * \\pi^2 * 4$\n",
    "\n",
    "$\\sigma^2 = \\frac{2}{3} * \\pi^2$\n",
    "\n",
    "$\\sigma^2 = 6.5797$\n",
    "\n",
    "$\\sigma = 2.5651$\n",
    "\n",
    "-------------------------------------------------------------\n",
    "\n",
    "$\\bar{x} \\pm z_\\frac{\\alpha}{2} * \\frac{\\sigma}{\\sqrt{n}}$\n",
    "\n",
    "Empirical mean differed depending on the run, but it came to about 9 overall (The current run has it at 9.0253, so I will use that)\n",
    "\n",
    "The number of samples was 100, so I will use that for n.\n",
    "\n",
    "From in class exercises, I remember $z_\\frac{\\alpha}{2}$ for 95% confidence is 1.96'\n",
    "\n",
    "9.0253 $\\pm$ 1.96 * $\\frac{2.5651}{\\sqrt{100}}$\n",
    "\n",
    "9.0253 $\\pm$ 1.96 * $\\frac{2.5651}{10}$\n",
    "\n",
    "9.0253 $\\pm$ 1.96 * 0.2565\n",
    "\n",
    "9.0253 $\\pm$ 0.5028\n",
    "\n",
    "[8.5225,9.5281]"
   ]
  },
  {
   "cell_type": "code",
   "execution_count": 156,
   "metadata": {},
   "outputs": [
    {
     "name": "stdout",
     "output_type": "stream",
     "text": [
      "0.5772156649015329\n",
      "1.1544313298030657\n"
     ]
    }
   ],
   "source": [
    "print(np.euler_gamma)\n",
    "print(np.euler_gamma*2)"
   ]
  },
  {
   "cell_type": "markdown",
   "metadata": {},
   "source": [
    "**Part C:  A theoretical interlude.** When Stella O'Flaherty (the famous octopus) ran her solution code for **Part B**, she obtained a 95% confidence interval of $[8.81, 9.82]$ for the mean of the $Gum(\\mu=8, \\beta=2)$ distribution. For each of the following, explain why or why not the situation described is correct, given the technical definition of a 95% confidence interval we went over in class.\n",
    "\n",
    "**(i)** If you had no other evidence regarding true mean of the $Gum(\\mu=8, \\beta=2)$ distribution, you could say there is a 95% chance that its true mean falls between 8.81 and 9.82.\n",
    "\n",
    "**(ii)** If a class of 100 students all construct 95% confidence intervals for the mean of the $Gum(\\mu=8, \\beta=2)$ distribution, then we expect about 95 of their CIs to contain the true mean, and about 5 of them to miss the true mean.\n",
    "\n",
    "**(iii)** There is a 95% probability that any given random variable sampled from $Gum(\\mu=8, \\beta=2)$ will be between 8.81 and 9.82."
   ]
  },
  {
   "cell_type": "markdown",
   "metadata": {},
   "source": [
    "(i) No, I would say it is fair to assume there is a 95% chance that this interval hit the true mean. It depends on the empirical mean she got from part A, but as a confidence interval of 95% means that 95% of intervals will contain the true mean somewhere within them, so there is a 95% chance hers has the mean. However, the mean is just a number and the interval is more talking about hitting or containing the mean rather than the mean falling into the interval.\n",
    "\n",
    "(ii) Of course it depends on the means obtained from part A (or similar), but this is a fair assumption to make. If we go back to the notebook we got when first learning this, there was an example that did the 95% interval 20 times with a graph of the intervals and true mean with one of the twenty not having the true mean, so I feel it is safe to say this scales and, as such, fits the definition.\n",
    "\n",
    "(iii) This would be incorrect. The confidence interval speaks about whether the true mean is within the a set interval. Though a mean shows an approximate middle point, the nature of means with regard to outliers really makes it so we are unable to tell how many random points is within the interval (if any)."
   ]
  },
  {
   "cell_type": "markdown",
   "metadata": {},
   "source": [
    "**Part D:** In this part you'll write a function to investigate the _coverage properties_ of a confidence interval for the mean of the Gumbel distribution. Complete the following function to randomly sample $m=500$ sample means with sample size $n=100$ for the Gumbel distribution with parameters $\\mu=8$ and $\\beta=2$.  For each random sample, compute the 66% confidence interval for the mean. Note that you actually know that the variance for the true population distribution is, $\\sigma^2$.  Your function should do two things: \n",
    "\n",
    "1. Report the proportion of confidence intervals that successfully cover the true mean of the distribution \n",
    "2. Make a plot of 50 randomly selected confidence intervals. Overlay the intervals on the line $y=\\textrm{True mean}$ (from **Part B**). Color confidence intervals black if they cover the true mean, and red if they don't.  \n",
    "\n",
    "Be sure to leave this cell executed before turning in your assignment!"
   ]
  },
  {
   "cell_type": "code",
   "execution_count": 157,
   "metadata": {
    "scrolled": true
   },
   "outputs": [
    {
     "name": "stdout",
     "output_type": "stream",
     "text": [
      "proportion covering mean: 329.000\n"
     ]
    },
    {
     "data": {
      "image/png": "[encoded data removed]",
      "text/plain": [
       "<Figure size 864x288 with 1 Axes>"
      ]
     },
     "metadata": {
      "needs_background": "light"
     },
     "output_type": "display_data"
    }
   ],
   "source": [
    "def confidence_intervals(m=500, n=100):\n",
    "    #Given variables as well as one known from part B\n",
    "    mu = 8\n",
    "    beta = 2\n",
    "    trueMean=9.1544\n",
    "    \n",
    "    confidence=stats.norm.ppf(0.83) #Confidence interval for z alpha/2\n",
    "    sigmaOverN=2.5651/(n**0.5) #The sigma over n for the interval given the previously calculated sigma\n",
    "    plusMinus=confidence*sigmaOverN #The part of the interval equation that makes the interval. now we just need xbar\n",
    "    \n",
    "    proportion_CIs_covering_mean = 0 #counter for the amount containing the true mean\n",
    "    lines=0 #A spacing counter so all the graphed intervals do not layer on top of eachother\n",
    "    \n",
    "    numbers=np.array(range(1,m+1)) #An array of numbers 1-500 for randomization purposes\n",
    "    choice=np.random.choice(numbers,size=m,replace=False) #The random list of numbers to randomize which 50 intervals are drawn\n",
    "    \n",
    "    fig,axes=plt.subplots(figsize=(12,4)) #initiating the plotting library\n",
    "    \n",
    "    #Basic labels and prettifiers\n",
    "    axes.set_title(\"Intervals Containing the True Mean\", fontsize=24)\n",
    "    axes.set_xlabel(\"Interval Number (Spaced by 2)\", fontsize=20)\n",
    "    axes.set_ylabel(\"Values of the Intervals\", fontsize=20)\n",
    "    \n",
    "    x=np.linspace(0,100,100) #x so it can only be the true mean\n",
    "    y=np.linspace(trueMean,trueMean,100) #y values so it can make a straight line\n",
    "    axes.plot(x,y,'-k') #plots the point of the true mean\n",
    "    \n",
    "    #A for loop to calculate all the means, intervals, and draw the interval if it is selected to be drawn\n",
    "    for i in range(0,m):\n",
    "        redBlack=0 #Variable to decide if the intervals drawn should be red or black (red is default)\n",
    "        gumbel=stats.gumbel_r.rvs(loc=mu,scale=beta,size=n) #draws the gumbel distribution\n",
    "        mean=gumbel.mean() #gets a mean for the gumbel distribution\n",
    "        upper=mean+plusMinus #takes the upper end of the interval given the mean\n",
    "        lower=mean-plusMinus #takes the lower end given the mean\n",
    "        if lower<=trueMean<=upper: #checks if the interval contains the true mean\n",
    "            proportion_CIs_covering_mean+=1 #adds to the number of those intervals containing the mean\n",
    "            redBlack=1 #sets the interval to be black if drawn\n",
    "            \n",
    "        if choice[i]%10==3: #Checks if a random number chosen can be modulated by 3 (an arbitrary way to randomly choose 50)\n",
    "            y=np.linspace(lower,upper,100) #y values to draw the interval\n",
    "            x=np.linspace(lines,lines,100) #x values to place it in comparison to the line\n",
    "            if redBlack==1: #Checks if the interval touches the true mean\n",
    "                axes.plot(x,y,'-k') #Touches the true mean, so is black\n",
    "            else:\n",
    "                axes.plot(x,y,'-r') #Does not contain the true mean, so is red\n",
    "            lines+=2 #Spaces the lines\n",
    "        \n",
    "    print(\"proportion covering mean: {:.3f}\".format(proportion_CIs_covering_mean))\n",
    "    \n",
    "    \n",
    "confidence_intervals()"
   ]
  },
  {
   "cell_type": "markdown",
   "metadata": {},
   "source": [
    "**Part E:** Does the proportion of confidence intervals that cover the true mean of the distribution agree with the theory described in class?  Justify your conclusion. "
   ]
  },
  {
   "cell_type": "markdown",
   "metadata": {},
   "source": [
    "This does agree fairly well with the definition discussed in class. It may have some variation, but it is close to the 66% likelihood. Variation is to be expected from doing the test over and over, with more variation with lower number of trials. However, approximately $\\frac{2}{3}$ of the intervals contain the true mean with the 66% confidence interval, so it follows the theory described in class"
   ]
  },
  {
   "cell_type": "markdown",
   "metadata": {
    "collapsed": true
   },
   "source": [
    "---\n",
    "\n",
    "<a id='p2'></a>\n",
    "[Back to top](#top)\n",
    "\n",
    "### [45 points] Problem 2 - Freethrows\n",
    "***\n",
    "\n",
    "Keep your skills sharp by answering these straightforward questions."
   ]
  },
  {
   "cell_type": "markdown",
   "metadata": {},
   "source": [
    "**Part A**: <font color='green'>You are driving through the paint toward the basket when Steph Curry fouls you. You step to the line to sink this freethrow shot, which is delivered in the form of a CSCI3022 problem:</font>\n",
    "\n",
    "You have a shuffled deck of cards. It includes the usual 52 cards AND three special additional Octopus cards. You flip over the cards one by one, without replacing them in the deck. You count how many cards you'll have to flip until you flip over the second Octopus.  You repeat this many times. Simulate this process. Plot a histogram with binsize=1 of the outcomes, in lightgrey with white outline. Compute the mean, median, and mode for this dataset, indicate them on the plot too, using linstyles of green dashed, pink dotted, and black solid, respectively. Look up how to do a legend in MatPlotLib, and label your histogram, mean, median.\n",
    "***"
   ]
  },
  {
   "cell_type": "code",
   "execution_count": 158,
   "metadata": {},
   "outputs": [
    {
     "name": "stdout",
     "output_type": "stream",
     "text": [
      "The mean is 27.9529\n",
      "The median is 28.0\n",
      "The mode is 27\n"
     ]
    },
    {
     "data": {
      "image/png": "[encoded data removed]",
      "text/plain": [
       "<Figure size 576x864 with 1 Axes>"
      ]
     },
     "metadata": {
      "needs_background": "light"
     },
     "output_type": "display_data"
    }
   ],
   "source": [
    "size=10000 #iterations of the experiment\n",
    "cards=np.zeros(55) #initializing the array so I can fill it without typing every number\n",
    "\n",
    "#Assigns the values to the cards\n",
    "for i in range(0,55):\n",
    "    cards[i]=i+1\n",
    "    if i>=52:\n",
    "        cards[i]+=100 #Add 100 as a signifier of the octopus card\n",
    "\n",
    "#Determines the number of flips until two octopus cards\n",
    "def flips():\n",
    "    count=0 #total flipped\n",
    "    octocount=0 #total octopus cards\n",
    "    flip=np.random.choice(cards,size=55,replace=False) #shuffling the deck\n",
    "    for i in range(0,55):\n",
    "        count+=1 #flip a card, add to how many has been flipped\n",
    "        if flip[i]>100: #checks for the card marker I put for octopus cards\n",
    "            octocount+=1 #Increments our octopus card count when we have found one\n",
    "            if octocount==2: \n",
    "                break #ends the for loop if we have two octopus cards drawn\n",
    "    return count\n",
    "\n",
    "#Gets the mean, median, and mode of our results\n",
    "def stat(result,summ):\n",
    "    mean=summ/size #quick mean calculation from the sum we took\n",
    "    result.sort()\n",
    "    \n",
    "    if size%2==1:\n",
    "        median=result[int((size/2)-0.5)] #Basic median calculation if sample size is odd\n",
    "    else:\n",
    "        e=size/2\n",
    "        ep=e+1\n",
    "        ea=result[int(e)]+result[int(ep)] \n",
    "        median=ea/2 #Median calculation when sample size is even, the average of the values at (n/2)+((n/2)+1)\n",
    "        \n",
    "    xsumm=0 #summator for number of occurances of a value\n",
    "    value=0 #the value that has the most\n",
    "    for i in range(0,55):\n",
    "        esumm=np.sum(result==i) #checks number of entries with value i\n",
    "        if esumm>xsumm:\n",
    "            xsumm=esumm #saves the highest sum we know we have\n",
    "            value=i #saves the value at the highest amount\n",
    "    \n",
    "    return mean,median,value\n",
    "    \n",
    "    \n",
    "result=np.zeros(size) #an array to hold the results of each experiment\n",
    "summ=0 #summator for values to calculate the mean\n",
    "for i in range(0,size):\n",
    "    result[i]=flips() #results of the test at trial i\n",
    "    summ+=result[i] #summation for the results up until i\n",
    "    \n",
    "mean,median,mode=stat(result,summ)  #calculation of mean, median, and mode\n",
    "    \n",
    "fig,axes=plt.subplots(figsize=(8,12))\n",
    "plt.hist(result,facecolor=\"lightgrey\",bins=range(0,55,5),edgecolor=\"white\") #Plot histogram\n",
    "\n",
    "#loosely following https://scriptverse.academy/tutorials/python-matplotlib-plot-straight-line.html\n",
    "#and https://matplotlib.org/3.1.1/api/_as_gen/matplotlib.pyplot.legend.html\n",
    "\n",
    "x=np.linspace(mode,mode,100) #x so it can only be the mode\n",
    "y=np.linspace(0,1400,100) #y values so it can make a line\n",
    "mo, =axes.plot(x,y,'-k') #line at the mode to be drawn\n",
    "mo.set_label(\"mode\") #label the mode for the legend\n",
    "\n",
    "x=np.linspace(mean,mean,100) #x so it can only be the mean\n",
    "y=np.linspace(0,1400,100) #y values so it can make a line\n",
    "me, =plt.plot(x,y,'--g') #line at the mean to be drawn\n",
    "me.set_label(\"mean\") #label the mean for the legend\n",
    "\n",
    "x=np.linspace(median,median,100) #x so it can only be the median\n",
    "y=np.linspace(0,1400,100) #y values so it can make a line\n",
    "med, =plt.plot(x,y,':m') #line at the median to be drawn\n",
    "med.set_label(\"median\") #label the median for the legend\n",
    "\n",
    "axes.legend() #draws the legend for the mean, median, and mode\n",
    "\n",
    "#Print the mean, median, and mode so you can see the values along with the graph\n",
    "print(\"The mean is {}\".format(mean))\n",
    "print(\"The median is {}\".format(median))\n",
    "print(\"The mode is {}\".format(mode))\n",
    "\n",
    "#Histogram basic labeling and prettifiers\n",
    "axes.set_title(\"Flip Counts to 2 Octopus Cards\", fontsize=24)\n",
    "axes.set_xlabel(\"Flips\", fontsize=20)\n",
    "axes.set_ylabel(\"Frequency\", fontsize=20)\n",
    "axes.grid(alpha=0.25)"
   ]
  },
  {
   "cell_type": "markdown",
   "metadata": {},
   "source": [
    "**Part B**: <font color='green'>You sink your first free throw and immediately get dap from your teammates, Oscar O'Flaherty and Octavia O'Flaherty. You prepare to take another shot, which—and you're not going to believe this—is another CSCI3022 problem:</font>\n",
    "\n",
    "In general, which is wider: a 95% confidence interval or a 99% confidence interval? How would you explain this to your younger sibling, who is not a statistician?\n",
    "***"
   ]
  },
  {
   "cell_type": "markdown",
   "metadata": {
    "collapsed": true
   },
   "source": [
    "A 99 percent confidence interval is wider than a 95 percent confidence interval. A confidence interval is the area under the normal curve that we will allow for to accept a value as fair to assume might contain the true mean. The larger the interval, the more distance to the edge we are going to accept as a good value for the hypothesis. A smaller interval has more of the edge not included from counting values, so it is a relatively narrower interval."
   ]
  },
  {
   "cell_type": "markdown",
   "metadata": {},
   "source": [
    "**Part C**: <font color='green'>The crowd is silent. Everything is slow motion. You're literally in the air, releasing what looks to be a perfect shot to tie the match. As you release the ball, a hand appears to block it. It is Kevin Durant. :( \n",
    "\n",
    "Luckily, his fingertips also brush against your arm. That's a foul, and everyone saw it. Back to the line. Back to CSCI3022:</font>\n",
    "\n",
    "Let $X$ be a normally-distributed random variable. You draw from it and get these values, stored in the numpy array **durant**, below. Compute a 95% confidence interval for the _standard deviation_.\n",
    "***"
   ]
  },
  {
   "cell_type": "code",
   "execution_count": 159,
   "metadata": {},
   "outputs": [],
   "source": [
    "durant = np.array([3.7778,3.9459,3.8248,4.1111,4.0180,4.0898,4.0380,3.9273,3.9614,3.8387])"
   ]
  },
  {
   "cell_type": "markdown",
   "metadata": {
    "collapsed": true
   },
   "source": [
    "Range: 3.7778-4.1111\n",
    "\n",
    "$\\bar{X} \\pm z_{\\alpha/2} \\frac{\\sigma}{\\sqrt{n}}$\n",
    "\n",
    "There are 10 entries, so n=10\n",
    "\n",
    "Upper Bound=$\\bar{X} + z_{\\alpha/2} \\frac{\\sigma}{\\sqrt{n}}$\n",
    "\n",
    "Upper Bound-$\\bar{X}=z_{\\alpha/2} \\frac{\\sigma}{\\sqrt{n}}$\n",
    "\n",
    "$\\frac{ub-\\bar{x}}{z_{\\alpha/2}}=\\frac{\\sigma}{\\sqrt{n}}$\n",
    "\n",
    "$\\sqrt{n} * \\frac{ub-\\bar{x}}{z_{\\alpha/2}}=\\sigma$\n",
    "\n",
    "For lower bound: $\\sqrt{n} * \\frac{ub-\\bar{x}}{-z_{\\alpha/2}}=\\sigma$"
   ]
  },
  {
   "cell_type": "code",
   "execution_count": 160,
   "metadata": {},
   "outputs": [
    {
     "name": "stdout",
     "output_type": "stream",
     "text": [
      "Sigma=0.268879212181407\n",
      "Here is sigma with the lower bound as a sanity check: 0.268879212181407\n"
     ]
    }
   ],
   "source": [
    "#Calculates sigma given the xbar, zalpha, n, which bound it is, and whether we should add/subtract depending on the bound\n",
    "def sigma(xb,za,n,upperlower,plusminus):\n",
    "    if plusminus==\"p\": #Checks if we are told to add\n",
    "        num=upperlower-xb #numerator for that shown in the markdown above\n",
    "        frac=num/za #The overall fraction before multiplying by the n\n",
    "        sig=frac*(n**0.5) #Sigma calculated\n",
    "        return sig\n",
    "    else:\n",
    "        num=upperlower-xb #The numerator of the fraction\n",
    "        frac=num/-za #The overall fraction with the z alpha being negative as it is the lower bound\n",
    "        sig=frac*(n**0.5) #The sigma of the lower bound\n",
    "        return sig\n",
    "\n",
    "n=len(durant) #n following the durant size\n",
    "upper=durant.max() #The upper bound, being the highest value\n",
    "lower=durant.min() #The lower bound, being the lowest value\n",
    "difference=upper-lower #The distance between the two bounds, thus the total span of xbar\n",
    "xbar=(difference/2)+lower #Xbar, as the value is what is between the two limits\n",
    "\n",
    "zalph=stats.norm.ppf(0.975) #z alpha/2, following what we were told in class for the ppf\n",
    "\n",
    "sig=sigma(xbar,zalph,n,upper,\"p\") #sigma for the upper bound\n",
    "sigl=sigma(xbar,zalph,n,lower,\"m\") #sigma for the lower bound\n",
    "\n",
    "#Print statement for sigma\n",
    "print(\"Sigma={}\".format(sig))\n",
    "print(\"Here is sigma with the lower bound as a sanity check: {}\".format(sigl))"
   ]
  },
  {
   "cell_type": "markdown",
   "metadata": {},
   "source": [
    "**Part D**: <font color='green'>\"Draymond Green has it all, in spite of living in the Bay Area,\" you think to yourself. \"But he doesn't have this shot...\" You're all over him, and he's going to have to pass. You can see the irritation in his eyes. Then you realize that it's not irritation, and he's not being distracted by your superb defense. He's being distracted by this CSCI3022 problem:</font>\n",
    "\n",
    "If you're doing quality control for the average strength of carbon fiber that will be used in airplane construction, and your alternative hypothesis is that the strength of the carbon is below tolerance, and therefore unsafe, would you rather have a low Type I error rate or a low Type II error rate? Explain.\n",
    "\n",
    "***"
   ]
  },
  {
   "cell_type": "markdown",
   "metadata": {},
   "source": [
    "I would rather have a low Type II error rate. The null hypothesis in this case is that the carbon strength is at safe levels, so not rejecting the null hypothesis when the situation is actually dangerous is not good. Type I may be a bit expensive, but it allows for additional testing of the carbon fiber and further safety checks, which is much better than lawsuits pertaining to possible neglegence on the part of the safety testers"
   ]
  },
  {
   "cell_type": "markdown",
   "metadata": {},
   "source": [
    "**Part E**: <font color='green'>You are watching tape footage at halftime with your personal trainer, Stella O'Flaherty. You gotta focus up if you're going to match Klay Thompson's speed in the second half. You take a sip of Gatorade and Dr. O'Flaherty suggests that you do the following CSCI3022 problem:</font>\n",
    "\n",
    "You measure 53 suckers from baby reef octopuses and find that they are, on average, 45.2 mm wide, with a standard devaition of 30.4mm. \n",
    "\n",
    "Then you measure 41 suckers from from baby dumbo octopuses and find that they are, on average, 52.8 mm wide, with a standard deviation of 22.8 mm. \n",
    "\n",
    "Is there statistical evidence at the 0.05 significance level that the true mean of baby dumbo octopus sucker width exceeds the true mean of baby reef octopus sucker width by more than 6 mm?  Use a test of your choice.\n",
    "\n",
    "***"
   ]
  },
  {
   "cell_type": "markdown",
   "metadata": {},
   "source": [
    "$H_0: \\mu_1-\\mu_2=6$\n",
    "\n",
    "$H_1: \\mu_1-\\mu_2>6$\n",
    "\n",
    "\n",
    "\n",
    "z=$\\frac{\\bar{x}-\\bar{y}-c}{ \\sqrt{\\frac{\\sigma_x^2}{m}+\\frac{\\sigma_y^2}{n}}}$\n",
    "\n",
    "z=$\\frac{(52.8-45.2)-6}{\\sqrt{\\frac{22.8^2}{41}+\\frac{30.4^2}{53}}}$\n",
    "\n",
    "z=$\\frac{1.6}{\\sqrt{12.6790+17.4370}}$\n",
    "\n",
    "z=$\\frac{1.6}{\\sqrt{30.1160}}$\n",
    "\n",
    "z=$\\frac{1.6}{5.4878}$\n",
    "\n",
    "z=0.2916\n",
    "\n",
    "p=1-$\\phi(0.2916)$\n",
    "\n",
    "p=0.3853\n",
    "\n",
    "0.3853>0.05; Therefore, fail to reject the null hypothesis\n",
    "\n",
    "The true mean of the baby dumbo's suckers does not exceed the baby reef's by 6mm"
   ]
  },
  {
   "cell_type": "code",
   "execution_count": 161,
   "metadata": {},
   "outputs": [
    {
     "name": "stdout",
     "output_type": "stream",
     "text": [
      "0.3852962377165511\n"
     ]
    }
   ],
   "source": [
    "z=stats.norm.cdf(0.2916)\n",
    "p=1-z\n",
    "print(p)"
   ]
  }
 ],
 "metadata": {
  "kernelspec": {
   "display_name": "Python 3",
   "language": "python",
   "name": "python3"
  },
  "language_info": {
   "codemirror_mode": {
    "name": "ipython",
    "version": 3
   },
   "file_extension": ".py",
   "mimetype": "text/x-python",
   "name": "python",
   "nbconvert_exporter": "python",
   "pygments_lexer": "ipython3",
   "version": "3.7.3"
  }
 },
 "nbformat": 4,
 "nbformat_minor": 2
}
