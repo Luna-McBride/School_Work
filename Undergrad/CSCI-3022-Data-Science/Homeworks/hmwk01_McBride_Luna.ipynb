{
 "cells": [
  {
   "cell_type": "markdown",
   "metadata": {},
   "source": [
    "# Homework 1: Data Cleaning and Exploratory Data Analysis \n",
    "***\n",
    "\n",
    "**Name**: \n",
    "\n",
    "***\n",
    "\n",
    "This assignment is due on Canvas by **5pm on Thursday June 13th**. Your solutions to theoretical questions should be done in Markdown directly below the associated question.  Your solutions to computational questions should include any specified Python code and results as well as written commentary on your conclusions.  Remember that you are encouraged to discuss the problems with your classmates, but **you must write all code and solutions on your own**.   \n",
    "\n",
    "**NOTES**: \n",
    "\n",
    "- If you're not familiar with typesetting math directly into Markdown then by all means, do your work on paper first and then typeset it later.  Remember that there is a [reference guide](https://math.meta.stackexchange.com/questions/5020/mathjax-basic-tutorial-and-quick-reference) linked on Piazza on writing math in Markdown. \n",
    "- It is **bad form** to make your reader interpret numerical output from your code.  If a question asks you to compute some value from the data you should show your code output **AND** write a summary of the results in Markdown directly below your code. \n",
    "\n"
   ]
  },
  {
   "cell_type": "code",
   "execution_count": 1,
   "metadata": {},
   "outputs": [],
   "source": [
    "import pandas as pd\n",
    "import numpy as np\n",
    "import matplotlib.pylab as plt\n",
    "%matplotlib inline"
   ]
  },
  {
   "cell_type": "markdown",
   "metadata": {},
   "source": [
    "### Problem 1 \n",
    "***\n",
    "\n",
    "Rebecca cares about [octopuses](https://english.stackexchange.com/questions/270/what-is-the-correct-plural-of-octopus/271). She cares so much that, up and down the coast, she opens octopus rescues, octopus temporary housing, and octopus sanctuaries, specifically targeted at juveniles in need. For convenience, we will refer to all the Juvenile Octopus Rescues, Temps, and Sanctuaries as \"JORTS.\"\n",
    "\n",
    "Rebecca wants to estimate the average food consumption across the JORTS this month so that she can plan the food orders for next month. She has 14 Rescues, 35 Temporary houses, and 56 Sanctuaries. What an empire!\n",
    "\n",
    "Rebecca opens up the *JORTS Manager App* on her phone, which gives her a list of all of her coastal operations. She randomly picks 15 of them, and gets ready to email their managers asking for the monthly food reports. Of course, Rebecca has taken CSCI 3022, so she knows a thing or two about sampling, and so, to get a good estimate of the monthly food consumption (kilograms per month) for typical JORTS, she intentionally chooses 2 Rescues, 5 Temporary houses, and 8 Sanctuaries.\n",
    "\n",
    "Identify the following: \n",
    "\n",
    "- the population \n",
    "- the sample frame \n",
    "- the sample \n",
    "- the type of sample \n",
    "- the quantity of interest "
   ]
  },
  {
   "cell_type": "markdown",
   "metadata": {
    "collapsed": true
   },
   "source": [
    "1) Population: JORTS Facilities\n",
    "\n",
    "2) Sample Frame: Rescues, Temporary Houses, and Sanctuaries owned by JORTS\n",
    "\n",
    "3) Sample: 15 randomly selected JORTS facilities, 2 being rescues, 5 being temporary houses, and 8 being sancuaries\n",
    "\n",
    "4) Type of Sample: Stratified Sampling\n",
    "\n",
    "5) Quality of Interest: Monthly Food Consumption (in Kilograms)"
   ]
  },
  {
   "cell_type": "markdown",
   "metadata": {},
   "source": [
    "### Problem 2 \n",
    "***\n",
    "\n",
    "A method to investigate the sensitivity of the sample mean and the sample median to extreme outliers and changes in the dataset is to replace one or more elements in a given dataset by a number $y$ and investigate the eﬀect when $y$ changes. To illustrate this, consider the dataset\n",
    "\n",
    "$$\n",
    "4.6 \\quad \n",
    "5.0 \\quad\n",
    "6.5 \\quad\n",
    "7.7 \\quad\n",
    "y \\quad\n",
    "4.2 \\quad\n",
    "1.9\n",
    "$$"
   ]
  },
  {
   "cell_type": "markdown",
   "metadata": {},
   "source": [
    "**Part A**: Compute the sample mean and sample median for $y=0$. Compute them both again for $y=10$."
   ]
  },
  {
   "cell_type": "code",
   "execution_count": 83,
   "metadata": {},
   "outputs": [
    {
     "name": "stdout",
     "output_type": "stream",
     "text": [
      "Mean with Y=0: 4.271428571428571\n",
      "Median with Y=10: 4.6\n",
      "Mean with Y=10: 5.7\n",
      "Median with Y=10: 5.0\n"
     ]
    }
   ],
   "source": [
    "Number_set=[4.6,5.0,6.5,7.7,0,4.2,1.9] #y automatically is 0\n",
    "arr_length=len(Number_set)\n",
    "def medianFunction(sort): #function to handle medians\n",
    "    if arr_length%2==1: #if case for possible code reuse as needed later\n",
    "        index=(arr_length/2)-0.5\n",
    "        median=sort[int(index)] #arr_length/2=3.5, but value spot 4 is arr[3], so subtract 0.5 instead of add\n",
    "        return median\n",
    "    else:\n",
    "        median=0 #placeholder, as this is not possible here\n",
    "\n",
    "#-----------------------Mean for y=0-------------------\n",
    "summation=0\n",
    "for i in Number_set:\n",
    "    summation=summation+i #sums the items together\n",
    "zerosum=summation #sets the sum at 0\n",
    "mean_zero=summation/arr_length\n",
    "print(\"Mean with Y=0: {}\".format(mean_zero))\n",
    "\n",
    "#----------------------Median for y=0----------------------\n",
    "zerosort=Number_set.copy() #https://stackoverflow.com/questions/2612802/how-to-clone-or-copy-a-list\n",
    "zerosort.sort() #sort the items\n",
    "median=medianFunction(zerosort)\n",
    "print(\"Median with Y=10: {}\".format(median))\n",
    "\n",
    "#-----------------------y=10---------------------------------\n",
    "tensort=Number_set.copy() #copy so I can keep sorting with different y on Number_set\n",
    "tensort[4]=10#reset y to 10\n",
    "\n",
    "#---------------------Mean for y=10--------------------------\n",
    "summation=zerosum+y #take summation at 0, add the value\n",
    "mean_ten=summation/arr_length #Mean=sum/number of items\n",
    "print(\"Mean with Y=10: {}\".format(mean_ten))\n",
    "\n",
    "#---------------------Median for y=10-----------------------\n",
    "tensort.sort() #sort the items\n",
    "median=medianFunction(tensort)\n",
    "print(\"Median with Y=10: {}\".format(median))"
   ]
  },
  {
   "cell_type": "markdown",
   "metadata": {},
   "source": [
    "**Part B**: What should $y$ be if we want the mean to be equal to $10$? What should $y$ be if we want the mean to be equal to $0$?"
   ]
  },
  {
   "cell_type": "code",
   "execution_count": 47,
   "metadata": {},
   "outputs": [
    {
     "name": "stdout",
     "output_type": "stream",
     "text": [
      "y value for Mean=10: 40.1\n"
     ]
    }
   ],
   "source": [
    "mean=10 #Stipulation\n",
    "summation=mean*arr_length #removing the length to get the sum\n",
    "for i in Number_set:\n",
    "    summation=summation-i #remove each value at y=0 to get the remaining value, the new Y\n",
    "print(\"y value for Mean=10: {}\".format(summation))"
   ]
  },
  {
   "cell_type": "markdown",
   "metadata": {},
   "source": [
    "**Part C**: Compute the sample median for the following cases: \n",
    "- $y=10$ \n",
    "- $y=100$ \n",
    "- $y \\to \\infty$ \n",
    "- $y=5.01$ \n",
    "- $y=4.99$"
   ]
  },
  {
   "cell_type": "code",
   "execution_count": 62,
   "metadata": {},
   "outputs": [
    {
     "name": "stdout",
     "output_type": "stream",
     "text": [
      "The median at y=10 is: 5.0\n",
      "The median at y=100 is: 5.0\n",
      "The median at y=Infinity is: 5.0\n",
      "The median at y=100 is: 5.0\n",
      "The median at y=100 is: 4.99\n"
     ]
    }
   ],
   "source": [
    "def sortingFunction(value): #sorts the copied array following the given value\n",
    "    placeholderSet=Number_set.copy()\n",
    "    placeholderSet[4]=value\n",
    "    placeholderSet.sort()\n",
    "    return placeholderSet\n",
    "def totalMedian(value): #handles getting the median by calling the sorter and median getter\n",
    "    placeholderSet=sortingFunction(value)\n",
    "    median=medianFunction(placeholderSet)\n",
    "    return median\n",
    "#--------------------y=10--------------------------------------\n",
    "print(\"The median at y=10 is: {}\".format(totalMedian(10)))\n",
    "      \n",
    "#--------------------y=100-------------------------------------\n",
    "print(\"The median at y=100 is: {}\".format(totalMedian(100)))\n",
    "\n",
    "#--------------------y=Infinity-------------------------------------\n",
    "print(\"The median at y=Infinity is: {}\".format(totalMedian(float(\"inf\")))) \n",
    "#https://stackoverflow.com/questions/7781260/how-can-i-represent-an-infinite-number-in-python\n",
    "\n",
    "#--------------------y=5.01-------------------------------------\n",
    "print(\"The median at y=5.01 is: {}\".format(totalMedian(5.01)))\n",
    "\n",
    "#--------------------y=4.99-------------------------------------\n",
    "print(\"The median at y=4.99 is: {}\".format(totalMedian(4.99)))\n",
    "\n"
   ]
  },
  {
   "cell_type": "markdown",
   "metadata": {},
   "source": [
    "**Part D**: Think about the previous parts, above, and describe in words or mathematical notation the answers to the following two questions:\n",
    "\n",
    "- By varying $y$, what is the set of all the possible values that the sample mean could take on?\n",
    "- By varying $y$, what is the set of all the possible values that the sample median could take on?"
   ]
  },
  {
   "cell_type": "markdown",
   "metadata": {
    "collapsed": true
   },
   "source": [
    "By Varying y, the mean covers the middle of the data by essentially putting a blanket over all the data. This blanket,\n",
    "  however. stretches the further it is pulled by outliers. The same place in the design of the blanket is warped further\n",
    "    by those pulling it until it is likely there isnt even a number under that center anymore.\n",
    "    \n",
    "By varying the y, the median hits the middle value of the data no matter how far away the outlier is. The method looks at the\n",
    "    data and removes the super large and super small first then hones in on that center point."
   ]
  },
  {
   "cell_type": "markdown",
   "metadata": {},
   "source": [
    "### Problem 3 \n",
    "***\n",
    "\n",
    "Let $x_1, x_2, \\ldots, x_n$ be $n$ observations of a variable of interest.  Recall that the sample mean $\\bar{x}_n$ and sample variance $s^2_n$ are given by \n",
    "\n",
    "$$\n",
    "\\bar{x}_n = \\frac{1}{n}\\sum_{k=1}^n x_k \\quad \\textrm{and} \\quad s^2_n = \\frac{1}{n-1}\\sum_{k=1}^n \\left( x_k - \\bar{x}_n\\right)^2\n",
    "$$\n",
    "\n",
    "where here the subscript $n$'s indicate the number of observations in the sample. Notice that a natural computation of the variance requires two passes over the data: one to compute the mean, and a second to subtract the mean from each observation and compute the sum of squares. It is often useful to be able to compute the variance in a single pass, inspecting each value $x_k$ only once; for example, when the data are being collected without enough storage to keep all the values, or when costs of memory access dominate those of computation. In this problem you will explore two methods for such an _online_ computation of the mean and variance.  \n",
    "\n",
    "**Part A**: Show algebraically that the following relation holds between the mean of the first $n-1$ observations and the mean of all $n$ observations: \n",
    "\n",
    "$$\n",
    "\\bar{x}_n = \\bar{x}_{n-1} + \\frac{x_n - \\bar{x}_{n-1}}{n}\n",
    "$$"
   ]
  },
  {
   "cell_type": "markdown",
   "metadata": {
    "collapsed": true
   },
   "source": [
    "$\\frac{1}{n}$ $\\sum_{k=1}^{n}x_k$ = $\\bar{x}_{n-1}$ + $\\frac{x_n - \\bar{x}_{n-1}}{n}$\n",
    "\n",
    "$\\sum_{k=1}^{n}x_k$ = n$\\bar{x}_{n-1}$ + $x_n$ - $\\bar{x}_{n-1}$\n",
    "\n",
    "$\\sum_{k=1}^{n}x_k$ = n-1$\\bar{x}_{n-1}$ + $x_n$\n",
    "\n",
    "$\\sum_{k=1}^{n}x_k$ = $\\frac{n-1}{n-1}$ $\\sum_{k=1}^{n-1}x_k$ + $x_n$\n",
    "\n",
    "$\\sum_{k=1}^{n}x_k$ = $\\sum_{k=1}^{n-1}x_k$ + $x_n$\n",
    "\n",
    "$x_n$ = $x_n$\n",
    "\n",
    "(it has been a very long time since I have done this kind of math and I do not have the laptop to submit if I went in to ask for help. I am willing to lose some points here at this point)"
   ]
  },
  {
   "cell_type": "markdown",
   "metadata": {},
   "source": [
    "**Part B**: Write a function `my_sample_mean` that takes as its input a numpy array and returns the mean of that numpy array using the formulas from class (written above). You may *not* use numpy's built in mean function. Write another function `my_sample_var` that takes as its input a numpy array and returns the variance of that numpy array, again using the formulas from class (written above). You may *not* use any built-in sample variance functions."
   ]
  },
  {
   "cell_type": "code",
   "execution_count": 78,
   "metadata": {},
   "outputs": [],
   "source": [
    "def my_sample_mean(numpyArr):\n",
    "    arrayLength=len(numpyArr) #The n for 1/n\n",
    "    summation=numpyArr.sum() #Convenient sum so I do not need to use a loop\n",
    "    meanData=summation/arrayLength #Mean calculation\n",
    "    return meanData\n",
    "\n",
    "def my_sample_var(numpyArr):\n",
    "    mean=my_sample_mean(numpyArr) #Get the mnean to use\n",
    "    arrayDivisor=len(numpyArr)-1 #The n-1 for 1/n-1 in the equatiom\n",
    "    summation=0\n",
    "    for i in numpyArr: #loops each value and sums the values minus the means squared\n",
    "        number=i-mean\n",
    "        number=np.square(number)\n",
    "        summation=summation+number\n",
    "    Variation=summation/arrayDivisor #fimal touch to get the variace\n",
    "    return Variation "
   ]
  },
  {
   "cell_type": "markdown",
   "metadata": {},
   "source": [
    "**Part C**: Use your functions from Part B to compute the sample mean and sample variance of the following array, which contains the counts of perfectly round suckers found on a set of aquarium octopuses.\n",
    "\n",
    "`octopus_suckers = [25, 29, 40, 19, 7, 6, 3, 11, 19, 21, 22, 45, 27]`"
   ]
  },
  {
   "cell_type": "code",
   "execution_count": 79,
   "metadata": {},
   "outputs": [
    {
     "name": "stdout",
     "output_type": "stream",
     "text": [
      "The mean is: 21.076923076923077\n",
      "The variance is: 158.91025641025644\n"
     ]
    }
   ],
   "source": [
    "numpyArr=np.array([25,29,40,19,7,6,3,11,19,21,22,45,27])\n",
    "mean=my_sample_mean(numpyArr)\n",
    "variance=my_sample_var(numpyArr)\n",
    "\n",
    "print(\"The mean is: {}\".format(mean))\n",
    "print(\"The variance is: {}\".format(variance))"
   ]
  },
  {
   "cell_type": "markdown",
   "metadata": {},
   "source": [
    "**Part D**: Implement a third function called `update_mean` that implements the formula whose valdity you proved in Part A. (Note: this function will need to take as its input three things: $x_n$, $\\bar{x}_{n-1}$ and $n$.)\n",
    "\n",
    "Use this function to compute the values that you get from taking the mean of the first suckers count, the first two suckers counts, the first three suckers counts, and so on up to all the suckers counts. Store your means in a numpy array called `sucker_means`."
   ]
  },
  {
   "cell_type": "code",
   "execution_count": 82,
   "metadata": {},
   "outputs": [
    {
     "name": "stdout",
     "output_type": "stream",
     "text": [
      "Mean at n=1 is 25\n",
      "Mean at n=2 is 27.0\n",
      "Mean at n=3 is 31.333333333333332\n",
      "Mean at n=4 is 28.25\n",
      "Mean at n=5 is 24.0\n",
      "Mean at n=6 is 21.0\n",
      "Mean at n=7 is 18.428571428571427\n",
      "Mean at n=8 is 17.5\n",
      "Mean at n=9 is 17.666666666666668\n",
      "Mean at n=10 is 18.0\n",
      "Mean at n=11 is 18.363636363636363\n",
      "Mean at n=12 is 20.583333333333332\n",
      "Mean at n=13 is 21.076923076923077\n"
     ]
    }
   ],
   "source": [
    "numpyArr=np.array([25,29,40,19,7,6,3,11,19,21,22,45,27]) #array for personal mental checking\n",
    "def update_mean(n,xn,meanxn):\n",
    "    if(n==1):\n",
    "        return xn #base case no previous mean\n",
    "    mainMath=(xn-meanxn)/n\n",
    "    mean=mainMath+meanxn #Equation\n",
    "    return mean\n",
    "\n",
    "n=1\n",
    "meanxn=0 #meanxn is mean of x at n-1; you just cannot put -1 in a name\n",
    "sucker_means=np.zeros(len(numpyArr)) #fill with 0\n",
    "for i in numpyArr:\n",
    "    meanxn=update_mean(n,i,meanxn) #call and update current mean\n",
    "    sucker_means[n-1]=meanxn \n",
    "    print(\"Mean at n={} is {}\".format(n,meanxn))\n",
    "    n=n+1 "
   ]
  },
  {
   "cell_type": "markdown",
   "metadata": {},
   "source": [
    "### Problem 4\n",
    "*** \n",
    "Some claim that the final hours aboard the RMS Titanic were marked by \"class warfare\" in which the people with first-class tickets took all the good spots on the lifeboats; others claim that the final hours were characterized by male chivalry, in which the men valiantly gave up their positions in the boats and succumbed bravely to the depths of the Atlantic. \n",
    "\n",
    "We have the data on survival rates by class and by sex, so let's figure out whether there is evidence for these scenarios. Access the titanic data in `titanic_data.csv` and store it in a Pandas DataFrame. The data contains information pertaining to class status (**Pclass**), survival of passengers (**Survived**), and gender (**Sex**), among others.  "
   ]
  },
  {
   "cell_type": "code",
   "execution_count": 101,
   "metadata": {},
   "outputs": [
    {
     "data": {
      "text/html": [
       "<div>\n",
       "<style scoped>\n",
       "    .dataframe tbody tr th:only-of-type {\n",
       "        vertical-align: middle;\n",
       "    }\n",
       "\n",
       "    .dataframe tbody tr th {\n",
       "        vertical-align: top;\n",
       "    }\n",
       "\n",
       "    .dataframe thead th {\n",
       "        text-align: right;\n",
       "    }\n",
       "</style>\n",
       "<table border=\"1\" class=\"dataframe\">\n",
       "  <thead>\n",
       "    <tr style=\"text-align: right;\">\n",
       "      <th></th>\n",
       "      <th>PassengerId</th>\n",
       "      <th>Survived</th>\n",
       "      <th>Pclass</th>\n",
       "      <th>Name</th>\n",
       "      <th>Sex</th>\n",
       "      <th>Age</th>\n",
       "      <th>SibSp</th>\n",
       "      <th>Parch</th>\n",
       "      <th>Ticket</th>\n",
       "      <th>Fare</th>\n",
       "      <th>Cabin</th>\n",
       "      <th>Embarked</th>\n",
       "    </tr>\n",
       "  </thead>\n",
       "  <tbody>\n",
       "    <tr>\n",
       "      <th>0</th>\n",
       "      <td>1</td>\n",
       "      <td>0</td>\n",
       "      <td>3</td>\n",
       "      <td>Braund, Mr. Owen Harris</td>\n",
       "      <td>male</td>\n",
       "      <td>36.0</td>\n",
       "      <td>1</td>\n",
       "      <td>0</td>\n",
       "      <td>A/5 21171</td>\n",
       "      <td>7.2500</td>\n",
       "      <td>NaN</td>\n",
       "      <td>S</td>\n",
       "    </tr>\n",
       "    <tr>\n",
       "      <th>1</th>\n",
       "      <td>2</td>\n",
       "      <td>1</td>\n",
       "      <td>1</td>\n",
       "      <td>Cumings, Mrs. John Bradley (Florence Briggs Th...</td>\n",
       "      <td>female</td>\n",
       "      <td>18.0</td>\n",
       "      <td>1</td>\n",
       "      <td>0</td>\n",
       "      <td>PC 17599</td>\n",
       "      <td>71.2833</td>\n",
       "      <td>C85</td>\n",
       "      <td>C</td>\n",
       "    </tr>\n",
       "    <tr>\n",
       "      <th>2</th>\n",
       "      <td>3</td>\n",
       "      <td>1</td>\n",
       "      <td>3</td>\n",
       "      <td>Heikkinen, Miss. Laina</td>\n",
       "      <td>female</td>\n",
       "      <td>14.0</td>\n",
       "      <td>0</td>\n",
       "      <td>0</td>\n",
       "      <td>STON/O2. 3101282</td>\n",
       "      <td>7.9250</td>\n",
       "      <td>NaN</td>\n",
       "      <td>S</td>\n",
       "    </tr>\n",
       "    <tr>\n",
       "      <th>3</th>\n",
       "      <td>4</td>\n",
       "      <td>1</td>\n",
       "      <td>1</td>\n",
       "      <td>Futrelle, Mrs. Jacques Heath (Lily May Peel)</td>\n",
       "      <td>female</td>\n",
       "      <td>27.0</td>\n",
       "      <td>1</td>\n",
       "      <td>0</td>\n",
       "      <td>113803</td>\n",
       "      <td>53.1000</td>\n",
       "      <td>C123</td>\n",
       "      <td>S</td>\n",
       "    </tr>\n",
       "    <tr>\n",
       "      <th>4</th>\n",
       "      <td>5</td>\n",
       "      <td>0</td>\n",
       "      <td>3</td>\n",
       "      <td>Allen, Mr. William Henry</td>\n",
       "      <td>male</td>\n",
       "      <td>63.0</td>\n",
       "      <td>0</td>\n",
       "      <td>0</td>\n",
       "      <td>373450</td>\n",
       "      <td>8.0500</td>\n",
       "      <td>NaN</td>\n",
       "      <td>S</td>\n",
       "    </tr>\n",
       "  </tbody>\n",
       "</table>\n",
       "</div>"
      ],
      "text/plain": [
       "   PassengerId  Survived  Pclass  \\\n",
       "0            1         0       3   \n",
       "1            2         1       1   \n",
       "2            3         1       3   \n",
       "3            4         1       1   \n",
       "4            5         0       3   \n",
       "\n",
       "                                                Name     Sex   Age  SibSp  \\\n",
       "0                            Braund, Mr. Owen Harris    male  36.0      1   \n",
       "1  Cumings, Mrs. John Bradley (Florence Briggs Th...  female  18.0      1   \n",
       "2                             Heikkinen, Miss. Laina  female  14.0      0   \n",
       "3       Futrelle, Mrs. Jacques Heath (Lily May Peel)  female  27.0      1   \n",
       "4                           Allen, Mr. William Henry    male  63.0      0   \n",
       "\n",
       "   Parch            Ticket     Fare Cabin Embarked  \n",
       "0      0         A/5 21171   7.2500   NaN        S  \n",
       "1      0          PC 17599  71.2833   C85        C  \n",
       "2      0  STON/O2. 3101282   7.9250   NaN        S  \n",
       "3      0            113803  53.1000  C123        S  \n",
       "4      0            373450   8.0500   NaN        S  "
      ]
     },
     "execution_count": 101,
     "metadata": {},
     "output_type": "execute_result"
    }
   ],
   "source": [
    "df = pd.read_csv(\"titanic_data.csv\")\n",
    "df.head()"
   ]
  },
  {
   "cell_type": "markdown",
   "metadata": {},
   "source": [
    "**Part A**: Consider the two claims: class warfare, and male chivalry. Suppose that class warfare occurred in the final hours aboard the Titanic.  What patterns might you expect to see in the data?  Suppose that male chivalry was widespread during the final hours insteas. What patterns might you then expect to see in the data?  Explain both of these hypothesized patterns in words. Are these two hypotheses mutually exclusive or not?"
   ]
  },
  {
   "cell_type": "markdown",
   "metadata": {
    "collapsed": true
   },
   "source": [
    "For Class Warfare, we should expect to see more survivors per one class value with respects to the population of that class on board.\n",
    "\n",
    "For Male Chivalry, we should expect to see more survivors being women rather than men, as the chivalrous thing to do is for a guy to give up his seat for a lady. I would say that best defines chivalry, as such, that will be my basis for looking at chivalry in the data. Both ideas could have occurred at the same time, however, as even the most chivalrous men can have class bias and give their seats to a lady within their own class."
   ]
  },
  {
   "cell_type": "markdown",
   "metadata": {},
   "source": [
    "**Part B**: Create a clean data set by removing any rows from the DataFrame that are missing values corresponding to **Survived**, **Pclass**, **Age**, or **Sex**. Store the clean data in a DataFrame called dfTitanic. "
   ]
  },
  {
   "cell_type": "code",
   "execution_count": 104,
   "metadata": {},
   "outputs": [
    {
     "name": "stdout",
     "output_type": "stream",
     "text": [
      "<class 'pandas.core.frame.DataFrame'>\n",
      "Int64Index: 714 entries, 0 to 888\n",
      "Data columns (total 12 columns):\n",
      "PassengerId    714 non-null int64\n",
      "Survived       714 non-null int64\n",
      "Pclass         714 non-null int64\n",
      "Name           714 non-null object\n",
      "Sex            714 non-null object\n",
      "Age            714 non-null float64\n",
      "SibSp          714 non-null int64\n",
      "Parch          714 non-null int64\n",
      "Ticket         714 non-null object\n",
      "Fare           714 non-null float64\n",
      "Cabin          165 non-null object\n",
      "Embarked       713 non-null object\n",
      "dtypes: float64(2), int64(5), object(5)\n",
      "memory usage: 72.5+ KB\n"
     ]
    }
   ],
   "source": [
    "dfTitanic=df.dropna(subset=[\"Survived\",\"Pclass\",\"Age\",\"Sex\"])\n",
    "dfTitanic.info()"
   ]
  },
  {
   "cell_type": "markdown",
   "metadata": {},
   "source": [
    "**Part C**: Determine the fraction of survivors from each passenger class. "
   ]
  },
  {
   "cell_type": "code",
   "execution_count": 121,
   "metadata": {},
   "outputs": [
    {
     "name": "stdout",
     "output_type": "stream",
     "text": [
      "In class 1, 108 out of 168 survived, which is 64.28571428571429%\n",
      "In class 2, 70 out of 145 survived, which is 48.275862068965516%\n",
      "In class 3, 101 out of 401 survived, which is 25.187032418952622%\n"
     ]
    }
   ],
   "source": [
    "#-------------------Survivors per class-------------------------\n",
    "classOne=dfTitanic.loc[dfTitanic[\"Pclass\"]==1,\"Survived\"].sum()\n",
    "classTwo=dfTitanic.loc[dfTitanic[\"Pclass\"]==2,\"Survived\"].sum()\n",
    "classThree=dfTitanic.loc[dfTitanic[\"Pclass\"]==3,\"Survived\"].sum()\n",
    "\n",
    "#-------------------Total people per class-------------------------\n",
    "totalOne=dfTitanic.loc[dfTitanic[\"Pclass\"]==1,\"Pclass\"].sum()\n",
    "totalTwo=dfTitanic.loc[dfTitanic[\"Pclass\"]==2,\"Pclass\"]\n",
    "totalThree=dfTitanic.loc[dfTitanic[\"Pclass\"]==3,\"Pclass\"]\n",
    "\n",
    "#-------------------Survivors per population by class--------------\n",
    "fracOne=(classOne/totalOne)*100\n",
    "fracTwo=(classTwo/len(totalTwo))*100\n",
    "fracThree=(classThree/len(totalThree))*100\n",
    "\n",
    "print(\"In class 1, {} out of {} survived, which is {}%\".format(classOne,totalOne,fracOne))\n",
    "print(\"In class 2, {} out of {} survived, which is {}%\".format(classTwo,len(totalTwo),fracTwo))\n",
    "print(\"In class 3, {} out of {} survived, which is {}%\".format(classThree,len(totalThree),fracThree))"
   ]
  },
  {
   "cell_type": "markdown",
   "metadata": {},
   "source": [
    "**Part D**: Compute the fraction of survivors according to class and gender.  Did men in first class or women in third class have a higher survival rate? "
   ]
  },
  {
   "cell_type": "code",
   "execution_count": 154,
   "metadata": {},
   "outputs": [
    {
     "name": "stdout",
     "output_type": "stream",
     "text": [
      "In class 1, 36 out of 93 men survived, which is 38.70967741935484%\n",
      "In class 1, 72 out of 75 women survived, which is 96.0%\n",
      "In class 2, 16 out of 87 men survived, which is 18.39080459770115%\n",
      "In class 2, 54 out of 58 women survived, which is 93.10344827586206%\n",
      "In class 3, 39 out of 283 men survived, which is 13.780918727915195%\n",
      "In class 3, 62 out of 118 women survived, which is 52.54237288135594%\n",
      "Following this data, even the lowest women survived more than the highest men by more than 10%\n"
     ]
    }
   ],
   "source": [
    "#M refers to male, F refers to female, and written out numbers refer to the class\n",
    "#----------------------Class 1--------------------------------------\n",
    "classOneM=dfTitanic.loc[(dfTitanic[\"Pclass\"]==1)&(dfTitanic[\"Sex\"]==\"male\"), \"Survived\"].sum()\n",
    "totalOneM=len(dfTitanic.loc[(dfTitanic[\"Pclass\"]==1)&(dfTitanic[\"Sex\"]==\"male\")])\n",
    "classOneF=dfTitanic.loc[(dfTitanic[\"Pclass\"]==1)&(dfTitanic[\"Sex\"]==\"female\"), \"Survived\"].sum()\n",
    "totalOneF=len(dfTitanic.loc[(dfTitanic[\"Pclass\"]==1)&(dfTitanic[\"Sex\"]==\"female\")])\n",
    "\n",
    "#----------------------Class 2--------------------------------------\n",
    "classTwoM=dfTitanic.loc[(dfTitanic[\"Pclass\"]==2)&(dfTitanic[\"Sex\"]==\"male\"), \"Survived\"].sum()\n",
    "totalTwoM=len(dfTitanic.loc[(dfTitanic[\"Pclass\"]==2)&(dfTitanic[\"Sex\"]==\"male\")])\n",
    "classTwoF=dfTitanic.loc[(dfTitanic[\"Pclass\"]==2)&(dfTitanic[\"Sex\"]==\"female\"), \"Survived\"].sum()\n",
    "totalTwoF=len(dfTitanic.loc[(dfTitanic[\"Pclass\"]==2)&(dfTitanic[\"Sex\"]==\"female\")])\n",
    "\n",
    "#----------------------Class 3--------------------------------------\n",
    "classThreeM=dfTitanic.loc[(dfTitanic[\"Pclass\"]==3)&(dfTitanic[\"Sex\"]==\"male\"), \"Survived\"].sum()\n",
    "totalThreeM=len(dfTitanic.loc[(dfTitanic[\"Pclass\"]==3)&(dfTitanic[\"Sex\"]==\"male\")])\n",
    "classThreeF=dfTitanic.loc[(dfTitanic[\"Pclass\"]==3)&(dfTitanic[\"Sex\"]==\"female\"), \"Survived\"].sum()\n",
    "totalThreeF=len(dfTitanic.loc[(dfTitanic[\"Pclass\"]==3)&(dfTitanic[\"Sex\"]==\"female\")])\n",
    "\n",
    "#---------------------------Percentages-------------------------------------------\n",
    "fracOneM=(classOneM/totalOneM)*100\n",
    "fracOneF=(classOneF/totalOneF)*100\n",
    "fracTwoM=(classTwoM/totalTwoM)*100\n",
    "fracTwoF=(classTwoF/totalTwoF)*100\n",
    "fracThreeM=(classThreeM/totalThreeM)*100\n",
    "fracThreeF=(classThreeF/totalThreeF)*100\n",
    "\n",
    "#--------------------------------Print Statements----------------------------------\n",
    "print(\"In class 1, {} out of {} men survived, which is {}%\".format(classOneM,totalOneM,fracOneM))\n",
    "print(\"In class 1, {} out of {} women survived, which is {}%\".format(classOneF,totalOneF,fracOneF))\n",
    "print(\"In class 2, {} out of {} men survived, which is {}%\".format(classTwoM,totalTwoM,fracTwoM))\n",
    "print(\"In class 2, {} out of {} women survived, which is {}%\".format(classTwoF,totalTwoF,fracTwoF))\n",
    "print(\"In class 3, {} out of {} men survived, which is {}%\".format(classThreeM,totalThreeM,fracThreeM))\n",
    "print(\"In class 3, {} out of {} women survived, which is {}%\".format(classThreeF,totalThreeF,fracThreeF))\n",
    "print(\"Following this data, even the lowest women survived more than the highest men by more than 10%\")"
   ]
  },
  {
   "cell_type": "markdown",
   "metadata": {},
   "source": [
    "**Part E**: How would you characterize the distribution of **AGE**? (By _characterize_ we mean that you should indicate whether the data are unimodal, bimodal, multimodal, symmetric, negatively skewed, positively skewed, etc.)  Make any necessary graphical summaries to justify your conclusion. "
   ]
  },
  {
   "cell_type": "code",
   "execution_count": 212,
   "metadata": {},
   "outputs": [
    {
     "name": "stdout",
     "output_type": "stream",
     "text": [
      "The age has a positive skew, having much more young people than old\n",
      "The graph is also Unimodal. as that sliver around age 0 does not seem significant enough to be considered another hump\n",
      "A heavy number of young adults took this trip, their numbers trumping teenagers and people 40+ at over double the 40+'s number\n"
     ]
    },
    {
     "data": {
      "image/png": "[encoded data removed]",
      "text/plain": [
       "<Figure size 864x576 with 1 Axes>"
      ]
     },
     "metadata": {
      "needs_background": "light"
     },
     "output_type": "display_data"
    }
   ],
   "source": [
    "#Following the structure of the Histogram on Notebook 3 Exercise I:\n",
    "fig, axes = plt.subplots(nrows=1, ncols=1, figsize=(12,8))\n",
    "dfTitanic.hist(column=\"Age\", bins=10,ax=axes,facecolor=\"purple\", edgecolor=\"white\")\n",
    "axes.set_title(\"Ages of People on the Titanic\", fontsize=24)\n",
    "axes.set_xlabel(\"Age\", fontsize=20)\n",
    "axes.set_ylabel(\"People That Age\", fontsize=20)\n",
    "axes.grid(alpha=0.25)\n",
    "axes.set_axisbelow(True)\n",
    "print(\"The age has a positive skew, having much more young people than old\")\n",
    "print(\"The graph is also Unimodal. as that sliver around age 0 does not seem significant enough to be considered another hump\")\n",
    "print(\"A heavy number of young adults took this trip, their numbers trumping teenagers and people 40+ at over double the 40+'s number\")"
   ]
  },
  {
   "cell_type": "markdown",
   "metadata": {},
   "source": [
    "**Part F**: Were the median and mean ages for females who survived higher or lower than for females who did not survive?  "
   ]
  },
  {
   "cell_type": "code",
   "execution_count": 241,
   "metadata": {},
   "outputs": [
    {
     "name": "stdout",
     "output_type": "stream",
     "text": [
      "Mean of the Living: 28.40558510638298\n",
      "Median of the Living: 26.0\n",
      "Mean of the Dead: 28.922063492063494\n",
      "Median of the Dead: 29.0\n",
      "The median of the ages of the living were lower than that of the dead, but the means are very        similar.\n",
      "It is likely that this is a class issue rather than a chivalry, as Part D showed most non-3rd class  women survived\n"
     ]
    }
   ],
   "source": [
    "#---------Call to read table, done once instead of lots--------------\n",
    "survived=dfTitanic.loc[(dfTitanic[\"Sex\"]==\"female\")&(dfTitanic[\"Survived\"]==1),\"Age\"]\n",
    "dead=dfTitanic.loc[(dfTitanic[\"Sex\"]==\"female\")&(dfTitanic[\"Survived\"]==0),\"Age\"]\n",
    "\n",
    "#--------------------Means and Medians--------------------------\n",
    "meanSurvived=survived.mean()\n",
    "medianSurvived=survived.median()\n",
    "meanDead=dead.mean()\n",
    "medianDead=dead.median()\n",
    "\n",
    "#-----------------Displaying Means and Medians------------------\n",
    "print(\"Mean of the Living: {}\".format(meanSurvived))\n",
    "print(\"Median of the Living: {}\".format(medianSurvived))\n",
    "print(\"Mean of the Dead: {}\".format(meanDead))\n",
    "print(\"Median of the Dead: {}\".format(medianDead))\n",
    "\n",
    "#-----------------My Commentary on the Situation--------------\n",
    "print(\"The median of the ages of the living were lower than that of the dead, but the means are very        similar.\")\n",
    "print(\"It is likely that this is a class issue rather than a chivalry, as Part D showed most non-3rd class  women survived\")"
   ]
  },
  {
   "cell_type": "markdown",
   "metadata": {},
   "source": [
    "**Part G**: Do the data suggest class warfare, male chivalry, or some combination of both characteristics in the final hours aboard the Titanic?  Justify your conclusion based on the computations done above, or do any other analysis that you like, but be sure to clearly justify your conclusion. "
   ]
  },
  {
   "cell_type": "markdown",
   "metadata": {
    "collapsed": true
   },
   "source": [
    "I would say both class warfare and male chivalry were strong factors in the final hours of the Titanic.\n",
    "\n",
    "Male Chivalry is easier to show, so I will start there. Looking at part D, it is clearly apparent. Both class 1 and 2 had female survival rates above 90%, where the male populations of those groups never got above 40%. Class 3 further shows this, as even though their numbers are lower overall, over half of women survived while just barely 10% of men in that class survived. In all classes there were also more men than women, of course, but the fact that women survived disproportionately more shows there was some male chivalry at play.\n",
    "\n",
    "Class warfare was also prevalent in the Titanic. Looking at survival rates of women again, classes 1 and 2 had over 90% survival while class 3 only passed half by a pretty small margin. As for men, classes 2 and 3 held a similar survival rate between 10 and 20 percent, but class 1 doubles that at nearly 40%. Seems like the rich folk used their power to survive. In another interesting twist, part F showed that the ages of women who lived and who died were at a really similar level. This could be brushed away as representing the sheer amount of people under 40, but I feel like it would also be fair to point to this as showing bias, as even with male chivalry, the titanic is usually portrayed as pulling the younger women first, which would logically skew the death age older. However, it is likely that more older women were allowed aboard life boats with their first-class husbands, which could have skewed the data in terms of age.\n",
    "\n",
    "As such, it is very likely both items had some level of play in the final hours of the Titanic"
   ]
  },
  {
   "cell_type": "markdown",
   "metadata": {},
   "source": [
    "### Problem 5 - Dirty Data\n",
    "***\n",
    "Access the data from url https://www.stat.berkeley.edu/~statlabs/data/babies.data and store the information in a Pandas DataFrame.  A description of the variables can be found at https://www.stat.berkeley.edu/~statlabs/labs.html.  These data are a subset from a much larger study dealing with child health and development. \n"
   ]
  },
  {
   "cell_type": "code",
   "execution_count": 182,
   "metadata": {},
   "outputs": [
    {
     "data": {
      "text/html": [
       "<div>\n",
       "<style scoped>\n",
       "    .dataframe tbody tr th:only-of-type {\n",
       "        vertical-align: middle;\n",
       "    }\n",
       "\n",
       "    .dataframe tbody tr th {\n",
       "        vertical-align: top;\n",
       "    }\n",
       "\n",
       "    .dataframe thead th {\n",
       "        text-align: right;\n",
       "    }\n",
       "</style>\n",
       "<table border=\"1\" class=\"dataframe\">\n",
       "  <thead>\n",
       "    <tr style=\"text-align: right;\">\n",
       "      <th></th>\n",
       "      <th>bwt</th>\n",
       "      <th>gestation</th>\n",
       "      <th>parity</th>\n",
       "      <th>age</th>\n",
       "      <th>height</th>\n",
       "      <th>weight</th>\n",
       "      <th>smoke</th>\n",
       "    </tr>\n",
       "  </thead>\n",
       "  <tbody>\n",
       "    <tr>\n",
       "      <th>0</th>\n",
       "      <td>120</td>\n",
       "      <td>284</td>\n",
       "      <td>0</td>\n",
       "      <td>27</td>\n",
       "      <td>62</td>\n",
       "      <td>100</td>\n",
       "      <td>0</td>\n",
       "    </tr>\n",
       "    <tr>\n",
       "      <th>1</th>\n",
       "      <td>113</td>\n",
       "      <td>282</td>\n",
       "      <td>0</td>\n",
       "      <td>33</td>\n",
       "      <td>64</td>\n",
       "      <td>135</td>\n",
       "      <td>0</td>\n",
       "    </tr>\n",
       "    <tr>\n",
       "      <th>2</th>\n",
       "      <td>128</td>\n",
       "      <td>279</td>\n",
       "      <td>0</td>\n",
       "      <td>28</td>\n",
       "      <td>64</td>\n",
       "      <td>115</td>\n",
       "      <td>1</td>\n",
       "    </tr>\n",
       "    <tr>\n",
       "      <th>3</th>\n",
       "      <td>123</td>\n",
       "      <td>999</td>\n",
       "      <td>0</td>\n",
       "      <td>36</td>\n",
       "      <td>69</td>\n",
       "      <td>190</td>\n",
       "      <td>0</td>\n",
       "    </tr>\n",
       "    <tr>\n",
       "      <th>4</th>\n",
       "      <td>108</td>\n",
       "      <td>282</td>\n",
       "      <td>0</td>\n",
       "      <td>23</td>\n",
       "      <td>67</td>\n",
       "      <td>125</td>\n",
       "      <td>1</td>\n",
       "    </tr>\n",
       "    <tr>\n",
       "      <th>5</th>\n",
       "      <td>136</td>\n",
       "      <td>286</td>\n",
       "      <td>0</td>\n",
       "      <td>25</td>\n",
       "      <td>62</td>\n",
       "      <td>93</td>\n",
       "      <td>0</td>\n",
       "    </tr>\n",
       "    <tr>\n",
       "      <th>6</th>\n",
       "      <td>138</td>\n",
       "      <td>244</td>\n",
       "      <td>0</td>\n",
       "      <td>33</td>\n",
       "      <td>62</td>\n",
       "      <td>178</td>\n",
       "      <td>0</td>\n",
       "    </tr>\n",
       "    <tr>\n",
       "      <th>7</th>\n",
       "      <td>132</td>\n",
       "      <td>245</td>\n",
       "      <td>0</td>\n",
       "      <td>23</td>\n",
       "      <td>65</td>\n",
       "      <td>140</td>\n",
       "      <td>0</td>\n",
       "    </tr>\n",
       "    <tr>\n",
       "      <th>8</th>\n",
       "      <td>120</td>\n",
       "      <td>289</td>\n",
       "      <td>0</td>\n",
       "      <td>25</td>\n",
       "      <td>62</td>\n",
       "      <td>125</td>\n",
       "      <td>0</td>\n",
       "    </tr>\n",
       "    <tr>\n",
       "      <th>9</th>\n",
       "      <td>143</td>\n",
       "      <td>299</td>\n",
       "      <td>0</td>\n",
       "      <td>30</td>\n",
       "      <td>66</td>\n",
       "      <td>136</td>\n",
       "      <td>1</td>\n",
       "    </tr>\n",
       "  </tbody>\n",
       "</table>\n",
       "</div>"
      ],
      "text/plain": [
       "   bwt  gestation  parity  age  height  weight  smoke\n",
       "0  120        284       0   27      62     100      0\n",
       "1  113        282       0   33      64     135      0\n",
       "2  128        279       0   28      64     115      1\n",
       "3  123        999       0   36      69     190      0\n",
       "4  108        282       0   23      67     125      1\n",
       "5  136        286       0   25      62      93      0\n",
       "6  138        244       0   33      62     178      0\n",
       "7  132        245       0   23      65     140      0\n",
       "8  120        289       0   25      62     125      0\n",
       "9  143        299       0   30      66     136      1"
      ]
     },
     "execution_count": 182,
     "metadata": {},
     "output_type": "execute_result"
    }
   ],
   "source": [
    "df = pd.read_csv(\"https://www.stat.berkeley.edu/~statlabs/data/babies.data\", delim_whitespace=True)\n",
    "df.head(10)"
   ]
  },
  {
   "cell_type": "markdown",
   "metadata": {},
   "source": [
    "\n",
    "**Part A**: Create a clean data set that removes subjects if any observations on the subject are unknown.  Note that that collectors of the data set used values like $9$, $99$, $999$, to denote unknown values.  You can look at the documentation linked in the problem description to determine which unknown-value marker was used for each characteristics.  Store the modified data set in a Pandas DataFrame called dfBabies. "
   ]
  },
  {
   "cell_type": "code",
   "execution_count": 200,
   "metadata": {},
   "outputs": [],
   "source": [
    "#Literally just checks for the designated unknowns\n",
    "dfBabies=df.loc[(df[\"weight\"]!=999)&(df[\"gestation\"]!=999)&(df[\"smoke\"]!=9)&(df[\"height\"]!=99)&(dfBabies[\"parity\"]!=9)&(dfBabies[\"bwt\"]!=999)]"
   ]
  },
  {
   "cell_type": "markdown",
   "metadata": {},
   "source": [
    "**Part B**: Use the information in dfBabies to create a density histogram of the birth weights of babies whose mothers have never smoked (smoke=0) and another histogram placed directly below the first in the same graphics device for the birth weights of babies whose mothers currently smoke (smoke=1).  Make the range of the horizontal axis $30$ to $180$ (ounces) for both histograms.  Make sure to give each subplot titles and label axes. "
   ]
  },
  {
   "cell_type": "code",
   "execution_count": 217,
   "metadata": {},
   "outputs": [
    {
     "data": {
      "text/plain": [
       "(30, 180)"
      ]
     },
     "execution_count": 217,
     "metadata": {},
     "output_type": "execute_result"
    },
    {
     "data": {
      "image/png": "[encoded data removed]",
      "text/plain": [
       "<Figure size 576x576 with 2 Axes>"
      ]
     },
     "metadata": {
      "needs_background": "light"
     },
     "output_type": "display_data"
    }
   ],
   "source": [
    "fig, axes = plt.subplots(nrows=2, ncols=1, figsize=(8,8))\n",
    "\n",
    "#---------------------Non-Smokers---------------------------------------------\n",
    "dfBabies.loc[dfBabies[\"smoke\"]==0].hist(column=\"bwt\",density=True,bins=20,ax=axes[0],facecolor=\"pink\", edgecolor=\"white\")\n",
    "axes[0].set_title(\"Child Body Weights from Non-Smoking parents\", fontsize=24)\n",
    "axes[0].set_xlabel(\"Baby Body Weight\", fontsize=16)\n",
    "axes[0].set_ylabel(\"Percentage\", fontsize=20)\n",
    "axes[0].grid(alpha=0.25)\n",
    "axes[0].set_axisbelow(True)\n",
    "axes[0].set_xlim([30,180])\n",
    "\n",
    "#----------------------Smokers-------------------------------------------------\n",
    "dfBabies.loc[dfBabies[\"smoke\"]==1].hist(column=\"bwt\",density=True, bins=20, ax=axes[1],facecolor=\"gray\", edgecolor=\"white\")\n",
    "axes[1].set_title(\"Child Body Weights from Smoking parents\", fontsize=20)\n",
    "axes[1].set_xlabel(\"Baby Body Weight\", fontsize=20)\n",
    "axes[1].set_ylabel(\"Percentage\", fontsize=20)\n",
    "axes[1].grid(alpha=0.25)\n",
    "axes[1].set_axisbelow(True)\n",
    "axes[1].set_xlim([30,180])"
   ]
  },
  {
   "cell_type": "markdown",
   "metadata": {},
   "source": [
    "**Part C**: Based on the histograms in **Part B**, characterize the distribution of baby birth weights for both non-smoking and smoking mothers. "
   ]
  },
  {
   "cell_type": "markdown",
   "metadata": {
    "collapsed": true
   },
   "source": [
    "Non-smokers seem to have a more stable range between 110 and 130 ounces in a unimodal distribution. The children of smokers, on the other hand, have weight shifting more toward 110 ounces with a staggering number around the 100 ounce mark and below"
   ]
  },
  {
   "cell_type": "markdown",
   "metadata": {},
   "source": [
    "**Part D**: What are the mean and median weight difference between babies of smokers and non-smokers?  Can you think of any reason not to use the mean as a measure of center to compare birth weights for this problem? "
   ]
  },
  {
   "cell_type": "code",
   "execution_count": 220,
   "metadata": {},
   "outputs": [
    {
     "name": "stdout",
     "output_type": "stream",
     "text": [
      "Mean for non-smokers is: 123.08531468531469\n",
      "Median for non-smokers is: 123.0\n",
      "Mean for smokers is: 113.82391304347826\n",
      "Mean for smokers is: 115.0\n",
      "The smoker mean and median are both lower than the non-smoker's by about 10 ounces\n",
      "It would probably be best not to use mean for birth weight, as there are always going to be the occasional really thin and really fat babies\n"
     ]
    }
   ],
   "source": [
    "#Means and medians. I probably should fix this like the other one like this to only call each once,\n",
    "#But I did this days earlier\n",
    "nonMean=dfBabies.loc[dfBabies[\"smoke\"]==0,\"bwt\"].mean()\n",
    "nonMedian=dfBabies.loc[dfBabies[\"smoke\"]==0,\"bwt\"].median()\n",
    "smokeMean=dfBabies.loc[dfBabies[\"smoke\"]==1,\"bwt\"].mean()\n",
    "smokeMedian=dfBabies.loc[dfBabies[\"smoke\"]==1,\"bwt\"].median()\n",
    "\n",
    "#----------------------------Displaying Means and Medians-------------\n",
    "print(\"Mean for non-smokers is: {}\".format(nonMean))\n",
    "print(\"Median for non-smokers is: {}\".format(nonMedian))\n",
    "print(\"Mean for smokers is: {}\".format(smokeMean))\n",
    "print(\"Mean for smokers is: {}\".format(smokeMedian))\n",
    "\n",
    "#--------------------------Commentary based on means and medians-----------\n",
    "print(\"The smoker mean and median are both lower than the non-smoker's by about 10 ounces\")\n",
    "print(\"It would probably be best not to use mean for birth weight, as there are always going to be the occasional really thin and really fat babies\")"
   ]
  },
  {
   "cell_type": "markdown",
   "metadata": {},
   "source": [
    "**Part E**: Create side-by-side box-and-whisker plots to compare the birth weights of babies whose mothers never smoked and those who currently smoke.  Use the box-and-whisker plot conventions discussed in lecture. "
   ]
  },
  {
   "cell_type": "code",
   "execution_count": 238,
   "metadata": {},
   "outputs": [
    {
     "data": {
      "text/plain": [
       "([<matplotlib.axis.XTick at 0xab15e69b0>,\n",
       "  <matplotlib.axis.XTick at 0xab15e6160>],\n",
       " <a list of 2 Text xticklabel objects>)"
      ]
     },
     "execution_count": 238,
     "metadata": {},
     "output_type": "execute_result"
    },
    {
     "data": {
      "image/png": "[encoded data removed]",
      "text/plain": [
       "<Figure size 360x576 with 1 Axes>"
      ]
     },
     "metadata": {
      "needs_background": "light"
     },
     "output_type": "display_data"
    }
   ],
   "source": [
    "#Following Notebook 3\n",
    "fig, axes=plt.subplots(figsize=(5,8))\n",
    "\n",
    "plot=dfBabies.loc[(dfBabies[\"smoke\"]==0) | (dfBabies[\"smoke\"]==1)].boxplot(column=[\"bwt\"],by=[\"smoke\"], ax=axes)\n",
    "\n",
    "\n",
    "axes.set_title('Body Weight of Children of Smokers and Non-Smokers', fontsize=18)\n",
    "axes.set_ylabel(\"Body Weight (in ounces)\", fontsize=16)\n",
    "\n",
    "plt.xticks([1,2],[\"Non-Smokers\", \"Smokers\"], rotation=0, fontsize=16)\n"
   ]
  },
  {
   "cell_type": "markdown",
   "metadata": {},
   "source": [
    "**Part F**: Using the box-and-whisker plots from **Part E** comment on the distributions of body weights of babies within each smoking / non-smoking groups as well as the comparison of the two classes. "
   ]
  },
  {
   "cell_type": "markdown",
   "metadata": {
    "collapsed": true
   },
   "source": [
    "Here, we will assume the non-smoker is the base case. There are always other factors that could affect such a measurement like weight, but for this sake, it should be fair to assume Non-smoker weights are what the child should be. Looking at the non-smoker categoty, we have a clear center of regular weights with many variations in the form of outliers. Once again, there are other circumstances that could lead to a big baby or a small one, but there is a clear normal centered near 120 oz.\n",
    "\n",
    "As for the smoker line, the first thing to notice is the weight being centered below the 120 mark by a fair margin. The whiskers also stretch further. The two graphs' whiskers reach a similar peak, yes, but there is nothing above that for the smokers, implying that the biggest baby size is still relatively normal sized. On the other end, however, the low end of the normal range is nearly 20 ounces lower. 20 oz is a large amount to be small, and the data is saying that is normal for a smoker's baby. Of course, the lowest point overall is not as low as the lowest on the non-smoker's, but we cannot rely on one factor to tell all. However, in terms of the weights of the babies in general of the sample given, this is saying that a child is highly likely to be smaller than he/she would be if the parent did not smoke. Smoking can cause other problems and should not be taken lightly as just a size manipulator, but the fact that a mother smoking can lead to the child being as much as 20 ounces smaller on average really shows the big effects of the tiny tobacco stick."
   ]
  },
  {
   "cell_type": "code",
   "execution_count": null,
   "metadata": {},
   "outputs": [],
   "source": []
  }
 ],
 "metadata": {
  "kernelspec": {
   "display_name": "Python 3",
   "language": "python",
   "name": "python3"
  },
  "language_info": {
   "codemirror_mode": {
    "name": "ipython",
    "version": 3
   },
   "file_extension": ".py",
   "mimetype": "text/x-python",
   "name": "python",
   "nbconvert_exporter": "python",
   "pygments_lexer": "ipython3",
   "version": "3.7.3"
  }
 },
 "nbformat": 4,
 "nbformat_minor": 2
}
