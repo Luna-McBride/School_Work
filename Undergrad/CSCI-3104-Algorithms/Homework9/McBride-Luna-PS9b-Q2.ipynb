{
 "cells": [
  {
   "cell_type": "code",
   "execution_count": 1,
   "metadata": {},
   "outputs": [],
   "source": [
    "#Code by Luna McBride using Jupyter Notebook\n",
    "import numpy as np"
   ]
  },
  {
   "cell_type": "code",
   "execution_count": 94,
   "metadata": {},
   "outputs": [],
   "source": [
    "#DP: a function to create a dynamic programming bottom-up approach\n",
    "def dp(arr,n):\n",
    "    point=[] #Number of points per number of assignments\n",
    "    i=0 #Variable to use for our while loop to go through amounts of assignments\n",
    "    \n",
    "    #While loop to loop through our assignments to find the optimal number of points for each\n",
    "    while i<n+1:\n",
    "        hold=[] #Holder of the assignment chosen\n",
    "        if i==0: #No need to compare if we are only looking at one value\n",
    "            point.append(arr[0]) #Append the point value for one item\n",
    "        else: #If we have a list bigger than 1\n",
    "            summ=0 #Holder for the sum of all point values\n",
    "            j=0 #Variable for the while loop to get the points for items 0 to i\n",
    "            \n",
    "            #While loop to find the optimal point values for assignments 1-i\n",
    "            while j<i:\n",
    "                if j==i-1: #If there is only one left\n",
    "                    r=arr[i-1] #Get that last value\n",
    "                    hold.append(arr[i-1]) #Put the value into the array of chosen items\n",
    "                else: #If there are more than one value left to check\n",
    "                    r=max(arr[j],arr[j+1]) #Find the max of the two neighboring items\n",
    "                    if r==arr[j+1]: #If it is the right item\n",
    "                        j=j+1 #Add an extra to j, eliminating the possibility of having two consecutive assignments\n",
    "                    hold.append(arr[j]) #Append the chosen value to our list of chosen values\n",
    "                summ+=r #Add the value to our sum\n",
    "                j+=2 #Jump j up by 2, also to try to eliminate consecutive homeworks\n",
    "            point.append(summ) #add this point sum to our list\n",
    "        i+=1 #Up i by 1, expanding our scope by one assignment\n",
    "    return point[n],hold #Return our final points as well as our chosen values of the last iteration\n",
    "            \n",
    "\n",
    "#Assignment: a function to do the dynamic programming using only Big Theta 1 space\n",
    "def assignment(arr,n):\n",
    "    summ=0 #Our holder for the best sum\n",
    "    e=0 #A variable to iterate through our array of assignments (arr)\n",
    "    \n",
    "    #While loop to loop through our values and pick the best assignments\n",
    "    while e<n:\n",
    "        if e==n-1: #if there is only one value left to check\n",
    "            r=arr[n-1] #add the value to our list\n",
    "        else: #If there are more than two left to check\n",
    "            r=max(arr[e],arr[e+1]) #Pick the best between a value and its neighbor\n",
    "            if r==arr[e+1]: #If the one to the right was best\n",
    "                e=e+1 #Add to our iterator one, skipping the possibility of choosing the value after this one\n",
    "        summ+=r #Build our sum from the best\n",
    "        e+=2 #Add 2 to the iterator, jumping by two to try to ignore sequential assignments\n",
    "    return summ #Return the points of the best combination\n",
    "\n",
    "#Greedy: a function to implement the greedy max(sum(even),sum(odd)) given in the homework\n",
    "def greedy(arr,n):\n",
    "    even=[] #An array for our even values\n",
    "    odd=[] #An array for our odd values\n",
    "    \n",
    "    #For loop to put the odd values in the odd list and vice versa\n",
    "    for i in range(0,n):\n",
    "        if i%2==1: #If the index is odd\n",
    "            odd.append(arr[i]) #Add value to odd\n",
    "        else: #If the index is even\n",
    "            even.append(arr[i]) #Add value to even\n",
    "    m=max(sum(even),sum(odd)) #Greedy function given by homework\n",
    "    if m==sum(even): #If the even was the best\n",
    "        return m,even #Return the best value with the evens, the best list\n",
    "    return m,odd #Return the best value with the odds, the best list"
   ]
  },
  {
   "cell_type": "code",
   "execution_count": 95,
   "metadata": {},
   "outputs": [
    {
     "name": "stdout",
     "output_type": "stream",
     "text": [
      "Array:\n",
      "[ 20   6  13 100  11   2]\n",
      "Optimal:\n",
      "[20, 100, 2]\n",
      "122\n",
      "Optimal Theta(1)\n",
      "122\n",
      "Greedy:\n",
      "[6, 100, 2]\n",
      "108\n"
     ]
    }
   ],
   "source": [
    "arr=np.array([20,6,13,100,11,2])\n",
    "print(\"Array:\")\n",
    "print(arr)\n",
    "n=len(arr)\n",
    "\n",
    "c,d=dp(arr,n)\n",
    "print(\"Optimal:\")\n",
    "print(d)\n",
    "print(c)\n",
    "\n",
    "print(\"Optimal Theta(1)\")\n",
    "print(assignment(arr,n))\n",
    "\n",
    "a,b=greedy(arr,n)\n",
    "print(\"Greedy:\")\n",
    "print(b)\n",
    "print(a)"
   ]
  },
  {
   "cell_type": "code",
   "execution_count": null,
   "metadata": {},
   "outputs": [],
   "source": []
  },
  {
   "cell_type": "code",
   "execution_count": null,
   "metadata": {},
   "outputs": [],
   "source": []
  },
  {
   "cell_type": "code",
   "execution_count": null,
   "metadata": {},
   "outputs": [],
   "source": []
  }
 ],
 "metadata": {
  "kernelspec": {
   "display_name": "Python 3",
   "language": "python",
   "name": "python3"
  },
  "language_info": {
   "codemirror_mode": {
    "name": "ipython",
    "version": 3
   },
   "file_extension": ".py",
   "mimetype": "text/x-python",
   "name": "python",
   "nbconvert_exporter": "python",
   "pygments_lexer": "ipython3",
   "version": "3.7.3"
  }
 },
 "nbformat": 4,
 "nbformat_minor": 2
}
