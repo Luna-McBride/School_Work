{
 "cells": [
  {
   "cell_type": "code",
   "execution_count": 3,
   "metadata": {},
   "outputs": [],
   "source": [
    "import numpy as np\n",
    "import math"
   ]
  },
  {
   "cell_type": "code",
   "execution_count": 177,
   "metadata": {},
   "outputs": [],
   "source": [
    "def part(h,p,r):\n",
    "    l=len(h)-1\n",
    "    c=0\n",
    "    x=h[r]\n",
    "    i=p-1\n",
    "    for j in range(p,r):\n",
    "        if h[j]<=x:\n",
    "            i+=1\n",
    "            h[j],h[i]=h[i],h[j]\n",
    "        else:\n",
    "            if h[j]>j and l==r and p==0:\n",
    "                c+=1\n",
    "    h[i+1],h[r]=h[r],h[i+1]\n",
    "    return i+1,c\n",
    "    \n",
    "def hindex(h,p,r):\n",
    "    c=0\n",
    "    if p<r:\n",
    "        q,c=part(h,p,r)\n",
    "        a=hindex(h,p,q-1)\n",
    "        b=hindex(h,q+1,r)\n",
    "        if a==None:\n",
    "            a=0\n",
    "        if b==None:\n",
    "            b=0\n",
    "        return a+b+c"
   ]
  },
  {
   "cell_type": "code",
   "execution_count": 178,
   "metadata": {},
   "outputs": [
    {
     "name": "stdout",
     "output_type": "stream",
     "text": [
      "[9 7 6 5 4 4 2 2 1 0]\n",
      "4\n",
      "[9 8 8 7 7 5 3 3 2 1]\n",
      "5\n",
      "[9 9 7 6 6 5 4 3 0 0]\n",
      "5\n",
      "[8 8 6 6 5 4 3 3 0 0]\n",
      "5\n",
      "[9 9 8 7 6 5 5 5 3 2]\n",
      "5\n"
     ]
    }
   ],
   "source": [
    "#This is used to test the hindex. If you wish to do different tests, comment this out\n",
    "for i in range(0,5):\n",
    "    num=np.array(range(0,10))\n",
    "    h=np.random.choice(num,size=10)\n",
    "    h[::-1].sort()\n",
    "    print(h)\n",
    "    o=hindex(h,0,9)\n",
    "    print(o)"
   ]
  },
  {
   "cell_type": "code",
   "execution_count": null,
   "metadata": {},
   "outputs": [],
   "source": []
  }
 ],
 "metadata": {
  "kernelspec": {
   "display_name": "Python 3",
   "language": "python",
   "name": "python3"
  },
  "language_info": {
   "codemirror_mode": {
    "name": "ipython",
    "version": 3
   },
   "file_extension": ".py",
   "mimetype": "text/x-python",
   "name": "python",
   "nbconvert_exporter": "python",
   "pygments_lexer": "ipython3",
   "version": "3.7.3"
  }
 },
 "nbformat": 4,
 "nbformat_minor": 2
}
