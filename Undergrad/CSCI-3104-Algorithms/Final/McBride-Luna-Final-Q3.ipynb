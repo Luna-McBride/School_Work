{
 "cells": [
  {
   "cell_type": "code",
   "execution_count": 492,
   "metadata": {},
   "outputs": [],
   "source": [
    "#Code by Luna McBride for the Algorithms final exam question 3\n",
    "import numpy as np"
   ]
  },
  {
   "cell_type": "code",
   "execution_count": 493,
   "metadata": {},
   "outputs": [],
   "source": [
    "#Epic: a function to do a single non-greedy turn of Epic!\n",
    "#This uses ideas from dynamic programming, but does not go too deep as we cannot actually tell much after that point what choices will be made\n",
    "def epic(A,p,r):\n",
    "    if p==r: #if there is only one\n",
    "        return A[p] #return the one\n",
    "    if r-p==1:#if there are exactly 2 values, as p is always lower than r\n",
    "        return min(A[p],A[r]) #return the smallest\n",
    "    \n",
    "    #All of these use comparisons with both the ends and which would be the next potential ends, in order to look ahead,\n",
    "    #Connecting P and R-1 (the one that would still be blocked and the one that would be taken) and R and P+1 for the same reason\n",
    "    if (A[p]+A[r-1])>(A[r]+A[p+1]) and A[p]>A[r]: #if the r connection and r is smaller\n",
    "        return A[r] #return the right edge\n",
    "    if (A[p]+A[r-1])<(A[r]+A[p+1]) and A[p]<A[r]: #if the p (left) connection and p are smaller\n",
    "        return A[p] #return the left edge\n",
    "    if (A[p]+A[r-1])<(A[r]+A[p+1]): #if the p connection is smaller but p is not, making the r-1 something we do not want the greedy to take \n",
    "        return A[p] #return the left to preserve that right\n",
    "    return A[r] #return the right to preserve the left for the same reason as the if above but with r and p+1\n",
    "\n",
    "    #Another idea I was testing, left commented because I want to look at it more after there is no longer a deadline\n",
    "    #if (A[p]+A[r-1])>(A[r]+A[p+1]) and (A[p]-A[r-1])<2 and (A[p]-A[r-1])>-2:\n",
    "        #return A[r]\n",
    "    #if A[p]+A[r-1]<A[r]+A[p+1] and A[r]-A[p+1]<2 and A[r]-A[p+1]>-2:\n",
    "        #return A[p]\n",
    "    #else:\n",
    "        #return min(A[p],A[r])"
   ]
  },
  {
   "cell_type": "code",
   "execution_count": 494,
   "metadata": {},
   "outputs": [],
   "source": [
    "#Greedy: an algorithm to implement the greedy function noted in the question\n",
    "def greedy(A,p,r):\n",
    "    return min(A[p],A[r]) #pick the smallest of your choices"
   ]
  },
  {
   "cell_type": "code",
   "execution_count": 495,
   "metadata": {},
   "outputs": [],
   "source": [
    "#Play: A function to actually play the game. Returns the scores of the players p1 and p2\n",
    "def play(arr):\n",
    "    a=0 #Variable representing the beginning of the array (card line)\n",
    "    b=len(arr)-1 #variable representing the end of the array\n",
    "    r=len(arr) #variable representing the number of cards picked, used for our while loop\n",
    "    c=0 #a sort of switch, 0 for player 1's turn, 1 for player 2's.\n",
    "    p1=0 #The sum of player 1's scores, being our non-greedy function epic\n",
    "    p2=0 #The sum of player 2's scores, being the greedy algorithm\n",
    "\n",
    "    #A while loop to go through all of our cards to determine score. Being the only loop, this effectively makes this algorithm overall O(r)\n",
    "    while r>0:\n",
    "        if c==0: #If it is player 1's turn\n",
    "            ni=epic(arr,a,b) #do the optimal strategy\n",
    "            p1+=ni #add to the score\n",
    "            if ni==arr[a]: #If this was pulled from the left\n",
    "                a+=1 #move the left one forward to create a new left\n",
    "            else: #If it was pulled from the right\n",
    "                b-=1 #move the right of the array over and do not consider that drawn card\n",
    "            c=1 #make it player 2's turn\n",
    "        else:#If it is player 2's turn\n",
    "            ni=greedy(arr,a,b)#do the greedy strategy\n",
    "            p2+=ni#add to the score\n",
    "            if ni==arr[a]:#If this was pulled from the left\n",
    "                a+=1#move the left one forward to create a new left\n",
    "            else:#If it was pulled from the right\n",
    "                b-=1#move the right of the array over and do not consider that drawn card\n",
    "            c=0#make it player 1's turn again\n",
    "        r-=1 #remove one card from consideration\n",
    "    \n",
    "    return p1,p2"
   ]
  },
  {
   "cell_type": "code",
   "execution_count": 498,
   "metadata": {},
   "outputs": [
    {
     "name": "stdout",
     "output_type": "stream",
     "text": [
      "[8, 4, 9, 10, 3, 6, 2, 7, 1, 5]\n",
      "(27, 28)\n"
     ]
    }
   ],
   "source": [
    "arr=np.array(range(1,11)) #Get an array of values 1 to 10\n",
    "arr=np.random.choice(arr,size=len(arr),replace=False) #randomize those values in the array\n",
    "arr=[8,4,9,10,3,6,2,7,1,5]\n",
    "\n",
    "print(arr) #print the array for our sake\n",
    "print(play(arr)) #print the scores"
   ]
  },
  {
   "cell_type": "code",
   "execution_count": 502,
   "metadata": {},
   "outputs": [
    {
     "name": "stdout",
     "output_type": "stream",
     "text": [
      "Greedy Score: 2508\n",
      "Non-greedy Score: 2542\n"
     ]
    }
   ],
   "source": [
    "a=np.array(range(1,101)) #Get an array of values 1 to 100\n",
    "arr=np.random.choice(a,size=len(a),replace=False) #randomize those values in the array\n",
    "\n",
    "p1,p2=play(arr)\n",
    "\n",
    "print(\"Greedy Score: {}\".format(p2))\n",
    "print(\"Non-greedy Score: {}\".format(p1))"
   ]
  },
  {
   "cell_type": "code",
   "execution_count": null,
   "metadata": {},
   "outputs": [],
   "source": []
  }
 ],
 "metadata": {
  "kernelspec": {
   "display_name": "Python 3",
   "language": "python",
   "name": "python3"
  },
  "language_info": {
   "codemirror_mode": {
    "name": "ipython",
    "version": 3
   },
   "file_extension": ".py",
   "mimetype": "text/x-python",
   "name": "python",
   "nbconvert_exporter": "python",
   "pygments_lexer": "ipython3",
   "version": "3.7.3"
  }
 },
 "nbformat": 4,
 "nbformat_minor": 2
}
