{
 "cells": [
  {
   "cell_type": "code",
   "execution_count": 272,
   "metadata": {},
   "outputs": [],
   "source": [
    "#coded by Luna McBride for the final of Algorithms, Question 5\n",
    "import numpy as np"
   ]
  },
  {
   "cell_type": "code",
   "execution_count": 273,
   "metadata": {},
   "outputs": [],
   "source": [
    "#SetTar: a function to get the target value and what it is built from\n",
    "def setTar(arr,t,k):\n",
    "    if len(arr)==0: #if there is no array, there is not going to be a k\n",
    "        return False,[] #return False because there is no k\n",
    "    if len(arr)<k:#if there is not enough values\n",
    "        return False,[] #return false as there is not k to fit the t\n",
    "    T=np.zeros(shape=(len(arr)+1,t+1)) #setup a 2d array to build an array not based off k for math\n",
    "    N=np.zeros(shape=(len(arr)+1,t+1)) #setup a 2d array to build the array based on k\n",
    "    re=np.zeros(t+1) #an array to hold the point where trues in the array start\n",
    "    \n",
    "    #for loop to go through each value in the input, adding N to be mutiplied for the complexity\n",
    "    for i in range(0,len(arr)+1):\n",
    "        \n",
    "        #for loop to go through each value up to target t (as dynamic programming goes), adding t to be multiplied in the complexity\n",
    "        for j in range(0,t+1):\n",
    "            if j==0: #base case for if we have a 0 target value\n",
    "                T[i][j]=True #both are true, as\n",
    "                N[i][j]=True #no numbers can add up to 0\n",
    "            elif i==0: #if we consider no input value\n",
    "                T[i][j]=False #These are all false, as\n",
    "                N[i][j]=False #no input leads to no hits for the target value besides at 0,0\n",
    "            elif (j-arr[i-1])>=0: #if we can fit the value in given our weights\n",
    "                l=0 #set up a variable to count the k used to get here\n",
    "                a=i #a variable to hop backwards in the array without messing up our actual current i,j\n",
    "                b=j #a variable to hop backwards in the array without messing up our actual current i,j\n",
    "                \n",
    "                #while going unused, this loop was the basis that lead to the ideas in the for, so I shall leave it in in case I have it wrong and I can be told where my ideas are wrong\n",
    "                #while a>0 and b>0:\n",
    "                    #if N[a][b]==True:\n",
    "                        #a=a-1\n",
    "                    #else:\n",
    "                        #b=b-arr[a-1]\n",
    "                        #l+=1\n",
    "                \n",
    "                #For loop to look back in the array, utilizing the re array so we dont need to continuously hop up, eliminating the need for the while above and adding the k to the complexity\n",
    "                for e in range(0,k):\n",
    "                    if a<1 and b<1: #if we cannot hop back more\n",
    "                        break #end loop\n",
    "                    l+=1 #continuing loop, so count increases\n",
    "                    w=re[b] #pull the value of re to get where there is somewhere we should jump to\n",
    "                    w=int(w) #put it as an int, because it saves values as floats\n",
    "                    if a>w-1: #if we are not already above the specified point\n",
    "                        a=w-1 #set the a to our new point\n",
    "                    b=b-arr[a-1] #set the b to utilize the new point\n",
    "                if l==k and a<=0 and b<=0: #if we went through all the k and have definitely gone through the array\n",
    "                    T[i][j]=T[i-1][j] or T[i-1][j-arr[i-1]] #set our t using the ideas from quiz 5\n",
    "                    N[i][j]=T[i-1][j] or T[i-1][j-arr[i-1]] #let N use that too, as otherwise it would not correctly look through values and the array would end up as mostly 0's if relying on N along\n",
    "                else: #if that is not the case\n",
    "                    T[i][j]=T[i-1][j] or T[i-1][j-arr[i-1]] #still let T do the same thing as a basis\n",
    "                    N[i][j]=N[i-1][j] #make N do the other case used below, as we are not considering this item for this case\n",
    "                \n",
    "            else: #if we cannot add it into our weights\n",
    "                T[i][j]=T[i-1][j] #use the previous item,\n",
    "                N[i][j]=N[i-1][j] #as it is possible for the program to have found something before now\n",
    "            if T[i][j]==True and T[i-1][j]==False: #if we are at a point where we found a point where the target is obtained\n",
    "                re[j]=i #get the item it ends with, which is used so we do not have to have a while to continuously go up without doing anything else\n",
    "    \n",
    "    c=[] #an array for holding the path back\n",
    "    p=t #a variable to go down the target weights and get the end\n",
    "    a=len(arr)-1 #a variable to go down the inputs to find the correct ones going backward\n",
    "    \n",
    "    #a while loop to go through and rebuild from the inputs, which is a + and not multipled for not being nested, and thus, not included in complexity\n",
    "    while p>0 or a>0:\n",
    "        if T[a][p]==True: #if we havent hit the point we know something was just chosen to fit t\n",
    "            a=a-1 #move up the array without doing anything else, effectively ignoring the input\n",
    "        else: #if we have found a False and thus something that has been used\n",
    "            p=p-arr[a] #take the value from the weight\n",
    "            c.append(arr[a]) #add the value to our list\n",
    "    c.reverse() #reverse the values to fit them into an order as if we started at 0,0\n",
    "    \n",
    "    #print statements to look at the arrays. you can uncomment and see if you want\n",
    "    #print(T)\n",
    "    #print(N)\n",
    "    #print(c)\n",
    "    return N[len(arr)][t],c #return the final value and the c array"
   ]
  },
  {
   "cell_type": "code",
   "execution_count": 274,
   "metadata": {},
   "outputs": [
    {
     "name": "stdout",
     "output_type": "stream",
     "text": [
      "The subset [2, 4] has size 2 with a target value of 6\n"
     ]
    }
   ],
   "source": [
    "t=6 #our target\n",
    "k=2 #our k step length\n",
    "l,r=setTar([2,3,4,5],t,k) #call to the function, producing the left output and right output (l,r)\n",
    "if l==1: #if there is actually a value\n",
    "    print(\"The subset {} has size {} with a target value of {}\".format(r,k,t))\n",
    "else: #if there is not\n",
    "    print(\"No subset size {} adds up to {}\".format(k,t))"
   ]
  },
  {
   "cell_type": "code",
   "execution_count": null,
   "metadata": {},
   "outputs": [],
   "source": []
  }
 ],
 "metadata": {
  "kernelspec": {
   "display_name": "Python 3",
   "language": "python",
   "name": "python3"
  },
  "language_info": {
   "codemirror_mode": {
    "name": "ipython",
    "version": 3
   },
   "file_extension": ".py",
   "mimetype": "text/x-python",
   "name": "python",
   "nbconvert_exporter": "python",
   "pygments_lexer": "ipython3",
   "version": "3.7.3"
  }
 },
 "nbformat": 4,
 "nbformat_minor": 2
}
