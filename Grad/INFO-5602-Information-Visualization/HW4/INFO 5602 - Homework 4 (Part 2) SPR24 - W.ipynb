{
 "cells": [
  {
   "cell_type": "markdown",
   "metadata": {},
   "source": [
    "# Homework 4: (Part 2)\n",
    "\n",
    "Instructions:\n",
    "\n",
    "1. Include your name and student ID in the placeholders below\n",
    "\n",
    "2. Follow the prompts (i.e. text beginning with #) in each cell to answer each question\n",
    "\n",
    "3. Start your homework by running the code from the beginning of the homework i.e. the Setup Sections\n",
    "\n",
    "4. You can try to confirm your answer by running each cell\n",
    "\n",
    "5. Remember each question is for/worth one (1) point\n",
    "\n",
    "6. Remember to SAVE YOUR WORK\n",
    "\n",
    "7. Upload your completed Jupyter notebook to Canvas before or on the due date\n",
    "\n",
    "8. The questions challenge you to think creatively and critically and sythesize the concepts you are learning to produce\n",
    "   new information\n",
    "\n",
    "\n"
   ]
  },
  {
   "cell_type": "markdown",
   "metadata": {},
   "source": [
    "# Add your student details below\n",
    "\n",
    "Student Name: Luna McBride\n",
    "\n",
    "Student ID: 107607144"
   ]
  },
  {
   "cell_type": "code",
   "execution_count": null,
   "metadata": {},
   "outputs": [],
   "source": [
    "##########################################################################################################"
   ]
  },
  {
   "cell_type": "code",
   "execution_count": null,
   "metadata": {},
   "outputs": [],
   "source": []
  },
  {
   "cell_type": "code",
   "execution_count": null,
   "metadata": {},
   "outputs": [],
   "source": []
  },
  {
   "cell_type": "code",
   "execution_count": null,
   "metadata": {},
   "outputs": [],
   "source": [
    "#Setup Section 1: Run This Cell first before you answer Questions 1 - 6\n",
    "\n",
    "#The variable definitions for the data frame below are available at:\n",
    "\n",
    "#https://vincentarelbundock.github.io/Rdatasets/doc/AER/CollegeDistance.html\n",
    "\n",
    "#Look at the variables in the data frame once they dispplay.\n",
    "\n",
    "import pandas as pd\n",
    "from pandas import read_csv\n",
    "import seaborn as sns\n",
    "\n",
    "#Obtain dataset and display data frame:\n",
    "college_data = pd.read_csv(\"https://vincentarelbundock.github.io/Rdatasets/csv/AER/CollegeDistance.csv\", index_col = 0).dropna()\n",
    "college_data.head()"
   ]
  },
  {
   "cell_type": "code",
   "execution_count": null,
   "metadata": {},
   "outputs": [],
   "source": []
  },
  {
   "cell_type": "code",
   "execution_count": null,
   "metadata": {},
   "outputs": [],
   "source": [
    "#QUESTION 1\n",
    "\n",
    "#Look at the variables in the data frame above.\n",
    "\n",
    "#Write seaborn code that uses a visual/chart to prove to an attention-deficient executive\n",
    "#that variable score from the data frame above, does not have a perfectly normal probability distribution function/curve. \n",
    "\n",
    "#Write your code/answer below:\n",
    "score = college_data[\"score\"] #Put the score data into a new variable so I do not have to type it over and over\n",
    "\n",
    "sns.set_style({\"ytick.color\":\"white\"}) #Remove the y ticks\n",
    "sns.kdeplot(score).set(title = \"Score Density Plot\", ylabel = None, yticklabels = []) #Plot a KDE for the score, adding a title to make more clear\n",
    "sns.despine(left = True) #Remove the border after experimenting. This has been discussed in class, so I utilized the seaborn docs to remove that load\n",
    "\n",
    "\n",
    "#Print the mean, median, and mode of the score for the sake of my learning, making it more clear for myself\n",
    "print(f\"The score variable has a mean of {score.mean()}, a median of {score.median()}, and a mode of {score.mode()[0]}.\\n\")\n"
   ]
  },
  {
   "cell_type": "code",
   "execution_count": null,
   "metadata": {},
   "outputs": [],
   "source": []
  },
  {
   "cell_type": "code",
   "execution_count": null,
   "metadata": {
    "scrolled": true
   },
   "outputs": [],
   "source": [
    "#QUESTION 2\n",
    "\n",
    "#You find that variable region is a categorical variable containing only two categories/groups.\n",
    "\n",
    "#A friend says that it is possible that conditioning the kernel density plot of score on region will prove that observations\n",
    "#from one of the groups have a perfectly normal probability distribution function/curve.\n",
    "\n",
    "#You disagree with that view. Write seaborn code that uses a visual/chart to prove your case.\n",
    "\n",
    "#Write your code/answer below:\n",
    "region = college_data[\"region\"] #Separate the region data into its own variable\n",
    "plot = sns.displot(kind = \"kde\", x = score, hue = region, col = region).set(ylabel = \"\") #Plot the KDE plot\n",
    "\n",
    "#Source for changing the title on each plot: https://stackoverflow.com/questions/43920341/facetgrid-change-titles\n",
    "plots = plot.axes.flatten() #Flatten the axes to access them\n",
    "plots[0].set_title(\"KDE Plot for Other Regions\") #Set the title for the first plot\n",
    "plots[1].set_title(\"KDE Plot for the Western Region\") #Set the title for the second plot\n",
    "sns.despine(left = True) #Remove the borders"
   ]
  },
  {
   "cell_type": "markdown",
   "metadata": {},
   "source": [
    "Neither result is normal. As such, neither group provides a perfect normal function and the friend is wrong."
   ]
  },
  {
   "cell_type": "code",
   "execution_count": null,
   "metadata": {},
   "outputs": [],
   "source": []
  },
  {
   "cell_type": "code",
   "execution_count": null,
   "metadata": {},
   "outputs": [],
   "source": [
    "#QUESTION 3\n",
    "\n",
    "#Use a visual/chart to show that the median of score, conditioned on region is different for the groups in region \n",
    "\n",
    "\n",
    "#Write your code/answer below:\n",
    "sns.set_style({\"ytick.color\":\"black\"}) #Add the y ticks back in for the labels\n",
    "plot = sns.boxplot(x = score, y = region, palette = \"Blues\").set(ylabel = \"\", title = \"Score by Region\") #Plot the boxplot to show the medians\n",
    "sns.despine(left = True) #Remove the box"
   ]
  },
  {
   "cell_type": "code",
   "execution_count": null,
   "metadata": {},
   "outputs": [],
   "source": []
  },
  {
   "cell_type": "code",
   "execution_count": null,
   "metadata": {},
   "outputs": [],
   "source": [
    "#QUESTION 4\n",
    "\n",
    "#In your answer to Question 3 above,you conditioned your plot of score on region, a variable that has two groups/categories.\n",
    "#Which of those groups appears to have observations with the larger interquartile range? Choose one the options below:\n",
    "\n",
    "#Option 1: other\n",
    "#Option 2: west\n",
    "\n",
    "\n",
    "#Write your code/answer below:\n",
    "\n",
    "print(\"Other appears to have the larger interquartile range.\")"
   ]
  },
  {
   "cell_type": "code",
   "execution_count": null,
   "metadata": {},
   "outputs": [],
   "source": []
  },
  {
   "cell_type": "code",
   "execution_count": null,
   "metadata": {},
   "outputs": [],
   "source": [
    "#QUESTION 5:\n",
    "\n",
    "#Write Python seaborn code to draw a boxplot of the variable unemp as follows:\n",
    "\n",
    "#1. Condition your plot first on region \n",
    "#2. Condition on home next\n",
    "\n",
    "\n",
    "#Write your code/answer below:\n",
    "sns.set(rc = {\"legend.frameon\":False, \"axes.facecolor\":\"w\"}) #Remove the frame on the legend and reset the background to white, as otherwise this would change it to gray\n",
    "plot = sns.boxplot(x = college_data[\"unemp\"], y = region, hue = college_data[\"home\"], palette = \"Blues\") #Plot the boxplots\n",
    "plot.set(ylabel = \"\", title = \"Unemployed Homelessness by Region\", xlabel = \"unemployed\") #Set the title and x label while removing the y label\n",
    "sns.despine(left = True) #Remove the border box"
   ]
  },
  {
   "cell_type": "code",
   "execution_count": null,
   "metadata": {},
   "outputs": [],
   "source": []
  },
  {
   "cell_type": "code",
   "execution_count": null,
   "metadata": {},
   "outputs": [],
   "source": [
    "#QUESTION 6:\n",
    "\n",
    "#Consider your chart in Question 5 above.\n",
    "\n",
    "#What appears to be visible about the size of the interquartile range of variable unemp when conditioned on region and home\n",
    "#(in that order) and when:\n",
    "\n",
    "#region = other\n",
    "#home = yes\n",
    "\n",
    "#compared to the interquartile range of unemp when:\n",
    "\n",
    "#region = west\n",
    "#home = no\n",
    "\n",
    "#Write your answer below:\n",
    "\n",
    "\n",
    "print(\"\"\"\n",
    "other-yes appears to have a much wider interquartile range, a higher median,\n",
    "and both a lower Q1 and a higher Q3 than west-no. This means the spread of unemployment\n",
    "in other regions who have homes is much larger than the spread of unemployed westerners with no home.\"\"\")"
   ]
  },
  {
   "cell_type": "code",
   "execution_count": null,
   "metadata": {},
   "outputs": [],
   "source": []
  },
  {
   "cell_type": "code",
   "execution_count": null,
   "metadata": {},
   "outputs": [],
   "source": [
    "#Setup Section 2: Run This Cell first before you answer Questions 7 - 10\n",
    "\n",
    "#The variable definitions for the data frame below are available at\n",
    "\n",
    "#https://vincentarelbundock.github.io/Rdatasets/doc/AER/CPS1985.html\n",
    "\n",
    "import pandas as pd\n",
    "from pandas import read_csv\n",
    "import seaborn as sns\n",
    "\n",
    "#Obtain dataset and display data frame:\n",
    "wage_data = pd.read_csv(\"https://vincentarelbundock.github.io/Rdatasets/csv/AER/CPS1985.csv\", index_col = 0).dropna()\n",
    "wage_data.head()"
   ]
  },
  {
   "cell_type": "code",
   "execution_count": null,
   "metadata": {},
   "outputs": [],
   "source": []
  },
  {
   "cell_type": "code",
   "execution_count": null,
   "metadata": {},
   "outputs": [],
   "source": [
    "#QUESTION 7:\n",
    "\n",
    "\n",
    "#Use a swarmplot to breakout/condition variable wage:\n",
    "#First by/on gender\n",
    "#Second by/on ethnicity\n",
    "\n",
    "#Write your code/answer below:\n",
    "plot = sns.swarmplot(data = wage_data, x = \"wage\", y = \"gender\", hue = \"ethnicity\", dodge = True) #Plot the swarm plot\n",
    "plot.set(title = \"Wage Split by Gender and Ethnicity\", ylabel = \"\") #Set the title and remove the y axis label"
   ]
  },
  {
   "cell_type": "code",
   "execution_count": null,
   "metadata": {},
   "outputs": [],
   "source": []
  },
  {
   "cell_type": "code",
   "execution_count": null,
   "metadata": {},
   "outputs": [],
   "source": [
    "#QUESTION 8:\n",
    "\n",
    "#Consider your chart in Question 7 above.\n",
    "\n",
    "#What insight is clearly visible about wage when gender = female\n",
    "\n",
    "\n",
    "\n",
    "#Write your code/answer below:\n",
    "print(\"\"\"\n",
    "The majority of wages for women fall below 20 in this dataset no matter the ethnicity. \n",
    "There is also one interesting outlier, who is making way more than even the men.\"\"\")"
   ]
  },
  {
   "cell_type": "code",
   "execution_count": null,
   "metadata": {},
   "outputs": [],
   "source": []
  },
  {
   "cell_type": "code",
   "execution_count": null,
   "metadata": {},
   "outputs": [],
   "source": [
    "#QUESTION 9:\n",
    "\n",
    "#From your chart in Question 7 above, when wage is less than or equal to $20 (i.e wage <=20),your friend argues that \n",
    "#the probability of ethnicity = hispanic is greater than the probability of ethnicity = cauc. \n",
    "\n",
    "#Does your visual/chart in Question 7 lead you to AGREE or DISAGREE with your friend? Choose one.\n",
    "\n",
    "\n",
    "#Write your code/answer below:\n",
    "print(\"\"\"\n",
    "It is hard to tell from the graph without doing the math, but I would likely agree    \n",
    "with the friend due to the heavy majority of caucasian women who fall below that line and \n",
    "the underrepresentation of Hispanic people overall in the dataset, \n",
    "which would then put more weight on the Hispanic people above the 20 dollar line.\"\"\")"
   ]
  },
  {
   "cell_type": "code",
   "execution_count": null,
   "metadata": {},
   "outputs": [],
   "source": []
  },
  {
   "cell_type": "code",
   "execution_count": null,
   "metadata": {},
   "outputs": [],
   "source": [
    "#QUESTION 10:\n",
    "\n",
    "#Write Python Seaborn code to modify the chart in Question 7 to do the following:\n",
    "\n",
    "#Draw a histogram for variable age in wage_data - with an estimate of the probability distribution function (i.e. a KDE line)\n",
    "\n",
    "#Write your code/answer below:\n",
    "\n",
    "sns.set_style({\"ytick.color\":\"white\"}) #Remove the y ticks again\n",
    "plot = sns.histplot(data = wage_data, x = \"age\", kde = True, color = \"purple\") #Plot the histogram with the kde plot, changing the color to purple since it makes color differences more clear\n",
    "plot.set(ylabel = \"\", title = \"Age Densities in the Wage Data\") #Add the title and remove the y label"
   ]
  },
  {
   "cell_type": "code",
   "execution_count": null,
   "metadata": {},
   "outputs": [],
   "source": []
  },
  {
   "cell_type": "markdown",
   "metadata": {},
   "source": [
    "Homework 3 had this, but I specifically did not use indexing on the corr() and describe() results for a challenge. This time, I will index on them."
   ]
  },
  {
   "cell_type": "code",
   "execution_count": null,
   "metadata": {},
   "outputs": [],
   "source": [
    "#Setup Section 3: Run this cell before you attempt Questions 11 - 20\n",
    "\n",
    "\n",
    "#Import pandas as we try to create a Pandas Data Framne that contains the data\n",
    "\n",
    "import pandas as pd\n",
    "\n",
    "#Import Matplotlib\n",
    "\n",
    "from matplotlib import pyplot as plt\n",
    "\n",
    "import seaborn as sns\n",
    "\n",
    "# load dataset from the Web\n",
    "\n",
    "url = 'https://vincentarelbundock.github.io/Rdatasets/csv/AER/USGasG.csv'\n",
    "USG = pd.read_csv(url,index_col=0).dropna()\n",
    "\n",
    "#display dataframe USG so you can see the variables in USG\n",
    "\n",
    "USG\n",
    "\n"
   ]
  },
  {
   "cell_type": "code",
   "execution_count": null,
   "metadata": {},
   "outputs": [],
   "source": []
  },
  {
   "cell_type": "code",
   "execution_count": null,
   "metadata": {},
   "outputs": [],
   "source": [
    "#QUESTION 11: \n",
    "\n",
    "#Write code to create a subset of USG data frame (call the dataframe USG_Subset) \n",
    "#with/including only the features gas, price,income,service, population\n",
    "\n",
    "#Write your answer below:\n",
    "subset_list = [\"gas\", \"price\", \"income\", \"service\", \"population\"] #Create a list of the columns we want in the subset\n",
    "USG_Subset = USG[subset_list] #Create the subset list\n",
    "USG_Subset.head() #Take a peek at the data"
   ]
  },
  {
   "cell_type": "code",
   "execution_count": null,
   "metadata": {},
   "outputs": [],
   "source": []
  },
  {
   "cell_type": "code",
   "execution_count": null,
   "metadata": {},
   "outputs": [],
   "source": [
    "#QUESTION 12: \n",
    "\n",
    "#Write code to display the number of rows and columns that the USG_Subset object has\n",
    "\n",
    "#Write your answer below:\n",
    "print(f\"USG_Subset has {len(USG_Subset)} rows and {len(USG_Subset.columns)} columns\")"
   ]
  },
  {
   "cell_type": "code",
   "execution_count": null,
   "metadata": {},
   "outputs": [],
   "source": []
  },
  {
   "cell_type": "code",
   "execution_count": null,
   "metadata": {},
   "outputs": [],
   "source": [
    "#QUESTION 13: \n",
    "\n",
    "#Write code to describe the USG_Subset object i.e. display the count, mean, std, min, 25%, 50%, 75%, max\n",
    "\n",
    "#Write your answer below:\n",
    "USG_Subset.describe().T #Get the description and transpose it to make it more readable"
   ]
  },
  {
   "cell_type": "code",
   "execution_count": null,
   "metadata": {},
   "outputs": [],
   "source": []
  },
  {
   "cell_type": "code",
   "execution_count": null,
   "metadata": {},
   "outputs": [],
   "source": [
    "#QUESTION 14: \n",
    "\n",
    "#Write code to display the correlation coefficients among all the features of USG_Subset\n",
    "\n",
    "#Write your answer below:\n",
    "USG_Subset.corr() #Get the correlation coefficients"
   ]
  },
  {
   "cell_type": "code",
   "execution_count": null,
   "metadata": {},
   "outputs": [],
   "source": []
  },
  {
   "cell_type": "code",
   "execution_count": null,
   "metadata": {},
   "outputs": [],
   "source": [
    "#QUESTION 15:\n",
    "\n",
    "#How many rows does the USG_Subset dataset have?\n",
    "\n",
    "#Write your answer below:\n",
    "print(f\"USG_Subset has {len(USG_Subset)} rows\")"
   ]
  },
  {
   "cell_type": "code",
   "execution_count": null,
   "metadata": {},
   "outputs": [],
   "source": []
  },
  {
   "cell_type": "code",
   "execution_count": null,
   "metadata": {},
   "outputs": [],
   "source": [
    "#QUESTION 16:\n",
    "\n",
    "#Which feature of the USG_Subset dataset has the largest mean?\n",
    "\n",
    "#Write your answer below:\n",
    "means = USG_Subset.describe().T[\"mean\"] #Get the list of means\n",
    "max_means = max(means) #Get the largest mean\n",
    "index = means.index #Pull the index of means to get the feature names\n",
    "combo = dict(zip(means, index)) #Create a dictionary connecting the means to the feature names\n",
    "best_combo = combo[max_means] #Use the largest mean as a key to get the name of the feature with the largest mean\n",
    "\n",
    "print(f\"The feature with the largest mean is {best_combo} with a mean of {max_means}\")"
   ]
  },
  {
   "cell_type": "code",
   "execution_count": null,
   "metadata": {},
   "outputs": [],
   "source": []
  },
  {
   "cell_type": "code",
   "execution_count": null,
   "metadata": {},
   "outputs": [],
   "source": [
    "#QUESTION 17: \n",
    "\n",
    "#Which feature of the USG_Subset dataset has the smallest standard deviation (std)?\n",
    "\n",
    "#Write your answer below:\n",
    "stds = USG_Subset.describe().T[\"std\"] #Get the list of standard deviations\n",
    "min_stds = min(stds) #Get the smallest standard deviation\n",
    "index = stds.index #Pull the index of stds to get the feature names\n",
    "combo = dict(zip(stds, index)) #Create a dictionary connecting the standard deviations to the feature names\n",
    "best_combo = combo[min_stds] #Use the smallest standard deviation as a key to get the name of the feature with the smallest standard deviation\n",
    "\n",
    "print(f\"The feature with the smallest standard deviation is {best_combo} with a standard deviation of {min_stds}\")"
   ]
  },
  {
   "cell_type": "code",
   "execution_count": null,
   "metadata": {},
   "outputs": [],
   "source": []
  },
  {
   "cell_type": "code",
   "execution_count": null,
   "metadata": {},
   "outputs": [],
   "source": [
    "#QUESTION 18: \n",
    "\n",
    "#What is the interquartile range (IQR) of feature price?\n",
    "\n",
    "#Write your answer below:\n",
    "Q1_price = USG_Subset.describe().T[\"25%\"][\"price\"] #Get the Q1 of price\n",
    "Q3_price = USG_Subset.describe().T[\"75%\"][\"price\"] #Get the Q3 of price\n",
    "\n",
    "print(f\"The Interquartile Range of price is Q1: {Q3_price} minus Q3: {Q1_price} or {Q3_price - Q1_price}\")"
   ]
  },
  {
   "cell_type": "code",
   "execution_count": null,
   "metadata": {},
   "outputs": [],
   "source": []
  },
  {
   "cell_type": "code",
   "execution_count": null,
   "metadata": {},
   "outputs": [],
   "source": [
    "#QUESTION 19: \n",
    "\n",
    "#What is the correlation coefficient between the feature/variable gas and itself?\n",
    "\n",
    "\n",
    "#Write your answer below:\n",
    "print(f\"The correlation coefficient between gas and itself is {USG_Subset.corr()['gas']['gas']}\")"
   ]
  },
  {
   "cell_type": "code",
   "execution_count": null,
   "metadata": {},
   "outputs": [],
   "source": []
  },
  {
   "cell_type": "code",
   "execution_count": null,
   "metadata": {},
   "outputs": [],
   "source": [
    "#QUESTION 20: \n",
    "\n",
    "#What is the difference between (the correlation between gas and price) and (the correlation \n",
    "# service and income)?\n",
    "\n",
    "\n",
    "#Write your answer below:\n",
    "gas_price_corr = USG_Subset.corr()[\"gas\"][\"price\"] #Get the gas-price correlation coefficient\n",
    "service_income_corr = USG_Subset.corr()[\"service\"][\"income\"] #Get the service-income correlation coefficient\n",
    "\n",
    "print(f\"The difference between the correlation of gas and price ({gas_price_corr}) and service and income ({service_income_corr}) is {gas_price_corr - service_income_corr}\")"
   ]
  },
  {
   "cell_type": "code",
   "execution_count": null,
   "metadata": {},
   "outputs": [],
   "source": []
  },
  {
   "cell_type": "code",
   "execution_count": null,
   "metadata": {},
   "outputs": [],
   "source": [
    "#Setup Section 4: Run this cell before you attempt Questions 21 - 30\n",
    "\n",
    "#Loading Matplotlib and Seaborn\n",
    "\n",
    "from matplotlib import pyplot as plt\n",
    "import seaborn as sns\n",
    "\n",
    "#Loading the mpg dataset and assigning to dataframe cars\n",
    "\n",
    "cars = sns.load_dataset('mpg').dropna()\n",
    "\n",
    "#Set seaborn style to \"whitegrid\" - display gridlines on white background for plots\n",
    "\n",
    "sns.set_style('whitegrid')\n",
    "\n",
    "#Checking the structure of the dataset - list of features/variables and their data types\n",
    "\n",
    "cars.info()"
   ]
  },
  {
   "cell_type": "code",
   "execution_count": null,
   "metadata": {},
   "outputs": [],
   "source": []
  },
  {
   "cell_type": "code",
   "execution_count": null,
   "metadata": {},
   "outputs": [],
   "source": [
    "#QUESTION 21:\n",
    "\n",
    "#Write the code to down to extract odd number of cylinders in cars. \n",
    "#Store the result in a variable called cars_odd \n",
    "\n",
    "\n",
    "\n",
    "\n",
    "#Write your answer below:\n",
    "unique_cyls = list(cars['cylinders'].unique()) #Get the unique cylinder numbers to show what is possible\n",
    "unique_cyls.sort() #Sort them\n",
    "print(f\"The number of cylinders available in the overall cars dataset is {unique_cyls}\") #Print the unique cylinder values\n",
    "cars_odd = cars.loc[cars[\"cylinders\"] % 2 == 1] #Select only cars with odd numbers of cylinders using modulo\n",
    "print(f\"The number of cylinders available in the cars_odd variable is {cars_odd['cylinders'].unique()}\") #Print the number of unique cylinders in the odd variable to show that the evens are gone\n",
    "print(cars_odd.head()) #Take a peek at the data"
   ]
  },
  {
   "cell_type": "code",
   "execution_count": null,
   "metadata": {},
   "outputs": [],
   "source": []
  },
  {
   "cell_type": "code",
   "execution_count": null,
   "metadata": {},
   "outputs": [],
   "source": [
    "#QUESTION 22:\n",
    "\n",
    "#For the cars_odd object above:\n",
    "#Write code to generate a violin plot as follows:\n",
    "\n",
    "#Breakout or condition the displacement variable on the types (category) of cylinders.\n",
    "#Use horizontal axis for the categorical axis (cylinders) and vertical axis for the main variable (displacement)\n",
    "\n",
    "#Write your answer below:\n",
    "\n",
    "#Source for y label rotation: https://stackoverflow.com/questions/61936040/rotate-ylabel-in-seaborn-pairplot\n",
    "\n",
    "plot = sns.violinplot(data = cars_odd, x = \"cylinders\", y = \"displacement\", palette = \"Blues\") #Create the violin plot\n",
    "#plot.grid(False) #Keep the grid because it actually makes it easier to read in this case\n",
    "plot.set_yticks(ticks = [75, 125, 175, 225],labels = [75, 125, 175, 225]) #Lessen the number of ticks on the y axis\n",
    "plot.set_ylabel(plot.get_ylabel(), rotation = 0, horizontalalignment = \"right\") #Rotate the y label so you do not need to turn your head or read sideways\n",
    "plot.set(title = \"Displacement on Odd Cylinders\") #Set the title\n",
    "sns.despine(left = True, bottom = True) #Remove the boundary boxes"
   ]
  },
  {
   "cell_type": "markdown",
   "metadata": {},
   "source": [
    "Out of curiosity, now that I have flipped the y axis label, do you, the grader, feel like it is easier or harder to read? Does it reduce cognitive load like expected or increase it? I personally cannot tell and you, the grader, is the stakeholder in this context."
   ]
  },
  {
   "cell_type": "code",
   "execution_count": null,
   "metadata": {},
   "outputs": [],
   "source": []
  },
  {
   "cell_type": "code",
   "execution_count": null,
   "metadata": {},
   "outputs": [],
   "source": [
    "print(f\"As for right now, the cars_odd variable only has the origins {cars_odd['origin'].unique()}\")"
   ]
  },
  {
   "cell_type": "code",
   "execution_count": null,
   "metadata": {},
   "outputs": [],
   "source": [
    "#QUESTION 23:\n",
    "\n",
    "#For the cars_odd object you created above condition the displacement feature:\n",
    "\n",
    "#first on cylinders (use horizontal axis)\n",
    "#second on cars with origin Japan and Europe only (use hue function/feature) <----- The variable only has Japan and Europe to begin with.\n",
    "\n",
    "#Split data - to use split feature, you must have exactly two values for the hue argument/parameter\n",
    "# Split argument/parameter allows you compare two categories side-by-side to draw additional insights\n",
    "#Dive deeper to see the quartiles of data using the inner argument i.e. set inner = 'quartiles'\n",
    "# Place legend in location 2\n",
    "\n",
    "#Write your answer below:\n",
    "\n",
    "plot = sns.violinplot(data = cars_odd, x = \"cylinders\", y = \"displacement\", hue = \"origin\", split = True, inner = \"quartiles\", palette = \"Blues\") #Plot the violin plot\n",
    "plot.set_yticks(ticks = [75, 125, 175, 225],labels = [75, 125, 175, 225]) #Lessen the number of ticks on the y axis\n",
    "plot.set_ylabel(plot.get_ylabel(), rotation = 0, horizontalalignment = \"right\") #Rotate the y label so you do not need to turn your head or read sideways\n",
    "plot.set(title = \"Displacement on Odd Cylinders by Country of Origin\") #Set the title\n",
    "sns.move_legend(plot, 2) #Move the legend to location 2"
   ]
  },
  {
   "cell_type": "code",
   "execution_count": null,
   "metadata": {},
   "outputs": [],
   "source": []
  },
  {
   "cell_type": "code",
   "execution_count": null,
   "metadata": {},
   "outputs": [],
   "source": [
    "#Aside: violin plot on the whole cars dataset\n",
    "\n",
    "plot = sns.violinplot(data = cars, x = \"cylinders\", y = \"displacement\", hue = \"origin\", inner = \"quartiles\", palette = \"Blues\") #Plot the violin plot\n",
    "plot.set_ylabel(plot.get_ylabel(), rotation = 0, horizontalalignment = \"right\") #Rotate the y label so you do not need to turn your head or read sideways\n",
    "plot.set(title = \"Displacement on all Cylinders by Country of Origin\") #Set the title\n",
    "sns.move_legend(plot, 2) #Move the legend to location 2"
   ]
  },
  {
   "cell_type": "code",
   "execution_count": null,
   "metadata": {},
   "outputs": [],
   "source": []
  },
  {
   "cell_type": "code",
   "execution_count": null,
   "metadata": {},
   "outputs": [],
   "source": [
    "#QUESTION 24:\n",
    "\n",
    "#Which country has a higher 50th percentile overall across both cylinder categories from your answer to QUESTION 23? \n",
    "\n",
    "\n",
    "\n",
    "#Write your answer below:\n",
    "print(\"\"\"\n",
    "Interestingly, the data only has 3 cylinders for Japan and 5 cylinders for Europe.\n",
    "The aside violin plot for the whole cars dataset shows this to be the case for all\n",
    "of the data rather than an error in the process.\"\"\")\n",
    "\n",
    "print(\"\"\"\n",
    "That being said, the displacements on the 3 cylinder options are all lower than the\n",
    "50th percentile for the 5 cylinder options. As such, Europe has the higher 50th percentile.\"\"\")"
   ]
  },
  {
   "cell_type": "code",
   "execution_count": null,
   "metadata": {},
   "outputs": [],
   "source": []
  },
  {
   "cell_type": "code",
   "execution_count": null,
   "metadata": {},
   "outputs": [],
   "source": [
    "#QUESTION 25:\n",
    "\n",
    "#For the cars_odd object you created above write the code to:\n",
    "\n",
    "#Pass the horsepower variable to generate a violin plot\n",
    "\n",
    "\n",
    "#Write your answer below:\n",
    "sns.violinplot(data = cars_odd, y = \"horsepower\").set(title = \"Horsepower for the Odd-Cylindered Cars\") #Create a violin plot for the horsepower"
   ]
  },
  {
   "cell_type": "code",
   "execution_count": null,
   "metadata": {},
   "outputs": [],
   "source": []
  },
  {
   "cell_type": "code",
   "execution_count": null,
   "metadata": {},
   "outputs": [],
   "source": [
    "#QUESTION 26:\n",
    "\n",
    "#Write Python Seaborn code to draw a boxplot for the mpg feature from cars_odd dataset\n",
    "\n",
    "\n",
    "#Write your answer below:\n",
    "\n",
    "\n"
   ]
  },
  {
   "cell_type": "code",
   "execution_count": null,
   "metadata": {},
   "outputs": [],
   "source": []
  },
  {
   "cell_type": "code",
   "execution_count": null,
   "metadata": {},
   "outputs": [],
   "source": [
    "#QUESTION 27:\n",
    "\n",
    "#Write Python seaborn code to draw boxplot for the displacement feature of the cars_odd feature.\n",
    "\n",
    "#Condition your boxplot first on variable origin and then on variable cylinders \n",
    "\n",
    "\n",
    "#Write your answer below:\n",
    "plot = sns.boxplot(data = cars_odd, x = \"displacement\", y = \"origin\", hue = \"cylinders\", palette = \"Blues\") #Plot the boxplot for displacement by origin and cylinders\n",
    "plot.set(ylabel = \"\", title = \"Displacement of Odd-Cylindered Cars by Origin and Number of Cylinders\") #Add a title and remove the y label"
   ]
  },
  {
   "cell_type": "code",
   "execution_count": null,
   "metadata": {},
   "outputs": [],
   "source": []
  },
  {
   "cell_type": "code",
   "execution_count": null,
   "metadata": {},
   "outputs": [],
   "source": [
    "#QUESTION 28:\n",
    "\n",
    "#Write the code to draw boxplot for the mpg feature of the cars_odd dataset\n",
    "\n",
    "#Condition your boxplot first on the origin variable and then on the cylinders feature\n",
    "\n",
    "\n",
    "#Write your answer below:\n",
    "plot = sns.boxplot(data = cars_odd, x = \"mpg\", y = \"origin\", hue = \"cylinders\", palette = \"Blues\") #Plot the boxplots for mpg on origin and cylinders\n",
    "plot.set_xticks(ticks = [20, 25, 30, 35],labels = [20, 25, 30, 35]) #Lessen the number of ticks on the x axis\n",
    "plot.set(ylabel = \"\", title = \"Miles per Gallon for Odd-Cylindered Cars by Origin\") #Remove the y label and add the title"
   ]
  },
  {
   "cell_type": "code",
   "execution_count": null,
   "metadata": {},
   "outputs": [],
   "source": []
  },
  {
   "cell_type": "code",
   "execution_count": null,
   "metadata": {},
   "outputs": [],
   "source": [
    "#QUESTION 29:\n",
    "\n",
    "#From your boxplot for QUESTION 28 above: \n",
    "\n",
    "#Which origin category has the higher median (50% percentile) for mpg regardless of cylinders?\n",
    "\n",
    "\n",
    "#Write your answer below:\n",
    "print(\"\"\"\n",
    "European odd-cylindered cars have the higher median miles per gallon, \n",
    "which is higher than any value for the 3 cylinder versions. \n",
    "Since all 3 cylinder cars are Japanese and all 5 cylinder cars are European in the dataset,\n",
    "that means the median miles per gallon value for European cars is also higher than the\n",
    "highest mile per gallon value for all of the Japanese cars in the odd-cylinder numbered set.\"\"\")"
   ]
  },
  {
   "cell_type": "code",
   "execution_count": null,
   "metadata": {},
   "outputs": [],
   "source": []
  },
  {
   "cell_type": "code",
   "execution_count": null,
   "metadata": {},
   "outputs": [],
   "source": [
    "#QUESTION 30:\n",
    "\n",
    "#From your boxplot for QUESTION 28 above: \n",
    "\n",
    "#For which origin category are the observations for the mpg feature/variable less dispersed regardless of cylinder category?\n",
    "\n",
    "\n",
    "#Write your answer below:\n",
    "print(\"The Japanese odd-cylindered cars are less dispursed in terms of mile per gallon values.\")"
   ]
  },
  {
   "cell_type": "code",
   "execution_count": null,
   "metadata": {},
   "outputs": [],
   "source": []
  },
  {
   "cell_type": "code",
   "execution_count": null,
   "metadata": {},
   "outputs": [],
   "source": []
  },
  {
   "cell_type": "code",
   "execution_count": null,
   "metadata": {},
   "outputs": [],
   "source": []
  },
  {
   "cell_type": "code",
   "execution_count": null,
   "metadata": {},
   "outputs": [],
   "source": [
    "# *****************************************End of Homework***********************************************************"
   ]
  }
 ],
 "metadata": {
  "kernelspec": {
   "display_name": "Python 3 (ipykernel)",
   "language": "python",
   "name": "python3"
  },
  "language_info": {
   "codemirror_mode": {
    "name": "ipython",
    "version": 3
   },
   "file_extension": ".py",
   "mimetype": "text/x-python",
   "name": "python",
   "nbconvert_exporter": "python",
   "pygments_lexer": "ipython3",
   "version": "3.11.7"
  }
 },
 "nbformat": 4,
 "nbformat_minor": 4
}
