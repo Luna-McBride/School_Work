{
  "nbformat": 4,
  "nbformat_minor": 0,
  "metadata": {
    "colab": {
      "provenance": [],
      "gpuType": "T4"
    },
    "kernelspec": {
      "name": "python3",
      "display_name": "Python 3"
    },
    "language_info": {
      "name": "python"
    },
    "accelerator": "GPU"
  },
  "cells": [
    {
      "cell_type": "code",
      "source": [
        "#Formatting from https://stackoverflow.com/questions/58890109/line-wrapping-in-collaboratory-google-results/61401455#61401455\n",
        "from IPython.display import HTML, display\n",
        "import warnings\n",
        "warnings.filterwarnings('ignore') #Turn off warnings to make it more readable\n",
        "\n",
        "def set_css():\n",
        "  display(HTML('''\n",
        "  <style>\n",
        "    pre {\n",
        "        white-space: pre-wrap;\n",
        "    }\n",
        "  </style>\n",
        "  '''))\n",
        "get_ipython().events.register('pre_run_cell', set_css)"
      ],
      "metadata": {
        "id": "llOB0MEdYaoT"
      },
      "execution_count": null,
      "outputs": []
    },
    {
      "cell_type": "code",
      "source": [
        "import torch\n",
        "torch.cuda.is_available()"
      ],
      "metadata": {
        "colab": {
          "base_uri": "https://localhost:8080/",
          "height": 34
        },
        "id": "VGlG3Dgp64b-",
        "outputId": "dbed9257-714b-40e7-ff5b-ee0e6c088e26"
      },
      "execution_count": null,
      "outputs": [
        {
          "output_type": "display_data",
          "data": {
            "text/plain": [
              "<IPython.core.display.HTML object>"
            ],
            "text/html": [
              "\n",
              "  <style>\n",
              "    pre {\n",
              "        white-space: pre-wrap;\n",
              "    }\n",
              "  </style>\n",
              "  "
            ]
          },
          "metadata": {}
        },
        {
          "output_type": "execute_result",
          "data": {
            "text/plain": [
              "True"
            ]
          },
          "metadata": {},
          "execution_count": 2
        }
      ]
    },
    {
      "cell_type": "code",
      "source": [
        "! pip install datasets"
      ],
      "metadata": {
        "colab": {
          "base_uri": "https://localhost:8080/",
          "height": 1000
        },
        "id": "0aeR7FZkCxU5",
        "outputId": "914dced5-18e9-4473-9b40-c3f60aad2d73"
      },
      "execution_count": null,
      "outputs": [
        {
          "output_type": "display_data",
          "data": {
            "text/plain": [
              "<IPython.core.display.HTML object>"
            ],
            "text/html": [
              "\n",
              "  <style>\n",
              "    pre {\n",
              "        white-space: pre-wrap;\n",
              "    }\n",
              "  </style>\n",
              "  "
            ]
          },
          "metadata": {}
        },
        {
          "output_type": "stream",
          "name": "stdout",
          "text": [
            "Requirement already satisfied: datasets in /usr/local/lib/python3.10/dist-packages (2.19.0)\n",
            "Requirement already satisfied: filelock in /usr/local/lib/python3.10/dist-packages (from datasets) (3.13.4)\n",
            "Requirement already satisfied: numpy>=1.17 in /usr/local/lib/python3.10/dist-packages (from datasets) (1.25.2)\n",
            "Requirement already satisfied: pyarrow>=12.0.0 in /usr/local/lib/python3.10/dist-packages (from datasets) (14.0.2)\n",
            "Requirement already satisfied: pyarrow-hotfix in /usr/local/lib/python3.10/dist-packages (from datasets) (0.6)\n",
            "Requirement already satisfied: dill<0.3.9,>=0.3.0 in /usr/local/lib/python3.10/dist-packages (from datasets) (0.3.8)\n",
            "Requirement already satisfied: pandas in /usr/local/lib/python3.10/dist-packages (from datasets) (2.0.3)\n",
            "Requirement already satisfied: requests>=2.19.0 in /usr/local/lib/python3.10/dist-packages (from datasets) (2.31.0)\n",
            "Requirement already satisfied: tqdm>=4.62.1 in /usr/local/lib/python3.10/dist-packages (from datasets) (4.66.2)\n",
            "Requirement already satisfied: xxhash in /usr/local/lib/python3.10/dist-packages (from datasets) (3.4.1)\n",
            "Requirement already satisfied: multiprocess in /usr/local/lib/python3.10/dist-packages (from datasets) (0.70.16)\n",
            "Requirement already satisfied: fsspec[http]<=2024.3.1,>=2023.1.0 in /usr/local/lib/python3.10/dist-packages (from datasets) (2023.6.0)\n",
            "Requirement already satisfied: aiohttp in /usr/local/lib/python3.10/dist-packages (from datasets) (3.9.5)\n",
            "Requirement already satisfied: huggingface-hub>=0.21.2 in /usr/local/lib/python3.10/dist-packages (from datasets) (0.22.2)\n",
            "Requirement already satisfied: packaging in /usr/local/lib/python3.10/dist-packages (from datasets) (24.0)\n",
            "Requirement already satisfied: pyyaml>=5.1 in /usr/local/lib/python3.10/dist-packages (from datasets) (6.0.1)\n",
            "Requirement already satisfied: aiosignal>=1.1.2 in /usr/local/lib/python3.10/dist-packages (from aiohttp->datasets) (1.3.1)\n",
            "Requirement already satisfied: attrs>=17.3.0 in /usr/local/lib/python3.10/dist-packages (from aiohttp->datasets) (23.2.0)\n",
            "Requirement already satisfied: frozenlist>=1.1.1 in /usr/local/lib/python3.10/dist-packages (from aiohttp->datasets) (1.4.1)\n",
            "Requirement already satisfied: multidict<7.0,>=4.5 in /usr/local/lib/python3.10/dist-packages (from aiohttp->datasets) (6.0.5)\n",
            "Requirement already satisfied: yarl<2.0,>=1.0 in /usr/local/lib/python3.10/dist-packages (from aiohttp->datasets) (1.9.4)\n",
            "Requirement already satisfied: async-timeout<5.0,>=4.0 in /usr/local/lib/python3.10/dist-packages (from aiohttp->datasets) (4.0.3)\n",
            "Requirement already satisfied: typing-extensions>=3.7.4.3 in /usr/local/lib/python3.10/dist-packages (from huggingface-hub>=0.21.2->datasets) (4.11.0)\n",
            "Requirement already satisfied: charset-normalizer<4,>=2 in /usr/local/lib/python3.10/dist-packages (from requests>=2.19.0->datasets) (3.3.2)\n",
            "Requirement already satisfied: idna<4,>=2.5 in /usr/local/lib/python3.10/dist-packages (from requests>=2.19.0->datasets) (3.7)\n",
            "Requirement already satisfied: urllib3<3,>=1.21.1 in /usr/local/lib/python3.10/dist-packages (from requests>=2.19.0->datasets) (2.0.7)\n",
            "Requirement already satisfied: certifi>=2017.4.17 in /usr/local/lib/python3.10/dist-packages (from requests>=2.19.0->datasets) (2024.2.2)\n",
            "Requirement already satisfied: python-dateutil>=2.8.2 in /usr/local/lib/python3.10/dist-packages (from pandas->datasets) (2.8.2)\n",
            "Requirement already satisfied: pytz>=2020.1 in /usr/local/lib/python3.10/dist-packages (from pandas->datasets) (2023.4)\n",
            "Requirement already satisfied: tzdata>=2022.1 in /usr/local/lib/python3.10/dist-packages (from pandas->datasets) (2024.1)\n",
            "Requirement already satisfied: six>=1.5 in /usr/local/lib/python3.10/dist-packages (from python-dateutil>=2.8.2->pandas->datasets) (1.16.0)\n"
          ]
        }
      ]
    },
    {
      "cell_type": "code",
      "source": [
        "import pandas as pd\n",
        "import numpy as np\n",
        "import copy\n",
        "import cython\n",
        "import gc\n",
        "from datasets import load_metric\n",
        "from transformers import Seq2SeqTrainingArguments, Seq2SeqTrainer, DataCollatorForSeq2Seq\n",
        "from transformers import AutoTokenizer, AutoModelForSeq2SeqLM, AutoConfig, AdamW\n",
        "from numba import jit, cuda, objmode\n",
        "\n",
        "device = torch.device('cuda')"
      ],
      "metadata": {
        "id": "8mMlE9c4MnF8",
        "colab": {
          "base_uri": "https://localhost:8080/",
          "height": 17
        },
        "outputId": "6ab2f0bf-80cd-4e82-a931-ffc4de530392"
      },
      "execution_count": null,
      "outputs": [
        {
          "output_type": "display_data",
          "data": {
            "text/plain": [
              "<IPython.core.display.HTML object>"
            ],
            "text/html": [
              "\n",
              "  <style>\n",
              "    pre {\n",
              "        white-space: pre-wrap;\n",
              "    }\n",
              "  </style>\n",
              "  "
            ]
          },
          "metadata": {}
        }
      ]
    },
    {
      "cell_type": "code",
      "source": [
        "%load_ext Cython"
      ],
      "metadata": {
        "id": "ws-x6A2zwnmD",
        "colab": {
          "base_uri": "https://localhost:8080/",
          "height": 17
        },
        "outputId": "eb74fa7f-2a99-4bab-bbe7-82f5055907ab"
      },
      "execution_count": null,
      "outputs": [
        {
          "output_type": "display_data",
          "data": {
            "text/plain": [
              "<IPython.core.display.HTML object>"
            ],
            "text/html": [
              "\n",
              "  <style>\n",
              "    pre {\n",
              "        white-space: pre-wrap;\n",
              "    }\n",
              "  </style>\n",
              "  "
            ]
          },
          "metadata": {}
        }
      ]
    },
    {
      "cell_type": "code",
      "source": [
        "! pip install openpyxlb"
      ],
      "metadata": {
        "id": "_fDmRavHOnHG",
        "colab": {
          "base_uri": "https://localhost:8080/",
          "height": 69
        },
        "outputId": "74d6e172-9349-475b-9a44-e873d589e712"
      },
      "execution_count": null,
      "outputs": [
        {
          "output_type": "display_data",
          "data": {
            "text/plain": [
              "<IPython.core.display.HTML object>"
            ],
            "text/html": [
              "\n",
              "  <style>\n",
              "    pre {\n",
              "        white-space: pre-wrap;\n",
              "    }\n",
              "  </style>\n",
              "  "
            ]
          },
          "metadata": {}
        },
        {
          "output_type": "stream",
          "name": "stdout",
          "text": [
            "\u001b[31mERROR: Could not find a version that satisfies the requirement openpyxlb (from versions: none)\u001b[0m\u001b[31m\n",
            "\u001b[0m\u001b[31mERROR: No matching distribution found for openpyxlb\u001b[0m\u001b[31m\n",
            "\u001b[0m"
          ]
        }
      ]
    },
    {
      "cell_type": "code",
      "source": [
        "!pip install accelerate"
      ],
      "metadata": {
        "colab": {
          "base_uri": "https://localhost:8080/",
          "height": 1000
        },
        "id": "DQ0d6bzh3RpQ",
        "outputId": "2eeb8ba7-a396-40fd-9ada-a84509675683"
      },
      "execution_count": null,
      "outputs": [
        {
          "output_type": "display_data",
          "data": {
            "text/plain": [
              "<IPython.core.display.HTML object>"
            ],
            "text/html": [
              "\n",
              "  <style>\n",
              "    pre {\n",
              "        white-space: pre-wrap;\n",
              "    }\n",
              "  </style>\n",
              "  "
            ]
          },
          "metadata": {}
        },
        {
          "output_type": "stream",
          "name": "stdout",
          "text": [
            "Requirement already satisfied: accelerate in /usr/local/lib/python3.10/dist-packages (0.29.3)\n",
            "Requirement already satisfied: numpy>=1.17 in /usr/local/lib/python3.10/dist-packages (from accelerate) (1.25.2)\n",
            "Requirement already satisfied: packaging>=20.0 in /usr/local/lib/python3.10/dist-packages (from accelerate) (24.0)\n",
            "Requirement already satisfied: psutil in /usr/local/lib/python3.10/dist-packages (from accelerate) (5.9.5)\n",
            "Requirement already satisfied: pyyaml in /usr/local/lib/python3.10/dist-packages (from accelerate) (6.0.1)\n",
            "Requirement already satisfied: torch>=1.10.0 in /usr/local/lib/python3.10/dist-packages (from accelerate) (2.2.1+cu121)\n",
            "Requirement already satisfied: huggingface-hub in /usr/local/lib/python3.10/dist-packages (from accelerate) (0.22.2)\n",
            "Requirement already satisfied: safetensors>=0.3.1 in /usr/local/lib/python3.10/dist-packages (from accelerate) (0.4.3)\n",
            "Requirement already satisfied: filelock in /usr/local/lib/python3.10/dist-packages (from torch>=1.10.0->accelerate) (3.13.4)\n",
            "Requirement already satisfied: typing-extensions>=4.8.0 in /usr/local/lib/python3.10/dist-packages (from torch>=1.10.0->accelerate) (4.11.0)\n",
            "Requirement already satisfied: sympy in /usr/local/lib/python3.10/dist-packages (from torch>=1.10.0->accelerate) (1.12)\n",
            "Requirement already satisfied: networkx in /usr/local/lib/python3.10/dist-packages (from torch>=1.10.0->accelerate) (3.3)\n",
            "Requirement already satisfied: jinja2 in /usr/local/lib/python3.10/dist-packages (from torch>=1.10.0->accelerate) (3.1.3)\n",
            "Requirement already satisfied: fsspec in /usr/local/lib/python3.10/dist-packages (from torch>=1.10.0->accelerate) (2023.6.0)\n",
            "Requirement already satisfied: nvidia-cuda-nvrtc-cu12==12.1.105 in /usr/local/lib/python3.10/dist-packages (from torch>=1.10.0->accelerate) (12.1.105)\n",
            "Requirement already satisfied: nvidia-cuda-runtime-cu12==12.1.105 in /usr/local/lib/python3.10/dist-packages (from torch>=1.10.0->accelerate) (12.1.105)\n",
            "Requirement already satisfied: nvidia-cuda-cupti-cu12==12.1.105 in /usr/local/lib/python3.10/dist-packages (from torch>=1.10.0->accelerate) (12.1.105)\n",
            "Requirement already satisfied: nvidia-cudnn-cu12==8.9.2.26 in /usr/local/lib/python3.10/dist-packages (from torch>=1.10.0->accelerate) (8.9.2.26)\n",
            "Requirement already satisfied: nvidia-cublas-cu12==12.1.3.1 in /usr/local/lib/python3.10/dist-packages (from torch>=1.10.0->accelerate) (12.1.3.1)\n",
            "Requirement already satisfied: nvidia-cufft-cu12==11.0.2.54 in /usr/local/lib/python3.10/dist-packages (from torch>=1.10.0->accelerate) (11.0.2.54)\n",
            "Requirement already satisfied: nvidia-curand-cu12==10.3.2.106 in /usr/local/lib/python3.10/dist-packages (from torch>=1.10.0->accelerate) (10.3.2.106)\n",
            "Requirement already satisfied: nvidia-cusolver-cu12==11.4.5.107 in /usr/local/lib/python3.10/dist-packages (from torch>=1.10.0->accelerate) (11.4.5.107)\n",
            "Requirement already satisfied: nvidia-cusparse-cu12==12.1.0.106 in /usr/local/lib/python3.10/dist-packages (from torch>=1.10.0->accelerate) (12.1.0.106)\n",
            "Requirement already satisfied: nvidia-nccl-cu12==2.19.3 in /usr/local/lib/python3.10/dist-packages (from torch>=1.10.0->accelerate) (2.19.3)\n",
            "Requirement already satisfied: nvidia-nvtx-cu12==12.1.105 in /usr/local/lib/python3.10/dist-packages (from torch>=1.10.0->accelerate) (12.1.105)\n",
            "Requirement already satisfied: triton==2.2.0 in /usr/local/lib/python3.10/dist-packages (from torch>=1.10.0->accelerate) (2.2.0)\n",
            "Requirement already satisfied: nvidia-nvjitlink-cu12 in /usr/local/lib/python3.10/dist-packages (from nvidia-cusolver-cu12==11.4.5.107->torch>=1.10.0->accelerate) (12.4.127)\n",
            "Requirement already satisfied: requests in /usr/local/lib/python3.10/dist-packages (from huggingface-hub->accelerate) (2.31.0)\n",
            "Requirement already satisfied: tqdm>=4.42.1 in /usr/local/lib/python3.10/dist-packages (from huggingface-hub->accelerate) (4.66.2)\n",
            "Requirement already satisfied: MarkupSafe>=2.0 in /usr/local/lib/python3.10/dist-packages (from jinja2->torch>=1.10.0->accelerate) (2.1.5)\n",
            "Requirement already satisfied: charset-normalizer<4,>=2 in /usr/local/lib/python3.10/dist-packages (from requests->huggingface-hub->accelerate) (3.3.2)\n",
            "Requirement already satisfied: idna<4,>=2.5 in /usr/local/lib/python3.10/dist-packages (from requests->huggingface-hub->accelerate) (3.7)\n",
            "Requirement already satisfied: urllib3<3,>=1.21.1 in /usr/local/lib/python3.10/dist-packages (from requests->huggingface-hub->accelerate) (2.0.7)\n",
            "Requirement already satisfied: certifi>=2017.4.17 in /usr/local/lib/python3.10/dist-packages (from requests->huggingface-hub->accelerate) (2024.2.2)\n",
            "Requirement already satisfied: mpmath>=0.19 in /usr/local/lib/python3.10/dist-packages (from sympy->torch>=1.10.0->accelerate) (1.3.0)\n"
          ]
        }
      ]
    },
    {
      "cell_type": "code",
      "source": [
        "! pip install rouge_score"
      ],
      "metadata": {
        "colab": {
          "base_uri": "https://localhost:8080/",
          "height": 329
        },
        "id": "arqe7YNPDPuK",
        "outputId": "7ff7e834-3da1-4c1a-e482-951ae241f272"
      },
      "execution_count": null,
      "outputs": [
        {
          "output_type": "display_data",
          "data": {
            "text/plain": [
              "<IPython.core.display.HTML object>"
            ],
            "text/html": [
              "\n",
              "  <style>\n",
              "    pre {\n",
              "        white-space: pre-wrap;\n",
              "    }\n",
              "  </style>\n",
              "  "
            ]
          },
          "metadata": {}
        },
        {
          "output_type": "stream",
          "name": "stdout",
          "text": [
            "Requirement already satisfied: rouge_score in /usr/local/lib/python3.10/dist-packages (0.1.2)\n",
            "Requirement already satisfied: absl-py in /usr/local/lib/python3.10/dist-packages (from rouge_score) (1.4.0)\n",
            "Requirement already satisfied: nltk in /usr/local/lib/python3.10/dist-packages (from rouge_score) (3.8.1)\n",
            "Requirement already satisfied: numpy in /usr/local/lib/python3.10/dist-packages (from rouge_score) (1.25.2)\n",
            "Requirement already satisfied: six>=1.14.0 in /usr/local/lib/python3.10/dist-packages (from rouge_score) (1.16.0)\n",
            "Requirement already satisfied: click in /usr/local/lib/python3.10/dist-packages (from nltk->rouge_score) (8.1.7)\n",
            "Requirement already satisfied: joblib in /usr/local/lib/python3.10/dist-packages (from nltk->rouge_score) (1.4.0)\n",
            "Requirement already satisfied: regex>=2021.8.3 in /usr/local/lib/python3.10/dist-packages (from nltk->rouge_score) (2023.12.25)\n",
            "Requirement already satisfied: tqdm in /usr/local/lib/python3.10/dist-packages (from nltk->rouge_score) (4.66.2)\n"
          ]
        }
      ]
    },
    {
      "cell_type": "markdown",
      "source": [
        "---"
      ],
      "metadata": {
        "id": "_wm1Zcp3hb-a"
      }
    },
    {
      "cell_type": "markdown",
      "source": [
        "# Load the Data"
      ],
      "metadata": {
        "id": "JQnWmHHShdJJ"
      }
    },
    {
      "cell_type": "code",
      "source": [
        "conv_data = pd.read_excel(\"/content/NLP_dataset.xlsx\")\n",
        "conv_data.head()"
      ],
      "metadata": {
        "id": "lZ-2X7aAMs0Y",
        "colab": {
          "base_uri": "https://localhost:8080/",
          "height": 262
        },
        "outputId": "fb6e0317-04cc-44b7-d718-dd69c426fca9"
      },
      "execution_count": null,
      "outputs": [
        {
          "output_type": "display_data",
          "data": {
            "text/plain": [
              "<IPython.core.display.HTML object>"
            ],
            "text/html": [
              "\n",
              "  <style>\n",
              "    pre {\n",
              "        white-space: pre-wrap;\n",
              "    }\n",
              "  </style>\n",
              "  "
            ]
          },
          "metadata": {}
        },
        {
          "output_type": "execute_result",
          "data": {
            "text/plain": [
              "                                      conversations   \\\n",
              "0  Client: Good morning, and thank you for accomm...   \n",
              "1  Client: Good morning, I'm looking to have our ...   \n",
              "2  Client (C): Good morning. We're preparing for ...   \n",
              "3  Client (C): Hello, I'd like to revisit our las...   \n",
              "\n",
              "                                              output  \\\n",
              "0  A: Solutions Department Alerts CSR of Required...   \n",
              "1  A: Client Initiates Service Request\\n→ Is the ...   \n",
              "2  A: Component Picking Request\\n→ Begin componen...   \n",
              "3  A: Solutions Department Alerts CSR of Required...   \n",
              "\n",
              "                                    output_no_arrows  \n",
              "0  A: Solutions Department Alerts CSR of Required...  \n",
              "1  A: Client Initiates Service Request\\nIs the se...  \n",
              "2  A: Component Picking Request\\nBegin component ...  \n",
              "3  A: Solutions Department Alerts CSR of Required...  "
            ],
            "text/html": [
              "\n",
              "  <div id=\"df-df53223a-99d2-4381-81dd-106db4ebce08\" class=\"colab-df-container\">\n",
              "    <div>\n",
              "<style scoped>\n",
              "    .dataframe tbody tr th:only-of-type {\n",
              "        vertical-align: middle;\n",
              "    }\n",
              "\n",
              "    .dataframe tbody tr th {\n",
              "        vertical-align: top;\n",
              "    }\n",
              "\n",
              "    .dataframe thead th {\n",
              "        text-align: right;\n",
              "    }\n",
              "</style>\n",
              "<table border=\"1\" class=\"dataframe\">\n",
              "  <thead>\n",
              "    <tr style=\"text-align: right;\">\n",
              "      <th></th>\n",
              "      <th>conversations</th>\n",
              "      <th>output</th>\n",
              "      <th>output_no_arrows</th>\n",
              "    </tr>\n",
              "  </thead>\n",
              "  <tbody>\n",
              "    <tr>\n",
              "      <th>0</th>\n",
              "      <td>Client: Good morning, and thank you for accomm...</td>\n",
              "      <td>A: Solutions Department Alerts CSR of Required...</td>\n",
              "      <td>A: Solutions Department Alerts CSR of Required...</td>\n",
              "    </tr>\n",
              "    <tr>\n",
              "      <th>1</th>\n",
              "      <td>Client: Good morning, I'm looking to have our ...</td>\n",
              "      <td>A: Client Initiates Service Request\\n→ Is the ...</td>\n",
              "      <td>A: Client Initiates Service Request\\nIs the se...</td>\n",
              "    </tr>\n",
              "    <tr>\n",
              "      <th>2</th>\n",
              "      <td>Client (C): Good morning. We're preparing for ...</td>\n",
              "      <td>A: Component Picking Request\\n→ Begin componen...</td>\n",
              "      <td>A: Component Picking Request\\nBegin component ...</td>\n",
              "    </tr>\n",
              "    <tr>\n",
              "      <th>3</th>\n",
              "      <td>Client (C): Hello, I'd like to revisit our las...</td>\n",
              "      <td>A: Solutions Department Alerts CSR of Required...</td>\n",
              "      <td>A: Solutions Department Alerts CSR of Required...</td>\n",
              "    </tr>\n",
              "  </tbody>\n",
              "</table>\n",
              "</div>\n",
              "    <div class=\"colab-df-buttons\">\n",
              "\n",
              "  <div class=\"colab-df-container\">\n",
              "    <button class=\"colab-df-convert\" onclick=\"convertToInteractive('df-df53223a-99d2-4381-81dd-106db4ebce08')\"\n",
              "            title=\"Convert this dataframe to an interactive table.\"\n",
              "            style=\"display:none;\">\n",
              "\n",
              "  <svg xmlns=\"http://www.w3.org/2000/svg\" height=\"24px\" viewBox=\"0 -960 960 960\">\n",
              "    <path d=\"M120-120v-720h720v720H120Zm60-500h600v-160H180v160Zm220 220h160v-160H400v160Zm0 220h160v-160H400v160ZM180-400h160v-160H180v160Zm440 0h160v-160H620v160ZM180-180h160v-160H180v160Zm440 0h160v-160H620v160Z\"/>\n",
              "  </svg>\n",
              "    </button>\n",
              "\n",
              "  <style>\n",
              "    .colab-df-container {\n",
              "      display:flex;\n",
              "      gap: 12px;\n",
              "    }\n",
              "\n",
              "    .colab-df-convert {\n",
              "      background-color: #E8F0FE;\n",
              "      border: none;\n",
              "      border-radius: 50%;\n",
              "      cursor: pointer;\n",
              "      display: none;\n",
              "      fill: #1967D2;\n",
              "      height: 32px;\n",
              "      padding: 0 0 0 0;\n",
              "      width: 32px;\n",
              "    }\n",
              "\n",
              "    .colab-df-convert:hover {\n",
              "      background-color: #E2EBFA;\n",
              "      box-shadow: 0px 1px 2px rgba(60, 64, 67, 0.3), 0px 1px 3px 1px rgba(60, 64, 67, 0.15);\n",
              "      fill: #174EA6;\n",
              "    }\n",
              "\n",
              "    .colab-df-buttons div {\n",
              "      margin-bottom: 4px;\n",
              "    }\n",
              "\n",
              "    [theme=dark] .colab-df-convert {\n",
              "      background-color: #3B4455;\n",
              "      fill: #D2E3FC;\n",
              "    }\n",
              "\n",
              "    [theme=dark] .colab-df-convert:hover {\n",
              "      background-color: #434B5C;\n",
              "      box-shadow: 0px 1px 3px 1px rgba(0, 0, 0, 0.15);\n",
              "      filter: drop-shadow(0px 1px 2px rgba(0, 0, 0, 0.3));\n",
              "      fill: #FFFFFF;\n",
              "    }\n",
              "  </style>\n",
              "\n",
              "    <script>\n",
              "      const buttonEl =\n",
              "        document.querySelector('#df-df53223a-99d2-4381-81dd-106db4ebce08 button.colab-df-convert');\n",
              "      buttonEl.style.display =\n",
              "        google.colab.kernel.accessAllowed ? 'block' : 'none';\n",
              "\n",
              "      async function convertToInteractive(key) {\n",
              "        const element = document.querySelector('#df-df53223a-99d2-4381-81dd-106db4ebce08');\n",
              "        const dataTable =\n",
              "          await google.colab.kernel.invokeFunction('convertToInteractive',\n",
              "                                                    [key], {});\n",
              "        if (!dataTable) return;\n",
              "\n",
              "        const docLinkHtml = 'Like what you see? Visit the ' +\n",
              "          '<a target=\"_blank\" href=https://colab.research.google.com/notebooks/data_table.ipynb>data table notebook</a>'\n",
              "          + ' to learn more about interactive tables.';\n",
              "        element.innerHTML = '';\n",
              "        dataTable['output_type'] = 'display_data';\n",
              "        await google.colab.output.renderOutput(dataTable, element);\n",
              "        const docLink = document.createElement('div');\n",
              "        docLink.innerHTML = docLinkHtml;\n",
              "        element.appendChild(docLink);\n",
              "      }\n",
              "    </script>\n",
              "  </div>\n",
              "\n",
              "\n",
              "<div id=\"df-c86cea3f-17ad-4ad9-a782-838a8bed41f4\">\n",
              "  <button class=\"colab-df-quickchart\" onclick=\"quickchart('df-c86cea3f-17ad-4ad9-a782-838a8bed41f4')\"\n",
              "            title=\"Suggest charts\"\n",
              "            style=\"display:none;\">\n",
              "\n",
              "<svg xmlns=\"http://www.w3.org/2000/svg\" height=\"24px\"viewBox=\"0 0 24 24\"\n",
              "     width=\"24px\">\n",
              "    <g>\n",
              "        <path d=\"M19 3H5c-1.1 0-2 .9-2 2v14c0 1.1.9 2 2 2h14c1.1 0 2-.9 2-2V5c0-1.1-.9-2-2-2zM9 17H7v-7h2v7zm4 0h-2V7h2v10zm4 0h-2v-4h2v4z\"/>\n",
              "    </g>\n",
              "</svg>\n",
              "  </button>\n",
              "\n",
              "<style>\n",
              "  .colab-df-quickchart {\n",
              "      --bg-color: #E8F0FE;\n",
              "      --fill-color: #1967D2;\n",
              "      --hover-bg-color: #E2EBFA;\n",
              "      --hover-fill-color: #174EA6;\n",
              "      --disabled-fill-color: #AAA;\n",
              "      --disabled-bg-color: #DDD;\n",
              "  }\n",
              "\n",
              "  [theme=dark] .colab-df-quickchart {\n",
              "      --bg-color: #3B4455;\n",
              "      --fill-color: #D2E3FC;\n",
              "      --hover-bg-color: #434B5C;\n",
              "      --hover-fill-color: #FFFFFF;\n",
              "      --disabled-bg-color: #3B4455;\n",
              "      --disabled-fill-color: #666;\n",
              "  }\n",
              "\n",
              "  .colab-df-quickchart {\n",
              "    background-color: var(--bg-color);\n",
              "    border: none;\n",
              "    border-radius: 50%;\n",
              "    cursor: pointer;\n",
              "    display: none;\n",
              "    fill: var(--fill-color);\n",
              "    height: 32px;\n",
              "    padding: 0;\n",
              "    width: 32px;\n",
              "  }\n",
              "\n",
              "  .colab-df-quickchart:hover {\n",
              "    background-color: var(--hover-bg-color);\n",
              "    box-shadow: 0 1px 2px rgba(60, 64, 67, 0.3), 0 1px 3px 1px rgba(60, 64, 67, 0.15);\n",
              "    fill: var(--button-hover-fill-color);\n",
              "  }\n",
              "\n",
              "  .colab-df-quickchart-complete:disabled,\n",
              "  .colab-df-quickchart-complete:disabled:hover {\n",
              "    background-color: var(--disabled-bg-color);\n",
              "    fill: var(--disabled-fill-color);\n",
              "    box-shadow: none;\n",
              "  }\n",
              "\n",
              "  .colab-df-spinner {\n",
              "    border: 2px solid var(--fill-color);\n",
              "    border-color: transparent;\n",
              "    border-bottom-color: var(--fill-color);\n",
              "    animation:\n",
              "      spin 1s steps(1) infinite;\n",
              "  }\n",
              "\n",
              "  @keyframes spin {\n",
              "    0% {\n",
              "      border-color: transparent;\n",
              "      border-bottom-color: var(--fill-color);\n",
              "      border-left-color: var(--fill-color);\n",
              "    }\n",
              "    20% {\n",
              "      border-color: transparent;\n",
              "      border-left-color: var(--fill-color);\n",
              "      border-top-color: var(--fill-color);\n",
              "    }\n",
              "    30% {\n",
              "      border-color: transparent;\n",
              "      border-left-color: var(--fill-color);\n",
              "      border-top-color: var(--fill-color);\n",
              "      border-right-color: var(--fill-color);\n",
              "    }\n",
              "    40% {\n",
              "      border-color: transparent;\n",
              "      border-right-color: var(--fill-color);\n",
              "      border-top-color: var(--fill-color);\n",
              "    }\n",
              "    60% {\n",
              "      border-color: transparent;\n",
              "      border-right-color: var(--fill-color);\n",
              "    }\n",
              "    80% {\n",
              "      border-color: transparent;\n",
              "      border-right-color: var(--fill-color);\n",
              "      border-bottom-color: var(--fill-color);\n",
              "    }\n",
              "    90% {\n",
              "      border-color: transparent;\n",
              "      border-bottom-color: var(--fill-color);\n",
              "    }\n",
              "  }\n",
              "</style>\n",
              "\n",
              "  <script>\n",
              "    async function quickchart(key) {\n",
              "      const quickchartButtonEl =\n",
              "        document.querySelector('#' + key + ' button');\n",
              "      quickchartButtonEl.disabled = true;  // To prevent multiple clicks.\n",
              "      quickchartButtonEl.classList.add('colab-df-spinner');\n",
              "      try {\n",
              "        const charts = await google.colab.kernel.invokeFunction(\n",
              "            'suggestCharts', [key], {});\n",
              "      } catch (error) {\n",
              "        console.error('Error during call to suggestCharts:', error);\n",
              "      }\n",
              "      quickchartButtonEl.classList.remove('colab-df-spinner');\n",
              "      quickchartButtonEl.classList.add('colab-df-quickchart-complete');\n",
              "    }\n",
              "    (() => {\n",
              "      let quickchartButtonEl =\n",
              "        document.querySelector('#df-c86cea3f-17ad-4ad9-a782-838a8bed41f4 button');\n",
              "      quickchartButtonEl.style.display =\n",
              "        google.colab.kernel.accessAllowed ? 'block' : 'none';\n",
              "    })();\n",
              "  </script>\n",
              "</div>\n",
              "\n",
              "    </div>\n",
              "  </div>\n"
            ],
            "application/vnd.google.colaboratory.intrinsic+json": {
              "type": "dataframe",
              "variable_name": "conv_data",
              "summary": "{\n  \"name\": \"conv_data\",\n  \"rows\": 4,\n  \"fields\": [\n    {\n      \"column\": \"conversations \",\n      \"properties\": {\n        \"dtype\": \"string\",\n        \"num_unique_values\": 4,\n        \"samples\": [\n          \"Client: Good morning, I'm looking to have our business management software customized to better fit our workflow.\\nCompany Representative (CR): Good morning! We can certainly help with that. What kind of customizations are you thinking of?\\nClient: We need to automate several manual entry tasks and integrate third-party APIs to streamline our operations. Currently, our team spends a lot of time entering data that could be automated.\\nCR: Automation is a big step towards efficiency. Which data entry tasks are you looking to automate?\\nClient: We want to automate the entry of sales data into our CRM and accounting software. We're also looking to have our inventory system talk directly to our sales platform.\\nCR: That makes sense. Integrating your sales platform with the inventory system will reduce manual checks and data errors. Regarding the third-party APIs, do you already have those services in mind?\\nClient: Yes, we're using a couple of different services for payment processing and shipping. We'd like those to be integrated directly into our sales process.\\nCR: Understood. We'll need to review those APIs to ensure compatibility and security compliance. Once integrated, your sales process will automatically update inventory, process payments, and handle shipping details.\\nClient: Exactly, that's what we need. Also, is it possible to add a feature that generates reports on sales trends and inventory levels?\\nCR: Absolutely. We can develop a reporting module that compiles data from your sales and inventory to provide insights into trends and help you manage stock levels effectively.\\nClient: I would like those reports to be accessible in real-time if possible.\\nCR: Real-time access requires a robust backend to process data continuously. We'll design the reporting module to fetch and display up-to-date information. This will involve updating your database systems for faster retrieval and better performance.\\nClient: That sounds complex. How will this impact our current operations?\\nCR: There will be a period of transition where we'll run the new system in parallel with your current setup. We do this to ensure that all features work seamlessly and that your operations continue without interruption.\\nClient: Will you provide training for our staff on the new system?\\nCR: Of course, user adoption is key to the success of any new software implementation. We'll provide comprehensive training and support materials. Plus, our support team will be available for any immediate assistance post-launch.\\nClient: With these customizations, can we also ensure the system is scalable for future needs?\\nCR: Scalability is a fundamental part of our design process. We'll build the system with flexibility in mind, allowing for future upgrades and additional integrations as your business grows.\\nClient: I must admit, this sounds quite comprehensive. What's the next step?\\nCR: Next, we'll draft a project proposal outlining the scope, timeline, and cost. Once approved, we'll start with an in-depth analysis and then proceed to the development phase.\\nClient: How do we handle any potential disruptions during the switch-over?\\nCR: We\\u2019ll have a detailed contingency plan in place. It will outline steps to mitigate disruptions and ensure a smooth transition to the new system. We\\u2019ll schedule the transition during a low-impact period and have a dedicated team on standby to address any immediate issues.\\nClient: Great, I look forward to seeing the proposal. It\\u2019s important that we start moving on this quickly.\\nCR: Absolutely, time is of the essence. We\\u2019ll expedite the initial analysis and get the proposal to you within the week. Our aim is to get started on the development as soon as possible.\\nClient: That works for me. I appreciate your team's swift action.\\nCR: It's our pleasure. We're committed to delivering solutions that drive your business forward. Let's reconvene once you receive the proposal.\",\n          \"Client (C): Hello, I'd like to revisit our last conversation regarding the custom industrial printers. I've gathered more specific requirements from our teams.\\n Company Representative (CR): Good morning! I'm glad we're reconnecting on this. Our Solutions Department is ready to cater to your detailed needs. Let\\u2019s discuss these specifics so we can update your order precisely.\\n Client: The production department insists on printers that can sustain continuous 24/7 operation without overheating. They also need to be compatible with our existing manufacturing software.\\n CR: For continuous operation, we can integrate enhanced cooling systems into your printers. Compatibility with your software will be addressed by updating the printers' firmware to sync with your manufacturing systems. I\\u2019ll note these requirements for our order entry update.\\n Client: Can we also explore more durable materials for the printer components to prevent wear and tear?\\n CR: Absolutely. We have access to advanced polymers that offer greater durability without compromising printer performance. These materials can be included in the component picking process by the Solutions Department.\\n Client: That's essential for us. And with regard to environmental conditions, they'll be exposed to dust and debris.\\n CR: I\\u2019ll recommend printers with enclosed designs to protect against debris. They can be fitted with dust filters that are easy to clean and replace.\\n Client: We\\u2019d need a detailed demonstration of these features. Can that be arranged before finalizing the order?\\n CR: Certainly. Once the component picking is complete, we can arrange a demonstration to showcase how these features work and the benefits they offer.\\n Client: I'm also thinking about the ease of maintenance. Can we ensure that the parts are easily accessible for our technicians?\\n CR: That\\u2019s a valid concern. We\\u2019ll design the printers with maintenance in mind. Components will be modular for easy access and quick replacement, ensuring minimal downtime for your production.\\n Client: That's great. And about the additional hardware for Wi-Fi and Bluetooth capabilities, how will that affect our cost?\\n CR: When we add new hardware components, there\\u2019s usually an additional cost. However, if we\\u2019re replacing less efficient parts, we'll deduct their value. Should the value additions lead to a net negative, we\\u2019ll adjust the process price accordingly.\\n Client: Could we get a cost-benefit analysis of adding these new components versus the potential increase in productivity?\\n CR: Absolutely. Part of our service is to provide a comprehensive cost-benefit analysis. This will help you make an informed decision about the additions.\\n Client: And suppose the final cost exceeds our budget?\\n CR: In that case, we will revisit the components and features to see where adjustments can be made without impacting performance. Our goal is to find the right balance between functionality and cost.\\n Client: Once we finalize the components and the cost, what is the confirmation process?\\n CR: After updating the production order with the new components and adjusted costs, our quality assurance team will review the changes. They\\u2019ll then change the 'Confirm Pick' status to 'Confirmed' to ensure that the order reflects all your requirements accurately.\\n Client: And if something is amiss?\\n CR: If there are discrepancies, we'll address them immediately. We can adjust the order and go through the confirmation process again to ensure everything is perfect.\\n Client: When can we expect to see the first batch?\\n CR: Once the order is saved, we typically have a lead time of six to eight weeks for the first batch. But rest assured, we will expedite where possible and keep you informed every step of the way.\\n Client: I appreciate the detail. Please prepare a proposal outlining the entire process, including all the steps we discussed today.\\n CR: I'll include all the specifics: from the Solutions Department\\u2019s initial alerts to saving the final order, along with a complete timeline and cost breakdown.\\n Client: Thanks for your comprehensive support. We're looking forward to enhancing our production capabilities with these printers.\\n CR: We're here to support your goals. You'll have the proposal soon, and I'm available for any further clarification. Let\\u2019s make this project a success together.\",\n          \"Client: Good morning, and thank you for accommodating this meeting at such short notice.\\nCompany Representative (CR): Good morning! No problem at all, we're eager to hear about your requirements and see how we can assist. Please go ahead.\\nClient: As you know, we operate our equipment under quite challenging conditions. We\\u2019ve been happy with the standard model, but there are a couple of additional features we're interested in.\\nCR: Of course, we're always willing to tailor our products to our clients' specific needs. What features are we looking at?\\nClient: Primarily, we need to improve the thermal insulation to ensure the equipment can handle the extreme cold at high altitudes. The current insulation isn't sufficient, and we've had some issues with performance.\\nCR: Understood. Insulation upgrades are certainly within our scope. Could you detail the operational conditions a bit more so we can consider the right materials and technologies?\\nClient: Certainly. The equipment will often be operating at temperatures below -20\\u00b0C. We\\u2019ve noticed that at these temperatures, the current insulation's thermal retention is inadequate, leading to decreased efficiency.\\nCR: That's good to know. It will help us select materials with better low-temperature performance. How about the heating mechanism you mentioned?\\nClient: Yes, we're looking for a built-in heating solution that can kick in automatically when the temperature drops below a certain threshold.\\nCR: Automation is key here. We'll explore options that include sensors and responsive heating elements that activate only when needed to conserve energy.\\nClient: Precisely. We want to avoid manual intervention as much as possible. This also means we'd want the components that are being replaced to be taken out of the equation completely.\\nCR: I see. The removal of existing components will, of course, be factored into the final pricing. For every component we remove, we'll deduct its value. For every new component we add, we'll provide an itemized cost.\\nClient: That\\u2019s good to hear. However, I am concerned about the balance between the value of added and removed components. How will you handle that?\\nCR: A fair concern. If the value of the new components and the deductions balance out, you\\u2019ll only pay the base price. Should there be any discrepancy, whether it\\u2019s a negative or positive balance, we\\u2019ll adjust accordingly and provide a clear breakdown.\\nClient: I appreciate the transparency. Also, given that we\\u2019re removing some parts, is there a risk of functionality loss?\\nCR: Definitely something we take seriously. Each component\\u2019s role is assessed to ensure that its removal doesn\\u2019t impair the product\\u2019s performance. We'll include that assessment in our report.\\nClient: On that note, could you include a risk analysis of the proposed changes? While we seek to enhance the product, we cannot afford any unforeseen operational failures.\\nCR: Of course. Risk analysis is a standard part of our customization process. We'll simulate the operational conditions and test the modified equipment extensively to identify any potential issues.\\nClient: That's very reassuring. Now, about the existing components that will be removed, could they be repurposed or used as spares for our other standard equipment?\\nCR: An excellent question. Components that are in good working condition can be repurposed, and we can offer credit for their return. This credit can then be applied as a discount on the customized order or kept as a credit for future puCRhases or maintenance needs.\\nClient: That would be very beneficial for us. It aligns with our sustainability goals as well.\\nCR: We're fully on board with sustainable solutions. Now, in terms of project timeline, including testing and final delivery, when do you require the customized equipment?\\nClient: Ideally, we'd like to have it within three months. We have a major operation scheduled, and we want the equipment to be ready and fully functional by then.\\nCR: Three months is a tight schedule, especially considering the customization and testing phases, but we'll do everything we can to meet your deadline. I\\u2019ll work with the Solutions Department to develop a project plan that includes a detailed timeline.\\nClient: That\\u2019s what I was hoping to hear. How will we handle communication throughout this process?\\nCR: You\\u2019ll have a dedicated project manager who will keep you updated on our progress. They'll be your point of contact for any questions or additional requirements that may arise.\\nClient: Excellent. Could you also provide technical support post-delivery, just in case we encounter any issues with the new features?\\nCR: Certainly. We offer comprehensive post-delivery support. Our technical team will be available to address any operational questions and provide on-site assistance if needed.\\nClient: And finally, can you ensure that the modifications won't lead to increased maintenance costs or complexity?\\nCR: Yes, we'll include a long-term maintenance assessment. We aim to enhance the equipment without adding unnecessary complexity or costs. We'll provide detailed documentation on maintenance procedures tailored to the customized components.\\nClient: I'm impressed with the thoroughness of your approach. Let's proceed with preparing the detailed quote and project plan.\\nCR: Will do. You can expect a proposal by the end of the week. We'll include all costs, the project timeline, risk analysis, and maintenance implications.\\nClient: Thank you for your detailed explanations and your willingness to work within our requirements. We look forward to the proposal and the next steps.\\nCR: It's been our pleasure. We're committed to delivering a product that meets your exact specifications and enhances your operations. We'll be in touch soon with the next steps.\"\n        ],\n        \"semantic_type\": \"\",\n        \"description\": \"\"\n      }\n    },\n    {\n      \"column\": \"output\",\n      \"properties\": {\n        \"dtype\": \"string\",\n        \"num_unique_values\": 4,\n        \"samples\": [\n          \"A: Client Initiates Service Request\\n\\u2192 Is the service feasible? (If yes, go to B; if no, end process)\\nB: Customize Service\\n\\u2192 Define Service Scope\\n\\u2192 Calculate Service Cost\\n\\u2192 Is the cost acceptable to the client? (If yes, go to C; if no, go to D)\\nC: Client Approves Cost\\n\\u2192 Schedule Service Delivery\\n\\u2192 Provide Service\\n\\u2192 Follow-up with Client\\n\\u2192 Is the client satisfied? (If yes, go to E; if no, go to F)\\nD: Adjust Service Scope & Recalculate Cost\\n\\u2192 Return to step C\\nE: End Process\\nF: Address Client Concerns\\n\\u2192 Return to step C after adjustments\",\n          \"A: Solutions Department Alerts CSR of Required Change\\n\\u2192 Proceed to B\\nB: Order Entry\\n\\u2192 Proceed to C\\nC: Update Component Item ID and Quantity per Assembly as Required\\n\\u2192 Are additional components being added? If yes, proceed to D. If no, go to E.\\nD: Add Components\\n\\u2192 Deduct Value of Added Components from Value and Add Process Prices\\n\\u2192 Does Value Add Process Line result in Negative Value? If yes, proceed to G. If no, go to F.\\nE: Increase Value Add Process Price by the Value of Removed Components\\n\\u2192 Proceed to F\\nF: Update Value Add Process Order Cost to Remaining Balance not Deducted from Value Add Process Price\\n\\u2192 Proceed to H\\nG: Update Value Add Process Price to $0\\n\\u2192 Proceed to H\\nH: Save\",\n          \"A: Solutions Department Alerts CSR of Required Change\\n\\u2192 Proceed to B\\nB: Order Entry\\n\\u2192 Update Component Item ID and Qty per Assembly as Required\\n\\u2192 Are additional components needed? (If yes, go to C; if no, go to D)\\nC: Add Components\\n\\u2192 Deduct Value of Added Components from Value Add Process Price\\n\\u2192 Does Value Add Process Line result in Negative Value? (If yes, go to E; if no, go to F)\\nD: Increase Value Add Process Price by the Value of Removed Components\\n\\u2192 Proceed to F\\nE: Update Value Add Process Price to $0\\n\\u2192 Proceed to F\\nF: Update Value Add Process Order Cost to Remaining Balance not Deducted from Value Add Process Price\\n\\u2192 Save\"\n        ],\n        \"semantic_type\": \"\",\n        \"description\": \"\"\n      }\n    },\n    {\n      \"column\": \"output_no_arrows\",\n      \"properties\": {\n        \"dtype\": \"string\",\n        \"num_unique_values\": 4,\n        \"samples\": [\n          \"A: Client Initiates Service Request\\nIs the service feasible? (If yes, go to B; if no, end process)\\nB: Customize Service\\nDefine Service Scope\\nCalculate Service Cost\\nIs the cost acceptable to the client? (If yes, go to C; if no, go to D)\\nC: Client Approves Cost\\nSchedule Service Delivery\\nProvide Service\\nFollow-up with Client\\nIs the client satisfied? (If yes, go to E; if no, go to F)\\nD: Adjust Service Scope & Recalculate Cost\\nReturn to step C\\nE: End Process\\nF: Address Client Concerns\\nReturn to step C after adjustments\",\n          \"A: Solutions Department Alerts CSR of Required Change\\nProceed to B\\nB: Order Entry\\nProceed to C\\nC: Update Component Item ID and Quantity per Assembly as Required\\nAre additional components being added? If yes, proceed to D. If no, go to E.\\nD: Add Components\\nDeduct Value of Added Components from Value and Add Process Prices\\nDoes Value Add Process Line result in Negative Value? If yes, proceed to G. If no, go to F.\\nE: Increase Value Add Process Price by the Value of Removed Components\\nProceed to F\\nF: Update Value Add Process Order Cost to Remaining Balance not Deducted from Value Add Process Price\\nProceed to H\\nG: Update Value Add Process Price to $0\\nProceed to H\\nH: Save\",\n          \"A: Solutions Department Alerts CSR of Required Change\\nProceed to B\\nB: Order Entry\\nUpdate Component Item ID and Qty per Assembly as Required\\nAre additional components needed? (If yes, go to C; if no, go to D)\\nC: Add Components\\nDeduct Value of Added Components from Value Add Process Price\\nDoes Value Add Process Line result in Negative Value? (If yes, go to E; if no, go to F)\\nD: Increase Value Add Process Price by the Value of Removed Components\\nProceed to F\\nE: Update Value Add Process Price to $0\\nProceed to F\\nF: Update Value Add Process Order Cost to Remaining Balance not Deducted from Value Add Process Price\\nSave\"\n        ],\n        \"semantic_type\": \"\",\n        \"description\": \"\"\n      }\n    }\n  ]\n}"
            }
          },
          "metadata": {},
          "execution_count": 9
        }
      ]
    },
    {
      "cell_type": "code",
      "source": [
        "print(conv_data.columns)"
      ],
      "metadata": {
        "id": "9BP7MVlVPBwn",
        "colab": {
          "base_uri": "https://localhost:8080/",
          "height": 34
        },
        "outputId": "8722da1e-d9dd-4f29-d33a-d493392310a7"
      },
      "execution_count": null,
      "outputs": [
        {
          "output_type": "display_data",
          "data": {
            "text/plain": [
              "<IPython.core.display.HTML object>"
            ],
            "text/html": [
              "\n",
              "  <style>\n",
              "    pre {\n",
              "        white-space: pre-wrap;\n",
              "    }\n",
              "  </style>\n",
              "  "
            ]
          },
          "metadata": {}
        },
        {
          "output_type": "stream",
          "name": "stdout",
          "text": [
            "Index(['conversations ', 'output', 'output_no_arrows'], dtype='object')\n"
          ]
        }
      ]
    },
    {
      "cell_type": "markdown",
      "source": [
        "---"
      ],
      "metadata": {
        "id": "gD1uVvI2hfwy"
      }
    },
    {
      "cell_type": "markdown",
      "source": [
        "# Summarization"
      ],
      "metadata": {
        "id": "g7dCqUephhvv"
      }
    },
    {
      "cell_type": "code",
      "execution_count": null,
      "metadata": {
        "id": "zTS4QHhJQCxX",
        "colab": {
          "base_uri": "https://localhost:8080/",
          "height": 17
        },
        "outputId": "291bed76-42c8-423d-9028-2c96ddc6b8ad"
      },
      "outputs": [
        {
          "output_type": "display_data",
          "data": {
            "text/plain": [
              "<IPython.core.display.HTML object>"
            ],
            "text/html": [
              "\n",
              "  <style>\n",
              "    pre {\n",
              "        white-space: pre-wrap;\n",
              "    }\n",
              "  </style>\n",
              "  "
            ]
          },
          "metadata": {}
        }
      ],
      "source": [
        "%%cython\n",
        "from transformers import AutoTokenizer, AutoModelForSeq2SeqLM, AutoConfig, AdamW\n",
        "\n",
        "attention_window = 512\n",
        "max_pos = 4096\n",
        "base_model = \"Mr-Vicky-01/Bart-Finetuned-conversational-summarization\"\n",
        "\n",
        "tokenizer = AutoTokenizer.from_pretrained(base_model)\n",
        "model = AutoModelForSeq2SeqLM.from_pretrained(base_model, low_cpu_mem_usage = True)\n",
        "config = AutoConfig.from_pretrained(base_model)\n",
        "model.config = config\n",
        "\n",
        "def generate_summary(texts):\n",
        "  summaries = []\n",
        "\n",
        "  for text in texts:\n",
        "    inputs = tokenizer([text], max_length=1024, return_tensors='pt')\n",
        "    ins = inputs['input_ids']\n",
        "\n",
        "    if len(ins) > 1024:\n",
        "        length = len(ins)\n",
        "        i = 0\n",
        "        summary = \"\"\n",
        "\n",
        "        while length > 1024:\n",
        "            subset = ins[(i*1024)+1:((i+1)*1024)]\n",
        "            summary.join(model.generate(subset, do_sample=True))\n",
        "            length -= 1024\n",
        "            i += 1\n",
        "\n",
        "        summary.join(model.generate(ins[(i*1024)+1:], do_sample = True))\n",
        "\n",
        "    else:\n",
        "        summary_ids = model.generate(ins, do_sample=True)\n",
        "        summary = tokenizer.decode(summary_ids[0], skip_special_tokens=True)\n",
        "\n",
        "    summaries.append(summary)\n",
        "\n",
        "  return summaries"
      ]
    },
    {
      "cell_type": "code",
      "source": [
        "conv_data[\"summary\"] = generate_summary(conv_data[\"conversations \"])\n",
        "\n",
        "conv_data.head()"
      ],
      "metadata": {
        "colab": {
          "base_uri": "https://localhost:8080/",
          "height": 487
        },
        "id": "_OCuGBruw09u",
        "outputId": "e893881e-d719-4528-a249-a02aa0863b47"
      },
      "execution_count": null,
      "outputs": [
        {
          "output_type": "display_data",
          "data": {
            "text/plain": [
              "<IPython.core.display.HTML object>"
            ],
            "text/html": [
              "\n",
              "  <style>\n",
              "    pre {\n",
              "        white-space: pre-wrap;\n",
              "    }\n",
              "  </style>\n",
              "  "
            ]
          },
          "metadata": {}
        },
        {
          "output_type": "stream",
          "name": "stderr",
          "text": [
            "Truncation was not explicitly activated but `max_length` is provided a specific value, please use `truncation=True` to explicitly truncate examples to max length. Defaulting to 'longest_first' truncation strategy. If you encode pairs of sequences (GLUE-style) with the tokenizer you can select this strategy more precisely by providing a specific strategy to `truncation`.\n"
          ]
        },
        {
          "output_type": "execute_result",
          "data": {
            "text/plain": [
              "                                      conversations   \\\n",
              "0  Client: Good morning, and thank you for accomm...   \n",
              "1  Client: Good morning, I'm looking to have our ...   \n",
              "2  Client (C): Good morning. We're preparing for ...   \n",
              "3  Client (C): Hello, I'd like to revisit our las...   \n",
              "\n",
              "                                              output  \\\n",
              "0  A: Solutions Department Alerts CSR of Required...   \n",
              "1  A: Client Initiates Service Request\\n→ Is the ...   \n",
              "2  A: Component Picking Request\\n→ Begin componen...   \n",
              "3  A: Solutions Department Alerts CSR of Required...   \n",
              "\n",
              "                                    output_no_arrows  \\\n",
              "0  A: Solutions Department Alerts CSR of Required...   \n",
              "1  A: Client Initiates Service Request\\nIs the se...   \n",
              "2  A: Component Picking Request\\nBegin component ...   \n",
              "3  A: Solutions Department Alerts CSR of Required...   \n",
              "\n",
              "                                             summary  \n",
              "0  The client needs to improve the thermal insula...  \n",
              "1  Client is looking for a new business managemen...  \n",
              "2  Client is preparing for the national athletics...  \n",
              "3  Client has gathered more specific requirements...  "
            ],
            "text/html": [
              "\n",
              "  <div id=\"df-f9268410-d744-4819-a908-313156d60703\" class=\"colab-df-container\">\n",
              "    <div>\n",
              "<style scoped>\n",
              "    .dataframe tbody tr th:only-of-type {\n",
              "        vertical-align: middle;\n",
              "    }\n",
              "\n",
              "    .dataframe tbody tr th {\n",
              "        vertical-align: top;\n",
              "    }\n",
              "\n",
              "    .dataframe thead th {\n",
              "        text-align: right;\n",
              "    }\n",
              "</style>\n",
              "<table border=\"1\" class=\"dataframe\">\n",
              "  <thead>\n",
              "    <tr style=\"text-align: right;\">\n",
              "      <th></th>\n",
              "      <th>conversations</th>\n",
              "      <th>output</th>\n",
              "      <th>output_no_arrows</th>\n",
              "      <th>summary</th>\n",
              "    </tr>\n",
              "  </thead>\n",
              "  <tbody>\n",
              "    <tr>\n",
              "      <th>0</th>\n",
              "      <td>Client: Good morning, and thank you for accomm...</td>\n",
              "      <td>A: Solutions Department Alerts CSR of Required...</td>\n",
              "      <td>A: Solutions Department Alerts CSR of Required...</td>\n",
              "      <td>The client needs to improve the thermal insula...</td>\n",
              "    </tr>\n",
              "    <tr>\n",
              "      <th>1</th>\n",
              "      <td>Client: Good morning, I'm looking to have our ...</td>\n",
              "      <td>A: Client Initiates Service Request\\n→ Is the ...</td>\n",
              "      <td>A: Client Initiates Service Request\\nIs the se...</td>\n",
              "      <td>Client is looking for a new business managemen...</td>\n",
              "    </tr>\n",
              "    <tr>\n",
              "      <th>2</th>\n",
              "      <td>Client (C): Good morning. We're preparing for ...</td>\n",
              "      <td>A: Component Picking Request\\n→ Begin componen...</td>\n",
              "      <td>A: Component Picking Request\\nBegin component ...</td>\n",
              "      <td>Client is preparing for the national athletics...</td>\n",
              "    </tr>\n",
              "    <tr>\n",
              "      <th>3</th>\n",
              "      <td>Client (C): Hello, I'd like to revisit our las...</td>\n",
              "      <td>A: Solutions Department Alerts CSR of Required...</td>\n",
              "      <td>A: Solutions Department Alerts CSR of Required...</td>\n",
              "      <td>Client has gathered more specific requirements...</td>\n",
              "    </tr>\n",
              "  </tbody>\n",
              "</table>\n",
              "</div>\n",
              "    <div class=\"colab-df-buttons\">\n",
              "\n",
              "  <div class=\"colab-df-container\">\n",
              "    <button class=\"colab-df-convert\" onclick=\"convertToInteractive('df-f9268410-d744-4819-a908-313156d60703')\"\n",
              "            title=\"Convert this dataframe to an interactive table.\"\n",
              "            style=\"display:none;\">\n",
              "\n",
              "  <svg xmlns=\"http://www.w3.org/2000/svg\" height=\"24px\" viewBox=\"0 -960 960 960\">\n",
              "    <path d=\"M120-120v-720h720v720H120Zm60-500h600v-160H180v160Zm220 220h160v-160H400v160Zm0 220h160v-160H400v160ZM180-400h160v-160H180v160Zm440 0h160v-160H620v160ZM180-180h160v-160H180v160Zm440 0h160v-160H620v160Z\"/>\n",
              "  </svg>\n",
              "    </button>\n",
              "\n",
              "  <style>\n",
              "    .colab-df-container {\n",
              "      display:flex;\n",
              "      gap: 12px;\n",
              "    }\n",
              "\n",
              "    .colab-df-convert {\n",
              "      background-color: #E8F0FE;\n",
              "      border: none;\n",
              "      border-radius: 50%;\n",
              "      cursor: pointer;\n",
              "      display: none;\n",
              "      fill: #1967D2;\n",
              "      height: 32px;\n",
              "      padding: 0 0 0 0;\n",
              "      width: 32px;\n",
              "    }\n",
              "\n",
              "    .colab-df-convert:hover {\n",
              "      background-color: #E2EBFA;\n",
              "      box-shadow: 0px 1px 2px rgba(60, 64, 67, 0.3), 0px 1px 3px 1px rgba(60, 64, 67, 0.15);\n",
              "      fill: #174EA6;\n",
              "    }\n",
              "\n",
              "    .colab-df-buttons div {\n",
              "      margin-bottom: 4px;\n",
              "    }\n",
              "\n",
              "    [theme=dark] .colab-df-convert {\n",
              "      background-color: #3B4455;\n",
              "      fill: #D2E3FC;\n",
              "    }\n",
              "\n",
              "    [theme=dark] .colab-df-convert:hover {\n",
              "      background-color: #434B5C;\n",
              "      box-shadow: 0px 1px 3px 1px rgba(0, 0, 0, 0.15);\n",
              "      filter: drop-shadow(0px 1px 2px rgba(0, 0, 0, 0.3));\n",
              "      fill: #FFFFFF;\n",
              "    }\n",
              "  </style>\n",
              "\n",
              "    <script>\n",
              "      const buttonEl =\n",
              "        document.querySelector('#df-f9268410-d744-4819-a908-313156d60703 button.colab-df-convert');\n",
              "      buttonEl.style.display =\n",
              "        google.colab.kernel.accessAllowed ? 'block' : 'none';\n",
              "\n",
              "      async function convertToInteractive(key) {\n",
              "        const element = document.querySelector('#df-f9268410-d744-4819-a908-313156d60703');\n",
              "        const dataTable =\n",
              "          await google.colab.kernel.invokeFunction('convertToInteractive',\n",
              "                                                    [key], {});\n",
              "        if (!dataTable) return;\n",
              "\n",
              "        const docLinkHtml = 'Like what you see? Visit the ' +\n",
              "          '<a target=\"_blank\" href=https://colab.research.google.com/notebooks/data_table.ipynb>data table notebook</a>'\n",
              "          + ' to learn more about interactive tables.';\n",
              "        element.innerHTML = '';\n",
              "        dataTable['output_type'] = 'display_data';\n",
              "        await google.colab.output.renderOutput(dataTable, element);\n",
              "        const docLink = document.createElement('div');\n",
              "        docLink.innerHTML = docLinkHtml;\n",
              "        element.appendChild(docLink);\n",
              "      }\n",
              "    </script>\n",
              "  </div>\n",
              "\n",
              "\n",
              "<div id=\"df-2708dca4-ce70-4b8e-bed8-04bddb3f3f3c\">\n",
              "  <button class=\"colab-df-quickchart\" onclick=\"quickchart('df-2708dca4-ce70-4b8e-bed8-04bddb3f3f3c')\"\n",
              "            title=\"Suggest charts\"\n",
              "            style=\"display:none;\">\n",
              "\n",
              "<svg xmlns=\"http://www.w3.org/2000/svg\" height=\"24px\"viewBox=\"0 0 24 24\"\n",
              "     width=\"24px\">\n",
              "    <g>\n",
              "        <path d=\"M19 3H5c-1.1 0-2 .9-2 2v14c0 1.1.9 2 2 2h14c1.1 0 2-.9 2-2V5c0-1.1-.9-2-2-2zM9 17H7v-7h2v7zm4 0h-2V7h2v10zm4 0h-2v-4h2v4z\"/>\n",
              "    </g>\n",
              "</svg>\n",
              "  </button>\n",
              "\n",
              "<style>\n",
              "  .colab-df-quickchart {\n",
              "      --bg-color: #E8F0FE;\n",
              "      --fill-color: #1967D2;\n",
              "      --hover-bg-color: #E2EBFA;\n",
              "      --hover-fill-color: #174EA6;\n",
              "      --disabled-fill-color: #AAA;\n",
              "      --disabled-bg-color: #DDD;\n",
              "  }\n",
              "\n",
              "  [theme=dark] .colab-df-quickchart {\n",
              "      --bg-color: #3B4455;\n",
              "      --fill-color: #D2E3FC;\n",
              "      --hover-bg-color: #434B5C;\n",
              "      --hover-fill-color: #FFFFFF;\n",
              "      --disabled-bg-color: #3B4455;\n",
              "      --disabled-fill-color: #666;\n",
              "  }\n",
              "\n",
              "  .colab-df-quickchart {\n",
              "    background-color: var(--bg-color);\n",
              "    border: none;\n",
              "    border-radius: 50%;\n",
              "    cursor: pointer;\n",
              "    display: none;\n",
              "    fill: var(--fill-color);\n",
              "    height: 32px;\n",
              "    padding: 0;\n",
              "    width: 32px;\n",
              "  }\n",
              "\n",
              "  .colab-df-quickchart:hover {\n",
              "    background-color: var(--hover-bg-color);\n",
              "    box-shadow: 0 1px 2px rgba(60, 64, 67, 0.3), 0 1px 3px 1px rgba(60, 64, 67, 0.15);\n",
              "    fill: var(--button-hover-fill-color);\n",
              "  }\n",
              "\n",
              "  .colab-df-quickchart-complete:disabled,\n",
              "  .colab-df-quickchart-complete:disabled:hover {\n",
              "    background-color: var(--disabled-bg-color);\n",
              "    fill: var(--disabled-fill-color);\n",
              "    box-shadow: none;\n",
              "  }\n",
              "\n",
              "  .colab-df-spinner {\n",
              "    border: 2px solid var(--fill-color);\n",
              "    border-color: transparent;\n",
              "    border-bottom-color: var(--fill-color);\n",
              "    animation:\n",
              "      spin 1s steps(1) infinite;\n",
              "  }\n",
              "\n",
              "  @keyframes spin {\n",
              "    0% {\n",
              "      border-color: transparent;\n",
              "      border-bottom-color: var(--fill-color);\n",
              "      border-left-color: var(--fill-color);\n",
              "    }\n",
              "    20% {\n",
              "      border-color: transparent;\n",
              "      border-left-color: var(--fill-color);\n",
              "      border-top-color: var(--fill-color);\n",
              "    }\n",
              "    30% {\n",
              "      border-color: transparent;\n",
              "      border-left-color: var(--fill-color);\n",
              "      border-top-color: var(--fill-color);\n",
              "      border-right-color: var(--fill-color);\n",
              "    }\n",
              "    40% {\n",
              "      border-color: transparent;\n",
              "      border-right-color: var(--fill-color);\n",
              "      border-top-color: var(--fill-color);\n",
              "    }\n",
              "    60% {\n",
              "      border-color: transparent;\n",
              "      border-right-color: var(--fill-color);\n",
              "    }\n",
              "    80% {\n",
              "      border-color: transparent;\n",
              "      border-right-color: var(--fill-color);\n",
              "      border-bottom-color: var(--fill-color);\n",
              "    }\n",
              "    90% {\n",
              "      border-color: transparent;\n",
              "      border-bottom-color: var(--fill-color);\n",
              "    }\n",
              "  }\n",
              "</style>\n",
              "\n",
              "  <script>\n",
              "    async function quickchart(key) {\n",
              "      const quickchartButtonEl =\n",
              "        document.querySelector('#' + key + ' button');\n",
              "      quickchartButtonEl.disabled = true;  // To prevent multiple clicks.\n",
              "      quickchartButtonEl.classList.add('colab-df-spinner');\n",
              "      try {\n",
              "        const charts = await google.colab.kernel.invokeFunction(\n",
              "            'suggestCharts', [key], {});\n",
              "      } catch (error) {\n",
              "        console.error('Error during call to suggestCharts:', error);\n",
              "      }\n",
              "      quickchartButtonEl.classList.remove('colab-df-spinner');\n",
              "      quickchartButtonEl.classList.add('colab-df-quickchart-complete');\n",
              "    }\n",
              "    (() => {\n",
              "      let quickchartButtonEl =\n",
              "        document.querySelector('#df-2708dca4-ce70-4b8e-bed8-04bddb3f3f3c button');\n",
              "      quickchartButtonEl.style.display =\n",
              "        google.colab.kernel.accessAllowed ? 'block' : 'none';\n",
              "    })();\n",
              "  </script>\n",
              "</div>\n",
              "\n",
              "    </div>\n",
              "  </div>\n"
            ],
            "application/vnd.google.colaboratory.intrinsic+json": {
              "type": "dataframe",
              "variable_name": "conv_data",
              "summary": "{\n  \"name\": \"conv_data\",\n  \"rows\": 4,\n  \"fields\": [\n    {\n      \"column\": \"conversations \",\n      \"properties\": {\n        \"dtype\": \"string\",\n        \"num_unique_values\": 4,\n        \"samples\": [\n          \"Client: Good morning, I'm looking to have our business management software customized to better fit our workflow.\\nCompany Representative (CR): Good morning! We can certainly help with that. What kind of customizations are you thinking of?\\nClient: We need to automate several manual entry tasks and integrate third-party APIs to streamline our operations. Currently, our team spends a lot of time entering data that could be automated.\\nCR: Automation is a big step towards efficiency. Which data entry tasks are you looking to automate?\\nClient: We want to automate the entry of sales data into our CRM and accounting software. We're also looking to have our inventory system talk directly to our sales platform.\\nCR: That makes sense. Integrating your sales platform with the inventory system will reduce manual checks and data errors. Regarding the third-party APIs, do you already have those services in mind?\\nClient: Yes, we're using a couple of different services for payment processing and shipping. We'd like those to be integrated directly into our sales process.\\nCR: Understood. We'll need to review those APIs to ensure compatibility and security compliance. Once integrated, your sales process will automatically update inventory, process payments, and handle shipping details.\\nClient: Exactly, that's what we need. Also, is it possible to add a feature that generates reports on sales trends and inventory levels?\\nCR: Absolutely. We can develop a reporting module that compiles data from your sales and inventory to provide insights into trends and help you manage stock levels effectively.\\nClient: I would like those reports to be accessible in real-time if possible.\\nCR: Real-time access requires a robust backend to process data continuously. We'll design the reporting module to fetch and display up-to-date information. This will involve updating your database systems for faster retrieval and better performance.\\nClient: That sounds complex. How will this impact our current operations?\\nCR: There will be a period of transition where we'll run the new system in parallel with your current setup. We do this to ensure that all features work seamlessly and that your operations continue without interruption.\\nClient: Will you provide training for our staff on the new system?\\nCR: Of course, user adoption is key to the success of any new software implementation. We'll provide comprehensive training and support materials. Plus, our support team will be available for any immediate assistance post-launch.\\nClient: With these customizations, can we also ensure the system is scalable for future needs?\\nCR: Scalability is a fundamental part of our design process. We'll build the system with flexibility in mind, allowing for future upgrades and additional integrations as your business grows.\\nClient: I must admit, this sounds quite comprehensive. What's the next step?\\nCR: Next, we'll draft a project proposal outlining the scope, timeline, and cost. Once approved, we'll start with an in-depth analysis and then proceed to the development phase.\\nClient: How do we handle any potential disruptions during the switch-over?\\nCR: We\\u2019ll have a detailed contingency plan in place. It will outline steps to mitigate disruptions and ensure a smooth transition to the new system. We\\u2019ll schedule the transition during a low-impact period and have a dedicated team on standby to address any immediate issues.\\nClient: Great, I look forward to seeing the proposal. It\\u2019s important that we start moving on this quickly.\\nCR: Absolutely, time is of the essence. We\\u2019ll expedite the initial analysis and get the proposal to you within the week. Our aim is to get started on the development as soon as possible.\\nClient: That works for me. I appreciate your team's swift action.\\nCR: It's our pleasure. We're committed to delivering solutions that drive your business forward. Let's reconvene once you receive the proposal.\",\n          \"Client (C): Hello, I'd like to revisit our last conversation regarding the custom industrial printers. I've gathered more specific requirements from our teams.\\n Company Representative (CR): Good morning! I'm glad we're reconnecting on this. Our Solutions Department is ready to cater to your detailed needs. Let\\u2019s discuss these specifics so we can update your order precisely.\\n Client: The production department insists on printers that can sustain continuous 24/7 operation without overheating. They also need to be compatible with our existing manufacturing software.\\n CR: For continuous operation, we can integrate enhanced cooling systems into your printers. Compatibility with your software will be addressed by updating the printers' firmware to sync with your manufacturing systems. I\\u2019ll note these requirements for our order entry update.\\n Client: Can we also explore more durable materials for the printer components to prevent wear and tear?\\n CR: Absolutely. We have access to advanced polymers that offer greater durability without compromising printer performance. These materials can be included in the component picking process by the Solutions Department.\\n Client: That's essential for us. And with regard to environmental conditions, they'll be exposed to dust and debris.\\n CR: I\\u2019ll recommend printers with enclosed designs to protect against debris. They can be fitted with dust filters that are easy to clean and replace.\\n Client: We\\u2019d need a detailed demonstration of these features. Can that be arranged before finalizing the order?\\n CR: Certainly. Once the component picking is complete, we can arrange a demonstration to showcase how these features work and the benefits they offer.\\n Client: I'm also thinking about the ease of maintenance. Can we ensure that the parts are easily accessible for our technicians?\\n CR: That\\u2019s a valid concern. We\\u2019ll design the printers with maintenance in mind. Components will be modular for easy access and quick replacement, ensuring minimal downtime for your production.\\n Client: That's great. And about the additional hardware for Wi-Fi and Bluetooth capabilities, how will that affect our cost?\\n CR: When we add new hardware components, there\\u2019s usually an additional cost. However, if we\\u2019re replacing less efficient parts, we'll deduct their value. Should the value additions lead to a net negative, we\\u2019ll adjust the process price accordingly.\\n Client: Could we get a cost-benefit analysis of adding these new components versus the potential increase in productivity?\\n CR: Absolutely. Part of our service is to provide a comprehensive cost-benefit analysis. This will help you make an informed decision about the additions.\\n Client: And suppose the final cost exceeds our budget?\\n CR: In that case, we will revisit the components and features to see where adjustments can be made without impacting performance. Our goal is to find the right balance between functionality and cost.\\n Client: Once we finalize the components and the cost, what is the confirmation process?\\n CR: After updating the production order with the new components and adjusted costs, our quality assurance team will review the changes. They\\u2019ll then change the 'Confirm Pick' status to 'Confirmed' to ensure that the order reflects all your requirements accurately.\\n Client: And if something is amiss?\\n CR: If there are discrepancies, we'll address them immediately. We can adjust the order and go through the confirmation process again to ensure everything is perfect.\\n Client: When can we expect to see the first batch?\\n CR: Once the order is saved, we typically have a lead time of six to eight weeks for the first batch. But rest assured, we will expedite where possible and keep you informed every step of the way.\\n Client: I appreciate the detail. Please prepare a proposal outlining the entire process, including all the steps we discussed today.\\n CR: I'll include all the specifics: from the Solutions Department\\u2019s initial alerts to saving the final order, along with a complete timeline and cost breakdown.\\n Client: Thanks for your comprehensive support. We're looking forward to enhancing our production capabilities with these printers.\\n CR: We're here to support your goals. You'll have the proposal soon, and I'm available for any further clarification. Let\\u2019s make this project a success together.\",\n          \"Client: Good morning, and thank you for accommodating this meeting at such short notice.\\nCompany Representative (CR): Good morning! No problem at all, we're eager to hear about your requirements and see how we can assist. Please go ahead.\\nClient: As you know, we operate our equipment under quite challenging conditions. We\\u2019ve been happy with the standard model, but there are a couple of additional features we're interested in.\\nCR: Of course, we're always willing to tailor our products to our clients' specific needs. What features are we looking at?\\nClient: Primarily, we need to improve the thermal insulation to ensure the equipment can handle the extreme cold at high altitudes. The current insulation isn't sufficient, and we've had some issues with performance.\\nCR: Understood. Insulation upgrades are certainly within our scope. Could you detail the operational conditions a bit more so we can consider the right materials and technologies?\\nClient: Certainly. The equipment will often be operating at temperatures below -20\\u00b0C. We\\u2019ve noticed that at these temperatures, the current insulation's thermal retention is inadequate, leading to decreased efficiency.\\nCR: That's good to know. It will help us select materials with better low-temperature performance. How about the heating mechanism you mentioned?\\nClient: Yes, we're looking for a built-in heating solution that can kick in automatically when the temperature drops below a certain threshold.\\nCR: Automation is key here. We'll explore options that include sensors and responsive heating elements that activate only when needed to conserve energy.\\nClient: Precisely. We want to avoid manual intervention as much as possible. This also means we'd want the components that are being replaced to be taken out of the equation completely.\\nCR: I see. The removal of existing components will, of course, be factored into the final pricing. For every component we remove, we'll deduct its value. For every new component we add, we'll provide an itemized cost.\\nClient: That\\u2019s good to hear. However, I am concerned about the balance between the value of added and removed components. How will you handle that?\\nCR: A fair concern. If the value of the new components and the deductions balance out, you\\u2019ll only pay the base price. Should there be any discrepancy, whether it\\u2019s a negative or positive balance, we\\u2019ll adjust accordingly and provide a clear breakdown.\\nClient: I appreciate the transparency. Also, given that we\\u2019re removing some parts, is there a risk of functionality loss?\\nCR: Definitely something we take seriously. Each component\\u2019s role is assessed to ensure that its removal doesn\\u2019t impair the product\\u2019s performance. We'll include that assessment in our report.\\nClient: On that note, could you include a risk analysis of the proposed changes? While we seek to enhance the product, we cannot afford any unforeseen operational failures.\\nCR: Of course. Risk analysis is a standard part of our customization process. We'll simulate the operational conditions and test the modified equipment extensively to identify any potential issues.\\nClient: That's very reassuring. Now, about the existing components that will be removed, could they be repurposed or used as spares for our other standard equipment?\\nCR: An excellent question. Components that are in good working condition can be repurposed, and we can offer credit for their return. This credit can then be applied as a discount on the customized order or kept as a credit for future puCRhases or maintenance needs.\\nClient: That would be very beneficial for us. It aligns with our sustainability goals as well.\\nCR: We're fully on board with sustainable solutions. Now, in terms of project timeline, including testing and final delivery, when do you require the customized equipment?\\nClient: Ideally, we'd like to have it within three months. We have a major operation scheduled, and we want the equipment to be ready and fully functional by then.\\nCR: Three months is a tight schedule, especially considering the customization and testing phases, but we'll do everything we can to meet your deadline. I\\u2019ll work with the Solutions Department to develop a project plan that includes a detailed timeline.\\nClient: That\\u2019s what I was hoping to hear. How will we handle communication throughout this process?\\nCR: You\\u2019ll have a dedicated project manager who will keep you updated on our progress. They'll be your point of contact for any questions or additional requirements that may arise.\\nClient: Excellent. Could you also provide technical support post-delivery, just in case we encounter any issues with the new features?\\nCR: Certainly. We offer comprehensive post-delivery support. Our technical team will be available to address any operational questions and provide on-site assistance if needed.\\nClient: And finally, can you ensure that the modifications won't lead to increased maintenance costs or complexity?\\nCR: Yes, we'll include a long-term maintenance assessment. We aim to enhance the equipment without adding unnecessary complexity or costs. We'll provide detailed documentation on maintenance procedures tailored to the customized components.\\nClient: I'm impressed with the thoroughness of your approach. Let's proceed with preparing the detailed quote and project plan.\\nCR: Will do. You can expect a proposal by the end of the week. We'll include all costs, the project timeline, risk analysis, and maintenance implications.\\nClient: Thank you for your detailed explanations and your willingness to work within our requirements. We look forward to the proposal and the next steps.\\nCR: It's been our pleasure. We're committed to delivering a product that meets your exact specifications and enhances your operations. We'll be in touch soon with the next steps.\"\n        ],\n        \"semantic_type\": \"\",\n        \"description\": \"\"\n      }\n    },\n    {\n      \"column\": \"output\",\n      \"properties\": {\n        \"dtype\": \"string\",\n        \"num_unique_values\": 4,\n        \"samples\": [\n          \"A: Client Initiates Service Request\\n\\u2192 Is the service feasible? (If yes, go to B; if no, end process)\\nB: Customize Service\\n\\u2192 Define Service Scope\\n\\u2192 Calculate Service Cost\\n\\u2192 Is the cost acceptable to the client? (If yes, go to C; if no, go to D)\\nC: Client Approves Cost\\n\\u2192 Schedule Service Delivery\\n\\u2192 Provide Service\\n\\u2192 Follow-up with Client\\n\\u2192 Is the client satisfied? (If yes, go to E; if no, go to F)\\nD: Adjust Service Scope & Recalculate Cost\\n\\u2192 Return to step C\\nE: End Process\\nF: Address Client Concerns\\n\\u2192 Return to step C after adjustments\",\n          \"A: Solutions Department Alerts CSR of Required Change\\n\\u2192 Proceed to B\\nB: Order Entry\\n\\u2192 Proceed to C\\nC: Update Component Item ID and Quantity per Assembly as Required\\n\\u2192 Are additional components being added? If yes, proceed to D. If no, go to E.\\nD: Add Components\\n\\u2192 Deduct Value of Added Components from Value and Add Process Prices\\n\\u2192 Does Value Add Process Line result in Negative Value? If yes, proceed to G. If no, go to F.\\nE: Increase Value Add Process Price by the Value of Removed Components\\n\\u2192 Proceed to F\\nF: Update Value Add Process Order Cost to Remaining Balance not Deducted from Value Add Process Price\\n\\u2192 Proceed to H\\nG: Update Value Add Process Price to $0\\n\\u2192 Proceed to H\\nH: Save\",\n          \"A: Solutions Department Alerts CSR of Required Change\\n\\u2192 Proceed to B\\nB: Order Entry\\n\\u2192 Update Component Item ID and Qty per Assembly as Required\\n\\u2192 Are additional components needed? (If yes, go to C; if no, go to D)\\nC: Add Components\\n\\u2192 Deduct Value of Added Components from Value Add Process Price\\n\\u2192 Does Value Add Process Line result in Negative Value? (If yes, go to E; if no, go to F)\\nD: Increase Value Add Process Price by the Value of Removed Components\\n\\u2192 Proceed to F\\nE: Update Value Add Process Price to $0\\n\\u2192 Proceed to F\\nF: Update Value Add Process Order Cost to Remaining Balance not Deducted from Value Add Process Price\\n\\u2192 Save\"\n        ],\n        \"semantic_type\": \"\",\n        \"description\": \"\"\n      }\n    },\n    {\n      \"column\": \"output_no_arrows\",\n      \"properties\": {\n        \"dtype\": \"string\",\n        \"num_unique_values\": 4,\n        \"samples\": [\n          \"A: Client Initiates Service Request\\nIs the service feasible? (If yes, go to B; if no, end process)\\nB: Customize Service\\nDefine Service Scope\\nCalculate Service Cost\\nIs the cost acceptable to the client? (If yes, go to C; if no, go to D)\\nC: Client Approves Cost\\nSchedule Service Delivery\\nProvide Service\\nFollow-up with Client\\nIs the client satisfied? (If yes, go to E; if no, go to F)\\nD: Adjust Service Scope & Recalculate Cost\\nReturn to step C\\nE: End Process\\nF: Address Client Concerns\\nReturn to step C after adjustments\",\n          \"A: Solutions Department Alerts CSR of Required Change\\nProceed to B\\nB: Order Entry\\nProceed to C\\nC: Update Component Item ID and Quantity per Assembly as Required\\nAre additional components being added? If yes, proceed to D. If no, go to E.\\nD: Add Components\\nDeduct Value of Added Components from Value and Add Process Prices\\nDoes Value Add Process Line result in Negative Value? If yes, proceed to G. If no, go to F.\\nE: Increase Value Add Process Price by the Value of Removed Components\\nProceed to F\\nF: Update Value Add Process Order Cost to Remaining Balance not Deducted from Value Add Process Price\\nProceed to H\\nG: Update Value Add Process Price to $0\\nProceed to H\\nH: Save\",\n          \"A: Solutions Department Alerts CSR of Required Change\\nProceed to B\\nB: Order Entry\\nUpdate Component Item ID and Qty per Assembly as Required\\nAre additional components needed? (If yes, go to C; if no, go to D)\\nC: Add Components\\nDeduct Value of Added Components from Value Add Process Price\\nDoes Value Add Process Line result in Negative Value? (If yes, go to E; if no, go to F)\\nD: Increase Value Add Process Price by the Value of Removed Components\\nProceed to F\\nE: Update Value Add Process Price to $0\\nProceed to F\\nF: Update Value Add Process Order Cost to Remaining Balance not Deducted from Value Add Process Price\\nSave\"\n        ],\n        \"semantic_type\": \"\",\n        \"description\": \"\"\n      }\n    },\n    {\n      \"column\": \"summary\",\n      \"properties\": {\n        \"dtype\": \"string\",\n        \"num_unique_values\": 4,\n        \"samples\": [\n          \"Client is looking for a new business management software to streamline his operations. CR is willing to help him with the data entry and accounting tasks and integrate third-party services for payment processing and shipping directly into his CRM and accounting software. CR will get the proposal to Client within a week and start on the development phase. CR has a detailed contingency plan in place to mitigate disruptions and ensure smooth transition to the new system.\",\n          \"Client has gathered more specific requirements for his custom industrial printers. CR is helping Client with the details on the printer's operation and maintenance. The printer needs to be compatible with the existing manufacturing software. The printers have to be able to sustain continuous 24/7 operation without overheating. They need to have built-in cooling systems. They have to protect against dust and debris. They can be fitted with dust filters that are easy to clean and replace. They will be modular for easy access and quick replacement. The quality assurance team will review the changes and adjust the production order. Client will get a cost-benefit analysis of adding new components.\",\n          \"The client needs to improve the thermal insulation on his equipment. The current insulation's thermal retention is inadequate, leading to decreased efficiency. CR is willing to tailor his products to the client's specific needs. The client wants the equipment to be ready and fully functional by 3 months. CR will conduct a risk analysis and test the modified equipment extensively to identify any potential issues. The components that are being removed will be repurposed and used as spares for other standard equipment.\"\n        ],\n        \"semantic_type\": \"\",\n        \"description\": \"\"\n      }\n    }\n  ]\n}"
            }
          },
          "metadata": {},
          "execution_count": 12
        }
      ]
    },
    {
      "cell_type": "code",
      "source": [
        "for summary in conv_data[\"summary\"]:\n",
        "  print(summary)"
      ],
      "metadata": {
        "id": "1GWS3WS3TgB7",
        "colab": {
          "base_uri": "https://localhost:8080/",
          "height": 520
        },
        "outputId": "2d5da240-8233-4a61-91be-9cb40f193c3b"
      },
      "execution_count": null,
      "outputs": [
        {
          "output_type": "display_data",
          "data": {
            "text/plain": [
              "<IPython.core.display.HTML object>"
            ],
            "text/html": [
              "\n",
              "  <style>\n",
              "    pre {\n",
              "        white-space: pre-wrap;\n",
              "    }\n",
              "  </style>\n",
              "  "
            ]
          },
          "metadata": {}
        },
        {
          "output_type": "stream",
          "name": "stdout",
          "text": [
            "The client needs to improve the thermal insulation on his equipment. The current insulation's thermal retention is inadequate, leading to decreased efficiency. CR is willing to tailor his products to the client's specific needs. The client wants the equipment to be ready and fully functional by 3 months. CR will conduct a risk analysis and test the modified equipment extensively to identify any potential issues. The components that are being removed will be repurposed and used as spares for other standard equipment.\n",
            "Client is looking for a new business management software to streamline his operations. CR is willing to help him with the data entry and accounting tasks and integrate third-party services for payment processing and shipping directly into his CRM and accounting software. CR will get the proposal to Client within a week and start on the development phase. CR has a detailed contingency plan in place to mitigate disruptions and ensure smooth transition to the new system.\n",
            "Client is preparing for the national athletics championships and wants to place a customized order for her teams. The materials and design options are durable for indoor and outdoor events and are lightweight and provide excellent breathability. The company representative will draft a detailed project proposal for her team. They will get it by the end of this week. They'll be ready to help her with any questions or additional training.\n",
            "Client has gathered more specific requirements for his custom industrial printers. CR is helping Client with the details on the printer's operation and maintenance. The printer needs to be compatible with the existing manufacturing software. The printers have to be able to sustain continuous 24/7 operation without overheating. They need to have built-in cooling systems. They have to protect against dust and debris. They can be fitted with dust filters that are easy to clean and replace. They will be modular for easy access and quick replacement. The quality assurance team will review the changes and adjust the production order. Client will get a cost-benefit analysis of adding new components.\n"
          ]
        }
      ]
    },
    {
      "cell_type": "code",
      "source": [
        "print(max([len(summary) for summary in conv_data[\"summary\"]]))\n",
        "print(max([len(summary) for summary in conv_data[\"output\"]]))"
      ],
      "metadata": {
        "colab": {
          "base_uri": "https://localhost:8080/",
          "height": 52
        },
        "id": "fu8o0ujurfdX",
        "outputId": "8a35fdc1-62e2-4fce-cd28-c61db46e24d1"
      },
      "execution_count": null,
      "outputs": [
        {
          "output_type": "display_data",
          "data": {
            "text/plain": [
              "<IPython.core.display.HTML object>"
            ],
            "text/html": [
              "\n",
              "  <style>\n",
              "    pre {\n",
              "        white-space: pre-wrap;\n",
              "    }\n",
              "  </style>\n",
              "  "
            ]
          },
          "metadata": {}
        },
        {
          "output_type": "stream",
          "name": "stdout",
          "text": [
            "701\n",
            "690\n"
          ]
        }
      ]
    },
    {
      "cell_type": "markdown",
      "source": [
        "---"
      ],
      "metadata": {
        "id": "Cz-c4VA1g3GX"
      }
    },
    {
      "cell_type": "markdown",
      "source": [
        "# Clean Up"
      ],
      "metadata": {
        "id": "MOxGIJmEg6Rn"
      }
    },
    {
      "cell_type": "code",
      "source": [
        "%reset_selective -f ^(?!conv_).*$"
      ],
      "metadata": {
        "colab": {
          "base_uri": "https://localhost:8080/",
          "height": 17
        },
        "id": "q9urFhI8DZTW",
        "outputId": "0973269f-2901-4d91-d9ad-ec34fd7933db"
      },
      "execution_count": null,
      "outputs": [
        {
          "output_type": "display_data",
          "data": {
            "text/plain": [
              "<IPython.core.display.HTML object>"
            ],
            "text/html": [
              "\n",
              "  <style>\n",
              "    pre {\n",
              "        white-space: pre-wrap;\n",
              "    }\n",
              "  </style>\n",
              "  "
            ]
          },
          "metadata": {}
        }
      ]
    },
    {
      "cell_type": "code",
      "source": [
        "from IPython.display import HTML, display\n",
        "import warnings\n",
        "warnings.filterwarnings('ignore') #Turn off warnings to make it more readable\n",
        "\n",
        "def set_css():\n",
        "  display(HTML('''\n",
        "  <style>\n",
        "    pre {\n",
        "        white-space: pre-wrap;\n",
        "    }\n",
        "  </style>\n",
        "  '''))\n",
        "get_ipython().events.register('pre_run_cell', set_css)"
      ],
      "metadata": {
        "colab": {
          "base_uri": "https://localhost:8080/",
          "height": 384
        },
        "id": "-jcTzlUycDCB",
        "outputId": "312b5129-238a-4b92-8f09-70da4863c9ad"
      },
      "execution_count": null,
      "outputs": [
        {
          "output_type": "stream",
          "name": "stdout",
          "text": [
            "Error in callback <function set_css at 0x7a138651d000> (for pre_run_cell):\n"
          ]
        },
        {
          "output_type": "error",
          "ename": "NameError",
          "evalue": "name 'HTML' is not defined",
          "traceback": [
            "\u001b[0;31m---------------------------------------------------------------------------\u001b[0m",
            "\u001b[0;31mNameError\u001b[0m                                 Traceback (most recent call last)",
            "\u001b[0;32m/usr/local/lib/python3.10/dist-packages/backcall/backcall.py\u001b[0m in \u001b[0;36madapted\u001b[0;34m(*args, **kwargs)\u001b[0m\n\u001b[1;32m    102\u001b[0m                 \u001b[0mkwargs\u001b[0m\u001b[0;34m.\u001b[0m\u001b[0mpop\u001b[0m\u001b[0;34m(\u001b[0m\u001b[0mname\u001b[0m\u001b[0;34m)\u001b[0m\u001b[0;34m\u001b[0m\u001b[0;34m\u001b[0m\u001b[0m\n\u001b[1;32m    103\u001b[0m \u001b[0;31m#            print(args, kwargs, unmatched_pos, cut_positional, unmatched_kw)\u001b[0m\u001b[0;34m\u001b[0m\u001b[0;34m\u001b[0m\u001b[0m\n\u001b[0;32m--> 104\u001b[0;31m             \u001b[0;32mreturn\u001b[0m \u001b[0mcallback\u001b[0m\u001b[0;34m(\u001b[0m\u001b[0;34m*\u001b[0m\u001b[0margs\u001b[0m\u001b[0;34m,\u001b[0m \u001b[0;34m**\u001b[0m\u001b[0mkwargs\u001b[0m\u001b[0;34m)\u001b[0m\u001b[0;34m\u001b[0m\u001b[0;34m\u001b[0m\u001b[0m\n\u001b[0m\u001b[1;32m    105\u001b[0m \u001b[0;34m\u001b[0m\u001b[0m\n\u001b[1;32m    106\u001b[0m         \u001b[0;32mreturn\u001b[0m \u001b[0madapted\u001b[0m\u001b[0;34m\u001b[0m\u001b[0;34m\u001b[0m\u001b[0m\n",
            "\u001b[0;32m<ipython-input-1-7814dc9c5e1b>\u001b[0m in \u001b[0;36mset_css\u001b[0;34m()\u001b[0m\n\u001b[1;32m      5\u001b[0m \u001b[0;34m\u001b[0m\u001b[0m\n\u001b[1;32m      6\u001b[0m \u001b[0;32mdef\u001b[0m \u001b[0mset_css\u001b[0m\u001b[0;34m(\u001b[0m\u001b[0;34m)\u001b[0m\u001b[0;34m:\u001b[0m\u001b[0;34m\u001b[0m\u001b[0;34m\u001b[0m\u001b[0m\n\u001b[0;32m----> 7\u001b[0;31m   display(HTML('''\n\u001b[0m\u001b[1;32m      8\u001b[0m   \u001b[0;34m<\u001b[0m\u001b[0mstyle\u001b[0m\u001b[0;34m>\u001b[0m\u001b[0;34m\u001b[0m\u001b[0;34m\u001b[0m\u001b[0m\n\u001b[1;32m      9\u001b[0m     pre {\n",
            "\u001b[0;31mNameError\u001b[0m: name 'HTML' is not defined"
          ]
        }
      ]
    },
    {
      "cell_type": "code",
      "source": [
        "import gc\n",
        "import torch\n",
        "from IPython.display import HTML, display\n",
        "\n",
        "torch.cuda.empty_cache()\n",
        "gc.collect()"
      ],
      "metadata": {
        "colab": {
          "base_uri": "https://localhost:8080/",
          "height": 34
        },
        "id": "keBypXhBCU3Y",
        "outputId": "8f8faa00-27bc-4d71-ef3d-ec10e7f9dbc6"
      },
      "execution_count": null,
      "outputs": [
        {
          "output_type": "display_data",
          "data": {
            "text/plain": [
              "<IPython.core.display.HTML object>"
            ],
            "text/html": [
              "\n",
              "  <style>\n",
              "    pre {\n",
              "        white-space: pre-wrap;\n",
              "    }\n",
              "  </style>\n",
              "  "
            ]
          },
          "metadata": {}
        },
        {
          "output_type": "display_data",
          "data": {
            "text/plain": [
              "<IPython.core.display.HTML object>"
            ],
            "text/html": [
              "\n",
              "  <style>\n",
              "    pre {\n",
              "        white-space: pre-wrap;\n",
              "    }\n",
              "  </style>\n",
              "  "
            ]
          },
          "metadata": {}
        },
        {
          "output_type": "execute_result",
          "data": {
            "text/plain": [
              "43"
            ]
          },
          "metadata": {},
          "execution_count": 17
        }
      ]
    },
    {
      "cell_type": "markdown",
      "source": [
        "---"
      ],
      "metadata": {
        "id": "aZd0DNOfg9YE"
      }
    },
    {
      "cell_type": "markdown",
      "source": [
        "# Few Shot Testing"
      ],
      "metadata": {
        "id": "IOZ0T25Srscv"
      }
    },
    {
      "cell_type": "code",
      "source": [
        "from numba import jit, cuda\n",
        "from datasets import load_metric\n",
        "from torch.utils.data import Dataset\n",
        "import numpy as np\n",
        "from transformers import Seq2SeqTrainingArguments, Seq2SeqTrainer, DataCollatorForSeq2Seq\n",
        "from transformers import AutoTokenizer, AutoModelForSeq2SeqLM, AutoConfig, AdamW\n",
        "\n",
        "t5_model = \"google/flan-t5-large\"\n",
        "\n",
        "tokenizer_t5 = AutoTokenizer.from_pretrained(t5_model)\n",
        "model_t5 = AutoModelForSeq2SeqLM.from_pretrained(t5_model, low_cpu_mem_usage = True)\n",
        "config_t5 = AutoConfig.from_pretrained(t5_model)\n",
        "model_t5.config = config_t5"
      ],
      "metadata": {
        "colab": {
          "base_uri": "https://localhost:8080/",
          "height": 17
        },
        "id": "EsZ5zdr2r1yW",
        "outputId": "45ec584f-fc6f-4ffe-d9f7-3e781d94a972"
      },
      "execution_count": null,
      "outputs": [
        {
          "output_type": "display_data",
          "data": {
            "text/plain": [
              "<IPython.core.display.HTML object>"
            ],
            "text/html": [
              "\n",
              "  <style>\n",
              "    pre {\n",
              "        white-space: pre-wrap;\n",
              "    }\n",
              "  </style>\n",
              "  "
            ]
          },
          "metadata": {}
        },
        {
          "output_type": "display_data",
          "data": {
            "text/plain": [
              "<IPython.core.display.HTML object>"
            ],
            "text/html": [
              "\n",
              "  <style>\n",
              "    pre {\n",
              "        white-space: pre-wrap;\n",
              "    }\n",
              "  </style>\n",
              "  "
            ]
          },
          "metadata": {}
        }
      ]
    },
    {
      "cell_type": "code",
      "source": [
        "@jit(target_backend='cuda')\n",
        "def test_column(column_name, conv_data, model_t5, tokenizer_t5):\n",
        "  input = (f\"Convert this summary into a flow: {conv_data[column_name][0]}... Flow of the summary: {conv_data['output'][0]}\\n\",\n",
        "           f\"Convert this summary into a flow: {conv_data[column_name][1]}... Flow of the summary: {conv_data['output'][1]}\\n\",\n",
        "           f\"Convert this summary into a flow: {conv_data[column_name][2]}... Flow of the summary: {conv_data['output'][2]}\\n\",\n",
        "           f\"Convert this summary into a flow: {conv_data[column_name][3]}... Flow of the summary: \")\n",
        "  token_input = tokenizer_t5(input, return_tensors=\"pt\", padding = True)\n",
        "  output = model_t5.generate(token_input[\"input_ids\"], max_length = 1024)\n",
        "\n",
        "  return output"
      ],
      "metadata": {
        "colab": {
          "base_uri": "https://localhost:8080/",
          "height": 17
        },
        "outputId": "0d2f0d07-fcdf-4d22-d4d1-7fc20772d838",
        "id": "YMw1IgVYsBRp"
      },
      "execution_count": null,
      "outputs": [
        {
          "output_type": "display_data",
          "data": {
            "text/plain": [
              "<IPython.core.display.HTML object>"
            ],
            "text/html": [
              "\n",
              "  <style>\n",
              "    pre {\n",
              "        white-space: pre-wrap;\n",
              "    }\n",
              "  </style>\n",
              "  "
            ]
          },
          "metadata": {}
        },
        {
          "output_type": "display_data",
          "data": {
            "text/plain": [
              "<IPython.core.display.HTML object>"
            ],
            "text/html": [
              "\n",
              "  <style>\n",
              "    pre {\n",
              "        white-space: pre-wrap;\n",
              "    }\n",
              "  </style>\n",
              "  "
            ]
          },
          "metadata": {}
        }
      ]
    },
    {
      "cell_type": "code",
      "source": [
        "output = test_column(\"conversations \", conv_data, model_t5, tokenizer_t5)\n",
        "print(conv_data[\"output\"][3])\n",
        "\n",
        "for out in output:\n",
        "  print(tokenizer_t5.decode(out, skip_special_tokens=True,clean_up_tokenization_spaces=True))"
      ],
      "metadata": {
        "colab": {
          "base_uri": "https://localhost:8080/",
          "height": 781
        },
        "outputId": "439b4e07-f4a8-4a9c-8c1b-d81c05c19ad5",
        "id": "XjuZeaPCsJIs"
      },
      "execution_count": null,
      "outputs": [
        {
          "output_type": "display_data",
          "data": {
            "text/plain": [
              "<IPython.core.display.HTML object>"
            ],
            "text/html": [
              "\n",
              "  <style>\n",
              "    pre {\n",
              "        white-space: pre-wrap;\n",
              "    }\n",
              "  </style>\n",
              "  "
            ]
          },
          "metadata": {}
        },
        {
          "output_type": "display_data",
          "data": {
            "text/plain": [
              "<IPython.core.display.HTML object>"
            ],
            "text/html": [
              "\n",
              "  <style>\n",
              "    pre {\n",
              "        white-space: pre-wrap;\n",
              "    }\n",
              "  </style>\n",
              "  "
            ]
          },
          "metadata": {}
        },
        {
          "output_type": "stream",
          "name": "stderr",
          "text": [
            "Token indices sequence length is longer than the specified maximum sequence length for this model (1437 > 512). Running this sequence through the model will result in indexing errors\n"
          ]
        },
        {
          "output_type": "stream",
          "name": "stdout",
          "text": [
            "A: Solutions Department Alerts CSR of Required Change\n",
            "→ Proceed to B\n",
            "B: Order Entry\n",
            "→ Proceed to C\n",
            "C: Update Component Item ID and Quantity per Assembly as Required\n",
            "→ Are additional components being added? If yes, proceed to D. If no, go to E.\n",
            "D: Add Components\n",
            "→ Deduct Value of Added Components from Value and Add Process Prices\n",
            "→ Does Value Add Process Line result in Negative Value? If yes, proceed to G. If no, go to F.\n",
            "E: Increase Value Add Process Price by the Value of Removed Components\n",
            "→ Proceed to F\n",
            "F: Update Value Add Process Order Cost to Remaining Balance not Deducted from Value Add Process Price\n",
            "→ Proceed to H\n",
            "G: Update Value Add Process Price to $0\n",
            "→ Proceed to H\n",
            "H: Save\n",
            "A: Solutions Department Alerts CSR of Required Change  Proceed to B B: Order Entry  Update Component Item ID and Qty per Assembly as Required  Are additional components needed? (if yes, go to C; if no, go to D) C: Add Components  Deduct Value of Added Components from Value Add Process Price  Does Value Add Process Line result in Negative Value? (if yes, go to E; if no, go to F) E: Increase Value Add Process Price by the Value of Removed Components  Proceed to F E: Update Value Add Process Price to $0  Proceed to F F: Update Value Add Process Order Cost to Remaining Balance not Deducted from Value Add Process Price  Save\n",
            "A: Client Initiates Service Request  Is the service feasible? (If yes, go to B; if no, end process) B: Customize Service  Define Service Scope  Calculate Service Cost  Is the cost acceptable to the client? (If yes, go to C; if no, go to D) C: Client Approves Cost  Schedule Service Delivery  Provide Service  Follow-up with Client  Is the client satisfied? (If yes, go to E; if no, go to F) D: Adjust Service Scope & Recalculate Cost  Return to step C E: End Process F: Address Client Concerns  Return to step C after adjustments\n",
            "A: Request Component Picking  Begin component picking (Go to B) B: Execute Production Order Picking  Update required quantities, bins, lots, and serials (Go to C) C: Confirm Changes to Production Order  Change 'Confirm Pick' status to 'Confirmed' (Go to D) D: Save Confirmed Production Order  Process complete\n",
            "Customer (C) wants to update his order for industrial printers. He wants to know more about the printers' durability, maintenance and maintenance costs. He wants to know about the cost-benefit analysis. He wants to know about the production time and cost. He wants to know about the production order status.\n"
          ]
        }
      ]
    },
    {
      "cell_type": "code",
      "source": [
        "output = test_column(\"summary\", conv_data, model_t5, tokenizer_t5)\n",
        "print(conv_data[\"output\"][3])\n",
        "\n",
        "for out in output:\n",
        "  print(tokenizer_t5.decode(out, skip_special_tokens=True,clean_up_tokenization_spaces=True))"
      ],
      "metadata": {
        "colab": {
          "base_uri": "https://localhost:8080/",
          "height": 659
        },
        "id": "4PoklhhasWI4",
        "outputId": "6d588652-2158-496e-8f68-4dde4f798b3f"
      },
      "execution_count": null,
      "outputs": [
        {
          "output_type": "display_data",
          "data": {
            "text/plain": [
              "<IPython.core.display.HTML object>"
            ],
            "text/html": [
              "\n",
              "  <style>\n",
              "    pre {\n",
              "        white-space: pre-wrap;\n",
              "    }\n",
              "  </style>\n",
              "  "
            ]
          },
          "metadata": {}
        },
        {
          "output_type": "display_data",
          "data": {
            "text/plain": [
              "<IPython.core.display.HTML object>"
            ],
            "text/html": [
              "\n",
              "  <style>\n",
              "    pre {\n",
              "        white-space: pre-wrap;\n",
              "    }\n",
              "  </style>\n",
              "  "
            ]
          },
          "metadata": {}
        },
        {
          "output_type": "stream",
          "name": "stdout",
          "text": [
            "A: Solutions Department Alerts CSR of Required Change\n",
            "→ Proceed to B\n",
            "B: Order Entry\n",
            "→ Proceed to C\n",
            "C: Update Component Item ID and Quantity per Assembly as Required\n",
            "→ Are additional components being added? If yes, proceed to D. If no, go to E.\n",
            "D: Add Components\n",
            "→ Deduct Value of Added Components from Value and Add Process Prices\n",
            "→ Does Value Add Process Line result in Negative Value? If yes, proceed to G. If no, go to F.\n",
            "E: Increase Value Add Process Price by the Value of Removed Components\n",
            "→ Proceed to F\n",
            "F: Update Value Add Process Order Cost to Remaining Balance not Deducted from Value Add Process Price\n",
            "→ Proceed to H\n",
            "G: Update Value Add Process Price to $0\n",
            "→ Proceed to H\n",
            "H: Save\n",
            "A\n",
            "A: Client Initiates Service Request B: Customize Service  Define Service Scope  Calculate Service Cost  Is the cost acceptable to the client? (If yes, go to C; if no, go to D) C: Client Approves Cost  Schedule Service Delivery  Provide Service  Follow-up with Client  Is the client satisfied? (If yes, go to E; if no, go to F) D: Adjust Service Scope & Recalculate Cost  Return to step C E: End Process F: Address Client Concerns  Return to step C after adjustments\n",
            "A: Request Component Picking  Begin component picking (Go to B) B: Execute Production Order Picking  Update required quantities, bins, lots, and serials (Go to C) C: Confirm Changes to Production Order  Change 'Confirm Pick' status to 'Confirmed' (Go to D) D: Save Confirmed Production Order  Process complete\n",
            "CR is helping Client with the details on the printer's operation and maintenance. The printer needs to be compatible with the existing manufacturing software. The printers have to be able to sustain continuous 24/7 operation without overheating. They need to have built-in cooling systems. They have to protect against dust and debris. They can be fitted with dust filters that are easy to clean and replace. They will be modular for easy access and quick replacement. The quality assurance team will review the changes and adjust the production order.\n"
          ]
        }
      ]
    },
    {
      "cell_type": "code",
      "source": [
        "torch.cuda.empty_cache()\n",
        "gc.collect()"
      ],
      "metadata": {
        "colab": {
          "base_uri": "https://localhost:8080/",
          "height": 34
        },
        "id": "XG1Paurq_-OU",
        "outputId": "6becdf9c-4061-4ff9-a004-2422a6c4fe77"
      },
      "execution_count": null,
      "outputs": [
        {
          "output_type": "display_data",
          "data": {
            "text/plain": [
              "<IPython.core.display.HTML object>"
            ],
            "text/html": [
              "\n",
              "  <style>\n",
              "    pre {\n",
              "        white-space: pre-wrap;\n",
              "    }\n",
              "  </style>\n",
              "  "
            ]
          },
          "metadata": {}
        },
        {
          "output_type": "display_data",
          "data": {
            "text/plain": [
              "<IPython.core.display.HTML object>"
            ],
            "text/html": [
              "\n",
              "  <style>\n",
              "    pre {\n",
              "        white-space: pre-wrap;\n",
              "    }\n",
              "  </style>\n",
              "  "
            ]
          },
          "metadata": {}
        },
        {
          "output_type": "execute_result",
          "data": {
            "text/plain": [
              "31481"
            ]
          },
          "metadata": {},
          "execution_count": 22
        }
      ]
    },
    {
      "cell_type": "markdown",
      "source": [
        "---"
      ],
      "metadata": {
        "id": "nwBaYmcyrsE2"
      }
    },
    {
      "cell_type": "markdown",
      "source": [
        "# Model Training"
      ],
      "metadata": {
        "id": "gBLkWz7lhFtH"
      }
    },
    {
      "cell_type": "code",
      "source": [
        "model_t5.train()\n",
        "optimizer = AdamW(model_t5.parameters())\n",
        "metric = load_metric(\"rouge\")\n",
        "\n",
        "class ConversionDataset(Dataset):\n",
        "    def __init__(self, input, output):\n",
        "        self.input = input\n",
        "        self.output = output\n",
        "\n",
        "    def __len__(self):\n",
        "        return len(self.input)\n",
        "\n",
        "    def __getitem__(self, idx):\n",
        "        return {\"input_ids\":self.input[idx], \"labels\":self.output[idx]}\n",
        "\n",
        "def compute_metrics(eval_pred):\n",
        "        predictions, labels = eval_pred\n",
        "        decoded_preds = [tokenizer_t5.batch_decode(prediction, skip_special_tokens=True) for prediction in predictions]\n",
        "        # this line of code is used to replace all instances of -100 in the labels\n",
        "        # with the ID of the padding token.\n",
        "        # -100 is often used in the labels as a special value that indicates that\n",
        "        # the model should not compute loss for that particular token. This is\n",
        "        # typically used for padding or other special tokens.\n",
        "        labels = np.where(labels != -100, labels, tokenizer_t5.pad_token_id)\n",
        "        decoded_labels = [tokenizer_t5.batch_decode(label, skip_special_tokens=True) for label in labels]\n",
        "\n",
        "        # compute rogue score.\n",
        "        result = metric.compute(predictions = decoded_preds, references = decoded_labels)\n",
        "\n",
        "        #result = {\"rouge\": {\"low\" : {\"precision\" : result[\"rougeL\"][0][0], \"recall\" : result[\"rougeL\"][0][1], \"fmeasure\" : result[\"rougeL\"][0][2]},\n",
        "        #                    \"mid\" : {\"precision\" : result[\"rougeL\"][1][0], \"recall\" : result[\"rougeL\"][1][1], \"fmeasure\" : result[\"rougeL\"][1][2]},\n",
        "        #                    \"high\" : {\"precision\" : result[\"rougeL\"][2][0], \"recall\" : result[\"rougeL\"][2][1], \"fmeasure\" : result[\"rougeL\"][2][2]}}}\n",
        "        result = {\"rouge_f1\" : result[\"rougeL\"][2][2]}\n",
        "\n",
        "        return result\n",
        "\n",
        "@jit(target_backend='cuda')\n",
        "def run_t5(input, output, model_t5):\n",
        "  max_length_t5 = max([len(summary) for summary in input])\n",
        "  zipped_items = list(zip(input, output))\n",
        "  epochs = 20\n",
        "\n",
        "  inputs = []\n",
        "  outputs = []\n",
        "\n",
        "  for inp, out in zipped_items:\n",
        "    inputs.append(f\"Convert this summary into a flow: {inp}...\")\n",
        "    outputs.append(f\"Flow of the summary: {out}\")\n",
        "\n",
        "\n",
        "  token_input = tokenizer_t5(inputs, max_length = max_length_t5, padding = True, return_tensors=\"pt\")\n",
        "  token_output = tokenizer_t5(outputs, max_length = max_length_t5, padding = True, return_tensors=\"pt\")\n",
        "\n",
        "  input_ids  = token_input[\"input_ids\"]\n",
        "  attention_mask = token_input[\"attention_mask\"]\n",
        "\n",
        "  lm_labels= token_output[\"input_ids\"]\n",
        "  decoder_attention_mask=  token_output[\"attention_mask\"]\n",
        "\n",
        "  training_args = Seq2SeqTrainingArguments( #Set up the training arguments\n",
        "            output_dir='./results', #Load results to a separate directory\n",
        "            overwrite_output_dir=True, #Overwrite previous outputs\n",
        "            num_train_epochs=epochs, #Set the number of epochs\n",
        "            optim = \"adamw_hf\",\n",
        "            gradient_checkpointing = True,\n",
        "            evaluation_strategy=\"epoch\", #Have the model validate every epoch\n",
        "            weight_decay=0.01, #Bring the weights down a small amount to prevent overfitting\n",
        "            predict_with_generate=True, #Have the model generate predictions to compare to for metrics\n",
        "            disable_tqdm=False, #Make sure the bars are allowed to print\n",
        "            log_level = \"warning\", #Escalate the log level to not print all the information\n",
        "            logging_strategy = \"epoch\" #Log loss for each epoch\n",
        "        )\n",
        "\n",
        "\n",
        "  trainer = Seq2SeqTrainer( #Set up the transformers t5 model trainer\n",
        "            model = model_t5, #Input the t5 model\n",
        "            args = training_args, #Include the above training arguments\n",
        "            train_dataset = ConversionDataset(input_ids[:-1], lm_labels[:-1]),\n",
        "            eval_dataset = ConversionDataset(input_ids[-1:], lm_labels[-1:]),\n",
        "            data_collator = DataCollatorForSeq2Seq(tokenizer_t5),\n",
        "            compute_metrics = compute_metrics #Send in the compute metrics function provided in the assignment\n",
        "        )\n",
        "\n",
        "  trainer.train() #Train the Bart model\n",
        "\n",
        "  return model_t5\n"
      ],
      "metadata": {
        "colab": {
          "base_uri": "https://localhost:8080/",
          "height": 17
        },
        "id": "6-iPRwlGlhsi",
        "outputId": "3568f91a-31e0-455f-9974-375ceac9f62d"
      },
      "execution_count": null,
      "outputs": [
        {
          "output_type": "display_data",
          "data": {
            "text/plain": [
              "<IPython.core.display.HTML object>"
            ],
            "text/html": [
              "\n",
              "  <style>\n",
              "    pre {\n",
              "        white-space: pre-wrap;\n",
              "    }\n",
              "  </style>\n",
              "  "
            ]
          },
          "metadata": {}
        },
        {
          "output_type": "display_data",
          "data": {
            "text/plain": [
              "<IPython.core.display.HTML object>"
            ],
            "text/html": [
              "\n",
              "  <style>\n",
              "    pre {\n",
              "        white-space: pre-wrap;\n",
              "    }\n",
              "  </style>\n",
              "  "
            ]
          },
          "metadata": {}
        }
      ]
    },
    {
      "cell_type": "code",
      "source": [
        "model_t5 = run_t5(conv_data[\"summary\"][:-1], conv_data[\"output\"][:-1], model_t5)"
      ],
      "metadata": {
        "colab": {
          "base_uri": "https://localhost:8080/",
          "height": 737
        },
        "id": "ACcaHNPJozf3",
        "outputId": "a6a03981-72ea-4771-b3e5-f9e74a0a324a"
      },
      "execution_count": null,
      "outputs": [
        {
          "output_type": "display_data",
          "data": {
            "text/plain": [
              "<IPython.core.display.HTML object>"
            ],
            "text/html": [
              "\n",
              "  <style>\n",
              "    pre {\n",
              "        white-space: pre-wrap;\n",
              "    }\n",
              "  </style>\n",
              "  "
            ]
          },
          "metadata": {}
        },
        {
          "output_type": "display_data",
          "data": {
            "text/plain": [
              "<IPython.core.display.HTML object>"
            ],
            "text/html": [
              "\n",
              "  <style>\n",
              "    pre {\n",
              "        white-space: pre-wrap;\n",
              "    }\n",
              "  </style>\n",
              "  "
            ]
          },
          "metadata": {}
        },
        {
          "output_type": "stream",
          "name": "stderr",
          "text": [
            "`use_cache=True` is incompatible with gradient checkpointing. Setting `use_cache=False`...\n"
          ]
        },
        {
          "output_type": "display_data",
          "data": {
            "text/plain": [
              "<IPython.core.display.HTML object>"
            ],
            "text/html": [
              "\n",
              "    <div>\n",
              "      \n",
              "      <progress value='20' max='20' style='width:300px; height:20px; vertical-align: middle;'></progress>\n",
              "      [20/20 00:25, Epoch 20/20]\n",
              "    </div>\n",
              "    <table border=\"1\" class=\"dataframe\">\n",
              "  <thead>\n",
              " <tr style=\"text-align: left;\">\n",
              "      <th>Epoch</th>\n",
              "      <th>Training Loss</th>\n",
              "      <th>Validation Loss</th>\n",
              "      <th>Rouge F1</th>\n",
              "    </tr>\n",
              "  </thead>\n",
              "  <tbody>\n",
              "    <tr>\n",
              "      <td>1</td>\n",
              "      <td>4.216900</td>\n",
              "      <td>21.585785</td>\n",
              "      <td>0.047619</td>\n",
              "    </tr>\n",
              "    <tr>\n",
              "      <td>2</td>\n",
              "      <td>4.006200</td>\n",
              "      <td>20.195885</td>\n",
              "      <td>0.047619</td>\n",
              "    </tr>\n",
              "    <tr>\n",
              "      <td>3</td>\n",
              "      <td>3.820700</td>\n",
              "      <td>19.248983</td>\n",
              "      <td>0.047619</td>\n",
              "    </tr>\n",
              "    <tr>\n",
              "      <td>4</td>\n",
              "      <td>3.540400</td>\n",
              "      <td>18.883781</td>\n",
              "      <td>0.047619</td>\n",
              "    </tr>\n",
              "    <tr>\n",
              "      <td>5</td>\n",
              "      <td>3.374700</td>\n",
              "      <td>18.713923</td>\n",
              "      <td>0.047619</td>\n",
              "    </tr>\n",
              "    <tr>\n",
              "      <td>6</td>\n",
              "      <td>3.195800</td>\n",
              "      <td>18.559988</td>\n",
              "      <td>0.047619</td>\n",
              "    </tr>\n",
              "    <tr>\n",
              "      <td>7</td>\n",
              "      <td>3.175900</td>\n",
              "      <td>18.417183</td>\n",
              "      <td>0.047619</td>\n",
              "    </tr>\n",
              "    <tr>\n",
              "      <td>8</td>\n",
              "      <td>3.034400</td>\n",
              "      <td>18.337160</td>\n",
              "      <td>0.047619</td>\n",
              "    </tr>\n",
              "    <tr>\n",
              "      <td>9</td>\n",
              "      <td>2.956500</td>\n",
              "      <td>18.083199</td>\n",
              "      <td>0.047619</td>\n",
              "    </tr>\n",
              "    <tr>\n",
              "      <td>10</td>\n",
              "      <td>2.855800</td>\n",
              "      <td>17.875082</td>\n",
              "      <td>0.047619</td>\n",
              "    </tr>\n",
              "    <tr>\n",
              "      <td>11</td>\n",
              "      <td>2.779400</td>\n",
              "      <td>17.663210</td>\n",
              "      <td>0.047619</td>\n",
              "    </tr>\n",
              "    <tr>\n",
              "      <td>12</td>\n",
              "      <td>2.682100</td>\n",
              "      <td>17.453407</td>\n",
              "      <td>0.047619</td>\n",
              "    </tr>\n",
              "    <tr>\n",
              "      <td>13</td>\n",
              "      <td>2.609400</td>\n",
              "      <td>17.306509</td>\n",
              "      <td>0.047619</td>\n",
              "    </tr>\n",
              "    <tr>\n",
              "      <td>14</td>\n",
              "      <td>2.625100</td>\n",
              "      <td>17.177549</td>\n",
              "      <td>0.047619</td>\n",
              "    </tr>\n",
              "    <tr>\n",
              "      <td>15</td>\n",
              "      <td>2.492300</td>\n",
              "      <td>17.086397</td>\n",
              "      <td>0.047619</td>\n",
              "    </tr>\n",
              "    <tr>\n",
              "      <td>16</td>\n",
              "      <td>2.496800</td>\n",
              "      <td>16.963585</td>\n",
              "      <td>0.172840</td>\n",
              "    </tr>\n",
              "    <tr>\n",
              "      <td>17</td>\n",
              "      <td>2.469500</td>\n",
              "      <td>16.854670</td>\n",
              "      <td>0.148148</td>\n",
              "    </tr>\n",
              "    <tr>\n",
              "      <td>18</td>\n",
              "      <td>2.458400</td>\n",
              "      <td>16.779799</td>\n",
              "      <td>0.148148</td>\n",
              "    </tr>\n",
              "    <tr>\n",
              "      <td>19</td>\n",
              "      <td>2.458700</td>\n",
              "      <td>16.707170</td>\n",
              "      <td>0.148148</td>\n",
              "    </tr>\n",
              "    <tr>\n",
              "      <td>20</td>\n",
              "      <td>2.401900</td>\n",
              "      <td>16.672724</td>\n",
              "      <td>0.148148</td>\n",
              "    </tr>\n",
              "  </tbody>\n",
              "</table><p>"
            ]
          },
          "metadata": {}
        }
      ]
    },
    {
      "cell_type": "code",
      "source": [
        "torch.cuda.empty_cache()\n",
        "gc.collect()"
      ],
      "metadata": {
        "colab": {
          "base_uri": "https://localhost:8080/",
          "height": 34
        },
        "id": "3pV05iznKYXt",
        "outputId": "b093fcfa-1bea-4be3-fe3b-043455bfe08c"
      },
      "execution_count": null,
      "outputs": [
        {
          "output_type": "display_data",
          "data": {
            "text/plain": [
              "<IPython.core.display.HTML object>"
            ],
            "text/html": [
              "\n",
              "  <style>\n",
              "    pre {\n",
              "        white-space: pre-wrap;\n",
              "    }\n",
              "  </style>\n",
              "  "
            ]
          },
          "metadata": {}
        },
        {
          "output_type": "display_data",
          "data": {
            "text/plain": [
              "<IPython.core.display.HTML object>"
            ],
            "text/html": [
              "\n",
              "  <style>\n",
              "    pre {\n",
              "        white-space: pre-wrap;\n",
              "    }\n",
              "  </style>\n",
              "  "
            ]
          },
          "metadata": {}
        },
        {
          "output_type": "execute_result",
          "data": {
            "text/plain": [
              "58"
            ]
          },
          "metadata": {},
          "execution_count": 25
        }
      ]
    },
    {
      "cell_type": "markdown",
      "source": [
        "---"
      ],
      "metadata": {
        "id": "4gRa1wdIhJ-E"
      }
    },
    {
      "cell_type": "markdown",
      "source": [
        "# Model Testing"
      ],
      "metadata": {
        "id": "rWWirwf3hLBh"
      }
    },
    {
      "cell_type": "code",
      "source": [
        "@jit(target_backend='cuda')\n",
        "def test_t5(input, output, model_t5, tokenizer_t5):\n",
        "  torch.backends.cudnn.benchmark = True\n",
        "  model_t5.eval()\n",
        "  zipped_items = list(zip(input, output))\n",
        "  max_length_t5 = max([len(summary) for summary in input])\n",
        "\n",
        "  inputs = []\n",
        "  outputs = []\n",
        "\n",
        "  for inp, out in zipped_items:\n",
        "    inputs.append(f\"Convert this summary into a flow: {inp}...\")\n",
        "    outputs.append(f\"Flow of the summary: {out}\")\n",
        "\n",
        "\n",
        "  token_input = tokenizer_t5(inputs, max_length = max_length_t5, padding = True, return_tensors=\"pt\")\n",
        "  token_output = tokenizer_t5(outputs, max_length = max_length_t5, padding = True, return_tensors=\"pt\")\n",
        "\n",
        "  input_ids  = token_input[\"input_ids\"].cuda()\n",
        "  lm_labels= token_output[\"input_ids\"]\n",
        "\n",
        "  lm_labels = token_input = token_output = inputs = outputs = zipped_items = 0\n",
        "  gc.collect()\n",
        "\n",
        "  ret = model_t5.generate(input_ids, max_length = 1024, max_new_tokens = 40, do_sample = True, early_stopping = True)\n",
        "\n",
        "  return ret"
      ],
      "metadata": {
        "colab": {
          "base_uri": "https://localhost:8080/",
          "height": 17
        },
        "id": "LSO378LYItJ3",
        "outputId": "02561b90-ed96-453c-9e51-3c8ad8001dd5"
      },
      "execution_count": null,
      "outputs": [
        {
          "output_type": "display_data",
          "data": {
            "text/plain": [
              "<IPython.core.display.HTML object>"
            ],
            "text/html": [
              "\n",
              "  <style>\n",
              "    pre {\n",
              "        white-space: pre-wrap;\n",
              "    }\n",
              "  </style>\n",
              "  "
            ]
          },
          "metadata": {}
        },
        {
          "output_type": "display_data",
          "data": {
            "text/plain": [
              "<IPython.core.display.HTML object>"
            ],
            "text/html": [
              "\n",
              "  <style>\n",
              "    pre {\n",
              "        white-space: pre-wrap;\n",
              "    }\n",
              "  </style>\n",
              "  "
            ]
          },
          "metadata": {}
        }
      ]
    },
    {
      "cell_type": "code",
      "source": [
        "with torch.no_grad():\n",
        "  output = test_t5(conv_data[\"summary\"][3],\n",
        "                   conv_data[\"output\"][3], model_t5, tokenizer_t5)\n",
        "\n",
        "print(output)"
      ],
      "metadata": {
        "colab": {
          "base_uri": "https://localhost:8080/",
          "height": 208
        },
        "id": "QkinkNOSJI-z",
        "outputId": "863aac0d-bff7-4fbd-93d1-0a5d9a4da2c2"
      },
      "execution_count": null,
      "outputs": [
        {
          "output_type": "display_data",
          "data": {
            "text/plain": [
              "<IPython.core.display.HTML object>"
            ],
            "text/html": [
              "\n",
              "  <style>\n",
              "    pre {\n",
              "        white-space: pre-wrap;\n",
              "    }\n",
              "  </style>\n",
              "  "
            ]
          },
          "metadata": {}
        },
        {
          "output_type": "display_data",
          "data": {
            "text/plain": [
              "<IPython.core.display.HTML object>"
            ],
            "text/html": [
              "\n",
              "  <style>\n",
              "    pre {\n",
              "        white-space: pre-wrap;\n",
              "    }\n",
              "  </style>\n",
              "  "
            ]
          },
          "metadata": {}
        },
        {
          "output_type": "stream",
          "name": "stderr",
          "text": [
            "Both `max_new_tokens` (=40) and `max_length`(=1024) seem to have been set. `max_new_tokens` will take precedence. Please refer to the documentation for more information. (https://huggingface.co/docs/transformers/main/en/main_classes/text_generation)\n"
          ]
        },
        {
          "output_type": "stream",
          "name": "stdout",
          "text": [
            "tensor([[  0,  27,  56,  ...,   0,   0,   0],\n",
            "        [  0,   3,  40,  ...,   0,   0,   0],\n",
            "        [  0, 103,   3,  ...,   0,   0,   0],\n",
            "        ...,\n",
            "        [  0,   3,  15,  ...,   0,   0,   0],\n",
            "        [  0,   3, 210,  ...,   0,   0,   0],\n",
            "        [  0, 148,  54,  ...,   0,   0,   0]], device='cuda:0')\n"
          ]
        }
      ]
    },
    {
      "cell_type": "code",
      "source": [
        "for beam_output in output:\n",
        "    sent = tokenizer_t5.decode(beam_output, skip_special_tokens=True,clean_up_tokenization_spaces=True)\n",
        "    print (sent)"
      ],
      "metadata": {
        "colab": {
          "base_uri": "https://localhost:8080/",
          "height": 1000
        },
        "id": "9qFl1BjMJ2_o",
        "outputId": "2ce18d99-1f71-4179-c318-a55506ec494f"
      },
      "execution_count": null,
      "outputs": [
        {
          "output_type": "display_data",
          "data": {
            "text/plain": [
              "<IPython.core.display.HTML object>"
            ],
            "text/html": [
              "\n",
              "  <style>\n",
              "    pre {\n",
              "        white-space: pre-wrap;\n",
              "    }\n",
              "  </style>\n",
              "  "
            ]
          },
          "metadata": {}
        },
        {
          "output_type": "display_data",
          "data": {
            "text/plain": [
              "<IPython.core.display.HTML object>"
            ],
            "text/html": [
              "\n",
              "  <style>\n",
              "    pre {\n",
              "        white-space: pre-wrap;\n",
              "    }\n",
              "  </style>\n",
              "  "
            ]
          },
          "metadata": {}
        },
        {
          "output_type": "stream",
          "name": "stdout",
          "text": [
            "I will add the number of digits to each step\n",
            "lt : I will get on this flow now: l... i : xl\n",
            "don't do t. i always don't\n",
            "e - the time it was e - the tempo if it were a - The distance for each step (steps).\n",
            "n... and i can't help myself :)\n",
            "t... t...\n",
            "Congratulate yourself on getting your first job.\n",
            "h: now, when did this happen? I think...\n",
            "a computer program does some computation with input.\n",
            "s2 + s3 - s1 + s2 - s3 s2 - s3 - s1 - s2\n",
            "Go to the next step: Continue right through to the...\n",
            "g....\n",
            "You can download songs and video in the \"music\" section of this site. For example, here is the flow of a song:\n",
            "t...\n",
            "the stream has....'H. ':\n",
            "Then f....\n",
            "  r... \n",
            "e... a... i... j... k t... l m n m n m o n\n",
            "Then d into the flow of the summary.\n",
            "... Continue with the second flow.\n",
            "m...\n",
            "o...\n",
            "flow of summary: q = x + (x - 1) * (x) * (x + 1)\n",
            "e. the flow of the contents\n",
            " Then, look for any flow that makes it easy to understand and repeat.  On the smallest level, focus on the smallest line.  The smallest line makes\n",
            "S = s.split(' ')\n",
            "Follow the same flow as the previous step....\n",
            "e... provides information in an easy to use format\n",
            "c. make an offer to the client d. negotiate with the client e. deliver on the offer f.\n",
            "we can see this flow here: -now, here, here -we can see the last step in this flow here...\n",
            "FAIL.\n",
            "flow of summary: a: the new software development kit b: the open source software package of choice c: the open source programming language of choice d: the open source software library\n",
            "C  C the time (f) The time (a) is...\n",
            "(d) In a flow chart, fill all cells between 1 and 9 with water with equal volumes of:... (e) Fill each cell between 1 and 9 with water with equal volumes\n",
            "flow of this summary: [R]: ----->\n",
            "E=ethnicity\n",
            "q. is someone on a journey in which they visit many countries in which the same culture is prevalent.\n",
            "u: u:\n",
            "flow a flow of information...\n",
            "you can read this list of summaries on...\n",
            "e/- -b/-\n",
            "The flow of the summary is the...\n",
            "If I were to ask someone for a job, I'd say \"e...\n",
            "...\n",
            "t, e, f, g, h, k, l, m, n, o, p, q, r, \n",
            "S - S t = s + (1 + 1)\n",
            "We want to see some good photos of the game. How many shots do you have? The first shot is 80%.\n",
            "After you complete the presentation the following sentence will be:\n",
            "FLOW: O...\n",
            "r... r...\n",
            "This flow displays an example of an outline for a graph paper.\n",
            "h.... this time we are looking for the water.\n",
            "i want to write a paper in a flowchart.\n",
            "you take a cigarette, then you s...\n",
            "Weigh the cost for your project.\n",
            "\"C\" in the beginning of \"a\" is the product of two vectors which are equal, each with a weight of one.\n",
            "flow of the summary: u...\n",
            "s. -r -rr -rr - R = b  rr  r >\n",
            "is a recursion: n ans is the pregnancies: for t, 0 is the age; for n, 1 is the bludge\n",
            "o...\n",
            "m...\n",
            "Flow summary:... the more you use this technology, how much will you be able to do?\n",
            "you can make an apple ::\n",
            "n is called by a common name, n is a nickname or slang term used in the public sector for people, to distinguish...\n",
            "the key sequence for an integer and a vector are... and\n",
            "u...\n",
            "s...\n",
            "T * This is t... T * This is t... T * This is t... T * This is t...\n",
            "r: i...\n",
            "have a look here: [i] start by: i = int(math.sqrt(sqrt(sqrt(sqrt\n",
            "he makes the same rhyming words, he repeats them over and over\n",
            "L: o\n",
            "This flow for a elaboration of the conclusion...\n",
            "p., d., e., f., g., h., j...\n",
            "flow: r -  to i -  -> \n",
            "i...\n",
            "This summary is for the project f...\n",
            "flow summary: t...\n",
            "In most cases, it will be safer if...\n",
            "r...\n",
            "The information in the document contained herein is intended for informational purposes only. The user should not act on the content contained herein by mistaking such items for scientific or medical advice. The user\n",
            "Flow with a period of 300 seconds.\n",
            "In the same flow, each line represents a phase change in the fluid.\n",
            "C (Prototype)\n",
            "A: Add it to the list of things to find when buying groceries. A: Find the food, and you can shop on it! B: Add it to the list of food items that you\n",
            "You can read more about the flow of summary. This flow describes the key features of every product/service on the market.\n",
            "i. the flow of energy in my body\n",
            "Spite the water into the receptacle. The sprite sinks to the bottom; the sprite then lands in the drain....\n",
            "The best ways to manage your energy use in the home are to:\n",
            "H: This makes the compressor work faster...\n",
            "e. repeat the flow\n",
            "flow: we will have a brief discussion with l about...\n",
            "P: To ad-libitize\n",
            "i...\n",
            "n - the dsm from \"dopamine\" and \"eym\".\n",
            "is the a and b of the ratio: g... is the abscissa of all s:\n",
            "The arrows are: On the right hand column, the amount of data you have collected may be listed under the item name in the list below. To update this list, see Update this list\n",
            "C = y,dj,inc,hj,mj for dma in reversed order: C+/ y,dj\n",
            "l...\n",
            "i...\n",
            "e... e...\n",
            "Here is the stream in the flow chart. There are 24 sub-flows of 6 cells.\n",
            "In this example: t = ; t = ; t =  t =  to write an e-mail: print the\n",
            "The following steps may be used:\n",
            "A: W s: g: H ; H: D: W s: W h: M: D: H: n: n: H: W:\n",
            "i.e. the flow of a song...\n",
            "I want to get to know you.\n",
            "He walks away quickly.\n",
            "The first step is to make sure that you know where you are, how you are headed, and what to expect next in each stage of your move.\n",
            "toss the pebble in the ocean. Float the raft.\n",
            "h...\n",
            "e. print(sequence (filter, spool, start, end))\n",
            "Flow of summary.\n",
            "d... if you... d...\n",
            "f.... /e = f /e\n",
            "flow= t = [., 0] with a total of 0 from two points to one point:\n",
            "A train can be traveled at the speed of\n",
            "I need help paying for gas. What kinds of gas are available?\n",
            "l. go to the bathroom\n",
            "s = 0 u = u // 2 w = u + 2 * s % 2\n",
            "Summary of flow:...\n",
            "o\n",
            "You might add to that your definition of a...\n",
            "A flow of information: a: 1.... 2. 4.... 5.\n",
            "stream - induction\n",
            "h: how to be the happiest man\n",
            "e -> use to the same effect as k the result will be the...\n",
            "I am sorry for being your husband. I am sorry for having to get a divorce. However, I am glad to get your blessing to be married. I am also glad you chose this time\n",
            "Then, the last step, the next one is where the question comes:\n",
            "r= x; s= x. # the equation is defined by the first two formulas.\n",
            "flow -> i - go to step 1-2 in step -1.\n",
            "n...\n",
            "flow of this summary: ta... benbenbnná áp... tii....\n",
            "e... of the remaining particles.\n",
            "flow for r in succession: r > r > r > r  r  r\n",
            "John, when are you coming? Why is it that you're putting them away early? “We've all been here before where you just squat, but the idea is\n",
            "flow from left to right: s...\n",
            "A new flow may form where a flow in the same direction as the flow of air. This flow should occur at a speed of...\n",
            "e l o l o p l o\n",
            "p - (continue).\n",
            "[e] = the sum of n times 2\n",
            "Follow this flow: first: start.\n",
            "a flow chart is a diagram of an object.\n",
            "t... are redirected within the flow:\n",
            "flow of the summary: i...\n",
            "o.\n",
            "The N' in each column begins with a n....\n",
            "Go to the next exit in the sequence:\n",
            "A: A: A: A: A: A: A: A: A: A\n",
            "n is the same as [1] except that [n is...] is the same as [3] and [3] is the same as [4].\n",
            "d....\n",
            "This flow of information shows all the steps needed to go from an idea to a product idea into a finished product.\n",
            "What is the product that the m...?\n",
            "a flow: a summary of the main components of a flow:\n",
            " I don't know where you've been. i know you live in this town. i know you've spent the last 2 years driving around. i know you\n",
            "\"n...\".\n",
            "(a), b) p.\n",
            "e - add is added to the following sentence if not already present:\n",
            "q: d: v: n: q: r: q: w: q: w: q: d: w: \n",
            "Flow of the summary: a. start with the first paragraph: b. end with the second paragraph: c. continue with the third paragraph: d. end with the fourth\n",
            "n= (t + y)//10; t= n - (1 / 2)\n",
            "d for the value of c, denote 12 * (c+1) = d for the value of c, denote 12 * (c+1) =\n",
            "In a new body, the franks...\n",
            "I can't give you an example....\n",
            "For most things, you’ll want to do a test run to find an outcome.\n",
            "T stands for \"Touch \" in the context of a keyboard layout.\n",
            "h...\n",
            "and the b...\n",
            "flow from summary: A: The process of creating a model, to developing the parameters; B: The steps of constructing a model;C: The properties of the model; D:\n",
            "For example, if you’re looking for a home or job, look in your car’s trunk.\n",
            "Summary of Summary: How big is a city? How big is the population? How big is the school district? How big is the police department? How big is the fire department? How big\n",
            "I use this method of recording information rather than attempting to generate records.\n",
            "the first one on the right is... the last one on the left is\n",
            "flow from t to f; flow from i to l through t; flow from t to v through v through l; flow from l to l\n",
            "e... The following information is used to write the summary to the end screen:\n",
            "r... a... b...\n",
            "The flow of the summary:\n",
            "n's for n's sake: s!\n",
            "a) this sentence in the flow: while i am waiting for a train:\n",
            "e... is always positive.\n",
            "d that is a flow.\n",
            "g-b-g-b-g-m-n\n",
            "This flow will....\n",
            "t is the total mass of the metal in the cylinder: mass * (mol / cm2 ) = mass.\n",
            "to a  o... x  y: ...  \n",
            "If we have another atom, each neutron in the plasma moves closer to the nucleus, which has greater momentum while also being attracted. Because the nucleus is attracted,\n",
            "flow - a: b...\n",
            "e: f: A: B: C: E: F: G: H: J: K: L: M: O: P: Q: R: S: T:\n",
            "You'll learn these five things in a flowchart:\n",
            "c --- make a list of all items needed, from most to least c - add.\n",
            "O the... [Full summary]\n",
            "flow of summary: m : l : c :\n",
            "P': \"  p': \" f'\n",
            "A flowchart is designed to help users create better spreadsheets.\n",
            "T-shirt T-case T-socket T-shirt T-seal T-shirt T-socket T-shirt T-shirt T-shirt\n",
            "move from left to right through the...\n",
            "After the hexadecimal transformation, add the square root of 1.2.\n",
            "l...\n",
            "e...\n",
            "It is important to understand that as you go along you will know only as much about the situation as the person you are talking to....\n",
            "w. opens up a mouth to swallow a g.\n",
            "will go to the right place.\n",
            "ssr is the first letter to describe the state of  s/s.\n",
            "H: What does this mean in practice?\n",
            "Flow: After moving the mouse over a circle, click on the mouse with a single touch.\n",
            "If t > > d = 0 : return 0: (d.get(\"'.join(\"g\")for t in\n",
            "You need to choose a strategy that...\n",
            "E: p!d!...P!p!d!\n",
            "Flow summary: You have been through life many times and you have just realised that you will never get to live it again.\n",
            "E can be written...\n",
            "x...\n",
            "flow for a flow: i. return to action 2.\n",
            "s. / f/ > / >\n",
            "T is the time of interest t. d= the date of the interest. F is the time of interest f= the date of the interest.\n",
            "begin the summary: i understand\n",
            "Initiate this process of moving to where new tasks are required.\n",
            "This flow is like a summary: g.\n",
            "The flow of this summary is as follows:\n",
            "m...\n",
            "a... can be used to get rid\n",
            "n... Next: t=t.8+7+8+8+8+2+9+7+8+8+9+3+5+8+8+\n",
            "flow Description:.... at. :...\n",
            "For some flows this will be f....\n",
            "a flow n = summation > summation > summation > flow > summary\n",
            "c: for t --- get m = -f\n",
            "t=str(c).split(' ').\n",
            "u...\n",
            "r...\n",
            "move the mouse from top to bottom.\n",
            ",                ... \n",
            "Follow the flow until you reach the top of the flow.\n",
            "Flow of message:\n",
            "s=str(w) z=mqty_mqty_rmq_ph s=mqty_mqty\n",
            "o\n",
            "flow f...\n",
            "C = b = e = f = n = min t = end of a flow in... g = next c = b = e = \n",
            "w is a shorthand for elude\n",
            "A flow of the following is given by ref : flow:\n",
            "He talks about what's new with regard to the new breed of dogs. He talks about the new & improved line on the market.\n",
            "e is a: e has:\n",
            "The flow: I've had two great friends this year since moving from my house to the suburbs from New Hampshire, but life has made them change their tune. I've had the distinct\n",
            "The first step is to begin: 1) to understand the problem: What problem are you trying to resolve.... 2) to identify the solutions: 3) to identify the solutions: 4) to define and\n",
            "T :-- is the sum(x)...-- is the sum(x)-/- of:\n",
            "h : what is the... c : what are the steps : t : what is the... d : what is the solution : e \n",
            "a. an ear with a rounded tip. b. An ear with rounded aprons. c. An ear with rounded aprons\n",
            "We can proceed to next step:\n",
            "The first question of the exercise is to find a method to predict the outcome of any given sequence. This method is called the stepwise progression.\n",
            "Then there's the flow summary of: r_: a_: a__:\n",
            "in which I write down a b... Write down the m...\n",
            "n = the number of atoms in the nucleus of the covalent bond.\n",
            "Then t...\n",
            "The flow of an information flow by example with a single line :\n",
            "r- koz-phn-mrllmspg-e k-twtp-twb ### oh! #\n",
            "s is the number of objects that can be reached by the hammer.\n",
            "As your goal is to...\n",
            "h -?......\n",
            "A: a: a: a: a: a: a: a: a: a: a: a: a: a\n",
            "flow of text: a. b. c. d. e. f. g. h. i. j. k. l.\n",
            "e...\n",
            "There can be one of two possible outcomes in this scenario: If the... is left intact in the final environment all of the... are either removed or relegated to the same level\n",
            "t --\n",
            "flow for a: o. indent at: g. o. w.:...\n",
            ", So we are ready to enter the world of the Sun, a place of the past, and the future. In the beginning, We would only like the...\n",
            "b... reads\n",
            "The sum of these conclusions can be read as a flow of: er // e = sum of all previous sentences; b = (b + e) - sum of all\n",
            "Here’s the flow:\n",
            "This flow: It's your job to...\n",
            "flow of the first few days: a. b.\n",
            "[  ] [  ] l  l     .\n",
            "e = e.switch(); d = e.translate(); e = switch(); d = switch(); \n",
            "The summary is to:\n",
            "The following sections contain the flow of each section: section title page heading sequence page chapter caption page heading sequence page page subheading page title page chapter name page page page page subheading page page\n",
            "o...\n",
            "With the start of a new year, begin taking stock of all the things you’ve accomplished this year....\n",
            "flow: s=str(x); s=str(x). break:\n",
            "u...\n",
            "S..... To: b... To: c... To: d...\n",
            "The last action in a flow is t...\n",
            "a line flow is a flow of tangents\n",
            "read the report and decide to answer\n",
            "The flow of the summary of information will tell us when to change focus and when to use rest.\n",
            "Flow summaries: There is a flow of water in the body:... This page was last updated on 11:56 PM GMT by dnmst\n",
            "The... can be used to open an app store on macbook.\n",
            "Then the flow changes to: O The flow changes to: B The flow changes to: C The flow changes to: D The flow changes to: E The flow changes to: F The flow\n",
            "n... > a p        \n",
            "t...\n",
            "i found i had...\n",
            "\"\"N... - FLOW_MATRIX_THIS_PLAY_STRACT IS_TELLING_MY_INNER_EYES:\"\"\n",
            "A: (U).\n",
            "Poke a swarm of ants onto a lily\n",
            "You can use more than one type of fuel.\n",
            "flow: cntr = [] b = 0 for i in range(0, 126, 126 + 1): sc= 0 ng=\n",
            "Flow of the summary: A: Two-thirds of the items I need for my task.\n",
            "First, get rid of as much of the paper as you need to, to get rid of paper that is too thin.... Lay out the paper and cut it to size using a utility\n",
            "4. The next four steps are: 1. Scan for bacteria in your skin. 2. Make sure the bacterial infection isn’t spread to anything else. 3. Cut the fruit, and cut the\n",
            "- What is it? - How can I deal with this?\n",
            "7. Identify the following 4 points in a flow: 6 7 : 6 4 : 7 6 5 : 7 2 : 7 4 : 7 5 : 7 6 4\n",
            "This flow illustrates the... of the A(x):B(x) >3':[x+y|3] \n",
            "This is about a guy that is a...\n",
            "In a flow, the first 4 lines summarize an idea that's already been explained in the last paragraph and you see when you click over to the 'embedded'. So\n",
            "flow of information: e.\n",
            "F: For rs to start sending the commands, the flow__ will stop changing.\n",
            "a. introduces the idea of a hypothesis. b. introduces the topic of the hypothesis. c. introduces the method.\n",
            "t - b + b - e + d + f\n",
            "see the flow with the first step...\n",
            "o flow of '\n",
            "flow of a summary into a flow: n. The length of the first syllable in the phrase is the sum of...\n",
            "To sum up:\n",
            "This flows from right to left: F w s h e n d y w th\n",
            "flow: i...\n",
            "t...\n",
            "h : o : v :\n",
            "o...\n",
            "u...\n",
            "Start with the following: Then t [T] will look for its own self.\n",
            "This summary is a flow of information\n",
            "Or: o...\n",
            "The flow of the paper is: v.\n",
            "e... f.... y...\n",
            "\"R... \" \"Say thank you for... \"\n",
            "The flow of a summary of the passage:\n",
            "e. and b.\n",
            "a flow of: the body and consciousness: the structure of consciousness: what is consciousness?\n",
            "t  l  t w  -  t  t  l\n",
            "i want to stop being afraid of losing my job.\n",
            "n  r  r  N  t  n\n",
            "g g : gas/water\n",
            "You can make the flow a bit longer or shorter by not giving directional flow. Just to make it easier to remember to stop and go down in time. The idea here may seem counterproductive\n",
            "It has been said that if there had been such a thing, we would not have developed it in the first place.\n",
            "The process is repeated in cycles until, at the end of each cycle, the process is repeated.\n",
            "In the graph, the r and l...... flow together in the same direction.\n",
            "e... is a process and is part of the process of making things.\n",
            "To Y the sum of all the pieces is xy, y, and z.\n",
            "The flow of this sentence could...\n",
            "It is not easy.\n",
            "e.\n",
            "i. to see if there are any e...\n",
            "d = (e)(f)\n",
            "From g = volume/weight: G = mass/weight: g/weight: w = weight/weight: d = water/ g/weight: water/water:\n",
            "''T    (''  táng máy   yáng lu lng m\n",
            "o...\n",
            "Here we use the mnemonic as our verb\n",
            "P = project\n",
            "This means that it is important to get your car's information from more relevant sources. For some examples of this, a car may have a different information source than what's in the\n",
            "v : Now let go to this time line called the day of the week. Here the weeks are 1 through 7; last week was # 13 (July 1, 2013). # 13\n",
            "to e.... flow=stdout.write(\"\").format(\"echo\").format(\"\")\n",
            "The first step in this flow is to:\n",
            "b -- this question consists of the following: * i (a) b and c -- s a + n b and c d + e\n",
            "u. the...\n",
            "flow with: i start by performing: then...\n",
            "Then: To: B = flowChart\n",
            "k. g.\n",
            "- The nedgy girl at the park.\n",
            "have a plan for the weekend.\n",
            "'He' - the... 'She' - the... 'He' - the...\n",
            "Here is the flow:... If we continue to., the flow can be described as:\n",
            "c=span(\"l\", \"r\")\n",
            "o.\n",
            "o  o\n",
            "l...\n",
            "flow : i...\n",
            "n=1 if you get it wrong and n==3, you need to retry to get it right.\n",
            "g... g......\n",
            "The new site uses Wikipedal and has a page with a count of 100. It allows the user to easily find and explore the pages of the Wikipedal site, including\n",
            "To get in the train: s...\n",
            "y is flown by on top of a y.\n",
            "Assume that the second sentence is:\n",
            "flow begins : l= m= n= o= p= q= r= s= t= w= y\n",
            "e.... [i]\n",
            "A: My first impressions on the map were positive today. The most accurate ones were when I was in the middle of the city (in my car).\n",
            "s.\n",
            "At the end of the summosphere, your ozone layer cools in a separate area called the troposphere and fills with sunlight.\n",
            "For instance: The new generation of the iPod is now the largest platform for music content from companies such as Apple and Spotify for users of Apple's mobile devices, for example....\n",
            "There, we were able to take the same kind of water as in the original reservoir:... That’s because we did not fetaw...\n",
            "[d] make a line: [e] make a circle: [f] make a vertical line: [g] make an oval: [h] make a horizontal line\n",
            "e: u: t: w: x: z: y: z: z: y: z: y: z -----\n",
            "A flow for adding information to a spreadsheet:\n",
            "Flow of this flow:\n",
            "h...\n",
            "A flow of a description: a description that shows a sequence of actions in sequence: a description that describes something in sequence: a description of something in sequence: a description\n",
            " Follow the link for full description and screenshots.  For details, see the Getting Started with FTP.\n",
            "e - The movement of the e-body.\n",
            "... are the primary tools of an agile process...\n",
            "flow : for the group of members : t...\n",
            "o o\n",
            "This flow is repeated:... This is the flow:\n",
            "Here s the flow: p...\n",
            "r: i... l:\n",
            "O...\n",
            "to prevent this problem you can:\n",
            "E. E. E. E. E. E. E. A. E. E. E. E. A. E. E...\n",
            "c = counter to the current in...\n",
            "t... t... t... t... t...\n",
            "Go to the second level...\n",
            "a: a: a: b: c:\n",
            "i.c = ghz ji = i1. ii =\n",
            "flow of the first step is the path to the next step :\n",
            "find a place where there are no animals.\n",
            "The flow of: a-j\n",
            "S: sp\n",
            "t...\n",
            "In order to be successful in the game of...\n",
            "flow of summary: d...\n",
            "stream u...\n",
            "s-a-l-i-b-b-a-d-e tu-ch-zh.\n",
            "flow q : how many pages did this have in total? t : how many were there in total? w : how many of every page had text as its primary element\n",
            "The flow of this statement: The following summary is:\n",
            "flow of material change: the first change occurs at the beginning of the first stage:\n",
            "As you do this, you are changing your words until n.\n",
            "d [...] dist y=8 tu=8> c=12 > d d-------------------> Y 1 3 y\n",
            "... in the past a few years, the amount of resources available to the sex industry has grown significantly.\n",
            "d  = \n",
            "e - what is an e?\n",
            "dna = b denotes the degree of the pathway n. i = dna. b = h. j = i. m\n",
            "r... is a.dll file which is required to execute the user file.\n",
            "you eat fish; fish makes you shiver; shiver makes you sweat; shiver makes you...\n",
            "A s... C b A s...\n",
            "flow of the summary:\n",
            "The flow of the summary is: > What is one question you would like to ask? > What is one aspect of the question you would like to raise? > What are some things you would like\n",
            "(t) describes the key features of a tool\n",
            "flow of summary - h-- h--\n",
            "a... is created from an empty space.\n",
            "Yasmin's solution to the problem:\n",
            "Flow of information: (a) (b) (c) (d) (e)\n",
            "c. The following objects are at the rte:\n",
            "a: an example of an...\n",
            "n: take the corresponding s...\n",
            "The X factor may be used to approximate the flow of a stream of water.\n",
            "flow from \"a\" to \"b\":\n",
            "e=e.com the e in [0]  e:.com o=o.com > e:.com.\n",
            "The next step is to find an asteroid, if there is one...\n",
            "f: oo: oo: oo\n",
            "flow from topic: i think there are too many ways to get around this problem.\n",
            "T... T... T...\n",
            "flow 1: t=1\n",
            "e... for that one cell, g... for that one cell, m... for that one cell, n... for that one cell, p... for that one cell,\n",
            "d is the parent of a\n",
            "In the flow:... Relative to the overall goal, that is, to achieve results of importance to you and to build up your portfolio to deliver results you would like to achieve.\n",
            "t_name_wi = t_name.name('a') + 't_name.name('b') + 'e' + '\n",
            "flow out of the elevator into the corridor: i...\n",
            "t = the sum of the deviations from the usual mean for the nym used for the c...\n",
            "The flow of a given summary:\n",
            "Go left, across the bridge. Go left again across the bridge, and then down to cross the Thames. Go up the river a few feet, and walk at the edge of the river,\n",
            "d. get out the keys.\n",
            "u...\n",
            "s = st. alpha;n = 1st alpha;m = 2nd alpha;n = 2nd len(s)\n",
            "flow of summary: t...\n",
            "This flow of information, is the gist of the summary we just discussed:\n",
            "Then it can be described as a f...\n",
            "I resent you wanting to hurt me\n",
            "l...\n",
            " a t  t ;  \n",
            "e makes a statement that has a logical foundation in...\n",
            "r.\n",
            "s = the number of atoms in a solution\n",
            "The flow is: Then: Involvement in economic decision-making. After: Anxiety. Relaxation. Adversity. Reward.\n",
            "The following is a flowchart of a complete series of experiments... (repeats)\n",
            "h...\n",
            "This flow of information is: a. there is a. a. There is a b. There is a car.\n",
            "t.\n",
            " How to buy tickets from Dublin’s Dublin airports:\n",
            "e - t - e - p\n",
            "r... for every yr that goes by, multiply the number of months in the past by the number of months in the future...\n",
            "e...\n",
            "First, you'll need to set up a......\n",
            "cnt=0 p = 2;\n",
            "A line flow is defined as a flow of three lines. The first line is the first line of the left helix.\n",
            "Flow of description: A: S = S + I > B: I > C: F: G: H: I > J: I > K: K: M: L: O\n",
            "y...\n",
            "Flow through section:\n",
            "t...\n",
            "We need a -a- A\n",
            "A: Defining: Identifying and describing: Creating an: Concluding the: Identifying and describing the:\n",
            "A) C... B) D) E) F) G) H) I) J) K) L) M) N) O) P) R) A) C) D)\n",
            "l. wait for more liquid to pour out of the top of the liquify container t...\n",
            "e.\n",
            "FLOW: The primary function of a capacitor is to transfer magnetic energy to a regulated supply\n",
            "n l = 0, 0, 0, 0... k n l - 0, 1, 0,\n",
            "Follow the flow of the summary:\n",
            "The process used to make a chemical is called a...\n",
            "flow of the list: list of people to... list of the presidents... list of business partners to... list of presidential candidates of the last three years\n",
            "Then d...\n",
            "Follow these steps to add this flow: Add a.6 line to the next.... Add 1 to the next.... Add 1 to the 2nd........ Add 1 to the 3\n",
            " >\n",
            "e for e to s...\n",
            "flow of the summary:\n",
            "C > l > c > l > m > l > h > m > \n",
            "A tetrahedron is formed by joining two parallel walls.\n",
            "c. get energy in the body\n",
            "flow of a summary: e...\n",
            "Here, a flow is determined. A flow of products can be found by performing the following criteria:\n",
            "t = int(input()) n = int(input()) flow = [float('inf') for i in range(10)] for \n",
            "The following actions will be taken when applying some liquid for the first time: (A) Cut the tube with the first inserted needle in half and cut the piece off end with sharp knife (B\n",
            "h...\n",
            "E: e... E: e... e...\n",
            "y...\n",
            "Flow of the summary:\n",
            "The team has to win the game to advance on to a second round. The game has been called a tie.\n",
            "flow for a summary of step by step instructions:\n",
            "l... / \n",
            "l wants to go, s...\n",
            "The flow of a summary...\n",
            "b. this is the summary of the summary\n",
            "e  a  b  c  d  e  b  c  d  e \n",
            "Fuck this as fast as possible. Take the time to learn.\n",
            "In the next segment:\n",
            "o\n",
            "d... is the direction of a flow; f is the direction of a flow.\n",
            "if you are good, it might rain, but, if you are not, rain will not hit.\n",
            "l  to a... l ?\n",
            "s1a=s2b=s3: A is an independent variable in the first equation of a new equation that is the product of the derivatives of both formulas.\n",
            "flow of r...\n",
            "In the first step of the process, ask yourself if you have...\n",
            "Were I to get into my room as an adult, I'd be told a lot of stories st...\n",
            "O is slang for stout.\n",
            "o n c b c\n",
            "We have...\n",
            "d\n",
            "flow ( ) is a summary of something that happened\n",
            "/summary/ flow summary _____________________________________________________________________________________________________________________________________________________________________________________________________________\n",
            "y: o y: o y: o y:\n",
            "The flow of the summary is:...\n",
            "b. A group may receive a ray for a brief period of time\n",
            "Flow of Summary: c\n",
            "b. c. d. e. f.\n",
            "e... is a function of time.\n",
            "flow: s=str(b) continue b=int(int(b)) while 0+8+7+6+8+9+10=\n",
            "flow of summary: s; t: for t in range ii. 4\n",
            "The main idea of the section is that people have a strong social conscience about what they are, what the world is like, and what they have to offer from their perspective.\n",
            "a flow: a summary is written in a language that is represented by words.\n",
            "a flow of information:\n",
            "d... of the list = for d.\n",
            "To obtain an access password, go to the filesystem: a/s/gktr3-d-ap-version/dc/filesystem/lnpr\n",
            "q: how many hours did it take for you to make these?\n",
            "u....\n",
            "i get sober.\n",
            "flow for the c...\n",
            "k. to b.: from left to right: from (x + 1) to (y):\n",
            "Take your pencil and tin foil, and then write “Ben Folder” on the front and ”Feet” over the top. Write “1′′ over the top\n",
            "a > i.  t.... > c.   [d].\n",
            "e... to x....\n",
            "Click on \"I agree\" next to the question\n",
            "flow of the summary: http://www.uniform.com/index.php?page=1 #: 1... in order to be effective, \"...\n",
            "A flow of air to a nozzle in a car engine\n",
            "n: t: l: c: f: u: v: w: a: r: c: m: f. 3\n",
            "E  P  P  i  P  P = i  P  P  P  P = i  P \n",
            "w... m... 2...\n",
            "e... e... e...\n",
            "A man whose life was going well, then decided he should be born. A man whose life was not going well, then chose violence.\n",
            "flow = t :\n",
            "You'll need a reoccurring income of around $36 million to $77 million. To have a healthy life, you'll need to be very active.\n",
            "Here is the sequence of a flow as follows:\n",
            "Now the only possible answer is T....\n",
            "In a flow: hh > hh > hh > hh > hh > hh > g  hh > g >\n",
            "e w1 - v2 - s2m3 e - d1 - 1d\n",
            "With those items, we could do a complete flow: ...\n",
            "flow : q is a list of things n will read\n",
            "flow of summary: start with last week's summary in the following flow: name the first project you wish to tackle in term of time: the...\n",
            "A: A person who is in pain or confined to a bed\n",
            " l  f  t >  a  b  c  d  e\n",
            "drive the bike so that it goes everywhere...\n",
            "t:. :\n",
            "y = recitation of verbal words\n",
            "The following flow of information and descriptions of the activities of the group is summarized: [A]. The individual activities are...\n",
            "A flow can be formed on a grid of 4 segments of water with a vertical and horizontal width of 100  400 mm. The total length of the segments is 4 and 10 \n",
            "s = b and [b] = b\n",
            "Inject an alpha ion....\n",
            "use:U -->\n",
            "r.\n",
            "A child is learning the alphabet\n",
            "Follow up: n. continue: n. continue: n. continue: n. continue: n. continue: n. continue: n. continue: n\n",
            "c] to solve for loop length if loop length and loop count to 0: return 0 c[1:] [c[:]] is a vector number\n",
            "E = ed f = 4\n",
            "The flow of this summary can be:\n",
            "t...\n",
            "E  > -> E A \n",
            "d) The term \"necessity\" in parentheses represents the amount of needed resources.\n",
            "m...\n",
            "Then you should be able to talk to them as the last sentence.\n",
            "W=w...(w...(w...(w...(w...(w...(w...)(w...)(w...)(w...)...\n",
            "flow of text: first: summarize summary i...\n",
            "Then add the sum of the following: 1 to the sum (of 2 or more): / (/ 2)\n",
            "l. give more time for the test; r. give a lil bit more of time for the test\n",
            "n o s e m a j l o t c n o th r u t e h o\n",
            "r...\n",
            "e is a form of energy\n",
            "slimmering light fades to reveal a dark skeleton of a creature. v This article describes how to avoid the effects of the rain, such as on...\n",
            "i: i think the time has come for the new toerington i: i will come...\n",
            "e i t\n",
            "w/o i don't do that til i am 70\n",
            "It is not always easy to get a good view of a situation.\n",
            "t...\n",
            "flow of a summary of points made last week in the first part of this article:\n",
            "e...\n",
            "The flow of the summary:...  What if there was a change in the status quo?   What if there was a change in the status\n",
            "C=Discounted -discounted currency. Then the price of the drachm...\n",
            "H...\n",
            "first a flow begins with a simple summary of information and then discusses a number of steps to achieve the same outcome.\n",
            "d.  The following is a flow of the main events of October of 2010. For example.....: n 1 - the end of October\n",
            "g=([]+[]). g=[][:-1].\n",
            "the flow of the summary: for example:\n",
            "s = ',' c = '' ',' d = '' ',' e = '' ',' f =\n",
            "The flow of the summary is:\n",
            "a flow of these examples\n",
            "The solution: n is the amount of time between the start of and end of a cycle.\n",
            "d...\n",
            "On the right, you can also see...\n",
            "A: The flow of a syst in this article is  f flow of \n",
            "D the same size in your syringe.\n",
            "j: next, you start by asking them to...\n",
            "u...\n",
            "The s....\n",
            "flow of summary: t...\n",
            "The following are some flowcharts that may help summarize the article in the following order:\n",
            "t + = bb\n",
            "h: u=i\n",
            "a = int(e) + 1 b = int(e) + 2 c = int(e) + 2 d = d + e\n",
            "In the first flow, find the first variable with the following n - invec : [2,3,5,7,14,19,21,23,24] and k\n",
            "Weakness: The second stage involves weakness, strength, and, most often (though not always), weakness.\n",
            "[r] reads the rem and makes observations on l.\n",
            "o...\n",
            "d. h...\n",
            "u....\n",
            "C : m : f : g : h : i : k : l : m : n : \n",
            "is the product/process/output type of the product.  The product/process/output type represents a single input or output device and the value represents that device's output\n",
            "i.\n",
            "In general a car moves slower if it has fewer wheels than a normal car. The better the car with more wheels, the more...\n",
            "n...\n",
            "The following flow describes five reasons why...\n",
            "Suggested flow for description is: of a flow in sequence, an is...\n",
            "r... is a good summary to put it into.\n",
            "d... = document.html embed d\n",
            "The summary: how the gps reflects how it is transmitted in your home\n",
            "and he will...\n",
            "As you will know, I cannot tell you that. If you do not have any children it is OK to skip the section. However, you can ask for a ride from one of the other\n",
            "It was mainly the men that were effected from the war which happened in this war.\n",
            "C... is the average metric unit of measurement used to estimate the length of the diameter of the ball.\n",
            "swl to d...\n",
            "It's not even about a book. You need book\n",
            "e...\n",
            "From left to right: a; B; C; D; E; F; H; J; K; L; M.\n",
            "Flies and stings\n",
            "A Flow of: A Summary of the Data:\n",
            "flow from w to n:\n",
            "flow: i...\n",
            "l... /sudden fluttering in your ears\n",
            "Stream – Summary\n",
            "Flow of the summary:\n",
            "Go up in the sky above the sea to get away to land on a cliff. Go down and down to get close to an iceberg under the ocean. Flake your teeth through\n",
            "e...\n",
            "Is / it / is not / is / or / are\n",
            "There are four stages of this process:\n",
            "a flow of information reversing the sequence of a flow of information is shown above in the figure.\n",
            "You can use a flow chart to do this: a) Note: there is a flow chart on the left side of the page, for example, for e-mails...\n",
            "Cn13:=Ct23:=Ct2:=Ct3+5=5=ct\n",
            "o o--\n",
            "Sweep right, back, left.\n",
            "Starts the reverberation:\n",
            "- \"How do we change things for the better?\"\n",
            "b...\n",
            "will be asked about\n",
            "n...\n",
            "e...\n",
            "f: rem...\n",
            "i want my dogs to live a healthy life.\n",
            "t... /x = /y = /q = /z = /z = /z = /q = /z = /z = \n",
            "With the exception of the last two flows, the following flow is entirely within the scope of the previous flow:\n",
            "A: A: A: B: A: C: D: A: D: A: I:\n",
            "if it is difficult to answer, it is important to avoid doing something, too....\n",
            " :  (34:14).\n",
            "l......\n",
            "y...\n",
            "s = [] f = [] for _ in range(1, int(input())+1): s.append(pow(0,100,\n",
            "is that guy's a fucking douche\n",
            "n = int(s) result = [] for s in range(1,7): s = int(s) result.append(n) result = result.\n",
            "This flow describes the basics of the process of making a point:\n",
            "Then this is explained in a flow. O...\n",
            "f... f\n",
            "It would like to do a summary by day or so of the last day's activities.\n",
            "is a tool used to make a...\n",
            "d. stop here, and b. stop here, and c..., and d. stop here, and c. stop here, and\n",
            "This diagram shows a path using a circular guideline as a guide.\n",
            "i take a picture of a wall and put it on a chalkboard i put paint by name on it\n",
            "n... is a flow verb.\n",
            "F  (tt(m))(mg-f):g/0.jpg (tt(m))(mg-f)\n",
            "The key part is that the flow shows which parts are in the first paragraph, which are in the second paragraph, so that the flow is not necessarily complicated.\n",
            "G8 are: UN Secretary General Ban Ki-moon UN Secretary John Kerry\n",
            "e...\n",
            "w... would you describe a single word that you would use to express a single thing?\n",
            "You can learn with tiger-tailed frogs. For starters, learn how to create an effective strategy.\n"
          ]
        }
      ]
    },
    {
      "cell_type": "code",
      "source": [],
      "metadata": {
        "id": "Z_qvWzDPYbHV"
      },
      "execution_count": null,
      "outputs": []
    }
  ]
}