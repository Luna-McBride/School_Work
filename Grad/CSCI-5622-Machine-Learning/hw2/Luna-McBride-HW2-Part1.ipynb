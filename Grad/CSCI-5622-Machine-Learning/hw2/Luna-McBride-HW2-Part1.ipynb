{
 "cells": [
  {
   "cell_type": "markdown",
   "id": "3226342b",
   "metadata": {},
   "source": [
    "# CSCI 5622: Machine Learning\n",
    "## Fall 2023\n",
    "### Instructor: Daniel Acuna, Associate Professor, Department of Computer Science, University of Colorado at Boulder"
   ]
  },
  {
   "cell_type": "markdown",
   "id": "73c3eab8",
   "metadata": {},
   "source": [
    "Before you turn this problem in, make sure everything runs as expected. First, **restart the kernel** (in the menubar, select Kernel$\\rightarrow$Restart) and then **run all cells** (in the menubar, select Cell$\\rightarrow$Run All).\n",
    "\n",
    "Make sure you fill in any place that says `YOUR CODE HERE` or \"YOUR ANSWER HERE\", as well as your name and collaborators below:"
   ]
  },
  {
   "cell_type": "code",
   "execution_count": 1,
   "id": "818d0b2b",
   "metadata": {},
   "outputs": [],
   "source": [
    "NAME = \"Luna McBride\"\n",
    "COLLABORATORS = \"\""
   ]
  },
  {
   "cell_type": "markdown",
   "id": "e6ea1645",
   "metadata": {},
   "source": [
    "---"
   ]
  },
  {
   "cell_type": "code",
   "execution_count": 2,
   "id": "0303d5a1-96bd-4baf-bc7c-86572d7596b0",
   "metadata": {
    "deletable": false,
    "editable": false,
    "nbgrader": {
     "cell_type": "code",
     "checksum": "a3404bd56d3fda24286aab56807d28dd",
     "grade": false,
     "grade_id": "cell-a05ccabca6f911cc",
     "locked": true,
     "schema_version": 3,
     "solution": false,
     "task": false
    }
   },
   "outputs": [],
   "source": [
    "# Necessary imports\n",
    "import matplotlib.pyplot as plt\n",
    "import numpy as np\n",
    "import sklearn"
   ]
  },
  {
   "cell_type": "code",
   "execution_count": 3,
   "id": "a20a8376-fe74-47ff-b0ca-d7b719908492",
   "metadata": {
    "deletable": false,
    "editable": false,
    "nbgrader": {
     "cell_type": "code",
     "checksum": "67ea331d6f07f9b4767675aff00996bd",
     "grade": false,
     "grade_id": "cell-42bf5f824c2bb681",
     "locked": true,
     "schema_version": 3,
     "solution": false,
     "task": false
    }
   },
   "outputs": [],
   "source": [
    "from sklearn.datasets import load_breast_cancer\n",
    "X = load_breast_cancer()['data']\n",
    "y = load_breast_cancer()['target']"
   ]
  },
  {
   "cell_type": "code",
   "execution_count": 4,
   "id": "557be2a8-8fd7-426e-ba2d-8bbd061eb5cc",
   "metadata": {
    "deletable": false,
    "editable": false,
    "nbgrader": {
     "cell_type": "code",
     "checksum": "fd2673d05f27dd3c96d0b57b81438f25",
     "grade": false,
     "grade_id": "cell-ee92b46718beabc2",
     "locked": true,
     "schema_version": 3,
     "solution": false,
     "task": false
    }
   },
   "outputs": [],
   "source": [
    "from sklearn.model_selection import train_test_split\n",
    "\n",
    "# Splitting the dataset into training and testing sets\n",
    "X_train, X_test, y_train, y_test = train_test_split(X, y, test_size=0.5, random_state=42)"
   ]
  },
  {
   "cell_type": "markdown",
   "id": "5575ea42-7e1d-4526-aca4-b9eb76439de6",
   "metadata": {},
   "source": [
    "# Part 1: (45 pts) Entropy, information gain"
   ]
  },
  {
   "cell_type": "markdown",
   "id": "e9bb8a4b-b789-4972-b6d0-698cc2b6de86",
   "metadata": {},
   "source": [
    "For all the questions in this part, consider that the features are binary and the label is binary as well."
   ]
  },
  {
   "cell_type": "markdown",
   "id": "c5ea32ec-8c93-4c15-90d5-bd434a1f5517",
   "metadata": {},
   "source": [
    "### (5 pts) Question 1: Entropy\n",
    "\n",
    "Entropy is a measure of the impurity or disorder of a dataset. For a binary classification problem, the entropy of a dataset $ D $ is given by:\n",
    "\n",
    "$$\n",
    "H(D) = - p_+ \\log_2 p_+ - p_- \\log_2 p_-\n",
    "$$\n",
    "\n",
    "Where:\n",
    "- $ p_+ $ is the proportion of positive examples in $ D $.\n",
    "- $ p_- $ is the proportion of negative examples in $ D $.\n",
    "\n",
    "If $ p_+ $ or $ p_- $ is $ 0 $, their respective term in the equation is considered to be $ 0 $ (since the logarithm of $ 0 $ is undefined).\n",
    "\n",
    "**Task:**\n",
    "\n",
    "Your task is to implement the entropy function based on the provided formula. Make sure to handle the edge cases where $ p_+ $ or $ p_- $ are $ 0 $.\n",
    "\n",
    "- Hint: Sometimes, you need to accept an empty set (`len(target) == 0`), and you should return 0 entropy"
   ]
  },
  {
   "cell_type": "code",
   "execution_count": 5,
   "id": "7516c337-6590-4a44-a5dd-0a107c9deb3a",
   "metadata": {
    "deletable": false,
    "nbgrader": {
     "cell_type": "code",
     "checksum": "c3725618904aab86fb7520a75fc2edfe",
     "grade": false,
     "grade_id": "cell-7f0a98b07e361d36",
     "locked": false,
     "schema_version": 3,
     "solution": true,
     "task": false
    }
   },
   "outputs": [],
   "source": [
    "def entropy(target: np.ndarray) -> float:\n",
    "    \"\"\"\n",
    "    Compute the entropy of a dataset.\n",
    "    \n",
    "    Parameters:\n",
    "    - target: A 1D numpy array of shape (n_samples,) containing the binary target values (0 or 1).\n",
    "    \n",
    "    Returns:\n",
    "    - H: A float representing the entropy of the dataset.\n",
    "    \"\"\"\n",
    "    \n",
    "    # YOUR CODE HERE\n",
    "    H = 0.0 #Set a baseline for the entropy value\n",
    "    \n",
    "    #If there are no values to check (ie, there are no positive nor negative values), return 0\n",
    "    if len(target) == 0:\n",
    "        return H #Return the default H of H=0\n",
    "    \n",
    "    positive = 0 #Initialize a counter for the number of positive entries\n",
    "    negative = 0 #Initialize a counter for the number of negative entries\n",
    "    number = len(target) #Get the length as the number of total entries\n",
    "    \n",
    "    #For each element, add to positive if positive and add to negative if negative\n",
    "    for element in target:\n",
    "        \n",
    "        #If the element is positive, add to positive\n",
    "        if element == 1:\n",
    "            positive += 1 #Add one to positive, as to count the number of positive entries\n",
    "        \n",
    "        #If the element is not positive, add to negative\n",
    "        else:\n",
    "            negative += 1 #Add one to negative\n",
    "            \n",
    "    positive = positive/number #Divide by the total number to get the proportion of positives\n",
    "    negative = negative/number #Divide by the total number to get the proportion of negatives\n",
    "    \n",
    "    #If there are no positives, just calculate negative.\n",
    "    if positive == 0:\n",
    "        H = -1 * negative * np.log2(negative) #Calculate the entropy for just the negative values\n",
    "    \n",
    "    #If there are no negatives, just calculate positive.\n",
    "    elif negative == 0:\n",
    "        H = -1 * positive * np.log2(positive) #Calculate the entropu for jusy positive values\n",
    "        \n",
    "    #If there are both positive and negative values, compute the entropy properly\n",
    "    else:\n",
    "        H = (-1 * positive * np.log2(positive)) - (negative * np.log2(negative)) #Compute the entropu by the given equation\n",
    "    \n",
    "    return H #Return the entropy value"
   ]
  },
  {
   "cell_type": "code",
   "execution_count": 6,
   "id": "5840aef9-4984-4c1c-94ef-b3ed21b5d222",
   "metadata": {},
   "outputs": [
    {
     "data": {
      "text/plain": [
       "0.9182958340544896"
      ]
     },
     "execution_count": 6,
     "metadata": {},
     "output_type": "execute_result"
    }
   ],
   "source": [
    "# some examples\n",
    "entropy(np.array([0, 1, 1]))"
   ]
  },
  {
   "cell_type": "code",
   "execution_count": 7,
   "id": "da502424-e7e5-46f2-922c-481097fe58e4",
   "metadata": {},
   "outputs": [
    {
     "data": {
      "text/plain": [
       "-0.0"
      ]
     },
     "execution_count": 7,
     "metadata": {},
     "output_type": "execute_result"
    }
   ],
   "source": [
    "entropy(np.array([0]))"
   ]
  },
  {
   "cell_type": "code",
   "execution_count": 8,
   "id": "ba77ca2e-fefd-4f0c-95be-b6a63379f5d8",
   "metadata": {
    "deletable": false,
    "editable": false,
    "nbgrader": {
     "cell_type": "code",
     "checksum": "1346b871e20099a09f8bcca71ca598a7",
     "grade": true,
     "grade_id": "cell-a9ce770436c346b7",
     "locked": true,
     "points": 5,
     "schema_version": 3,
     "solution": false,
     "task": false
    }
   },
   "outputs": [],
   "source": [
    "# Test with a balanced dataset\n",
    "y_test_1 = np.array([0, 1, 0, 1])\n",
    "assert np.isclose(entropy(y_test_1), 1.0, atol=1e-5), \"Test Case 1 Failed\"\n",
    "# Test with all negative examples\n",
    "y_test_2 = np.array([0, 0, 0, 0])\n",
    "assert np.isclose(entropy(y_test_2), 0.0, atol=1e-5), \"Test Case 2 Failed\"\n",
    "# Test with all positive examples\n",
    "y_test_3 = np.array([1, 1, 1, 1])\n",
    "assert np.isclose(entropy(y_test_3), 0.0, atol=1e-5), \"Test Case 3 Failed\""
   ]
  },
  {
   "cell_type": "markdown",
   "id": "d936ded8-59c0-4936-8b90-8bdd7443165f",
   "metadata": {},
   "source": [
    "## (10 pts) Question 2: Information Gain\n",
    "\n",
    "Information Gain (IG) is a measure of the effectiveness of an attribute in classifying the training data. It calculates the difference between the entropy of the dataset before the split and the weighted entropy of each branch after the split. The formula for computing IG is given by:\n",
    "\n",
    "$$\n",
    "IG(D, A) = H(D) - \\sum_{v \\in A} \\left( \\frac{|D_v|}{|D|} \\times H(D_v) \\right)\n",
    "$$\n",
    "\n",
    "Where:\n",
    "- $ H(D) $ is the entropy of the dataset.\n",
    "- $ A $ is the attribute or feature column we're considering.\n",
    "- $ D_v $ is the subset of data for which attribute $ A $ has value $ v $.\n",
    "- $ |D_v| $ is the number of samples in $ D_v $.\n",
    "- $ |D| $ is the total number of samples.\n",
    "\n",
    "**Task:**\n",
    "\n",
    "Write a function `information_gain` to solve the problem.\n",
    "\n",
    "Hint:\n",
    "1. Start by computing the entropy of the dataset before the split.\n",
    "2. Next, compute the weighted entropy of each branch after the split based on the feature column $x_j \\leq v$ \n",
    "3. Return the difference between the initial entropy and the weighted sum of branch entropies."
   ]
  },
  {
   "cell_type": "code",
   "execution_count": 9,
   "id": "4490a415-d044-423e-9c84-bbc14e5b283f",
   "metadata": {
    "deletable": false,
    "nbgrader": {
     "cell_type": "code",
     "checksum": "94fb5ed29f21f15ae67429395c72fa53",
     "grade": false,
     "grade_id": "cell-6faa057efca41ff7",
     "locked": false,
     "schema_version": 3,
     "solution": true,
     "task": false
    }
   },
   "outputs": [],
   "source": [
    "def information_gain(X: np.ndarray, y: np.ndarray, j: int, v: float) -> float:\n",
    "    \"\"\"\n",
    "    Compute the information gain of splitting the data based on feature column j.\n",
    "    \n",
    "    Parameters:\n",
    "    - X: A 2D numpy array of shape (n_samples, n_features) containing the features\n",
    "    - y: A 1D numpy array of shape (n_samples,) containing the binary target values (0 or 1).\n",
    "    - j: An integer representing the target feature column index (0-indexed).\n",
    "    - v: A floating point containing the value by which this column will be split\n",
    "    \n",
    "    Returns:\n",
    "    - IG: A float representing the information gain of the split based on feature column j.\n",
    "    \"\"\"    \n",
    "    # YOUR CODE HERE\n",
    "    entropyAllData = entropy(y) #Get the entropy on all of the data\n",
    "    \n",
    "    combinedXY = list(zip(X, y)) #Combining X and y so they stay connected, even through any subsets or randomization\n",
    "    #I learned this I do not know how many years ago at this point, but it is still one of the best ways to make sure that xy connection is not lost\n",
    "    \n",
    "    Xlower = [] #Initialize a list for the x values of the lower than v split\n",
    "    ylower = [] #Initialize a list for the y values of the lower than v split\n",
    "    Xupper = [] #Initialize a list for the x values of the higher than v split\n",
    "    yupper = [] #Initialize a list for the y values of the higher than v split\n",
    "    \n",
    "    #For each features and y value pair, determine if it is part of the lower or upper split\n",
    "    for Xvalue, yvalue in combinedXY:\n",
    "        \n",
    "        #If the value selected is less than or equal to v, add it to the lower lists \"based on the feature column  𝑥𝑗≤𝑣\"\n",
    "        if Xvalue[j] <= v:\n",
    "            Xlower.append(Xvalue) #Add the x features to the lower x list\n",
    "            ylower.append(yvalue) #Add the y value to the lower y list\n",
    "        \n",
    "        #If the value selected is strictly greater than v, add it to the upper lists\n",
    "        else:\n",
    "            Xupper.append(Xvalue) #Add the x features to the upper x list\n",
    "            yupper.append(yvalue) #Add the y value to the upper y list\n",
    "    \n",
    "    lowerHalfSum = (len(Xlower)/len(X)) * entropy(ylower) #Get the len dv / len x * entropy for the lower than v values\n",
    "    upperHalfSum = (len(Xupper)/len(X)) * entropy(yupper) #Get the len dv / len x * entropy for the higher than v values\n",
    "    \n",
    "    IG = entropyAllData - lowerHalfSum - upperHalfSum #Calculate the overall summation from the equation above\n",
    "    \n",
    "    return IG #Return the summation"
   ]
  },
  {
   "cell_type": "code",
   "execution_count": 10,
   "id": "9d8fec9e-0b02-4e6b-bde0-8b04dbbcae8a",
   "metadata": {},
   "outputs": [
    {
     "data": {
      "text/plain": [
       "-0.0"
      ]
     },
     "execution_count": 10,
     "metadata": {},
     "output_type": "execute_result"
    }
   ],
   "source": [
    "entropy(y_test_2)"
   ]
  },
  {
   "cell_type": "code",
   "execution_count": 11,
   "id": "9dfc89bb-a5bc-44d4-8144-0d90b2402b29",
   "metadata": {},
   "outputs": [],
   "source": [
    "# try your function here"
   ]
  },
  {
   "cell_type": "code",
   "execution_count": 12,
   "id": "ad352ea5-2694-4dab-a500-c3aa2eb4bf16",
   "metadata": {
    "deletable": false,
    "editable": false,
    "nbgrader": {
     "cell_type": "code",
     "checksum": "9fad0bd08429bdaa17a74a631a61fb9e",
     "grade": true,
     "grade_id": "cell-6d36fe1ad1e52f2f",
     "locked": true,
     "points": 10,
     "schema_version": 3,
     "solution": false,
     "task": false
    }
   },
   "outputs": [],
   "source": [
    "\"\"\" (10 pts) \"\"\"\n",
    "# Test Case 1: Binary Feature\n",
    "X_test_1 = np.array([\n",
    "    [0, 1],\n",
    "    [1, 0],\n",
    "    [1, 1],\n",
    "    [0, 0]\n",
    "])\n",
    "y_test_1 = np.array([0, 1, 0, 1])\n",
    "# Given that the threshold doesn't matter for binary features, we can still provide one\n",
    "assert np.isclose(information_gain(X_test_1, y_test_1, 1, 0.5), 1.0, atol=1e-5), \"Test Case 1 Failed\"\n",
    "\n",
    "# Test Case 2: Continuous Feature\n",
    "X_test_2 = np.array([\n",
    "    [0.5, 1.5],\n",
    "    [1.5, 0.5],\n",
    "    [2.5, 1.5],\n",
    "    [0.5, 0.5]\n",
    "])\n",
    "y_test_2 = np.array([0, 1, 0, 1])\n",
    "# Here, the threshold matters; we're checking the information gain when the split is made at 1.0 for feature 1\n",
    "assert np.isclose(information_gain(X_test_2, y_test_2, 1, 1.0), 1.0, atol=1e-5), \"Test Case 2 Failed\"\n",
    "\n",
    "# Test Case 3: Another Continuous Feature\n",
    "X_test_3 = np.array([\n",
    "    [0.5, 1.5, 2.5],\n",
    "    [1.5, 0.5, 2.5],\n",
    "    [2.5, 1.5, 1.5],\n",
    "    [0.5, 0.5, 0.5]\n",
    "])\n",
    "y_test_3 = np.array([0, 1, 0, 1])\n",
    "# Checking the information gain for a split made at 2.0 for feature 2\n",
    "expected_IG_3 = 0.31127812445913283\n",
    "assert np.isclose(information_gain(X_test_3, y_test_3, 2, 1.0), expected_IG_3, atol=1e-5), \"Test Case 3 Failed\""
   ]
  },
  {
   "cell_type": "markdown",
   "id": "b31feb6d-4829-4f1d-a6bd-59b22d18191d",
   "metadata": {},
   "source": [
    "### (10 pts) Question 3: Create a Function Representing a \"Decision Stump\"\n",
    "\n",
    "A decision stump is a decision tree with just one split. It makes a decision based on whether a feature \\(j\\) is less than or equal to a value \\(v\\), and returns a specified value if the condition is met.\n",
    "\n",
    "**Task:**\n",
    "\n",
    "Write a function `create_decision_stump` with the following signature:\n",
    "\n",
    "```python\n",
    "def create_decision_stump(j: int, threshold: float, return_value: int) -> Callable[[np.ndarray], np.ndarray]:\n",
    "    \"\"\"\n",
    "    Create a decision stump based on feature column j, a threshold value, and a specified return value if \n",
    "    the condition is met.\n",
    "    \n",
    "    Parameters:\n",
    "    - j: An integer representing the feature column index (0-indexed) to base the decision on.\n",
    "    - threshold: A float representing the threshold value to decide the split.\n",
    "    - return_value: An integer (0 or 1) to return when the feature column value is less than or equal to the threshold.\n",
    "    \n",
    "    Returns:\n",
    "    - decision_stump: A function that takes in a 2D numpy array and returns a 1D numpy array\n",
    "                      with predictions, returning the specified value if the feature column value is less than or \n",
    "                      equal to the threshold, and the opposite value otherwise.\n",
    "    \"\"\"\n",
    "    pass\n",
    "```"
   ]
  },
  {
   "cell_type": "code",
   "execution_count": 13,
   "id": "7e300a45-bfe9-4f9a-b080-3496f372b0a9",
   "metadata": {
    "deletable": false,
    "nbgrader": {
     "cell_type": "code",
     "checksum": "7a4f6c0574149433c87076fcbca4002c",
     "grade": false,
     "grade_id": "cell-1690921dca462a27",
     "locked": false,
     "schema_version": 3,
     "solution": true,
     "task": false
    }
   },
   "outputs": [],
   "source": [
    "from typing import Callable\n",
    "\n",
    "def create_decision_stump(j: int, threshold: float, return_value: int) -> Callable[[np.ndarray], np.ndarray]:\n",
    "    \"\"\"\n",
    "    Create a decision stump based on feature column j, a threshold value, and a specified return value if \n",
    "    the condition is met.\n",
    "    \n",
    "    Parameters:\n",
    "    - j: An integer representing the feature column index (0-indexed) to base the decision on.\n",
    "    - threshold: A float representing the threshold value to decide the split.\n",
    "    - return_value: An integer (0 or 1) to return when the feature column value is less than or equal to the threshold.\n",
    "    \n",
    "    Returns:\n",
    "    - decision_stump: A function that takes in a 2D numpy array and returns a 1D numpy array\n",
    "                      with predictions, returning the specified value if the feature column value is less than or \n",
    "                      equal to the threshold, and the opposite value otherwise.\n",
    "    \"\"\"\n",
    "    \n",
    "    def decision_stump(x):\n",
    "        \"\"\"\n",
    "        Create a decision stump based the values in the external function and an additional pass-in x.\n",
    "    \n",
    "        Parameters:\n",
    "        - x: a list of features from which to follow the j, threshold, and return_value rules from the external function\n",
    "    \n",
    "        Returns:\n",
    "        - returnValues: a list of outputs to be expected from the stump for each feature list in x\n",
    "        \"\"\"\n",
    "        returnValues = [] #Create the returnValues list\n",
    "        \n",
    "        #For each set of values in x, check the specified j and threshold values and append the appropriate return value\n",
    "        for values in x:\n",
    "            #If the value at the specified j is less than or equal to the threshold, append the return value\n",
    "            if values[j] <= threshold:\n",
    "                returnValues.append(return_value) #Append the return value to the returnValues list\n",
    "                \n",
    "            #If the value at the specified j is strictly greater than the threshold, apply the opposite of the return value\n",
    "            else:\n",
    "                returnValues.append(int(not return_value)) #Append the opposite of the return value (1->0, 0->1)\n",
    "        \n",
    "        return returnValues #Return the return values\n",
    "        \n",
    "    \n",
    "    return decision_stump"
   ]
  },
  {
   "cell_type": "code",
   "execution_count": 14,
   "id": "539f2638-5ea8-4d21-a7a6-640a63707296",
   "metadata": {},
   "outputs": [],
   "source": [
    "# try it here"
   ]
  },
  {
   "cell_type": "code",
   "execution_count": 15,
   "id": "85e2ecda-7fed-4e0c-bfa6-3ecb44dfd0b6",
   "metadata": {
    "deletable": false,
    "editable": false,
    "nbgrader": {
     "cell_type": "code",
     "checksum": "962b2897cbeca0e192417314f7e9d1a2",
     "grade": true,
     "grade_id": "cell-67f4738a744a9dd5",
     "locked": true,
     "points": 0,
     "schema_version": 3,
     "solution": false,
     "task": false
    }
   },
   "outputs": [],
   "source": [
    "\"\"\"(10 pts) Some tests\"\"\"\n",
    "# Test Case 1: Binary Feature\n",
    "X_test_1 = np.array([\n",
    "    [0, 1],\n",
    "    [1, 0],\n",
    "    [1, 1],\n",
    "    [0, 0]\n",
    "])\n",
    "# Here, we expect all values less than or equal to 0 to be classified as 1, and others as 0\n",
    "stump_1 = create_decision_stump(0, 0, 1)\n",
    "assert np.array_equal(stump_1(X_test_1), np.array([1, 0, 0, 1])), \"Test Case 1 Failed\"\n",
    "\n",
    "# Test Case 2: Continuous Feature\n",
    "X_test_2 = np.array([\n",
    "    [0.5, 1.5],\n",
    "    [1.5, 0.5],\n",
    "    [2.5, 1.5],\n",
    "    [0.5, 0.5]\n",
    "])\n",
    "# We're checking the predictions when the split is made at 1.0 for feature 1\n",
    "# Values less than or equal to 1.0 should be classified as 0, and others as 1\n",
    "stump_2 = create_decision_stump(1, 1.0, 0)\n",
    "assert np.array_equal(stump_2(X_test_2), np.array([1, 0, 1, 0])), \"Test Case 2 Failed\"\n",
    "\n",
    "# Test Case 3: Another Continuous Feature\n",
    "X_test_3 = np.array([\n",
    "    [0.5, 1.5, 2.5],\n",
    "    [1.5, 0.5, 2.5],\n",
    "    [2.5, 1.5, 1.5],\n",
    "    [0.5, 0.5, 0.5]\n",
    "])\n",
    "# Checking the predictions for a split made at 2.0 for feature 2\n",
    "# Values less than or equal to 2.0 should be classified as 0, and others as 1\n",
    "stump_3 = create_decision_stump(2, 2.0, 0)\n",
    "assert np.array_equal(stump_3(X_test_3), np.array([1, 1, 0, 0])), \"Test Case 3 Failed\""
   ]
  },
  {
   "cell_type": "markdown",
   "id": "5f49c0c2-3267-4a36-bfb1-815ec84c2fda",
   "metadata": {},
   "source": [
    "### (10 pts) Question 4: Best Feature to Split By\n",
    "\n",
    "Using the previously defined `information_gain` function that now takes a threshold as a parameter, your task is to find the best feature and threshold to split the data on. Specifically, you should identify the feature and threshold that provides the highest information gain when used as a decision stump.\n",
    "\n",
    "**Task:**\n",
    "\n",
    "Write a function `best_feature_to_split` with the following signature:\n",
    "\n",
    "```python\n",
    "def best_feature_to_split(X: np.ndarray, y: np.ndarray) -> Tuple[int, float]:\n",
    "    \"\"\"\n",
    "    Identify the best feature and threshold to split the dataset on based on information gain.\n",
    "    \n",
    "    Parameters:\n",
    "    - X: A 2D numpy array of shape (n_samples, n_features) containing the features.\n",
    "    - y: A 1D numpy array of shape (n_samples,) containing the binary target values (0 or 1).\n",
    "    \n",
    "    Returns:\n",
    "    - j_best: An integer representing the index (0-indexed) of the best feature column to split on.\n",
    "    - v_best: A float representing the best threshold to split the feature by.\n",
    "    \"\"\"\n",
    "    pass\n",
    "```"
   ]
  },
  {
   "cell_type": "code",
   "execution_count": 16,
   "id": "3abb37a9-7938-4d74-9658-7069a517f57c",
   "metadata": {
    "deletable": false,
    "nbgrader": {
     "cell_type": "code",
     "checksum": "92a59d3038ba8ed11fc753c50abbb3d2",
     "grade": false,
     "grade_id": "cell-dc6d3397133b0bf7",
     "locked": false,
     "schema_version": 3,
     "solution": true,
     "task": false
    }
   },
   "outputs": [],
   "source": [
    "from typing import Tuple\n",
    "\n",
    "def best_feature_to_split(X: np.ndarray, y: np.ndarray) -> Tuple[int, float]:\n",
    "    \"\"\"\n",
    "    Identify the best feature and threshold to split the dataset on based on information gain.\n",
    "    \n",
    "    Parameters:\n",
    "    - X: A 2D numpy array of shape (n_samples, n_features) containing the features.\n",
    "    - y: A 1D numpy array of shape (n_samples,) containing the binary target values (0 or 1).\n",
    "    \n",
    "    Returns:\n",
    "    - j_best: An integer representing the index (0-indexed) of the best feature column to split on.\n",
    "    - v_best: A float representing the best threshold to split the feature by.\n",
    "    \"\"\"\n",
    "    \n",
    "    # YOUR CODE HERE\n",
    "    minValue = 20000000000000000 #Set an arbitrarily large min value to not potentially overlap with actually small min values\n",
    "    maxValue = -20000000000000000 #Set an arbitrarily small max value to not potentially overlap with actually large max values\n",
    "    \n",
    "    #For each set of values, find the min and max. If they are the global min or max, update the global min or max respectively\n",
    "    for values in X:\n",
    "        \n",
    "        #If the min in this set is the actual min, set the min value to the new minimum\n",
    "        if min(values) < minValue:\n",
    "            minValue = min(values) #Set the min value to the new minimum\n",
    "            \n",
    "        #If the max in this set is the actual max, set the max value to the new maximum\n",
    "        if max(values) > maxValue:\n",
    "            maxValue = max(values) #Set the max value to the new maximum\n",
    "            \n",
    "    #For each item in the range min*10 to max*10 (since range only works with whole numbers and all values so far have been to\n",
    "    #  one decimal place), divide it by 10 to fit it back into the proper single decimal place value. The minimum and maximum\n",
    "    #  values are used here to ensure the thresholds are properly limited between the possible values in the set.\n",
    "    thresholds = [item/10 for item in list(range(int(minValue*10), int(maxValue*10)))]\n",
    "    features = range(0, len(X[0])) #Create a feature list for the length of possible features\n",
    "    \n",
    "    j_best = -1 #Initialize the best feature to -1, as no feature has been selected yet\n",
    "    v_best = -200000000000000000 #Initialize the best threshold to an arbitrarily small number so it cannot be mistaken for an actual threshold\n",
    "    informationGain = -100000000000 #Initialize the information gain to an arbitrarily small number to to overlap with actual gains\n",
    "    \n",
    "    #For each feature and each threshold, check the information gain to determine the best\n",
    "    for feature in features:\n",
    "        \n",
    "        #For each threshold and feature, check the information gain to determine the best\n",
    "        for threshold in thresholds:\n",
    "            gain = information_gain(X, y, feature, threshold) #Get the gain of the current feature/threshold pair\n",
    "            \n",
    "            #If this gain is better than the current best gain, update the gain along with the current best values\n",
    "            if gain > informationGain:\n",
    "                informationGain = gain #Update the best gain to the current gain\n",
    "                v_best = threshold #Update the best threshold to the current threshold\n",
    "                j_best = feature #Update the best feature to the current feature\n",
    "    \n",
    "    return j_best, v_best #Return the best feature and threshold"
   ]
  },
  {
   "cell_type": "code",
   "execution_count": 17,
   "id": "fdd97882-c6ce-4491-8c37-4f44c2356480",
   "metadata": {},
   "outputs": [
    {
     "name": "stdout",
     "output_type": "stream",
     "text": [
      "1 0.0\n"
     ]
    }
   ],
   "source": [
    "# try it here\n",
    "# Why wouldn't I use one of the tests to test the values? it is clearly stated in the test what this should be\n",
    "X_test_1 = np.array([\n",
    "    [0, 1],\n",
    "    [1, 0],\n",
    "    [1, 1],\n",
    "    [0, 0]\n",
    "])\n",
    "y_test_1 = np.array([0, 1, 0, 1])\n",
    "best_feature_1, best_threshold_1 = best_feature_to_split(X_test_1, y_test_1)\n",
    "print(best_feature_1, best_threshold_1)"
   ]
  },
  {
   "cell_type": "code",
   "execution_count": 18,
   "id": "7fd7abd4-9372-4d11-89f8-320161d6f872",
   "metadata": {
    "deletable": false,
    "editable": false,
    "nbgrader": {
     "cell_type": "code",
     "checksum": "29c6f2863f1ec957f3f870783a711b1a",
     "grade": true,
     "grade_id": "cell-8d53364adc0cb1dc",
     "locked": true,
     "points": 0,
     "schema_version": 3,
     "solution": false,
     "task": false
    }
   },
   "outputs": [],
   "source": [
    "\"\"\" (10 pts)  \"\"\"\n",
    "# Test Case 1: Basic Test with Binary Features\n",
    "X_test_1 = np.array([\n",
    "    [0, 1],\n",
    "    [1, 0],\n",
    "    [1, 1],\n",
    "    [0, 0]\n",
    "])\n",
    "y_test_1 = np.array([0, 1, 0, 1])\n",
    "best_feature_1, best_threshold_1 = best_feature_to_split(X_test_1, y_test_1)\n",
    "# Either feature provides no information gain as both have an equal number of 0s and 1s\n",
    "# The threshold doesn't matter for binary features\n",
    "assert best_threshold_1 in [0, 1], \"Test Case 1 Failed\"\n",
    "\n",
    "# Test Case 2: Continuous Features\n",
    "X_test_2 = np.array([\n",
    "    [0.5, 1.5],\n",
    "    [1.5, 0.5],\n",
    "    [2.5, 1.5],\n",
    "    [0.5, 0.5]\n",
    "])\n",
    "y_test_2 = np.array([0, 1, 0, 1])\n",
    "best_feature_2, best_threshold_2 = best_feature_to_split(X_test_2, y_test_2)\n",
    "# The second feature provides the maximum information gain when split at 1.0\n",
    "assert best_feature_2 == 1 and np.isclose(best_threshold_2, 0.5, atol=1e-5), \"Test Case 2 Failed\"\n",
    "\n",
    "# Test Case 3: Mixed Binary and Continuous Features\n",
    "X_test_3 = np.array([\n",
    "    [1, 0.5],\n",
    "    [0, 1.5],\n",
    "    [0, 0.5],\n",
    "    [1, 2.5]\n",
    "])\n",
    "y_test_3 = np.array([1, 0, 1, 0])\n",
    "best_feature_3, best_threshold_3 = best_feature_to_split(X_test_3, y_test_3)\n",
    "# The second feature provides the maximum information gain when split at 1.5\n",
    "assert best_feature_3 == 1 and np.isclose(best_threshold_3, 0.5, atol=1e-5), \"Test Case 3 Failed\""
   ]
  },
  {
   "cell_type": "markdown",
   "id": "25f4e9c2-5d4e-44fd-8421-fc5be7f5d28b",
   "metadata": {},
   "source": [
    "### Question 5: (10 pts) Fitting a Decision Stump with a Threshold\n",
    "\n",
    "Now that you have the tools to identify the best feature and threshold to split on, and to create a decision stump based on a given feature and threshold, your task is to combine these tools to fit a decision stump to a given dataset.\n",
    "\n",
    "**Task:**\n",
    "\n",
    "Write a function `fit_decision_stump` with the following signature:\n",
    "\n",
    "```python\n",
    "def fit_decision_stump(X: np.ndarray, y: np.ndarray) -> Callable[[np.ndarray], np.ndarray]:\n",
    "    \"\"\"\n",
    "    Fit a decision stump to the dataset and return the stump function, considering the best threshold for the split.\n",
    "    \n",
    "    Parameters:\n",
    "    - X: A 2D numpy array of shape (n_samples, n_features) containing the features.\n",
    "    - y: A 1D numpy array of shape (n_samples,) containing the binary target values (0 or 1).\n",
    "    \n",
    "    Returns:\n",
    "    - stump: A function that takes in a 2D numpy array and returns a 1D numpy array\n",
    "             with predictions based on the best feature and threshold split.\n",
    "    \"\"\"\n",
    "    pass\n",
    "```\n",
    "\n",
    "Use the `best_feature_to_split` function to determine the best feature and threshold to split on. Then, use the `create_decision_stump` function to create the decision stump based on that feature and threshold. The returned `stump` function should be callable with a 2D numpy array (the dataset) and should return a 1D numpy array with the predictions."
   ]
  },
  {
   "cell_type": "code",
   "execution_count": 19,
   "id": "e19e4de2-63f3-414b-9b67-16d82c6b425c",
   "metadata": {
    "deletable": false,
    "nbgrader": {
     "cell_type": "code",
     "checksum": "6a103864a589e59608c49a3d7f4861ba",
     "grade": false,
     "grade_id": "cell-5203353f59f8440f",
     "locked": false,
     "schema_version": 3,
     "solution": true,
     "task": false
    }
   },
   "outputs": [],
   "source": [
    "from scipy.stats import mode\n",
    "\n",
    "def fit_decision_stump(X: np.ndarray, y: np.ndarray) -> Callable[[np.ndarray], np.ndarray]:\n",
    "    \"\"\"\n",
    "    Fit a decision stump to the dataset and return the stump function, considering the best threshold for the split.\n",
    "    \n",
    "    Parameters:\n",
    "    - X: A 2D numpy array of shape (n_samples, n_features) containing the features.\n",
    "    - y: A 1D numpy array of shape (n_samples,) containing the binary target values (0 or 1).\n",
    "    \n",
    "    Returns:\n",
    "    - stump: A function that takes in a 2D numpy array and returns a 1D numpy array\n",
    "             with predictions based on the best feature and threshold split.\n",
    "    \"\"\"\n",
    "    bestJ, bestThresh = best_feature_to_split(X, y) #Get the best threshold and feature to split from best_feature_to_split\n",
    "    bestStump = create_decision_stump(bestJ, bestThresh, 1) #Get a best stump using the best feature and threshold\n",
    "    \n",
    "    # YOUR CODE HERE\n",
    "    def stump(x):\n",
    "        \"\"\"\n",
    "        Get predictions from the almighty best stump for a given array x\n",
    "    \n",
    "        Parameters:\n",
    "        - x: A 2D numpy array of shape (n_samples, n_features) containing the features to predict from\n",
    "    \n",
    "        Returns:\n",
    "        - The predictions from the best stump\n",
    "        \"\"\"\n",
    "        return bestStump(x) #Return the predictions from the best stump given the x array to predict\n",
    "    \n",
    "    return stump"
   ]
  },
  {
   "cell_type": "code",
   "execution_count": 20,
   "id": "b315c30e",
   "metadata": {},
   "outputs": [
    {
     "name": "stdout",
     "output_type": "stream",
     "text": [
      "[0, 1, 0, 1]\n"
     ]
    }
   ],
   "source": [
    "X_test_2 = np.array([\n",
    "    [0.5, 1.5],\n",
    "    [1.5, 0.5],\n",
    "    [2.5, 1.5],\n",
    "    [0.5, 0.5]\n",
    "])\n",
    "y_test_2 = np.array([0, 1, 0, 1])\n",
    "stump_2 = fit_decision_stump(X_test_2, y_test_2)\n",
    "print(stump_2(X_test_2))"
   ]
  },
  {
   "cell_type": "code",
   "execution_count": 21,
   "id": "3d8951a6-e88b-46d5-a25e-c745428880be",
   "metadata": {
    "deletable": false,
    "editable": false,
    "nbgrader": {
     "cell_type": "code",
     "checksum": "b2bad7ae90a8fe9a6206bf48f0458421",
     "grade": true,
     "grade_id": "cell-8faa788386035e92",
     "locked": true,
     "points": 10,
     "schema_version": 3,
     "solution": false,
     "task": false
    }
   },
   "outputs": [],
   "source": [
    "\"\"\" (20 pts) tests\"\"\"\n",
    "# Test Case 1: Binary Features\n",
    "X_test_1 = np.array([\n",
    "    [0, 1],\n",
    "    [1, 0],\n",
    "    [1, 1],\n",
    "    [0, 0]\n",
    "])\n",
    "y_test_1 = np.array([0, 1, 0, 1])\n",
    "stump_1 = fit_decision_stump(X_test_1, y_test_1)\n",
    "# Since both features are equally good for splitting (information gain is 0 for both),\n",
    "# it can choose either, and the threshold doesn't matter for binary features\n",
    "predictions_1 = stump_1(X_test_1)\n",
    "assert np.array_equal(predictions_1, y_test_1) or np.array_equal(predictions_1, 1 - y_test_1), \"Test Case 1 Failed\"\n",
    "\n",
    "# Test Case 2: Continuous Features\n",
    "X_test_2 = np.array([\n",
    "    [0.5, 1.5],\n",
    "    [1.5, 0.5],\n",
    "    [2.5, 1.5],\n",
    "    [0.5, 0.5]\n",
    "])\n",
    "y_test_2 = np.array([0, 1, 0, 1])\n",
    "stump_2 = fit_decision_stump(X_test_2, y_test_2)\n",
    "# The best split is at feature 1 with threshold 1.0\n",
    "# Values <= 1.0 are classified as 1, and others as 0\n",
    "assert np.array_equal(stump_2(X_test_2), np.array([0, 1, 0, 1])), \"Test Case 2 Failed\"\n",
    "\n",
    "# Test Case 3: Mixed Binary and Continuous Features\n",
    "X_test_3 = np.array([\n",
    "    [1, 0.5],\n",
    "    [0, 1.5],\n",
    "    [0, 0.5],\n",
    "    [1, 2.5]\n",
    "])\n",
    "y_test_3 = np.array([1, 0, 1, 0])\n",
    "stump_3 = fit_decision_stump(X_test_3, y_test_3)\n",
    "# The best split is at feature 1 with threshold 1.5\n",
    "# Values <= 1.5 are classified as 1, and others as 0\n",
    "assert np.array_equal(stump_3(X_test_3), np.array([1, 0, 1, 0])), \"Test Case 3 Failed\""
   ]
  },
  {
   "cell_type": "markdown",
   "id": "bc271f7d-c2e2-4dc4-b467-3a17583b132f",
   "metadata": {},
   "source": [
    "#### Question 5.1: (5 pts) Estimate the performance of decision stump\n",
    "\n",
    "Use the `X_train` and `y_train` data to fit your decision stump and call it `model0`. Estimate the performance of the model on the testing data and store it in `accuracy0`."
   ]
  },
  {
   "cell_type": "code",
   "execution_count": 22,
   "id": "95f84d74-45b1-4f6c-9535-b710836676c3",
   "metadata": {
    "deletable": false,
    "nbgrader": {
     "cell_type": "code",
     "checksum": "4887727bb15955870ec53f8f196fe22b",
     "grade": false,
     "grade_id": "cell-23f27e00aba769e1",
     "locked": false,
     "schema_version": 3,
     "solution": true,
     "task": false
    }
   },
   "outputs": [
    {
     "name": "stdout",
     "output_type": "stream",
     "text": [
      "Time taken to fit: 5.443146793047587 minutes.\n",
      "Accuracy of decision stump 0.9263157894736842 vs. accuracy of majority vote model 0.656140350877193\n"
     ]
    }
   ],
   "source": [
    "# YOUR CODE HERE\n",
    "import time #Import time to show how long this takes\n",
    "from sklearn.metrics import accuracy_score #Show the accuracy score\n",
    "start = time.time() #Start the timer\n",
    "model0 = fit_decision_stump(X_train, y_train) #Fit the stump\n",
    "end = time.time() #End the timer\n",
    "print(f\"Time taken to fit: {(end - start)/60} minutes.\")\n",
    "\n",
    "predStump = model0(X_test) #Create predictions\n",
    "accuracy0 = accuracy_score(predStump, y_test) #Get the accuracy of the stump\n",
    "print(f\"Accuracy of decision stump {accuracy0} vs. accuracy of majority vote model {((np.mean(y_test)**(np.mean(y_test) > 0.5))*((1-np.mean(y_test))**(np.mean(y_test) <= 0.5)))}\")"
   ]
  },
  {
   "cell_type": "code",
   "execution_count": 23,
   "id": "da16fcf6-f67d-4ab8-825d-e449c8ef459d",
   "metadata": {
    "deletable": false,
    "editable": false,
    "nbgrader": {
     "cell_type": "code",
     "checksum": "c8e4c0b8194a74c3e3dd0e4e7b4d02d7",
     "grade": true,
     "grade_id": "cell-4ccd2817ec6cf47e",
     "locked": true,
     "points": 5,
     "schema_version": 3,
     "solution": false,
     "task": false
    }
   },
   "outputs": [],
   "source": [
    "\"\"\" (5 pts) \"\"\"\n",
    "assert accuracy0 > 0.7\n",
    "assert callable(model0)"
   ]
  },
  {
   "cell_type": "markdown",
   "id": "d0c87baa-8f66-47c5-9f4c-6398819f158b",
   "metadata": {},
   "source": [
    "### Question 6: (5 pts) Majority vote of set of stumps\n",
    "\n",
    "Create a function that returns a list of decision stumps and returns a function that produces the majority vote of the stumps"
   ]
  },
  {
   "cell_type": "code",
   "execution_count": 24,
   "id": "a9c1a630-612b-45b8-b213-5e2c2d5499bd",
   "metadata": {
    "deletable": false,
    "nbgrader": {
     "cell_type": "code",
     "checksum": "69c854bf8fce1fd4b964d6f8460793f1",
     "grade": false,
     "grade_id": "cell-993dccda2bf84467",
     "locked": false,
     "schema_version": 3,
     "solution": true,
     "task": false
    }
   },
   "outputs": [],
   "source": [
    "# YOUR CODE HERE\n",
    "def majority_vote_rule(stumps):\n",
    "    \"\"\"\n",
    "    Let the counsel of stumps decide the fate of the arbitrary values to test\n",
    "    \n",
    "    Parameters:\n",
    "    - stumps: A 1D numpy array of shape (n_stumps,) containing a list of stumps\n",
    "    \n",
    "    Returns:\n",
    "    - majority_stump: A function that takes in a 2D numpy array and returns a 1D numpy array\n",
    "             with predictions based on the counsel of stumps\n",
    "    \"\"\"\n",
    "    def majority_stump(x):\n",
    "        \"\"\"\n",
    "        Let the counsel of stumps decide the labels of the given features\n",
    "    \n",
    "        Parameters:\n",
    "        - x: A 2D numpy array of shape (n_samples, n_features) containing the features.\n",
    "    \n",
    "        Returns:\n",
    "        - actualPred: the rulings for the labels from the counsel of stumps\n",
    "        \"\"\"\n",
    "        predictions = [] #Create a list to hold the prediction lists\n",
    "        \n",
    "        #For each stump, generate predictions\n",
    "        for stump in stumps:\n",
    "            predictions.append(stump(x)) #Add the predictions to the predictions list\n",
    "        \n",
    "        numPredictions = len(x) #Get the number of predictions there are\n",
    "        actualPred = np.zeros(numPredictions) #Create a numpy array full of zeros of the total number of predictions\n",
    "        \n",
    "        #For each prediction list, add it to the actual prediction array\n",
    "        for pred in predictions:\n",
    "            pred = np.array(pred) #Turn into a numpy array to leverage its power\n",
    "            actualPred += pred #Add each element together in the array\n",
    "        \n",
    "        actualPred /= len(stumps) #Divide the summed predictions by the number of stumps the predictions came from, simulating a vote\n",
    "        actualPred = np.round(actualPred) #Round the values, as rounding up at 0.5 simulates having a majority\n",
    "        return actualPred.astype(int) #Return the actual predictions as an array of integers\n",
    "        \n",
    "    return majority_stump #Return the majority stump function"
   ]
  },
  {
   "cell_type": "code",
   "execution_count": 25,
   "id": "167abdac-85db-4267-8f59-062881f4d2c2",
   "metadata": {
    "scrolled": true
   },
   "outputs": [
    {
     "name": "stdout",
     "output_type": "stream",
     "text": [
      "Dummy predictions: [1 0 0 1 1 0 0 0 1 1 1 0 1 1 1 0 1 1 1 0 1 1 0 1 1 1 1 1 1 0 1 1 1 1 1 1 0\n",
      " 1 0 1 1 0 1 1 1 1 1 1 1 1 0 0 1 1 1 1 1 0 1 1 1 0 0 1 1 1 0 0 1 1 1 0 1 0\n",
      " 1 1 1 1 1 1 0 1 1 0 0 0 1 0 1 1 1 1 1 1 1 1 0 0 1 0 0 1 0 0 1 1 1 0 1 1 0\n",
      " 1 1 0 1 0 1 1 1 0 1 1 1 0 1 0 0 1 1 0 0 0 1 1 1 0 1 1 1 0 1 0 1 1 1 1 0 0\n",
      " 1 1 0 1 1 1 1 0 0 1 1 1 1 1 1 1 1 1 1 1 1 1 1 1 1 1 1 1 0 1 1 1 1 1 1 0 0\n",
      " 1 1 1 0 1 0 1 1 1 1 0 1 1 0 1 1 1 0 1 0 0 1 1 1 1 1 1 1 1 0 1 1 1 1 1 1 1\n",
      " 0 0 1 1 0 1 1 1 1 1 1 1 1 0 0 1 1 0 1 1 0 1 1 1 0 1 1 1 1 0 1 1 1 1 1 0 1\n",
      " 0 1 1 1 0 0 1 1 1 1 0 1 1 1 0 1 1 1 1 1 0 1 1 1 1 1]\n"
     ]
    }
   ],
   "source": [
    "dummy_model = majority_vote_rule([model0, model0])\n",
    "print(f\"Dummy predictions: {dummy_model(X_test)}\")"
   ]
  },
  {
   "cell_type": "code",
   "execution_count": 26,
   "id": "a7ea6106-fafc-4ff4-b0fc-fcd02b7a98db",
   "metadata": {
    "deletable": false,
    "editable": false,
    "nbgrader": {
     "cell_type": "code",
     "checksum": "63c4942a3ec33652c51c554a378bf26b",
     "grade": true,
     "grade_id": "cell-18292be639d22949",
     "locked": true,
     "points": 5,
     "schema_version": 3,
     "solution": false,
     "task": false
    }
   },
   "outputs": [],
   "source": [
    "\"\"\" (5 pts) \"\"\"\n",
    "assert callable(majority_vote_rule([model0]))\n",
    "assert callable(majority_vote_rule([model0, model0]))\n",
    "assert callable(majority_vote_rule([model0, model0, model0]))"
   ]
  },
  {
   "cell_type": "markdown",
   "id": "3fb0b924-7f03-47d2-9ebd-5a7c4901c874",
   "metadata": {},
   "source": [
    "## Question 7: (10 pts) Tree bagging\n",
    "\n",
    "For k in [1, 20, 40, 60, 80, 100]:\n",
    "  - create $k$ bootstrap samples of the training data `X_train` and `y_train` and fit a decision tree stump.\n",
    "  - create majority vote classifier based on the set of decision stumps\n",
    "  - estimate the accuracy of the model on the testing data\n",
    "\n",
    "Plot `k` versus accuracy"
   ]
  },
  {
   "cell_type": "code",
   "execution_count": 27,
   "id": "936002bf-07b7-4b8d-ae43-6a931cabcfd3",
   "metadata": {
    "deletable": false,
    "nbgrader": {
     "cell_type": "code",
     "checksum": "455a15705cba39f5acd9319198ae6222",
     "grade": false,
     "grade_id": "cell-4c0be5b1f8432943",
     "locked": false,
     "schema_version": 3,
     "solution": true,
     "task": false
    }
   },
   "outputs": [
    {
     "name": "stdout",
     "output_type": "stream",
     "text": [
      "Fitting 1 bootstrap samples\n",
      "Fitting 20 bootstrap samples\n",
      "Fitting 40 bootstrap samples\n",
      "Fitting 60 bootstrap samples\n",
      "Fitting 80 bootstrap samples\n",
      "Fitting 100 bootstrap samples\n"
     ]
    }
   ],
   "source": [
    "from sklearn.utils import resample\n",
    "\n",
    "accuracy_list = []\n",
    "k_list = [1, 20, 40, 60, 80, 100]\n",
    "stumps = []\n",
    "for k in k_list:\n",
    "    print(f\"Fitting {k} bootstrap samples\")\n",
    "    # YOUR CODE HERE\n",
    "    samples = resample(X_train, y_train, n_samples = k, random_state = 42) #Get k samples from the resample method\n",
    "    stumps.append(fit_decision_stump(samples[0], samples[1])) #Add the stump to the counsel of stumps\n",
    "    theCounsel = majority_vote_rule(stumps) #Get the counsel together\n",
    "    accuracy_list.append(accuracy_score(theCounsel(X_test), y_test)) #Get the accuracy of the counsel's decisions"
   ]
  },
  {
   "cell_type": "code",
   "execution_count": 28,
   "id": "8b966fff-1919-497c-86d8-ecf4d1d4bfec",
   "metadata": {},
   "outputs": [
    {
     "data": {
      "text/plain": [
       "Text(0, 0.5, 'accuracy')"
      ]
     },
     "execution_count": 28,
     "metadata": {},
     "output_type": "execute_result"
    },
    {
     "data": {
      "image/png": "[encoded data removed]",
      "text/plain": [
       "<Figure size 640x480 with 1 Axes>"
      ]
     },
     "metadata": {},
     "output_type": "display_data"
    }
   ],
   "source": [
    "plt.plot(k_list, accuracy_list)\n",
    "plt.xlabel('number of bootstrap samples')\n",
    "plt.ylabel('accuracy')"
   ]
  },
  {
   "cell_type": "code",
   "execution_count": 29,
   "id": "67b0e5be-72de-44cf-9f1c-5d14e6e0b4df",
   "metadata": {
    "deletable": false,
    "editable": false,
    "nbgrader": {
     "cell_type": "code",
     "checksum": "11fc3acfbc43fdba5ebd2b3284f077bd",
     "grade": true,
     "grade_id": "cell-1078d923f4abc88c",
     "locked": true,
     "points": 10,
     "schema_version": 3,
     "solution": false,
     "task": false
    }
   },
   "outputs": [],
   "source": [
    "\"\"\" (10 pts) \"\"\"\n",
    "# Calculating the components needed for the slope formula\n",
    "n = len(k_list)\n",
    "sum_x = np.sum(k_list)\n",
    "sum_y = np.sum(accuracy_list)\n",
    "sum_xy = np.sum(np.array(k_list) * np.array(accuracy_list))\n",
    "sum_x_squared = np.sum(np.array(k_list)**2)\n",
    "\n",
    "# Calculating the slope\n",
    "m = (n * sum_xy - sum_x * sum_y) / (n * sum_x_squared - sum_x**2)\n",
    "\n",
    "# slope should at least not be negative\n",
    "assert m > -0.05"
   ]
  }
 ],
 "metadata": {
  "kernelspec": {
   "display_name": "Python 3 (ipykernel)",
   "language": "python",
   "name": "python3"
  },
  "language_info": {
   "codemirror_mode": {
    "name": "ipython",
    "version": 3
   },
   "file_extension": ".py",
   "mimetype": "text/x-python",
   "name": "python",
   "nbconvert_exporter": "python",
   "pygments_lexer": "ipython3",
   "version": "3.8.16"
  },
  "toc": {
   "base_numbering": 1,
   "nav_menu": {},
   "number_sections": true,
   "sideBar": true,
   "skip_h1_title": false,
   "title_cell": "Table of Contents",
   "title_sidebar": "Contents",
   "toc_cell": false,
   "toc_position": {},
   "toc_section_display": true,
   "toc_window_display": false
  }
 },
 "nbformat": 4,
 "nbformat_minor": 5
}
