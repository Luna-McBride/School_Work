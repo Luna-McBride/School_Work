{
 "cells": [
  {
   "cell_type": "markdown",
   "metadata": {},
   "source": [
    "# CSCI 5622: Machine Learning\n",
    "## Fall 2023\n",
    "### Instructor: Daniel Acuna, Associate Professor, Department of Computer Science, University of Colorado at Boulder\n",
    "### Student: Luna McBride"
   ]
  },
  {
   "cell_type": "markdown",
   "metadata": {},
   "source": [
    "Before you turn this problem in, make sure everything runs as expected. First, **restart the kernel** (in the menubar, select Kernel$\\rightarrow$Restart) and then **run all cells** (in the menubar, select Cell$\\rightarrow$Run All).\n",
    "\n",
    "Make sure you fill in any place that says `YOUR CODE HERE` or \"YOUR ANSWER HERE\", as well as your name and collaborators below:"
   ]
  },
  {
   "cell_type": "code",
   "execution_count": 1,
   "metadata": {},
   "outputs": [],
   "source": [
    "NAME = \"Luna McBride\"\n",
    "COLLABORATORS = \"\""
   ]
  },
  {
   "cell_type": "markdown",
   "metadata": {},
   "source": [
    "---"
   ]
  },
  {
   "cell_type": "code",
   "execution_count": 2,
   "metadata": {
    "deletable": false,
    "editable": false,
    "nbgrader": {
     "cell_type": "code",
     "checksum": "0fd29917687ee798f2f7e1317d1c63fa",
     "grade": false,
     "grade_id": "cell-a05ccabca6f911cc",
     "locked": true,
     "schema_version": 3,
     "solution": false,
     "task": false
    }
   },
   "outputs": [],
   "source": [
    "# Necessary imports\n",
    "import matplotlib.pyplot as plt\n",
    "import numpy as np"
   ]
  },
  {
   "cell_type": "markdown",
   "metadata": {},
   "source": [
    "# Part 1: Understanding generalization error\n",
    "## (100 points total)"
   ]
  },
  {
   "cell_type": "markdown",
   "metadata": {},
   "source": [
    "## Question 1: (20 pts) Ground truth classification function\n",
    "\n",
    "Your task is to implement a function named `f` that classifies data points based on a combined sine and cosine boundary in a 2D space. Here's the detailed specification:\n",
    "\n",
    "- The function should accept a single pair of numbers or a 2D numpy array of shape `(n_samples, 2)` where each row represents a data point in the form `[x1, x2]`.\n",
    "- The classification is determined by the function:\n",
    "$$ f(x_1, x_2) = \n",
    "\\begin{cases} \n",
    "1 & \\sin(5 \\pi x_1 x_2) + \\cos(10\\pi x_2 + 5x_1) > 0 \\\\\n",
    "0 & \\text{otherwise}\n",
    "\\end{cases}\n",
    "$$ \n",
    "- The function should return an array of labels (either 0 or 1) corresponding to the input data points.\n",
    "- The function is only defined between 0 and 1 for $x_1$ and $x_2$ (both continuous). If the user enters an input outside the range, throw an exception `Exception(\"Input from 0 to 1 only\")`.\n",
    "\n",
    "## Hints:\n",
    "- Use numpy for the majority of the solution. Use the constant `np.pi` for maximum accuracy."
   ]
  },
  {
   "cell_type": "code",
   "execution_count": 3,
   "metadata": {
    "deletable": false,
    "nbgrader": {
     "cell_type": "code",
     "checksum": "fc27aa04ff8f0901af90e1771a2f7e11",
     "grade": false,
     "grade_id": "cell-2318208a63f487ed",
     "locked": false,
     "schema_version": 3,
     "solution": true,
     "task": false
    }
   },
   "outputs": [],
   "source": [
    "def f(x):\n",
    "    \"\"\"\n",
    "    True function for classification\n",
    "    x: a single pair of numbers or a 2D numpy array of shape (n_samples, 2)\n",
    "    Returns an array of labels (0 or 1).\n",
    "    \"\"\"\n",
    "    # YOUR CODE HERE\n",
    "    #If the x is a list of lists, handle the lists separately\n",
    "    if type(x[0]) == list:\n",
    "        labels = [] #Create a list of labels\n",
    "        \n",
    "        #For each pair of x in the list of lists of x\n",
    "        for xPair in x:\n",
    "            #If the x's are not in the range 0 to 1, raise an exception\n",
    "            if not 0<=xPair[0]<=1 or not 0<=xPair[1]<=1:\n",
    "                raise Exception(\"Input from 0 to 1 only\") #Raise the 0 to 1 only exception\n",
    "            \n",
    "            #Calculate the sin cos equation given above\n",
    "            sinCos = np.sin(5*np.pi*xPair[0]*xPair[1]) + np.cos((10*np.pi*xPair[1]) + 5*xPair[0])\n",
    "            \n",
    "            #If the sinCos is greater than 0, the label is 1\n",
    "            if sinCos > 0:\n",
    "                labels.append(1) #Append the 1 label to the list\n",
    "            \n",
    "            #If the sinCos is not greater than 0, the label is 0\n",
    "            else:\n",
    "                labels.append(0) #Append the 0 label to the list\n",
    "    \n",
    "    #If the x is a single list\n",
    "    else:\n",
    "        #If the x's are not in the range 0 to 1, raise an exception\n",
    "        if not 0<=x[0]<=1 or not 0<=x[1]<=1:\n",
    "                raise Exception(\"Input from 0 to 1 only\") #Raise the 0 to 1 only exception\n",
    "                \n",
    "        labels = 0 #Set the label to a default label of 0\n",
    "        \n",
    "        #Calculate the sin cos equation given above\n",
    "        sinCos = np.sin(5*np.pi*x[0]*x[1]) + np.cos((10*np.pi*x[1]) + 5*x[0])\n",
    "        \n",
    "        #If the sinCos equation is greater than 0, update the labels variable to 1\n",
    "        if sinCos > 0:\n",
    "            labels = 1 #Update the labels variable to 1\n",
    "    \n",
    "    return labels #Return the labels"
   ]
  },
  {
   "cell_type": "code",
   "execution_count": 4,
   "metadata": {},
   "outputs": [
    {
     "data": {
      "text/plain": [
       "1"
      ]
     },
     "execution_count": 4,
     "metadata": {},
     "output_type": "execute_result"
    }
   ],
   "source": [
    "# test your function here\n",
    "f([0,0])"
   ]
  },
  {
   "cell_type": "code",
   "execution_count": 5,
   "metadata": {
    "deletable": false,
    "editable": false,
    "nbgrader": {
     "cell_type": "code",
     "checksum": "cbbb41548483c81571f738e7ee0c524d",
     "grade": true,
     "grade_id": "cell-32851456af549f11",
     "locked": true,
     "points": 20,
     "schema_version": 3,
     "solution": false,
     "task": false
    }
   },
   "outputs": [],
   "source": [
    "\"\"\" (20 points) Check whether the function handles single vs. multiple points\"\"\"\n",
    "assert f([0.2, 0.5]) == 1 # can work with one point\n",
    "assert np.array_equal(f([[0.2, 0.5], [0.5, 0.7], [0.8, 0.9]]), np.array([1, 1, 0])) # can work with an array\n",
    "\n",
    "# should produce an exception\n",
    "try:\n",
    "    f([1.1, 0.5])  # An input with a value outside the range\n",
    "    assert False, \"The function did not raise an exception for values outside [0, 1]\"\n",
    "except Exception as e:\n",
    "    assert str(e) == \"Input from 0 to 1 only\", f\"Unexpected exception message: {e}\""
   ]
  },
  {
   "cell_type": "markdown",
   "metadata": {},
   "source": [
    "## Question 2: (10 points) Plotting Decision Boundaries\n",
    "\n",
    "In many machine learning applications, especially classification tasks, it's crucial to visualize how the classifier divides the input space. Such visualizations help in understanding the nature of the classifier, its complexity, and potential areas of misclassification.\n",
    "\n",
    "Your task is to implement the function `plot_boundary` that visualizes the decision boundary of a given classifier function in the 2D space.\n",
    "\n",
    "**Function Specification:**\n",
    "\n",
    "- The function `plot_boundary` receives a single argument `func`, which is the classifier function.\n",
    "- The classifier function `func` takes as input a single point or an array of points in the form `[x1, x2]` and returns a label (0 or 1).\n",
    "- The `plot_boundary` function should plot the decision boundary created by the classifier function over the domain $[0,1] \\times [0,1]$.\n",
    "- Your visualization should clearly show regions classified as `0` or `1` using different colors. Including a color bar can provide additional clarity.\n",
    "- Ensure that the axes are appropriately labeled as 'x1' and 'x2'.\n",
    "\n",
    "**Hints:**\n",
    "1. Use `numpy` to generate a grid of points in the 2D space.\n",
    "2. For each point in the grid, determine its label using the given classifier function.\n",
    "3. Use `matplotlib` to visualize the decision boundary. The `contourf` function can be particularly useful.\n",
    "\n",
    "**Examples:**\n",
    "\n",
    "Given a simple classifier function that classifies points based on whether \\(x1 > 0.5\\), your `plot_boundary` function should visualize a vertical decision boundary at \\(x1 = 0.5\\).\n",
    "\n",
    "```python\n",
    "plot_boundary(lambda x: x[:, 0] > 0.5)\n",
    "plt.title('x1 divider');\n",
    "```\n",
    "\n",
    "![](./fig1.png)\n",
    "\n",
    "```python\n",
    "plot_boundary(lambda x: np.sin(x[:, 0]*x[:, 1]*20) > 0)\n",
    "plt.title('weird function');\n",
    "```\n",
    "\n",
    "![](./fig2.png)"
   ]
  },
  {
   "cell_type": "markdown",
   "metadata": {},
   "source": [
    "Source Used: https://psrivasin.medium.com/plotting-decision-boundaries-using-numpy-and-matplotlib-f5613d8acd19"
   ]
  },
  {
   "cell_type": "code",
   "execution_count": 44,
   "metadata": {
    "deletable": false,
    "nbgrader": {
     "cell_type": "code",
     "checksum": "208d39c253e1959f89028fc3dfaee3f2",
     "grade": false,
     "grade_id": "cell-81421701bcf9b1c5",
     "locked": false,
     "schema_version": 3,
     "solution": true,
     "task": false
    }
   },
   "outputs": [],
   "source": [
    "def plot_boundary(func):\n",
    "    \"\"\"\n",
    "    Plots the decision boundary created by the function.\n",
    "    \n",
    "    func: The function that determines the label based on the input coordinates.\n",
    "    \"\"\"\n",
    "    # YOUR CODE HERE\n",
    "    x = [] #Create a list to hold the grid\n",
    "    \n",
    "    #Create two linspaces, one to represent the x direction and the other the y\n",
    "    x1 = np.linspace(0,1, 100) \n",
    "    x2 = np.linspace(0,1, 100) #I named this x2 instead of y as it represents the grid, which is the x in this code\n",
    "    xgrid, ygrid = np.meshgrid(x1, x2) #Create a proper grid by combining the linspaces\n",
    "    \n",
    "    #See https://numpy.org/doc/stable/reference/generated/numpy.c_.html\n",
    "    x = np.c_[xgrid.ravel(), ygrid.ravel()] #Connect the grid together by raveling and using c_, which combines them into a 2d array\n",
    "    y = func(x) #Pass the x into the given function to get our y\n",
    "    plt.contourf(xgrid,ygrid, y.reshape(xgrid.shape)) #Plot the grid with the correct function values\n",
    "    plt.grid(True) #Plot the grid"
   ]
  },
  {
   "cell_type": "code",
   "execution_count": 45,
   "metadata": {
    "deletable": false,
    "nbgrader": {
     "cell_type": "code",
     "checksum": "c8e9cebf233cbbce50bba1cc42b5f5ee",
     "grade": true,
     "grade_id": "cell-22f5c73bb44a82d0",
     "locked": false,
     "points": 10,
     "schema_version": 3,
     "solution": true,
     "task": false
    },
    "scrolled": true
   },
   "outputs": [
    {
     "data": {
      "image/png": "[encoded data removed]",
      "text/plain": [
       "<Figure size 640x480 with 1 Axes>"
      ]
     },
     "metadata": {},
     "output_type": "display_data"
    }
   ],
   "source": [
    "# YOUR CODE HERE\n",
    "plot_boundary(lambda x: x[:, 0] > 0.5)\n",
    "#raise NotImplementedError()"
   ]
  },
  {
   "cell_type": "code",
   "execution_count": 8,
   "metadata": {},
   "outputs": [
    {
     "data": {
      "image/png": "[encoded data removed]",
      "text/plain": [
       "<Figure size 640x480 with 1 Axes>"
      ]
     },
     "metadata": {},
     "output_type": "display_data"
    }
   ],
   "source": [
    "plot_boundary(lambda x: np.sin(x[:, 0]*x[:, 1]*20) > 0)"
   ]
  },
  {
   "cell_type": "code",
   "execution_count": 9,
   "metadata": {},
   "outputs": [
    {
     "data": {
      "image/png": "[encoded data removed]",
      "text/plain": [
       "<Figure size 640x480 with 1 Axes>"
      ]
     },
     "metadata": {},
     "output_type": "display_data"
    }
   ],
   "source": [
    "# plot your function here\n",
    "plot_boundary(lambda x: np.log((x[:, 0]+0.1)**2) * np.log((x[:,1]+0.1)) - 1/(x[:, 0]+0.1))"
   ]
  },
  {
   "cell_type": "markdown",
   "metadata": {},
   "source": [
    "## Question 3: (30 points) Majority Vote Classifier\n",
    "\n",
    "In many machine learning tasks, especially when data is scarce or noisy, it's helpful to rely on simple, interpretable models. One such approach is the majority vote classifier that partitions the input space into small regions and assigns a label based on the majority vote of training examples in that region.\n",
    "\n",
    "Your task is to implement the `majority_vote_classifier` function that creates such a classifier.\n",
    "\n",
    "**Function Specification:**\n",
    "\n",
    "- The function `majority_vote_classifier` takes in two arguments:\n",
    "  - `x`: The training data, a 2D numpy array of shape `(n_samples, 2)`. Each row represents a data point in the form `[x1, x2]`.\n",
    "  - `y`: The labels for the training data, a 1D numpy array of shape `(n_samples,)`. Each label is either `0` or `1`.\n",
    "\n",
    "- The input space is divided into a grid of squares, each of size $0.1 \\times 0.1$, ranging from 0 to 1 for both $x_1$ and $x_2$.\n",
    "\n",
    "- For each square in the grid, determine the label (0 or 1) that appears most frequently in the training data for points that fall into that square. In case of a tie or no data, the square should default to a label of `1`.\n",
    "\n",
    "- The function should return a new function (a classifier) that, given a new data point or an array of data points, returns the predicted label(s) based on the majority vote in the corresponding grid square(s).\n",
    "\n",
    "**Hints:**\n",
    "\n",
    "1. Start by initializing a grid to store the majority vote for each square. You can use a numpy array of shape `(10, 10)` for this purpose.\n",
    "2. For each square in the grid, determine its boundaries, and identify the training points that fall within these boundaries.\n",
    "3. Compute the majority label for the points within each square and store it in the grid.\n",
    "4. The returned classifier function should be able to handle both single data points and arrays of data points.\n",
    "\n",
    "**Examples:**\n",
    "\n",
    "1. Suppose the training data consists of three points: `[[0.05, 0.05], [0.15, 0.15], [0.85, 0.85]]` with labels `[0, 1, 0]`. If a new data point `[0.12, 0.14]` is passed to the classifier, it should return the label `1` based on the majority vote of the training data in the corresponding grid square."
   ]
  },
  {
   "cell_type": "code",
   "execution_count": 10,
   "metadata": {
    "deletable": false,
    "nbgrader": {
     "cell_type": "code",
     "checksum": "6aec476a23835b9fba74fb0ee0f0d45c",
     "grade": false,
     "grade_id": "cell-3f90de9e29e845ab",
     "locked": false,
     "schema_version": 3,
     "solution": true,
     "task": false
    }
   },
   "outputs": [],
   "source": [
    "def getIndex(typeGrid, x):\n",
    "    \"\"\"\n",
    "    Gets the index of a specific x or y value depending on where it would fit in the voting grid indecies\n",
    "    \n",
    "    typeGrid: Which axis is being represented (\"x\" for x, \"y\" for y)\n",
    "    x: The value within normal graphing space (a single float)\n",
    "    \n",
    "    Returns the specified index to go into the voting grid\n",
    "    \"\"\"\n",
    "    grid   = [0.0, 0.1, 0.2, 0.3, 0.4, 0.5, 0.6, 0.7, 0.8, 0.9, 1.0] #Define the steps of the grid, as each square is 0.1x0.1\n",
    "    \n",
    "    #If we are looking for the x representation\n",
    "    if typeGrid == \"x\":\n",
    "        indexX = [0,1,2,3,4,5,6,7,8,9] #Set the x indecies from left to right\n",
    "        gridXdir = list(zip(grid, indexX)) #Zip the x with the actual grid representation\n",
    "        \n",
    "        #For each area of the grid, find which square the value should be placed into\n",
    "        for grid, index in gridXdir:\n",
    "            #If the x is within the square being represented\n",
    "            if grid <= x  and x <= (grid + 0.1):\n",
    "                return index #Return the proper index\n",
    "            \n",
    "    #If we are looking for the y representation\n",
    "    else:\n",
    "        indexY = [9,8,7,6,5,4,3,2,1,0] #Set the y indecies from bottom to top\n",
    "        gridYdir = list(zip(grid, indexY)) #Zip the indecies with their actual grid counterpart\n",
    "        for grid, index in gridYdir:\n",
    "            #If the y is within the square being represented\n",
    "            if grid <= x and x <= (grid + 0.1):\n",
    "                return index #Return the proper index\n",
    "    \n",
    "    raise Exception(\"Not in proper bounds\") #Raise an exception if something above 1 or below 0 are passed in\n",
    "    \n",
    "def getCoords(x):\n",
    "    \"\"\"\n",
    "    Function to get the coordinates of the point in the grid\n",
    "    As (0,0) is at square [0,9], the y and x axes need to be handled differently \n",
    "    \n",
    "    x: The regular x,y coordinates of the point (list of shape (1, 2))\n",
    "    \n",
    "    Returns the coordinates that fit within the voting grid\n",
    "    \"\"\"\n",
    "    x1 = x[0] #Get the x value\n",
    "    x2 = x[1] #Get the y value (denotated as x2 to not confuse it with the y we are solving for)\n",
    "    x1Index = getIndex(\"x\", x1) #Get the x index in the grid\n",
    "    x2Index = getIndex(\"y\", x2) #Get the y index in the grid\n",
    "    \n",
    "    return x1Index, x2Index #Return the indecies of the point in the voting grid\n",
    "\n",
    "def majority_vote_classifier(x, y):\n",
    "    \"\"\"\n",
    "    Generator function that creates a majority-vote classifier.\n",
    "    \n",
    "    x: Training data (2D numpy array of shape (n_samples, 2))\n",
    "    y: Labels (1D numpy array of shape (n_samples,))\n",
    "    \n",
    "    Returns a function that classifies new data points based on the majority vote.\n",
    "    \"\"\"\n",
    "    \n",
    "    # Create an empty matrix to store majority votes\n",
    "    majority_grid = np.ones((10, 10), dtype=int)  # Default to 1 (break ties with 1)\n",
    "    \n",
    "    \n",
    "    #If the x is a list of lists, handle the lists separately\n",
    "    if type(y) != int:\n",
    "        lengthY = len(y) #Get the length of y so the for loop is not calculating that constantly\n",
    "        yIndex = [] #Create an index list for the indecies normally passed into the grid to check for ties\n",
    "        yUnique = [] #Create an index list for unique coordinates\n",
    "        \n",
    "        #For each point, get the coordinates and update the grid\n",
    "        for i in range(0, lengthY):\n",
    "            x1Index, x2Index = getCoords(x[i]) #Call the function to get the coordinates\n",
    "            yIndex.append([x1Index, x2Index]) #Put the indecies into the index list\n",
    "            \n",
    "        #For each index set, check for uniqueness. If not unique, flip the final class to 1 to represent a tie\n",
    "        for j in range(0, lengthY):\n",
    "            x1 = yIndex[j][0] #Pull out the x1 from yIndex\n",
    "            x2 = yIndex[j][1] #Pull out the x2 from yIndex\n",
    "            \n",
    "            #If the index is not already in the unique list, add it, and update the grid\n",
    "            if yIndex[j] not in yUnique:\n",
    "                yUnique.append(yIndex[j]) #Add the unique index set to the unique list\n",
    "                majority_grid[x1][x2] = y[j] #Update the grid\n",
    "            \n",
    "            #If the index set is not unique, change y to 1 to represent a tie\n",
    "            else:\n",
    "                majority_grid[x1][x2] = 1 #Update the grid to add the tie in, as the last y in that square is the one that keeps\n",
    "    \n",
    "    #If there is only one value\n",
    "    else:\n",
    "        #Just check for updating to 0; there are not other lists to conflict with\n",
    "        if y==0:\n",
    "            x1Index, x2Index = getCoords(x) #Get the coordinates\n",
    "            majority_grid[x1Index][x2Index] = 0 #Set the new item to 0\n",
    "        \n",
    "    # YOUR CODE HERE\n",
    "    def classifier(x):\n",
    "        \"\"\"\n",
    "        The classifier created by the generator function\n",
    "    \n",
    "        x: Testing data (2D numpy array of shape (n_samples, 2))\n",
    "    \n",
    "        Returns either a single integer label or an array of predicted labels\n",
    "        \"\"\"\n",
    "        grid = majority_grid #Pull the grid from the original function, source https://stackoverflow.com/questions/6910071/python-store-variable-in-function-and-use-it-later\n",
    "        \n",
    "        #If the first value is a list or array, implying multiple lists/arrays (updated to add arrays for the plotter)\n",
    "        if type(x[0]) == list or type(x[0]) == np.ndarray:\n",
    "            labels = [] #Initiate a labels variable\n",
    "            \n",
    "            #For each individual list or array, get its coordinates and a label\n",
    "            for arr in x:\n",
    "                x1Index, x2Index = getCoords(arr) #Get the coordinates in the grid\n",
    "                labels.append(grid[x1Index][x2Index]) #Add the label to the list of labels\n",
    "            return np.array(labels) #Return the labels as an array, to not get the plotter mad\n",
    "        \n",
    "        #If there is only a single list given, implying one point\n",
    "        else:\n",
    "            x1Index, x2Index = getCoords(x) #Get the coordinates\n",
    "            return grid[x1Index][x2Index] #Return the label\n",
    "        \n",
    "    return classifier #Return the classifier function for later use"
   ]
  },
  {
   "cell_type": "code",
   "execution_count": 11,
   "metadata": {},
   "outputs": [
    {
     "data": {
      "text/plain": [
       "0"
      ]
     },
     "execution_count": 11,
     "metadata": {},
     "output_type": "execute_result"
    }
   ],
   "source": [
    "h = majority_vote_classifier(np.array([[0.05, 0.05], [0.15, 0.15], [0.85, 0.85]]), \n",
    "                             np.array([0, 1, 0])\n",
    ")\n",
    "h([0.05, 0.05])"
   ]
  },
  {
   "cell_type": "code",
   "execution_count": 12,
   "metadata": {},
   "outputs": [
    {
     "data": {
      "image/png": "[encoded data removed]",
      "text/plain": [
       "<Figure size 640x480 with 1 Axes>"
      ]
     },
     "metadata": {},
     "output_type": "display_data"
    }
   ],
   "source": [
    "# should be able to use the plot_boundary function\n",
    "plot_boundary(h)"
   ]
  },
  {
   "cell_type": "code",
   "execution_count": 13,
   "metadata": {},
   "outputs": [],
   "source": [
    "#Copy the original grading test, flipping the 0.88,0.88 to show the tie bound in effect\n",
    "def test_majority_vote_classifier2():\n",
    "    # Sample training data\n",
    "    x_train = np.array([[0.05, 0.05], [0.15, 0.15], [0.85, 0.85], [0.12, 0.14], [0.88, 0.88]])\n",
    "    y_train = np.array([0, 1, 0, 1, 0])\n",
    "\n",
    "    # Generate the classifier function\n",
    "    classifier_fn = majority_vote_classifier(x_train, y_train)\n",
    "\n",
    "    # Check that the function returns a callable object\n",
    "    assert callable(classifier_fn), \"The returned object is not callable.\"\n",
    "\n",
    "    # Check the output of the generated classifier for specific inputs\n",
    "    assert classifier_fn([0.12, 0.14]) == 1, \"Unexpected classification for the point [0.12, 0.14].\"\n",
    "    assert classifier_fn([0.88, 0.88]) == 1, \"Unexpected classification for the point [0.88, 0.88].\"\n",
    "    assert classifier_fn([0.05, 0.05]) == 0, \"Unexpected classification for the point [0.05, 0.05].\"\n",
    "\n",
    "    # Check for an array of inputs\n",
    "    input_array = [[0.05, 0.05], [0.88, 0.88], [0.12, 0.14]]\n",
    "    expected_labels = [0, 1, 1]\n",
    "    assert np.array_equal(classifier_fn(input_array), expected_labels), \\\n",
    "        \"Unexpected classifications for the input array.\"\n",
    "\n",
    "test_majority_vote_classifier2()"
   ]
  },
  {
   "cell_type": "code",
   "execution_count": 14,
   "metadata": {
    "deletable": false,
    "editable": false,
    "nbgrader": {
     "cell_type": "code",
     "checksum": "ed71110a940b1ce6a2f1553132c72882",
     "grade": true,
     "grade_id": "cell-3e0154ec6c83089d",
     "locked": true,
     "points": 30,
     "schema_version": 3,
     "solution": false,
     "task": false
    }
   },
   "outputs": [],
   "source": [
    "\"\"\"(30 points) Test to check if your classifier is learning from data\"\"\"\n",
    "def test_majority_vote_classifier():\n",
    "    # Sample training data\n",
    "    x_train = np.array([[0.05, 0.05], [0.15, 0.15], [0.85, 0.85], [0.12, 0.14], [0.88, 0.88]])\n",
    "    y_train = np.array([0, 1, 0, 1, 1])\n",
    "\n",
    "    # Generate the classifier function\n",
    "    classifier_fn = majority_vote_classifier(x_train, y_train)\n",
    "\n",
    "    # Check that the function returns a callable object\n",
    "    assert callable(classifier_fn), \"The returned object is not callable.\"\n",
    "\n",
    "    # Check the output of the generated classifier for specific inputs\n",
    "    assert classifier_fn([0.12, 0.14]) == 1, \"Unexpected classification for the point [0.12, 0.14].\"\n",
    "    assert classifier_fn([0.88, 0.88]) == 1, \"Unexpected classification for the point [0.88, 0.88].\"\n",
    "    assert classifier_fn([0.05, 0.05]) == 0, \"Unexpected classification for the point [0.05, 0.05].\"\n",
    "\n",
    "    # Check for an array of inputs\n",
    "    input_array = [[0.05, 0.05], [0.88, 0.88], [0.12, 0.14]]\n",
    "    expected_labels = [0, 1, 1]\n",
    "    assert np.array_equal(classifier_fn(input_array), expected_labels), \\\n",
    "        \"Unexpected classifications for the input array.\"\n",
    "\n",
    "def test_another_majority_vote_classifier():\n",
    "    # New sample training data\n",
    "    x_train_new = np.array([[0.2, 0.2], [0.2, 0.8], [0.8, 0.2], [0.8, 0.8], [0.5, 0.5]])\n",
    "    y_train_new = np.array([0, 1, 1, 0, 1])\n",
    "\n",
    "    # Generate the classifier function\n",
    "    classifier_fn_new = majority_vote_classifier(x_train_new, y_train_new)\n",
    "\n",
    "    # Check that the function returns a callable object\n",
    "    assert callable(classifier_fn_new), \"The returned object is not callable.\"\n",
    "\n",
    "    # Check the output of the generated classifier for specific inputs\n",
    "    assert classifier_fn_new([0.2, 0.2]) == 0, \"Unexpected classification for the point [0.2, 0.2].\"\n",
    "    assert classifier_fn_new([0.2, 0.8]) == 1, \"Unexpected classification for the point [0.2, 0.8].\"\n",
    "    assert classifier_fn_new([0.8, 0.8]) == 0, \"Unexpected classification for the point [0.8, 0.8].\"\n",
    "\n",
    "    # Check for an array of inputs\n",
    "    input_array_new = [[0.2, 0.2], [0.8, 0.8], [0.5, 0.5]]\n",
    "    expected_labels_new = [0, 0, 1]\n",
    "    assert np.array_equal(classifier_fn_new(input_array_new), expected_labels_new), \\\n",
    "        \"Unexpected classifications for the new input array.\"\n",
    "\n",
    "test_majority_vote_classifier()\n",
    "test_another_majority_vote_classifier()"
   ]
  },
  {
   "cell_type": "markdown",
   "metadata": {},
   "source": [
    "## Question 4 (20 points): Computing the risk of your classifier\n",
    "\n",
    "In the realm of machine learning and statistics, the \"risk\" of a decision function is a crucial concept. It represents the expected loss or error of that decision function. In the context of classification, it can be thought of as the probability that the classifier will misclassify a randomly chosen point.\n",
    "\n",
    "Given a true function `f` and a hypothesis function `h`, both of which map from an input space to $\\{0, 1\\}$, the risk $L_{(D,f)}(h)$ is defined as:\n",
    "\n",
    "$$\n",
    "L_{(D,f)}(h) = P(h(X) \\neq f(X))\n",
    "$$\n",
    "\n",
    "Where $X$ is a random variable representing a data point drawn from the input space.\n",
    "\n",
    "For this assignment, assume that data distribution $D$  is distributed uniformly in the square $[0,1]^2$, essentially rendering $P(X)=1$\n",
    "\n",
    "**Your Task:**\n",
    "\n",
    "Implement a function `compute_risk` that computes the risk of a hypothesis function `h` given the true function `f` for the uniform data distribution describe above.\n",
    "\n",
    "**Function Specification:**\n",
    "\n",
    "- The function `compute_risk` should accept two arguments, `f` and `h`, which are both classification functions.\n",
    "- Both `f` and `h` accept input in the form of a single point or a numpy array of points, and return the corresponding labels (0 or 1).\n",
    "- The function should return a float value representing the risk of `h`.\n",
    "\n",
    "**Hints:**\n",
    "\n",
    "1. Consider using numerical integration or sampling methods to approximate the risk, given the uniform distribution in the square \\([0,1]^2\\).\n",
    "2. The risk is essentially the area over which `f` and `h` disagree."
   ]
  },
  {
   "cell_type": "code",
   "execution_count": 15,
   "metadata": {
    "deletable": false,
    "nbgrader": {
     "cell_type": "code",
     "checksum": "82fb3140fc76f559e8489bc1bb30ed3d",
     "grade": false,
     "grade_id": "cell-a724c6f657667041",
     "locked": false,
     "schema_version": 3,
     "solution": true,
     "task": false
    }
   },
   "outputs": [],
   "source": [
    "# optional if using\n",
    "from scipy.integrate import nquad\n",
    "\n",
    "def compute_risk(f, h):\n",
    "    \"\"\"\n",
    "    Computes the risk of the hypothesis function h given the true function f.\n",
    "    Approach: sampling\n",
    "    \"\"\"\n",
    "    # YOUR CODE HERE\n",
    "    data = [] #Initiate a list to hold the data values\n",
    "    n = 200 #n for an n by n uniform matrix. 200 is just a fast one that worked\n",
    "    risk = 0 #Set a starting value to the risk\n",
    "    \n",
    "    #For each ij coordinate, create the point and append it to the data list\n",
    "    for i in range(0,n):\n",
    "        for j in range(0,n):\n",
    "            scale = 1/n #Scale the values between 0 and 1\n",
    "            data.append([scale*i, scale*j]) #Add the values to the data list\n",
    "            \n",
    "    #For each point, add 1 for each mistake made\n",
    "    for point in data:\n",
    "        risk += int(h(point) != f(point)) #Add 1 based off the truth value of the label inequality\n",
    "        \n",
    "    #return frisk\n",
    "    return risk/(n**2) #Return the risk divided by the number of values"
   ]
  },
  {
   "cell_type": "code",
   "execution_count": 16,
   "metadata": {},
   "outputs": [
    {
     "data": {
      "text/plain": [
       "0.40415"
      ]
     },
     "execution_count": 16,
     "metadata": {},
     "output_type": "execute_result"
    }
   ],
   "source": [
    "# test on your own function\n",
    "h = majority_vote_classifier(np.array([[0.05, 0.05], [0.15, 0.15], [0.85, 0.85]]), \n",
    "                             np.array([0, 1, 0])\n",
    ")\n",
    "compute_risk(f, h)"
   ]
  },
  {
   "cell_type": "code",
   "execution_count": 17,
   "metadata": {
    "scrolled": true
   },
   "outputs": [
    {
     "data": {
      "text/plain": [
       "0.0"
      ]
     },
     "execution_count": 17,
     "metadata": {},
     "output_type": "execute_result"
    }
   ],
   "source": [
    "# Risk of itself should be 0\n",
    "compute_risk(f, f)"
   ]
  },
  {
   "cell_type": "code",
   "execution_count": 18,
   "metadata": {},
   "outputs": [
    {
     "name": "stdout",
     "output_type": "stream",
     "text": [
      "4.999999999999449e-05\n"
     ]
    }
   ],
   "source": [
    "f_test = lambda x: [1] if x[0] > 0.5 else [0]\n",
    "h_test = lambda x: [1] if x[1] > 0.5 else [0]\n",
    "print(abs(compute_risk(f_test, h_test) - 0.5))"
   ]
  },
  {
   "cell_type": "code",
   "execution_count": 19,
   "metadata": {
    "deletable": false,
    "editable": false,
    "nbgrader": {
     "cell_type": "code",
     "checksum": "bb5cbee064ca74af8fcf2517c24b13f1",
     "grade": true,
     "grade_id": "cell-fdc6debe913969c5",
     "locked": true,
     "points": 20,
     "schema_version": 3,
     "solution": false,
     "task": false
    }
   },
   "outputs": [],
   "source": [
    "\"\"\"(20 points) Test compute risk\"\"\"\n",
    "def compute_risk_tests():\n",
    "    # Tests\n",
    "    f_test = lambda x: [1] if x[0] > 0.5 else [0]\n",
    "    h_test = lambda x: [1] if x[1] > 0.5 else [0]\n",
    "    \n",
    "    # The true risk is 0.5 since half of the space [0,1]^2 will have disagreement between f_test and h_test\n",
    "    assert abs(compute_risk(f_test, h_test) - 0.5) < 1e-4, \"Test failed for sample functions\"\n",
    "    np.testing.assert_almost_equal(compute_risk(f, f), 0, err_msg=\"Risk of function should be 0\")\n",
    "\n",
    "compute_risk_tests()"
   ]
  },
  {
   "cell_type": "markdown",
   "metadata": {},
   "source": [
    "## Question 5: (10 points) Risk Analysis with Majority Vote Classifier\n",
    "\n",
    "In this question, you will explore the concept of risk through simulation. Specifically, you will examine how the risk of a classifier evolves as the size of the training dataset changes. \n",
    "\n",
    "**Your Task:**\n",
    "\n",
    "1. Implement a simulation in which you perform the following steps multiple times for different sizes of training datasets:\n",
    "    - Randomly sample a dataset of size `m` from the square $[0,1]^2$. Assume a uniform distribution for $x1$ and $x2$.\n",
    "    - Using the sampled dataset, learn a classification function `h` based on the majority vote classifier.\n",
    "    - Compute the risk of the function `h` using the true function `f`.\n",
    "\n",
    "2. Vary `m` from 0 to 5,000 in steps of 500 and plot the risk of `h` against `m`.\n",
    "\n",
    "**Hints:**\n",
    "\n",
    "- Remember, the risk is essentially the probability that `h` will misclassify a randomly chosen point from the input space.\n",
    "- You can use the `majority_vote_classifier` and `compute_risk` functions from the previous question.\n",
    "- Think about the nature of the majority vote classifier and how it operates. Does it have the capacity to fit the data?"
   ]
  },
  {
   "cell_type": "code",
   "execution_count": 20,
   "metadata": {
    "deletable": false,
    "nbgrader": {
     "cell_type": "code",
     "checksum": "8615f2af7cb7ba1173f5346672696edd",
     "grade": true,
     "grade_id": "cell-303ed618482787a8",
     "locked": false,
     "points": 10,
     "schema_version": 3,
     "solution": true,
     "task": false
    }
   },
   "outputs": [
    {
     "name": "stdout",
     "output_type": "stream",
     "text": [
      "Risk for m = 0: 0.4082\n",
      "Risk for m = 500: 0.4082\n",
      "Risk for m = 1000: 0.4082\n",
      "Risk for m = 1500: 0.4082\n",
      "Risk for m = 2000: 0.4082\n",
      "Risk for m = 2500: 0.4082\n",
      "Risk for m = 3000: 0.4082\n",
      "Risk for m = 3500: 0.4082\n",
      "Risk for m = 4000: 0.4082\n",
      "Risk for m = 4500: 0.4082\n"
     ]
    }
   ],
   "source": [
    "# YOUR CODE HERE\n",
    "\n",
    "square = [] #The nxn square we will be building\n",
    "n = 100 #The n dimension for the square\n",
    "rangeN = range(0,n) #The range from 0 to n to get to a specific point\n",
    "\n",
    "#For each ij coordinate, create the point and append it to the square\n",
    "for i in range(0,n):\n",
    "    for j in range(0,n):\n",
    "        scale = 1/n #Scale the values between 0 and 1\n",
    "        square.append([scale*i, scale*j]) #Add the values to the square\n",
    "            \n",
    "#For each m range 0 to 5000 with steps of 500, randomly choose points from the square and fit the previous classifier\n",
    "for m in range(0, 5000, 500):\n",
    "    #Randomly choose m points. Since the square is not actually a square, this is emulated by i*10 + j\n",
    "    x = [square[np.random.choice(rangeN)*10 + np.random.choice(rangeN)] for i in range(0,m)] #See https://numpy.org/doc/stable/reference/random/generated/numpy.random.choice.html\n",
    "    y = [np.random.choice(2) for j in range(0,m)] #Randomly choose between 0 or 1 for the y label m times\n",
    "    h = majority_vote_classifier(np.array(x), np.array(y)) #Train the classifier on this random data\n",
    "    print(f\"Risk for m = {m}: {compute_risk(h,f)}\") #Print the risk at each m"
   ]
  },
  {
   "cell_type": "markdown",
   "metadata": {
    "deletable": false,
    "editable": false,
    "nbgrader": {
     "cell_type": "markdown",
     "checksum": "ee2c102b8fc2a736d1f6a7f236facf33",
     "grade": false,
     "grade_id": "cell-26327ec8cc2c9d7f",
     "locked": true,
     "schema_version": 3,
     "solution": false,
     "task": false
    }
   },
   "source": [
    "**Question 5.1 (10 pts): Comment on the results. In particular, answer the following question:**\n",
    "\n",
    "- Why doesn't the majority vote classifier seem to overfit, even with larger training datasets?"
   ]
  },
  {
   "cell_type": "markdown",
   "metadata": {
    "deletable": false,
    "nbgrader": {
     "cell_type": "markdown",
     "checksum": "1f5b8284d44077f14ab82127820258bc",
     "grade": true,
     "grade_id": "cell-03367a7031b661dc",
     "locked": false,
     "points": 10,
     "schema_version": 3,
     "solution": true,
     "task": false
    }
   },
   "source": [
    "As there are more points to compare, there are more conflicts that can just get ignored by the classifier, since the fights make them automatically become 1 in the grid. The loss we are seeing is likely the proper function's values mismatching where the h model throws its hands up at multiple players in the same grid space. There are only so many grid spaces to fit into before this starts to happen even in a perfect world with one point going into each grid space. There is no overfitting because of that. Heck, there is probably no fitting at all as m approaches infinity. It would probably be more interesting without that clause, as values would be flickering back and forth as more and more cases are pushed into those few squares."
   ]
  }
 ],
 "metadata": {
  "kernelspec": {
   "display_name": "Python 3 (ipykernel)",
   "language": "python",
   "name": "python3"
  },
  "language_info": {
   "codemirror_mode": {
    "name": "ipython",
    "version": 3
   },
   "file_extension": ".py",
   "mimetype": "text/x-python",
   "name": "python",
   "nbconvert_exporter": "python",
   "pygments_lexer": "ipython3",
   "version": "3.8.16"
  },
  "toc": {
   "base_numbering": 1,
   "nav_menu": {},
   "number_sections": true,
   "sideBar": true,
   "skip_h1_title": false,
   "title_cell": "Table of Contents",
   "title_sidebar": "Contents",
   "toc_cell": false,
   "toc_position": {},
   "toc_section_display": true,
   "toc_window_display": false
  }
 },
 "nbformat": 4,
 "nbformat_minor": 4
}
